{
 "cells": [
  {
   "cell_type": "markdown",
   "source": [
    "# Data Preprocessing, Averaging over all csv-files and Saving the averaged data into new csv-file"
   ],
   "metadata": {
    "collapsed": false
   }
  },
  {
   "cell_type": "code",
   "execution_count": 1,
   "metadata": {
    "ExecuteTime": {
     "end_time": "2024-04-02T19:31:07.347276Z",
     "start_time": "2024-04-02T19:31:00.005645Z"
    }
   },
   "outputs": [
    {
     "name": "stdout",
     "output_type": "stream",
     "text": [
      "Found 189 CSV files\n",
      "Found 105 indoor files and 84 outdoor files\n"
     ]
    },
    {
     "data": {
      "text/plain": "       label  cellStrength  nrSatellitesInView  nrSatellitesInFix  \\\n0     Indoor      3.000000           42.958333           0.000000   \n130   Indoor      3.920000           37.000000           0.000000   \n129   Indoor      3.680000           42.720000           4.360000   \n128   Indoor      3.387097           47.967742          14.258065   \n126   Indoor      4.000000           41.393939          21.242424   \n..       ...           ...                 ...                ...   \n107  Outdoor      4.000000           51.000000          30.230769   \n106  Outdoor      3.000000           55.642857          23.714286   \n104  Outdoor      4.000000           52.000000          30.666667   \n102  Outdoor      4.000000           46.000000          25.357143   \n188  Outdoor      4.000000           44.482759          24.724138   \n\n     satellite_cn0_min  satellite_cn0_max  satellite_cn0_mean  \\\n0             0.000000           0.000000            0.000000   \n130           0.000000           0.000000            0.000000   \n129           3.808000           4.768000            4.212610   \n128          16.603226          32.080645           23.502349   \n126          15.503030          39.257576           25.837499   \n..                 ...                ...                 ...   \n107          20.088462          45.765385           33.791541   \n106          18.457143          41.607143           30.967053   \n104          18.970370          46.422222           35.090852   \n102          17.475000          47.007143           34.891466   \n188          19.037931          45.296552           32.495415   \n\n     satellite_cn0_median  satellite_cn0_mode  satellite_cn0_std  ...  \\\n0                0.000000            0.000000           0.000000  ...   \n130              0.000000            0.000000           0.000000  ...   \n129              4.094000            3.808000           0.381244  ...   \n128             22.958065           18.854839           4.605385  ...   \n126             24.840909           20.324242           6.997593  ...   \n..                    ...                 ...                ...  ...   \n107             33.936538           31.423077           6.283073  ...   \n106             31.882143           25.742857           7.052654  ...   \n104             35.794444           33.470370           7.170785  ...   \n102             35.960714           30.739286           8.019584  ...   \n188             32.481034           25.531034           7.418118  ...   \n\n     bluetooth_rssi_median  bluetooth_rssi_mode  bluetooth_rssi_std  \\\n0               -90.416667           -98.000000           23.345390   \n130             -86.540000           -91.800000           12.348973   \n129             -89.160000           -90.960000            9.139573   \n128             -87.129032           -95.645161           12.264947   \n126             -76.848485           -86.000000           11.687739   \n..                     ...                  ...                 ...   \n107             -91.442308           -92.923077           16.902139   \n106             -95.357143           -96.928571           11.781860   \n104             -92.462963           -93.000000           11.826576   \n102             -93.303571           -95.321429           19.250798   \n188             -89.931034           -88.034483           11.124122   \n\n     bluetooth_rssi_range  wifi_rssi_min  wifi_rssi_max  wifi_rssi_mean  \\\n0               57.000000     -88.500000     -47.666667      -71.843380   \n130             54.000000     -91.000000     -75.000000      -81.315789   \n129             28.840000     -90.000000     -70.000000      -80.428571   \n128             48.032258     -86.903226     -65.516129      -76.459766   \n126             38.636364     -86.000000     -66.000000      -76.000000   \n..                    ...            ...            ...             ...   \n107             56.846154     -93.769231     -73.384615      -85.707848   \n106             36.357143     -90.071429     -80.571429      -85.964286   \n104             59.333333     -94.814815     -60.074074      -83.480403   \n102             60.857143     -92.892857     -74.285714      -85.678571   \n188             36.000000     -70.241379     -56.068966      -64.931034   \n\n     wifi_rssi_median  wifi_rssi_mode  wifi_rssi_range  \n0          -73.875000      -87.833333        40.833333  \n130        -81.000000      -82.000000        16.000000  \n129        -82.500000      -86.000000        20.000000  \n128        -74.903226      -85.451613        21.387097  \n126        -76.000000      -86.000000        20.000000  \n..                ...             ...              ...  \n107        -86.923077      -93.153846        20.384615  \n106        -86.607143      -89.750000         9.500000  \n104        -85.500000      -91.518519        34.740741  \n102        -87.142857      -90.357143        18.607143  \n188        -66.068966      -69.379310        14.172414  \n\n[189 rows x 24 columns]",
      "text/html": "<div>\n<style scoped>\n    .dataframe tbody tr th:only-of-type {\n        vertical-align: middle;\n    }\n\n    .dataframe tbody tr th {\n        vertical-align: top;\n    }\n\n    .dataframe thead th {\n        text-align: right;\n    }\n</style>\n<table border=\"1\" class=\"dataframe\">\n  <thead>\n    <tr style=\"text-align: right;\">\n      <th></th>\n      <th>label</th>\n      <th>cellStrength</th>\n      <th>nrSatellitesInView</th>\n      <th>nrSatellitesInFix</th>\n      <th>satellite_cn0_min</th>\n      <th>satellite_cn0_max</th>\n      <th>satellite_cn0_mean</th>\n      <th>satellite_cn0_median</th>\n      <th>satellite_cn0_mode</th>\n      <th>satellite_cn0_std</th>\n      <th>...</th>\n      <th>bluetooth_rssi_median</th>\n      <th>bluetooth_rssi_mode</th>\n      <th>bluetooth_rssi_std</th>\n      <th>bluetooth_rssi_range</th>\n      <th>wifi_rssi_min</th>\n      <th>wifi_rssi_max</th>\n      <th>wifi_rssi_mean</th>\n      <th>wifi_rssi_median</th>\n      <th>wifi_rssi_mode</th>\n      <th>wifi_rssi_range</th>\n    </tr>\n  </thead>\n  <tbody>\n    <tr>\n      <th>0</th>\n      <td>Indoor</td>\n      <td>3.000000</td>\n      <td>42.958333</td>\n      <td>0.000000</td>\n      <td>0.000000</td>\n      <td>0.000000</td>\n      <td>0.000000</td>\n      <td>0.000000</td>\n      <td>0.000000</td>\n      <td>0.000000</td>\n      <td>...</td>\n      <td>-90.416667</td>\n      <td>-98.000000</td>\n      <td>23.345390</td>\n      <td>57.000000</td>\n      <td>-88.500000</td>\n      <td>-47.666667</td>\n      <td>-71.843380</td>\n      <td>-73.875000</td>\n      <td>-87.833333</td>\n      <td>40.833333</td>\n    </tr>\n    <tr>\n      <th>130</th>\n      <td>Indoor</td>\n      <td>3.920000</td>\n      <td>37.000000</td>\n      <td>0.000000</td>\n      <td>0.000000</td>\n      <td>0.000000</td>\n      <td>0.000000</td>\n      <td>0.000000</td>\n      <td>0.000000</td>\n      <td>0.000000</td>\n      <td>...</td>\n      <td>-86.540000</td>\n      <td>-91.800000</td>\n      <td>12.348973</td>\n      <td>54.000000</td>\n      <td>-91.000000</td>\n      <td>-75.000000</td>\n      <td>-81.315789</td>\n      <td>-81.000000</td>\n      <td>-82.000000</td>\n      <td>16.000000</td>\n    </tr>\n    <tr>\n      <th>129</th>\n      <td>Indoor</td>\n      <td>3.680000</td>\n      <td>42.720000</td>\n      <td>4.360000</td>\n      <td>3.808000</td>\n      <td>4.768000</td>\n      <td>4.212610</td>\n      <td>4.094000</td>\n      <td>3.808000</td>\n      <td>0.381244</td>\n      <td>...</td>\n      <td>-89.160000</td>\n      <td>-90.960000</td>\n      <td>9.139573</td>\n      <td>28.840000</td>\n      <td>-90.000000</td>\n      <td>-70.000000</td>\n      <td>-80.428571</td>\n      <td>-82.500000</td>\n      <td>-86.000000</td>\n      <td>20.000000</td>\n    </tr>\n    <tr>\n      <th>128</th>\n      <td>Indoor</td>\n      <td>3.387097</td>\n      <td>47.967742</td>\n      <td>14.258065</td>\n      <td>16.603226</td>\n      <td>32.080645</td>\n      <td>23.502349</td>\n      <td>22.958065</td>\n      <td>18.854839</td>\n      <td>4.605385</td>\n      <td>...</td>\n      <td>-87.129032</td>\n      <td>-95.645161</td>\n      <td>12.264947</td>\n      <td>48.032258</td>\n      <td>-86.903226</td>\n      <td>-65.516129</td>\n      <td>-76.459766</td>\n      <td>-74.903226</td>\n      <td>-85.451613</td>\n      <td>21.387097</td>\n    </tr>\n    <tr>\n      <th>126</th>\n      <td>Indoor</td>\n      <td>4.000000</td>\n      <td>41.393939</td>\n      <td>21.242424</td>\n      <td>15.503030</td>\n      <td>39.257576</td>\n      <td>25.837499</td>\n      <td>24.840909</td>\n      <td>20.324242</td>\n      <td>6.997593</td>\n      <td>...</td>\n      <td>-76.848485</td>\n      <td>-86.000000</td>\n      <td>11.687739</td>\n      <td>38.636364</td>\n      <td>-86.000000</td>\n      <td>-66.000000</td>\n      <td>-76.000000</td>\n      <td>-76.000000</td>\n      <td>-86.000000</td>\n      <td>20.000000</td>\n    </tr>\n    <tr>\n      <th>...</th>\n      <td>...</td>\n      <td>...</td>\n      <td>...</td>\n      <td>...</td>\n      <td>...</td>\n      <td>...</td>\n      <td>...</td>\n      <td>...</td>\n      <td>...</td>\n      <td>...</td>\n      <td>...</td>\n      <td>...</td>\n      <td>...</td>\n      <td>...</td>\n      <td>...</td>\n      <td>...</td>\n      <td>...</td>\n      <td>...</td>\n      <td>...</td>\n      <td>...</td>\n      <td>...</td>\n    </tr>\n    <tr>\n      <th>107</th>\n      <td>Outdoor</td>\n      <td>4.000000</td>\n      <td>51.000000</td>\n      <td>30.230769</td>\n      <td>20.088462</td>\n      <td>45.765385</td>\n      <td>33.791541</td>\n      <td>33.936538</td>\n      <td>31.423077</td>\n      <td>6.283073</td>\n      <td>...</td>\n      <td>-91.442308</td>\n      <td>-92.923077</td>\n      <td>16.902139</td>\n      <td>56.846154</td>\n      <td>-93.769231</td>\n      <td>-73.384615</td>\n      <td>-85.707848</td>\n      <td>-86.923077</td>\n      <td>-93.153846</td>\n      <td>20.384615</td>\n    </tr>\n    <tr>\n      <th>106</th>\n      <td>Outdoor</td>\n      <td>3.000000</td>\n      <td>55.642857</td>\n      <td>23.714286</td>\n      <td>18.457143</td>\n      <td>41.607143</td>\n      <td>30.967053</td>\n      <td>31.882143</td>\n      <td>25.742857</td>\n      <td>7.052654</td>\n      <td>...</td>\n      <td>-95.357143</td>\n      <td>-96.928571</td>\n      <td>11.781860</td>\n      <td>36.357143</td>\n      <td>-90.071429</td>\n      <td>-80.571429</td>\n      <td>-85.964286</td>\n      <td>-86.607143</td>\n      <td>-89.750000</td>\n      <td>9.500000</td>\n    </tr>\n    <tr>\n      <th>104</th>\n      <td>Outdoor</td>\n      <td>4.000000</td>\n      <td>52.000000</td>\n      <td>30.666667</td>\n      <td>18.970370</td>\n      <td>46.422222</td>\n      <td>35.090852</td>\n      <td>35.794444</td>\n      <td>33.470370</td>\n      <td>7.170785</td>\n      <td>...</td>\n      <td>-92.462963</td>\n      <td>-93.000000</td>\n      <td>11.826576</td>\n      <td>59.333333</td>\n      <td>-94.814815</td>\n      <td>-60.074074</td>\n      <td>-83.480403</td>\n      <td>-85.500000</td>\n      <td>-91.518519</td>\n      <td>34.740741</td>\n    </tr>\n    <tr>\n      <th>102</th>\n      <td>Outdoor</td>\n      <td>4.000000</td>\n      <td>46.000000</td>\n      <td>25.357143</td>\n      <td>17.475000</td>\n      <td>47.007143</td>\n      <td>34.891466</td>\n      <td>35.960714</td>\n      <td>30.739286</td>\n      <td>8.019584</td>\n      <td>...</td>\n      <td>-93.303571</td>\n      <td>-95.321429</td>\n      <td>19.250798</td>\n      <td>60.857143</td>\n      <td>-92.892857</td>\n      <td>-74.285714</td>\n      <td>-85.678571</td>\n      <td>-87.142857</td>\n      <td>-90.357143</td>\n      <td>18.607143</td>\n    </tr>\n    <tr>\n      <th>188</th>\n      <td>Outdoor</td>\n      <td>4.000000</td>\n      <td>44.482759</td>\n      <td>24.724138</td>\n      <td>19.037931</td>\n      <td>45.296552</td>\n      <td>32.495415</td>\n      <td>32.481034</td>\n      <td>25.531034</td>\n      <td>7.418118</td>\n      <td>...</td>\n      <td>-89.931034</td>\n      <td>-88.034483</td>\n      <td>11.124122</td>\n      <td>36.000000</td>\n      <td>-70.241379</td>\n      <td>-56.068966</td>\n      <td>-64.931034</td>\n      <td>-66.068966</td>\n      <td>-69.379310</td>\n      <td>14.172414</td>\n    </tr>\n  </tbody>\n</table>\n<p>189 rows × 24 columns</p>\n</div>"
     },
     "execution_count": 1,
     "metadata": {},
     "output_type": "execute_result"
    }
   ],
   "source": [
    "import os\n",
    "import pandas as pd\n",
    "import json \n",
    "from collections import Counter\n",
    "\n",
    "# extract the code into a function called preprocess_data so that we can use it later for new data\n",
    "def preprocess_data(averaged_df, directory, file):\n",
    "    df = pd.read_csv(directory + file, sep=';')\n",
    "    \n",
    "    # Drop unnecessary and outdated columns\n",
    "    deleted_columns = ['timeStampNetwork', 'timeStampGPS', 'locationDescription', 'people', 'latitudeGPS', 'longitudeGPS', 'latitudeNetwork', 'longitudeNetwork', 'minCn0GPS', 'maxCn0GPS', 'meanCn0GPS', 'minCn0Bluetooth', 'maxCn0Bluetooth', 'minCn0Wifi', 'maxCn0Wifi', 'meanCn0Wifi', 'bAccuracyNetwork', 'speedAccuracyNetwork', 'cellType', 'networkLocationType', 'hAccuracyNetwork', 'vAccuracyNetwork', 'speedAccuracyNetwork', 'bAccuracyNetwork', 'nrBlDevices', 'hAccuracyGPS', 'minCn0Bl', 'meanCn0Bl','maxCn0Bl', 'bAccuracyGPS', 'speedAccuracyGPS', 'vAccuracyGPS', 'nrWifiDevices']\n",
    "    df = safe_delete(df, deleted_columns)\n",
    "    \n",
    "    # Remove first x rows and reset begin index to 0\n",
    "    removedRows = 3\n",
    "    df = df.iloc[removedRows:]\n",
    "    df = df.reset_index(drop=True)\n",
    "    \n",
    "    # Load satellites json\n",
    "    df['satellites'] = df['satellites'].apply(lambda x: json.loads(x))\n",
    "    \n",
    "    # Add cn0 column for easier computation of statistics\n",
    "    df['satellite_cn0'] = df['satellites'].apply(lambda x: [sat['cn0'] for sat in x])\n",
    "    \n",
    "    # Calculate min, max, mean. median, mode, variance, standard deviation and range of the satellite cn0\n",
    "    df['satellite_cn0_min'] = df['satellite_cn0'].apply(lambda x: pd.Series(x).min() if not pd.Series(x).empty else 0)\n",
    "    df['satellite_cn0_max'] = df['satellite_cn0'].apply(lambda x: pd.Series(x).max() if not pd.Series(x).empty else 0)\n",
    "    df['satellite_cn0_mean'] = df['satellite_cn0'].apply(lambda x: pd.Series(x).mean() if not pd.Series(x).empty else 0)    \n",
    "    df['satellite_cn0_median'] = df['satellite_cn0'].apply(lambda x: pd.Series(x).median() if not pd.Series(x).empty else 0)\n",
    "    df['satellite_cn0_mode'] = df['satellite_cn0'].apply(lambda x: pd.Series(x).mode()[0] if not pd.Series(x).mode().empty else 0)\n",
    "    df['satellite_cn0_std'] = df['satellite_cn0'].apply(lambda x: pd.Series(x).std() if not pd.Series(x).empty else 0)\n",
    "    df['satellite_cn0_range'] = df['satellite_cn0'].apply(lambda x: pd.Series(x).max() - pd.Series(x).min() if not pd.Series(x).empty else 0)\n",
    "    \n",
    "    # load the bluetooth json and load rssi into a new column\n",
    "    df['bluetoothDevices'] = df['bluetoothDevices'].apply(lambda x: json.loads(x))\n",
    "    df['bluetooth_rssi'] = df['bluetoothDevices'].apply(lambda x: [device['rssi'] for device in x])\n",
    "    \n",
    "     # Calculate statistical figures for the bluetooth devices\n",
    "    df['bluetooth_rssi_min'] = df['bluetooth_rssi'].apply(lambda x: pd.Series(x).min() if not pd.Series(x).empty else 0)\n",
    "    df['bluetooth_rssi_max'] = df['bluetooth_rssi'].apply(lambda x: pd.Series(x).max() if not pd.Series(x).empty else 0)\n",
    "    df['bluetooth_rssi_mean'] = df['bluetooth_rssi'].apply(lambda x: pd.Series(x).mean() if not pd.Series(x).empty else 0)\n",
    "    df['bluetooth_rssi_median'] = df['bluetooth_rssi'].apply(lambda x: pd.Series(x).median() if not pd.Series(x).empty else 0)\n",
    "    df['bluetooth_rssi_mode'] = df['bluetooth_rssi'].apply(lambda x: pd.Series(x).mode()[0] if not pd.Series(x).mode().empty else 0)\n",
    "    df['bluetooth_rssi_std'] = df['bluetooth_rssi'].apply(lambda x: pd.Series(x).std() if not pd.Series(x).empty else 0)\n",
    "    df['bluetooth_rssi_range'] = df['bluetooth_rssi'].apply(lambda x: pd.Series(x).max() - pd.Series(x).min() if not pd.Series(x).empty else 0)\n",
    "    \n",
    "    # load the wifi json and load rssi into a new column\n",
    "    df['wifiDevices'] = df['wifiDevices'].apply(lambda x: json.loads(x))\n",
    "    df['wifi_rssi'] = df['wifiDevices'].apply(lambda x: [device['level'] for device in x])\n",
    "    \n",
    "     # Calculate statistical figures for the wifi devices\n",
    "    df['wifi_rssi_min'] = df['wifi_rssi'].apply(lambda x: pd.Series(x).min() if not pd.Series(x).empty else 0)\n",
    "    df['wifi_rssi_max'] = df['wifi_rssi'].apply(lambda x: pd.Series(x).max() if not pd.Series(x).empty else 0)\n",
    "    df['wifi_rssi_mean'] = df['wifi_rssi'].apply(lambda x: pd.Series(x).mean() if not pd.Series(x).empty else 0)\n",
    "    df['wifi_rssi_median'] = df['wifi_rssi'].apply(lambda x: pd.Series(x).median() if not pd.Series(x).empty else 0)\n",
    "    df['wifi_rssi_mode'] = df['wifi_rssi'].apply(lambda x: pd.Series(x).mode()[0] if not pd.Series(x).mode().empty else 0)\n",
    "    df['wifi_rssi_range'] = df['wifi_rssi'].apply(lambda x: pd.Series(x).max() - pd.Series(x).min() if not pd.Series(x).empty else 0)\n",
    "    \n",
    "    # Drop list columns\n",
    "    df.drop(columns=['satellites', 'bluetoothDevices', 'wifiDevices', 'satellite_cn0', 'bluetooth_rssi', 'wifi_rssi'], inplace=True)\n",
    "    \n",
    "     # Average over all columns for numeric values and take the first of non-numeric to have a single row\n",
    "    df_label = df.iloc[0]['label']\n",
    "    \n",
    "    df.drop(columns=['label'], inplace=True)\n",
    "    \n",
    "    df = df.mean().to_frame().T\n",
    "    \n",
    "    df['label'] = df_label\n",
    "    \n",
    "    #place label at the beginning\n",
    "    cols = list(df.columns)\n",
    "    cols = [cols[-1]] + cols[:-1]\n",
    "    df = df[cols]\n",
    "    \n",
    "    averaged_df = pd.concat([averaged_df, df], ignore_index=True)\n",
    "    return averaged_df\n",
    "\n",
    "def safe_delete(df, columns):\n",
    "    for column in columns:\n",
    "        if column in df.columns:\n",
    "            df = df.drop(columns=[column])\n",
    "    return df\n",
    "\n",
    "files_directory = '../Daten/firsttry/'\n",
    "averaged_path = '../Daten/averaged_data.csv'\n",
    "\n",
    "if os.path.exists(averaged_path):\n",
    "    os.remove(averaged_path)\n",
    "    print(f\"Removed {averaged_path}\")\n",
    "\n",
    "# Get list of CSV files\n",
    "csv_files = [file for file in os.listdir(files_directory) if file.endswith('.csv')]\n",
    "print(f'Found {len(csv_files)} CSV files')\n",
    "\n",
    "# Get nr of files, where name starts with indoor and outdoor\n",
    "indoor_files = [file for file in csv_files if file.startswith('Indoor')]\n",
    "outdoor_files = [file for file in csv_files if file.startswith('Outdoor')]\n",
    "print(f'Found {len(indoor_files)} indoor files and {len(outdoor_files)} outdoor files')\n",
    "\n",
    "averaged_data = pd.DataFrame()\n",
    "\n",
    "for file in csv_files:\n",
    "    averaged_data = preprocess_data(averaged_data, files_directory, file)\n",
    "\n",
    "averaged_data.sort_values(by=['label'], inplace=True)\n",
    "averaged_data"
   ]
  },
  {
   "cell_type": "markdown",
   "source": [
    "# Train the Random Forest Classifier"
   ],
   "metadata": {
    "collapsed": false
   }
  },
  {
   "cell_type": "markdown",
   "source": [
    "## Randomize and Split the Data for Random Forest Classifier"
   ],
   "metadata": {
    "collapsed": false
   }
  },
  {
   "cell_type": "code",
   "outputs": [
    {
     "name": "stdout",
     "output_type": "stream",
     "text": [
      "Training data shape: (189, 23)\n"
     ]
    }
   ],
   "source": [
    "from sklearn.model_selection import train_test_split\n",
    "\n",
    "# Randomize the data\n",
    "averaged_data = averaged_data.sample(frac=1).reset_index(drop=True)\n",
    "\n",
    "# drop the label column\n",
    "X = averaged_data.drop(columns=['label'], axis=1)\n",
    "Y = averaged_data['label']\n",
    "\n",
    "# Split the data into training and testing data\n",
    "#X_train, X_test, Y_train, Y_test = train_test_split(X, Y, test_size=0.0001)\n",
    "X_train = X\n",
    "Y_train = Y\n",
    "\n",
    "print(f'Training data shape: {X_train.shape}')\n",
    "#print(f'Testing data shape: {X_test.shape}')"
   ],
   "metadata": {
    "collapsed": false,
    "ExecuteTime": {
     "end_time": "2024-04-02T19:31:08.569706Z",
     "start_time": "2024-04-02T19:31:07.348269Z"
    }
   },
   "execution_count": 2
  },
  {
   "cell_type": "markdown",
   "source": [
    "## Train a Random Forest Classifier"
   ],
   "metadata": {
    "collapsed": false
   }
  },
  {
   "cell_type": "code",
   "outputs": [
    {
     "name": "stdout",
     "output_type": "stream",
     "text": [
      "Cross-validation scores: [1.         0.89473684 0.94736842 0.89473684 0.84210526 0.94736842\n",
      " 1.         0.89473684 0.94736842 0.77777778]\n"
     ]
    }
   ],
   "source": [
    "import numpy as np\n",
    "from sklearn.model_selection import cross_val_score\n",
    "from sklearn.ensemble import RandomForestClassifier\n",
    "from sklearn.metrics import accuracy_score\n",
    "\n",
    "# Train the Random Forest Classifier with regularization\n",
    "clf = RandomForestClassifier()\n",
    "\n",
    "# Train the classifier\n",
    "clf.fit(X_train, Y_train)\n",
    "\n",
    "# Cross-validation\n",
    "scores = cross_val_score(clf, X_train, Y_train, cv=10)\n",
    "print(f\"Cross-validation scores: {scores}\")\n",
    "\n",
    "# Predict the labels of the test data\n",
    "#y_pred = clf.predict(X_test)\n",
    "\n",
    "# Calculate the accuracy of the classifier\n",
    "#accuracy = accuracy_score(Y_test, y_pred)\n",
    "#print(f'Accuracy: {accuracy}')"
   ],
   "metadata": {
    "collapsed": false,
    "ExecuteTime": {
     "end_time": "2024-04-02T19:31:09.465531Z",
     "start_time": "2024-04-02T19:31:08.570491Z"
    }
   },
   "execution_count": 3
  },
  {
   "cell_type": "markdown",
   "source": [
    "## Get the Feature Importances"
   ],
   "metadata": {
    "collapsed": false
   }
  },
  {
   "cell_type": "code",
   "outputs": [
    {
     "data": {
      "text/plain": "                  feature  importance\n4       satellite_cn0_max    0.182809\n7      satellite_cn0_mode    0.134994\n6    satellite_cn0_median    0.126887\n2       nrSatellitesInFix    0.101026\n9     satellite_cn0_range    0.094888\n5      satellite_cn0_mean    0.091669\n8       satellite_cn0_std    0.085607\n3       satellite_cn0_min    0.027866\n0            cellStrength    0.025330\n1      nrSatellitesInView    0.024253\n17          wifi_rssi_min    0.018904\n12    bluetooth_rssi_mean    0.016528\n13  bluetooth_rssi_median    0.012507\n19         wifi_rssi_mean    0.008188\n20       wifi_rssi_median    0.007820\n11     bluetooth_rssi_max    0.006352\n15     bluetooth_rssi_std    0.005830\n21         wifi_rssi_mode    0.005759\n18          wifi_rssi_max    0.005212\n22        wifi_rssi_range    0.004903\n10     bluetooth_rssi_min    0.004382\n16   bluetooth_rssi_range    0.004305\n14    bluetooth_rssi_mode    0.003981",
      "text/html": "<div>\n<style scoped>\n    .dataframe tbody tr th:only-of-type {\n        vertical-align: middle;\n    }\n\n    .dataframe tbody tr th {\n        vertical-align: top;\n    }\n\n    .dataframe thead th {\n        text-align: right;\n    }\n</style>\n<table border=\"1\" class=\"dataframe\">\n  <thead>\n    <tr style=\"text-align: right;\">\n      <th></th>\n      <th>feature</th>\n      <th>importance</th>\n    </tr>\n  </thead>\n  <tbody>\n    <tr>\n      <th>4</th>\n      <td>satellite_cn0_max</td>\n      <td>0.182809</td>\n    </tr>\n    <tr>\n      <th>7</th>\n      <td>satellite_cn0_mode</td>\n      <td>0.134994</td>\n    </tr>\n    <tr>\n      <th>6</th>\n      <td>satellite_cn0_median</td>\n      <td>0.126887</td>\n    </tr>\n    <tr>\n      <th>2</th>\n      <td>nrSatellitesInFix</td>\n      <td>0.101026</td>\n    </tr>\n    <tr>\n      <th>9</th>\n      <td>satellite_cn0_range</td>\n      <td>0.094888</td>\n    </tr>\n    <tr>\n      <th>5</th>\n      <td>satellite_cn0_mean</td>\n      <td>0.091669</td>\n    </tr>\n    <tr>\n      <th>8</th>\n      <td>satellite_cn0_std</td>\n      <td>0.085607</td>\n    </tr>\n    <tr>\n      <th>3</th>\n      <td>satellite_cn0_min</td>\n      <td>0.027866</td>\n    </tr>\n    <tr>\n      <th>0</th>\n      <td>cellStrength</td>\n      <td>0.025330</td>\n    </tr>\n    <tr>\n      <th>1</th>\n      <td>nrSatellitesInView</td>\n      <td>0.024253</td>\n    </tr>\n    <tr>\n      <th>17</th>\n      <td>wifi_rssi_min</td>\n      <td>0.018904</td>\n    </tr>\n    <tr>\n      <th>12</th>\n      <td>bluetooth_rssi_mean</td>\n      <td>0.016528</td>\n    </tr>\n    <tr>\n      <th>13</th>\n      <td>bluetooth_rssi_median</td>\n      <td>0.012507</td>\n    </tr>\n    <tr>\n      <th>19</th>\n      <td>wifi_rssi_mean</td>\n      <td>0.008188</td>\n    </tr>\n    <tr>\n      <th>20</th>\n      <td>wifi_rssi_median</td>\n      <td>0.007820</td>\n    </tr>\n    <tr>\n      <th>11</th>\n      <td>bluetooth_rssi_max</td>\n      <td>0.006352</td>\n    </tr>\n    <tr>\n      <th>15</th>\n      <td>bluetooth_rssi_std</td>\n      <td>0.005830</td>\n    </tr>\n    <tr>\n      <th>21</th>\n      <td>wifi_rssi_mode</td>\n      <td>0.005759</td>\n    </tr>\n    <tr>\n      <th>18</th>\n      <td>wifi_rssi_max</td>\n      <td>0.005212</td>\n    </tr>\n    <tr>\n      <th>22</th>\n      <td>wifi_rssi_range</td>\n      <td>0.004903</td>\n    </tr>\n    <tr>\n      <th>10</th>\n      <td>bluetooth_rssi_min</td>\n      <td>0.004382</td>\n    </tr>\n    <tr>\n      <th>16</th>\n      <td>bluetooth_rssi_range</td>\n      <td>0.004305</td>\n    </tr>\n    <tr>\n      <th>14</th>\n      <td>bluetooth_rssi_mode</td>\n      <td>0.003981</td>\n    </tr>\n  </tbody>\n</table>\n</div>"
     },
     "execution_count": 4,
     "metadata": {},
     "output_type": "execute_result"
    }
   ],
   "source": [
    "# Print feature importances of the selected features\n",
    "feature_importances = clf.feature_importances_\n",
    "feature_importances = pd.DataFrame({'feature': X.columns, 'importance': feature_importances})\n",
    "feature_importances = feature_importances.sort_values(by='importance', ascending=False)\n",
    "feature_importances"
   ],
   "metadata": {
    "collapsed": false,
    "ExecuteTime": {
     "end_time": "2024-04-02T19:31:09.476260Z",
     "start_time": "2024-04-02T19:31:09.467211Z"
    }
   },
   "execution_count": 4
  },
  {
   "cell_type": "markdown",
   "source": [
    "## Save the model and tryout the model with new data"
   ],
   "metadata": {
    "collapsed": false
   }
  },
  {
   "cell_type": "markdown",
   "source": [],
   "metadata": {
    "collapsed": false
   }
  },
  {
   "cell_type": "code",
   "outputs": [
    {
     "name": "stdout",
     "output_type": "stream",
     "text": [
      "Saved model to ../Daten/random_forest_classifier.joblib\n"
     ]
    }
   ],
   "source": [
    "import joblib\n",
    "\n",
    "# Save the model\n",
    "model_path = '../Daten/random_forest_classifier.joblib'\n",
    "joblib.dump(clf, model_path)\n",
    "print(f'Saved model to {model_path}')"
   ],
   "metadata": {
    "collapsed": false,
    "ExecuteTime": {
     "end_time": "2024-04-02T19:31:09.499789Z",
     "start_time": "2024-04-02T19:31:09.477400Z"
    }
   },
   "execution_count": 5
  },
  {
   "cell_type": "markdown",
   "source": [
    "# Test the model with new data in validation folder in this notebook"
   ],
   "metadata": {
    "collapsed": false
   }
  },
  {
   "cell_type": "code",
   "outputs": [
    {
     "name": "stdout",
     "output_type": "stream",
     "text": [
      "--------------------\n",
      "Label: Indoor, Prediction: Outdoor, Description: Nähe Fenster, People: viel,  Probability: [0.4 0.6], File: Indoor_2024-03-29 13_41_40.csv\n"
     ]
    }
   ],
   "source": [
    "validation_files_directory = '../Daten/validation/'\n",
    "validation_averaged_path = '../Daten/validation_averaged_data.csv'\n",
    "model_path = '../Daten/random_forest_classifier.joblib'\n",
    "\n",
    "# Load the model\n",
    "model = joblib.load(model_path)\n",
    "\n",
    "validation_averaged_data = pd.DataFrame()\n",
    "validation_description = pd.DataFrame()\n",
    "validation_files = [file for file in os.listdir(validation_files_directory) if file.endswith('.csv')]\n",
    "\n",
    "for file in validation_files:\n",
    "    df = pd.read_csv(validation_files_directory + file, sep=';')\n",
    "    locationDescription = df['locationDescription'][0]\n",
    "    locationPeople = df['people'][0]\n",
    "    \n",
    "    validation_description = pd.concat([validation_description, pd.DataFrame({'locationDescription': [locationDescription], 'people': [locationPeople], 'file': [file]})], ignore_index=True)\n",
    "\n",
    "    validation_averaged_data = preprocess_data(validation_averaged_data, validation_files_directory, file)\n",
    "\n",
    "# Predict the labels of the validation data\n",
    "validation_predictions = model.predict(validation_averaged_data.drop(columns=['label']))\n",
    "validation_probabilities = model.predict_proba(validation_averaged_data.drop(columns=['label']))\n",
    "\n",
    "#print label and the corresponding prediction\n",
    "for label, description, people, prediction, probability, file in zip(validation_averaged_data['label'], validation_description['locationDescription'], validation_description['people'], validation_predictions, validation_probabilities, validation_description['file']):\n",
    "    if label != prediction:\n",
    "        print(\"--------------------\")\n",
    "        print(f'Label: {label}, Prediction: {prediction}, Description: {description}, People: {people},  Probability: {probability}, File: {file}')\n",
    "   "
   ],
   "metadata": {
    "collapsed": false,
    "ExecuteTime": {
     "end_time": "2024-04-02T19:31:10.760819Z",
     "start_time": "2024-04-02T19:31:09.501022Z"
    }
   },
   "execution_count": 6
  },
  {
   "cell_type": "markdown",
   "source": [
    "## Setup LSTM Model"
   ],
   "metadata": {
    "collapsed": false
   }
  },
  {
   "cell_type": "code",
   "outputs": [
    {
     "name": "stdout",
     "output_type": "stream",
     "text": [
      "Model: \"sequential\"\n",
      "_________________________________________________________________\n",
      " Layer (type)                Output Shape              Param #   \n",
      "=================================================================\n",
      " lstm (LSTM)                 (None, 23, 128)           66560     \n",
      "                                                                 \n",
      " dropout (Dropout)           (None, 23, 128)           0         \n",
      "                                                                 \n",
      " lstm_1 (LSTM)               (None, 23, 128)           131584    \n",
      "                                                                 \n",
      " dropout_1 (Dropout)         (None, 23, 128)           0         \n",
      "                                                                 \n",
      " lstm_2 (LSTM)               (None, 128)               131584    \n",
      "                                                                 \n",
      " dropout_2 (Dropout)         (None, 128)               0         \n",
      "                                                                 \n",
      " dense (Dense)               (None, 32)                4128      \n",
      "                                                                 \n",
      " dropout_3 (Dropout)         (None, 32)                0         \n",
      "                                                                 \n",
      " dense_1 (Dense)             (None, 2)                 66        \n",
      "                                                                 \n",
      "=================================================================\n",
      "Total params: 333,922\n",
      "Trainable params: 333,922\n",
      "Non-trainable params: 0\n",
      "_________________________________________________________________\n",
      "Epoch 1/10\n"
     ]
    },
    {
     "name": "stderr",
     "output_type": "stream",
     "text": [
      "2024-04-02 21:31:13.836673: W tensorflow/tsl/platform/profile_utils/cpu_utils.cc:128] Failed to get CPU frequency: 0 Hz\n"
     ]
    },
    {
     "name": "stdout",
     "output_type": "stream",
     "text": [
      "5/5 [==============================] - 3s 141ms/step - loss: 0.6785 - accuracy: 0.5232 - val_loss: 0.6465 - val_accuracy: 0.3684\n",
      "Epoch 2/10\n",
      "5/5 [==============================] - 0s 52ms/step - loss: 0.5677 - accuracy: 0.6887 - val_loss: 0.5141 - val_accuracy: 0.8684\n",
      "Epoch 3/10\n",
      "5/5 [==============================] - 0s 49ms/step - loss: 0.4435 - accuracy: 0.7550 - val_loss: 0.2995 - val_accuracy: 0.9211\n",
      "Epoch 4/10\n",
      "5/5 [==============================] - 0s 48ms/step - loss: 0.2848 - accuracy: 0.9139 - val_loss: 0.2256 - val_accuracy: 0.9211\n",
      "Epoch 5/10\n",
      "5/5 [==============================] - 0s 47ms/step - loss: 0.3276 - accuracy: 0.9007 - val_loss: 0.2348 - val_accuracy: 0.9211\n",
      "Epoch 6/10\n",
      "5/5 [==============================] - 0s 52ms/step - loss: 0.5687 - accuracy: 0.7881 - val_loss: 0.3051 - val_accuracy: 0.8947\n",
      "Epoch 7/10\n",
      "5/5 [==============================] - 0s 53ms/step - loss: 0.4850 - accuracy: 0.7086 - val_loss: 0.4527 - val_accuracy: 0.8947\n",
      "Epoch 8/10\n",
      "5/5 [==============================] - 0s 47ms/step - loss: 0.4369 - accuracy: 0.6755 - val_loss: 0.4008 - val_accuracy: 0.8947\n",
      "Epoch 9/10\n",
      "5/5 [==============================] - 0s 59ms/step - loss: 0.3921 - accuracy: 0.7815 - val_loss: 0.3596 - val_accuracy: 0.9211\n",
      "Epoch 10/10\n",
      "5/5 [==============================] - 0s 51ms/step - loss: 0.3379 - accuracy: 0.8808 - val_loss: 0.3427 - val_accuracy: 0.9737\n",
      "2/2 [==============================] - 0s 17ms/step - loss: 0.3427 - accuracy: 0.9737\n",
      "Accuracy: 0.9736841917037964\n"
     ]
    }
   ],
   "source": [
    "import tensorflow as tf\n",
    "from tensorflow.keras.models import Sequential\n",
    "from tensorflow.keras.layers import LSTM, Dense, Dropout\n",
    "from tensorflow.keras.optimizers import Adam\n",
    "\n",
    "# Define the LSTM model\n",
    "model = Sequential()\n",
    "\n",
    "model.add(LSTM(128, input_shape=(X_train.shape[1], 1), return_sequences=True))\n",
    "model.add(Dropout(0.2))\n",
    "\n",
    "model.add(LSTM(128, return_sequences=True))\n",
    "model.add(Dropout(0.2))\n",
    "\n",
    "model.add(LSTM(128))\n",
    "model.add(Dropout(0.2))\n",
    "\n",
    "model.add(Dense(32, activation='relu'))\n",
    "model.add(Dropout(0.2))\n",
    "\n",
    "model.add(Dense(2, activation='softmax'))\n",
    "\n",
    "# Compile the model\n",
    "model.compile(optimizer=Adam(learning_rate=0.001), loss='sparse_categorical_crossentropy', metrics=['accuracy'])\n",
    "\n",
    "model.summary()\n",
    "\n",
    "#convert all columns to float except the label column\n",
    "X_train, X_test, Y_train, Y_test = train_test_split(X, Y, test_size=0.2)\n",
    "X_train = X_train.astype(float)\n",
    "Y_train = Y_train.map({'Indoor': 0, 'Outdoor': 1})\n",
    "Y_train = Y_train.astype(float)\n",
    "\n",
    "X_test = X_test.astype(float)\n",
    "Y_test = Y_test.map({'Indoor': 0, 'Outdoor': 1})\n",
    "Y_train = Y_train.astype(float)\n",
    "\n",
    "#print accuracy of the model with the averaged data\n",
    "X_train = np.array(X_train)\n",
    "X_train = np.reshape(X_train, (X_train.shape[0], X_train.shape[1], 1))\n",
    "\n",
    "X_test = np.array(X_test)\n",
    "X_test = np.reshape(X_test, (X_test.shape[0], X_test.shape[1], 1))\n",
    "\n",
    "model.fit(X_train, Y_train, epochs=10, validation_data=(X_test, Y_test), batch_size=32)\n",
    "\n",
    "print(f'Accuracy: {model.evaluate(X_test, Y_test)[1]}')\n",
    "\n"
   ],
   "metadata": {
    "collapsed": false,
    "ExecuteTime": {
     "end_time": "2024-04-02T19:31:18.731624Z",
     "start_time": "2024-04-02T19:31:10.762419Z"
    }
   },
   "execution_count": 7
  },
  {
   "cell_type": "markdown",
   "source": [],
   "metadata": {
    "collapsed": false
   }
  },
  {
   "cell_type": "markdown",
   "source": [
    "## Validate the LSTM Model"
   ],
   "metadata": {
    "collapsed": false
   }
  },
  {
   "cell_type": "code",
   "outputs": [
    {
     "name": "stdout",
     "output_type": "stream",
     "text": [
      "1/1 [==============================] - 1s 535ms/step\n",
      "Label: 1.0, Prediction: [0.411492   0.58850807], Description: Überdacht, People: viel,  File: Outdoor_2024-03-30 20_23_34.csv\n",
      "Label: 0.0, Prediction: [0.99893135 0.0010686 ], Description: Kein Fenster, People: keine,  File: Indoor_2024-04-01 17_18_10.csv\n",
      "Label: 0.0, Prediction: [0.9989371  0.00106289], Description: Nähe Fenster, People: weniger als 5,  File: Indoor_2024-04-01 16_33_22.csv\n",
      "Label: 1.0, Prediction: [0.39860547 0.60139453], Description: Häuserschlucht, People: viel,  File: Outdoor_2024-03-29 13_46_20.csv\n",
      "Label: 0.0, Prediction: [0.99874    0.00126001], Description: Raummitte, People: viel,  File: Indoor_2024-03-29 13_43_31.csv\n",
      "Label: 0.0, Prediction: [0.8370473  0.16295275], Description: Nähe Fenster, People: keine,  File: Indoor_2024-04-01 17_27_27.csv\n",
      "Label: 0.0, Prediction: [0.99893135 0.00106863], Description: Raummitte, People: weniger als 5,  File: Indoor_2024-03-29 13_05_59.csv\n",
      "Label: 1.0, Prediction: [0.37159598 0.628404  ], Description: Häuserschlucht, People: weniger als 5,  File: Outdoor_2024-04-01 15_53_39.csv\n",
      "Label: 1.0, Prediction: [0.349206 0.650794], Description: Frei, People: viel,  File: Outdoor_2024-03-30 21_25_43.csv\n",
      "Label: 1.0, Prediction: [0.35617104 0.6438289 ], Description: Häuserschlucht, People: keine,  File: Outdoor_2024-04-01 16_06_36.csv\n",
      "Label: 0.0, Prediction: [0.5822973 0.4177027], Description: Nähe Fenster, People: viel,  File: Indoor_2024-03-29 13_41_40.csv\n",
      "Label: 1.0, Prediction: [0.47143888 0.5285612 ], Description: Überdacht, People: keine,  File: Outdoor_2024-04-01 16_13_24.csv\n",
      "Label: 1.0, Prediction: [0.3482141  0.65178585], Description: Frei, People: keine,  File: Outdoor_2024-03-29 14_10_51.csv\n",
      "Label: 1.0, Prediction: [0.46265772 0.53734225], Description: Überdacht, People: keine,  File: Outdoor_2024-03-30 21_28_24.csv\n",
      "Label: 1.0, Prediction: [0.36121413 0.6387859 ], Description: Überdacht, People: viel,  File: Outdoor_2024-03-30 20_43_44.csv\n",
      "Label: 1.0, Prediction: [0.35395423 0.64604574], Description: Frei, People: weniger als 5,  File: Outdoor_2024-04-01 15_55_27.csv\n",
      "Label: 0.0, Prediction: [0.9989291  0.00107088], Description: Raummitte, People: keine,  File: Indoor_2024-03-30 18_25_54.csv\n",
      "Label: 0.0, Prediction: [0.7763763  0.22362365], Description: Nähe Fenster, People: keine,  File: Indoor_2024-03-30 18_01_41.csv\n",
      "Label: 1.0, Prediction: [0.44279534 0.55720466], Description: Überdacht, People: keine,  File: Outdoor_2024-03-29 14_11_58.csv\n",
      "Label: 0.0, Prediction: [0.9989116  0.00108843], Description: Kein Fenster, People: keine,  File: Indoor_2024-03-29 14_15_09.csv\n",
      "Label: 0.0, Prediction: [0.66219246 0.33780754], Description: Nähe Fenster, People: keine,  File: Indoor_2024-03-31 13_00_17.csv\n",
      "Label: 1.0, Prediction: [0.48645273 0.51354724], Description: Überdacht, People: weniger als 5,  File: Outdoor_2024-04-01 15_52_01.csv\n",
      "Label: 0.0, Prediction: [0.99893445 0.0010656 ], Description: Nähe Fenster, People: viel,  File: Indoor_2024-04-01 17_43_24.csv\n",
      "Label: 0.0, Prediction: [0.9670894  0.03291057], Description: Nähe Fenster, People: keine,  File: Indoor_2024-04-01 15_49_13.csv\n"
     ]
    }
   ],
   "source": [
    "#map the label column to 0 and 1\n",
    "validation_averaged_data['label'] = validation_averaged_data['label'].map({'Indoor': 0, 'Outdoor': 1})\n",
    "\n",
    "#convert all columns to float except the label column\n",
    "validation_averaged_data = validation_averaged_data.astype(float)\n",
    "\n",
    "X_validation = validation_averaged_data.drop(columns=['label'])\n",
    "Y_validation = validation_averaged_data['label']\n",
    "\n",
    "X_validation = np.array(X_validation)\n",
    "X_validation = np.reshape(X_validation, (X_validation.shape[0], X_validation.shape[1], 1))\n",
    "\n",
    "Y_validation = Y_validation.astype(float)\n",
    "\n",
    "#predict the labels of the validation data for each data point\n",
    "validation_predictions = model.predict(X_validation)\n",
    "\n",
    "#print label and the corresponding prediction\n",
    "for label, description, people, prediction, file in zip(validation_averaged_data['label'], validation_description['locationDescription'], validation_description['people'], validation_predictions, validation_description['file']):\n",
    "        print(f'Label: {label}, Prediction: {prediction}, Description: {description}, People: {people},  File: {file}')"
   ],
   "metadata": {
    "collapsed": false,
    "ExecuteTime": {
     "end_time": "2024-04-02T19:31:19.304363Z",
     "start_time": "2024-04-02T19:31:18.733721Z"
    }
   },
   "execution_count": 8
  },
  {
   "cell_type": "markdown",
   "source": [],
   "metadata": {
    "collapsed": false
   }
  }
 ],
 "metadata": {
  "kernelspec": {
   "display_name": "Python 3",
   "language": "python",
   "name": "python3"
  },
  "language_info": {
   "name": "python",
   "version": "3.12.0"
  }
 },
 "nbformat": 4,
 "nbformat_minor": 2
}
