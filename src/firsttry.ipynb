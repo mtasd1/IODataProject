{
 "cells": [
  {
   "cell_type": "markdown",
   "source": [
    "# Data Preprocessing, Averaging over all csv-files and Saving the averaged data into new csv-file"
   ],
   "metadata": {
    "collapsed": false
   }
  },
  {
   "cell_type": "code",
   "execution_count": 508,
   "metadata": {
    "ExecuteTime": {
     "end_time": "2024-03-23T17:22:41.478427Z",
     "start_time": "2024-03-23T17:22:39.353012Z"
    }
   },
   "outputs": [
    {
     "name": "stdout",
     "output_type": "stream",
     "text": [
      "Removed ../Daten/averaged_data.csv\n",
      "Found 90 CSV files\n",
      "Found 46 indoor files and 44 outdoor files\n",
      "Saved averaged data to ../Daten/averaged_data.csv\n"
     ]
    },
    {
     "data": {
      "text/plain": "     label  cellStrength  hAccuracyNetwork  vAccuracyNetwork  hAccuracyGPS  \\\n0   Indoor      3.000000         31.420750          4.380243      0.000000   \n29  Indoor      3.739130         13.906043          1.022417      0.000000   \n69  Indoor      3.000000        203.290000         12.256197      4.625000   \n68  Indoor      2.517241         14.665103          1.400725      0.296552   \n67  Indoor      2.764706         20.128784          2.494062     11.331373   \n\n    vAccuracyGPS  bAccuracyGPS  speedAccuracyGPS  nrSatellitesInView  \\\n0       0.000000      0.000000          0.000000           42.958333   \n29      0.000000      0.000000          0.000000           35.304348   \n69     33.600000    146.180000          2.670000           43.000000   \n68      1.762069      2.262069          0.075862           37.275862   \n67     43.823529     72.747059          3.913725           43.392157   \n\n    nrSatellitesInFix  ...  satellite_cn0_std  satellite_cn0_range  \\\n0            0.000000  ...           0.000000             0.000000   \n29           0.000000  ...           0.000000             0.000000   \n69          12.050000  ...           4.607955            15.415000   \n68           0.137931  ...           0.109949             0.265517   \n67           3.000000  ...           2.390249             5.441176   \n\n    bluetooth_rssi_median  bluetooth_rssi_mode  bluetooth_rssi_std  \\\n0              -90.416667           -98.000000           23.345390   \n29             -80.239130           -83.086957           11.204011   \n69             -90.900000           -94.050000           25.607599   \n68             -84.568966           -86.689655           10.723314   \n67             -89.754902           -93.352941           12.526577   \n\n    bluetooth_rssi_range  wifi_rssi_median  wifi_rssi_mode  wifi_rssi_std  \\\n0              57.000000        -73.875000      -87.833333      13.391746   \n29             57.608696        -74.869565      -74.521739       7.856450   \n69             48.000000        -90.450000      -92.000000       3.194012   \n68             53.000000        -76.086207      -63.206897      11.134470   \n67             48.862745        -74.117647      -74.745098       2.178621   \n\n    wifi_rssi_range  \n0         40.833333  \n29        25.826087  \n69         5.100000  \n68        34.482759  \n67         3.941176  \n\n[5 rows x 33 columns]",
      "text/html": "<div>\n<style scoped>\n    .dataframe tbody tr th:only-of-type {\n        vertical-align: middle;\n    }\n\n    .dataframe tbody tr th {\n        vertical-align: top;\n    }\n\n    .dataframe thead th {\n        text-align: right;\n    }\n</style>\n<table border=\"1\" class=\"dataframe\">\n  <thead>\n    <tr style=\"text-align: right;\">\n      <th></th>\n      <th>label</th>\n      <th>cellStrength</th>\n      <th>hAccuracyNetwork</th>\n      <th>vAccuracyNetwork</th>\n      <th>hAccuracyGPS</th>\n      <th>vAccuracyGPS</th>\n      <th>bAccuracyGPS</th>\n      <th>speedAccuracyGPS</th>\n      <th>nrSatellitesInView</th>\n      <th>nrSatellitesInFix</th>\n      <th>...</th>\n      <th>satellite_cn0_std</th>\n      <th>satellite_cn0_range</th>\n      <th>bluetooth_rssi_median</th>\n      <th>bluetooth_rssi_mode</th>\n      <th>bluetooth_rssi_std</th>\n      <th>bluetooth_rssi_range</th>\n      <th>wifi_rssi_median</th>\n      <th>wifi_rssi_mode</th>\n      <th>wifi_rssi_std</th>\n      <th>wifi_rssi_range</th>\n    </tr>\n  </thead>\n  <tbody>\n    <tr>\n      <th>0</th>\n      <td>Indoor</td>\n      <td>3.000000</td>\n      <td>31.420750</td>\n      <td>4.380243</td>\n      <td>0.000000</td>\n      <td>0.000000</td>\n      <td>0.000000</td>\n      <td>0.000000</td>\n      <td>42.958333</td>\n      <td>0.000000</td>\n      <td>...</td>\n      <td>0.000000</td>\n      <td>0.000000</td>\n      <td>-90.416667</td>\n      <td>-98.000000</td>\n      <td>23.345390</td>\n      <td>57.000000</td>\n      <td>-73.875000</td>\n      <td>-87.833333</td>\n      <td>13.391746</td>\n      <td>40.833333</td>\n    </tr>\n    <tr>\n      <th>29</th>\n      <td>Indoor</td>\n      <td>3.739130</td>\n      <td>13.906043</td>\n      <td>1.022417</td>\n      <td>0.000000</td>\n      <td>0.000000</td>\n      <td>0.000000</td>\n      <td>0.000000</td>\n      <td>35.304348</td>\n      <td>0.000000</td>\n      <td>...</td>\n      <td>0.000000</td>\n      <td>0.000000</td>\n      <td>-80.239130</td>\n      <td>-83.086957</td>\n      <td>11.204011</td>\n      <td>57.608696</td>\n      <td>-74.869565</td>\n      <td>-74.521739</td>\n      <td>7.856450</td>\n      <td>25.826087</td>\n    </tr>\n    <tr>\n      <th>69</th>\n      <td>Indoor</td>\n      <td>3.000000</td>\n      <td>203.290000</td>\n      <td>12.256197</td>\n      <td>4.625000</td>\n      <td>33.600000</td>\n      <td>146.180000</td>\n      <td>2.670000</td>\n      <td>43.000000</td>\n      <td>12.050000</td>\n      <td>...</td>\n      <td>4.607955</td>\n      <td>15.415000</td>\n      <td>-90.900000</td>\n      <td>-94.050000</td>\n      <td>25.607599</td>\n      <td>48.000000</td>\n      <td>-90.450000</td>\n      <td>-92.000000</td>\n      <td>3.194012</td>\n      <td>5.100000</td>\n    </tr>\n    <tr>\n      <th>68</th>\n      <td>Indoor</td>\n      <td>2.517241</td>\n      <td>14.665103</td>\n      <td>1.400725</td>\n      <td>0.296552</td>\n      <td>1.762069</td>\n      <td>2.262069</td>\n      <td>0.075862</td>\n      <td>37.275862</td>\n      <td>0.137931</td>\n      <td>...</td>\n      <td>0.109949</td>\n      <td>0.265517</td>\n      <td>-84.568966</td>\n      <td>-86.689655</td>\n      <td>10.723314</td>\n      <td>53.000000</td>\n      <td>-76.086207</td>\n      <td>-63.206897</td>\n      <td>11.134470</td>\n      <td>34.482759</td>\n    </tr>\n    <tr>\n      <th>67</th>\n      <td>Indoor</td>\n      <td>2.764706</td>\n      <td>20.128784</td>\n      <td>2.494062</td>\n      <td>11.331373</td>\n      <td>43.823529</td>\n      <td>72.747059</td>\n      <td>3.913725</td>\n      <td>43.392157</td>\n      <td>3.000000</td>\n      <td>...</td>\n      <td>2.390249</td>\n      <td>5.441176</td>\n      <td>-89.754902</td>\n      <td>-93.352941</td>\n      <td>12.526577</td>\n      <td>48.862745</td>\n      <td>-74.117647</td>\n      <td>-74.745098</td>\n      <td>2.178621</td>\n      <td>3.941176</td>\n    </tr>\n  </tbody>\n</table>\n<p>5 rows × 33 columns</p>\n</div>"
     },
     "execution_count": 508,
     "metadata": {},
     "output_type": "execute_result"
    }
   ],
   "source": [
    "import os\n",
    "import pandas as pd\n",
    "import json \n",
    "from collections import Counter\n",
    "\n",
    "files_directory = '../Daten/firsttry/'\n",
    "\n",
    "averaged_path = '../Daten/averaged_data.csv'\n",
    "\n",
    "\n",
    "# extract the code into a function called preprocess_data so that we can use it later for new data\n",
    "def preprocess_data(directory, averaged_path):\n",
    "    if os.path.exists(averaged_path):\n",
    "        os.remove(averaged_path)\n",
    "        print(f\"Removed {averaged_path}\")\n",
    "\n",
    "    # Get list of CSV files\n",
    "    csv_files = [file for file in os.listdir(directory) if file.endswith('.csv')]\n",
    "    print(f'Found {len(csv_files)} CSV files')\n",
    "    \n",
    "    # Get nr of files, where name starts with indoor and outdoor\n",
    "    indoor_files = [file for file in csv_files if file.startswith('Indoor')]\n",
    "    outdoor_files = [file for file in csv_files if file.startswith('Outdoor')]\n",
    "    print(f'Found {len(indoor_files)} indoor files and {len(outdoor_files)} outdoor files')\n",
    "    \n",
    "    averaged_data = pd.DataFrame()\n",
    "    \n",
    "    for file in csv_files:\n",
    "        df = pd.read_csv(directory + file, sep=';')\n",
    "        # Drop unnecessary columns like timeStampNetwork and timeStampGPS\n",
    "        df = df.drop(columns=['timeStampNetwork', 'timeStampGPS', 'bAccuracyNetwork', 'speedAccuracyNetwork', 'cellType', 'networkLocationType'])\n",
    "        # Remove first x rows and reset begin index to 0\n",
    "        removedRows = 3\n",
    "        df = df.iloc[removedRows:]\n",
    "        df = df.reset_index(drop=True)\n",
    "        \n",
    "        # Load satellites json\n",
    "        df['satellites'] = df['satellites'].apply(lambda x: json.loads(x))\n",
    "        \n",
    "        '''# Add columns of nr of satellite of each constellation\n",
    "        df['GPS_counts'] = df['satellites'].apply(lambda x: Counter([sat['constellation'] for sat in x if sat['constellation'] == 'GPS']).get('GPS', 0))\n",
    "        \n",
    "        df['BEIDOU_counts'] = df['satellites'].apply(lambda x: Counter([sat['constellation'] for sat in x if sat['constellation'] == 'BEIDOU']).get('BEIDOU', 0))\n",
    "        \n",
    "        df['GALILEO_counts'] = df['satellites'].apply(lambda x: Counter([sat['constellation'] for sat in x if sat['constellation'] == 'GALILEO']).get('GALILEO', 0))\n",
    "        \n",
    "        df['GLONASS_counts'] = df['satellites'].apply(lambda x: Counter([sat['constellation'] for sat in x if sat['constellation'] == 'GLONASS']).get('GLONASS', 0))'''\n",
    "        \n",
    "        # Add cn0 column for easier computation of statistics\n",
    "        df['satellite_cn0'] = df['satellites'].apply(lambda x: [sat['cn0'] for sat in x])\n",
    "        \n",
    "        # Calculate median, mode, variance, standard deviation and range of the satellite cn0\n",
    "        df['satellite_cn0_median'] = df['satellite_cn0'].apply(lambda x: pd.Series(x).median() if not pd.Series(x).empty else 0)\n",
    "        df['satellite_cn0_mode'] = df['satellite_cn0'].apply(lambda x: pd.Series(x).mode()[0] if not pd.Series(x).mode().empty else 0)\n",
    "        df['satellite_cn0_std'] = df['satellite_cn0'].apply(lambda x: pd.Series(x).std() if not pd.Series(x).empty else 0)\n",
    "        df['satellite_cn0_range'] = df['satellite_cn0'].apply(lambda x: pd.Series(x).max() - pd.Series(x).min() if not pd.Series(x).empty else 0)\n",
    "        \n",
    "        # load the bluetooth json and load rssi into a new column\n",
    "        df['bluetoothDevices'] = df['bluetoothDevices'].apply(lambda x: json.loads(x))\n",
    "        df['bluetooth_rssi'] = df['bluetoothDevices'].apply(lambda x: [device['rssi'] for device in x])\n",
    "        \n",
    "         # Calculate statistical figures for the bluetooth devices\n",
    "        df['bluetooth_rssi_median'] = df['bluetooth_rssi'].apply(lambda x: pd.Series(x).median() if not pd.Series(x).empty else 0)\n",
    "        df['bluetooth_rssi_mode'] = df['bluetooth_rssi'].apply(lambda x: pd.Series(x).mode()[0] if not pd.Series(x).mode().empty else 0)\n",
    "        df['bluetooth_rssi_std'] = df['bluetooth_rssi'].apply(lambda x: pd.Series(x).std() if not pd.Series(x).empty else 0)\n",
    "        df['bluetooth_rssi_range'] = df['bluetooth_rssi'].apply(lambda x: pd.Series(x).max() - pd.Series(x).min() if not pd.Series(x).empty else 0)\n",
    "        \n",
    "        # load the wifi json and load rssi into a new column\n",
    "        df['wifiDevices'] = df['wifiDevices'].apply(lambda x: json.loads(x))\n",
    "        df['wifi_rssi'] = df['wifiDevices'].apply(lambda x: [device['level'] for device in x])\n",
    "        \n",
    "         # Calculate statistical figures for the wifi devices\n",
    "        df['wifi_rssi_median'] = df['wifi_rssi'].apply(lambda x: pd.Series(x).median() if not pd.Series(x).empty else 0)\n",
    "        df['wifi_rssi_mode'] = df['wifi_rssi'].apply(lambda x: pd.Series(x).mode()[0] if not pd.Series(x).mode().empty else 0)\n",
    "        df['wifi_rssi_std'] = df['wifi_rssi'].apply(lambda x: pd.Series(x).std() if not pd.Series(x).empty else 0)\n",
    "        df['wifi_rssi_range'] = df['wifi_rssi'].apply(lambda x: pd.Series(x).max() - pd.Series(x).min() if not pd.Series(x).empty else 0)\n",
    "        \n",
    "        # Drop list columns\n",
    "        df.drop(columns=['satellites', 'bluetoothDevices', 'wifiDevices', 'satellite_cn0', 'bluetooth_rssi', 'wifi_rssi'], inplace=True)\n",
    "        \n",
    "         # Average over all columns for numeric values and take the first of non-numeric to have a single row\n",
    "        label = df.iloc[0]['label']\n",
    "        \n",
    "        df.drop(columns=['label'], inplace=True)\n",
    "        \n",
    "        df = df.mean().to_frame().T\n",
    "        \n",
    "        df['label'] = label\n",
    "        \n",
    "        #place label at the beginning\n",
    "        cols = list(df.columns)\n",
    "        cols = [cols[-1]] + cols[:-1]\n",
    "        df = df[cols]\n",
    "        \n",
    "        \n",
    "        # if the nr of satellites is 0, then replace hAccurracyGPS, vAccuracyGPS, speedAccuracyGPS, bAccuracyGPS with NaN\n",
    "        df.loc[df['nrSatellitesInFix'] == 0, ['hAccuracyGPS', 'vAccuracyGPS', 'speedAccuracyGPS', 'bAccuracyGPS']] = 0\n",
    "        \n",
    "        averaged_data = pd.concat([averaged_data, df], ignore_index=True)\n",
    "        \n",
    "        \n",
    "    averaged_data.sort_values(by=['label'], inplace=True)\n",
    "    averaged_data.to_csv(averaged_path, index=False)\n",
    "    print(f'Saved averaged data to {averaged_path}')\n",
    "    return averaged_data\n",
    "\n",
    "averaged_data = preprocess_data(files_directory, averaged_path)\n",
    "averaged_data.head()\n"
   ]
  },
  {
   "cell_type": "markdown",
   "source": [
    "# Train the Random Forest Classifier"
   ],
   "metadata": {
    "collapsed": false
   }
  },
  {
   "cell_type": "markdown",
   "source": [
    "## Randomize and Split the Data for Random Forest Classifier"
   ],
   "metadata": {
    "collapsed": false
   }
  },
  {
   "cell_type": "code",
   "outputs": [],
   "source": [
    "from sklearn.model_selection import train_test_split\n",
    "\n",
    "# Randomize the data\n",
    "averaged_data = averaged_data.sample(frac=1).reset_index(drop=True)\n",
    "\n",
    "# drop the label column\n",
    "X = averaged_data.drop(columns=['label'], axis=1)\n",
    "Y = averaged_data['label']\n",
    "\n",
    "# Split the data into training and testing data\n",
    "X_train, X_test, Y_train, Y_test = train_test_split(X, Y, test_size=0.3)"
   ],
   "metadata": {
    "collapsed": false,
    "ExecuteTime": {
     "end_time": "2024-03-23T17:22:41.483813Z",
     "start_time": "2024-03-23T17:22:41.479460Z"
    }
   },
   "execution_count": 509
  },
  {
   "cell_type": "markdown",
   "source": [
    "## Train a Random Forest Classifier"
   ],
   "metadata": {
    "collapsed": false
   }
  },
  {
   "cell_type": "code",
   "outputs": [
    {
     "name": "stdout",
     "output_type": "stream",
     "text": [
      "Cross-validation scores: [1.         0.92307692 0.92307692 0.83333333 0.91666667]\n",
      "Accuracy: 0.9629629629629629\n"
     ]
    }
   ],
   "source": [
    "import numpy as np\n",
    "from sklearn.model_selection import cross_val_score\n",
    "from sklearn.feature_selection import SelectFromModel\n",
    "from sklearn.ensemble import RandomForestClassifier\n",
    "from sklearn.metrics import accuracy_score\n",
    "\n",
    "# Train the Random Forest Classifier with regularization\n",
    "clf = RandomForestClassifier()\n",
    "\n",
    "# Train the classifier\n",
    "clf.fit(X_train, Y_train)\n",
    "\n",
    "# Cross-validation\n",
    "scores = cross_val_score(clf, X_train, Y_train, cv=5)\n",
    "print(f\"Cross-validation scores: {scores}\")\n",
    "\n",
    "# Predict the labels of the test data\n",
    "y_pred = clf.predict(X_test)\n",
    "\n",
    "# Calculate the accuracy of the classifier\n",
    "accuracy = accuracy_score(Y_test, y_pred)\n",
    "print(f'Accuracy: {accuracy}')"
   ],
   "metadata": {
    "collapsed": false,
    "ExecuteTime": {
     "end_time": "2024-03-23T17:22:41.768539Z",
     "start_time": "2024-03-23T17:22:41.486194Z"
    }
   },
   "execution_count": 510
  },
  {
   "cell_type": "markdown",
   "source": [
    "## Get the Feature Importances"
   ],
   "metadata": {
    "collapsed": false
   }
  },
  {
   "cell_type": "code",
   "outputs": [
    {
     "name": "stdout",
     "output_type": "stream",
     "text": [
      "                  feature  importance\n",
      "23    satellite_cn0_range    0.217943\n",
      "10             meanCn0GPS    0.120667\n",
      "20   satellite_cn0_median    0.118508\n",
      "11              maxCn0GPS    0.111713\n",
      "21     satellite_cn0_mode    0.080210\n",
      "22      satellite_cn0_std    0.080113\n",
      "8       nrSatellitesInFix    0.044031\n",
      "9               minCn0GPS    0.023762\n",
      "17             minCn0Wifi    0.020150\n",
      "19             maxCn0Wifi    0.017124\n",
      "18            meanCn0Wifi    0.016562\n",
      "5            bAccuracyGPS    0.015399\n",
      "6        speedAccuracyGPS    0.014157\n",
      "3            hAccuracyGPS    0.013763\n",
      "7      nrSatellitesInView    0.011360\n",
      "14              meanCn0Bl    0.011218\n",
      "28       wifi_rssi_median    0.009619\n",
      "4            vAccuracyGPS    0.008896\n",
      "25    bluetooth_rssi_mode    0.007766\n",
      "0            cellStrength    0.007712\n",
      "13               minCn0Bl    0.007520\n",
      "30          wifi_rssi_std    0.007090\n",
      "29         wifi_rssi_mode    0.006250\n",
      "16          nrWifiDevices    0.005995\n",
      "24  bluetooth_rssi_median    0.005959\n",
      "1        hAccuracyNetwork    0.004896\n",
      "2        vAccuracyNetwork    0.003144\n",
      "12            nrBlDevices    0.002619\n",
      "26     bluetooth_rssi_std    0.002509\n",
      "31        wifi_rssi_range    0.002097\n",
      "27   bluetooth_rssi_range    0.000732\n",
      "15               maxCn0Bl    0.000514\n"
     ]
    }
   ],
   "source": [
    "# Print feature importances of the selected features\n",
    "feature_importances = clf.feature_importances_\n",
    "feature_importances = pd.DataFrame({'feature': X.columns, 'importance': feature_importances})\n",
    "feature_importances = feature_importances.sort_values(by='importance', ascending=False)\n",
    "print(feature_importances)"
   ],
   "metadata": {
    "collapsed": false,
    "ExecuteTime": {
     "end_time": "2024-03-23T17:22:41.776870Z",
     "start_time": "2024-03-23T17:22:41.769875Z"
    }
   },
   "execution_count": 511
  },
  {
   "cell_type": "markdown",
   "source": [
    "## Save the model and tryout the model with new data"
   ],
   "metadata": {
    "collapsed": false
   }
  },
  {
   "cell_type": "markdown",
   "source": [],
   "metadata": {
    "collapsed": false
   }
  },
  {
   "cell_type": "code",
   "outputs": [
    {
     "name": "stdout",
     "output_type": "stream",
     "text": [
      "Saved model to ../Daten/random_forest_classifier.joblib\n"
     ]
    }
   ],
   "source": [
    "import joblib\n",
    "\n",
    "# Save the model\n",
    "model_path = '../Daten/random_forest_classifier.joblib'\n",
    "joblib.dump(clf, model_path)\n",
    "print(f'Saved model to {model_path}')"
   ],
   "metadata": {
    "collapsed": false,
    "ExecuteTime": {
     "end_time": "2024-03-23T17:22:41.797767Z",
     "start_time": "2024-03-23T17:22:41.777573Z"
    }
   },
   "execution_count": 512
  },
  {
   "cell_type": "markdown",
   "source": [
    "# Test the model with new data in validation folder in this notebook"
   ],
   "metadata": {
    "collapsed": false
   }
  },
  {
   "cell_type": "code",
   "outputs": [
    {
     "name": "stdout",
     "output_type": "stream",
     "text": [
      "Removed ../Daten/validation_averaged_data.csv\n",
      "Found 4 CSV files\n",
      "Found 2 indoor files and 2 outdoor files\n",
      "Saved averaged data to ../Daten/validation_averaged_data.csv\n",
      "Label: Indoor, Prediction: Indoor, Probability: 0.99\n",
      "Label: Indoor, Prediction: Indoor, Probability: 0.98\n",
      "Label: Outdoor, Prediction: Outdoor, Probability: 0.98\n",
      "Label: Outdoor, Prediction: Outdoor, Probability: 0.96\n"
     ]
    }
   ],
   "source": [
    "validation_files_directory = '../Daten/validation/'\n",
    "\n",
    "validation_averaged_path = '../Daten/validation_averaged_data.csv'\n",
    "\n",
    "model_path = '../Daten/random_forest_classifier.joblib'\n",
    "\n",
    "# Load the model\n",
    "model = joblib.load(model_path)\n",
    "\n",
    "validation_averaged_data = preprocess_data(validation_files_directory, validation_averaged_path)\n",
    "\n",
    "# Predict the labels of the validation data\n",
    "validation_predictions = model.predict(validation_averaged_data.drop(columns=['label']))\n",
    "\n",
    "validation_probabilities = model.predict_proba(validation_averaged_data.drop(columns=['label']))\n",
    "\n",
    "#print label and the corresponding prediction\n",
    "for label, prediction, probability in zip(validation_averaged_data['label'], validation_predictions, validation_probabilities):\n",
    "    if prediction == 'Indoor':\n",
    "        print(f'Label: {label}, Prediction: {prediction}, Probability: {probability[0]}')\n",
    "    else:\n",
    "        print(f'Label: {label}, Prediction: {prediction}, Probability: {probability[1]}')\n",
    "        "
   ],
   "metadata": {
    "collapsed": false,
    "ExecuteTime": {
     "end_time": "2024-03-23T17:22:41.914306Z",
     "start_time": "2024-03-23T17:22:41.798589Z"
    }
   },
   "execution_count": 513
  }
 ],
 "metadata": {
  "kernelspec": {
   "display_name": "Python 3",
   "language": "python",
   "name": "python3"
  },
  "language_info": {
   "name": "python",
   "version": "3.12.0"
  }
 },
 "nbformat": 4,
 "nbformat_minor": 2
}
