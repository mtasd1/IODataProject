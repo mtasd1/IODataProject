{
 "cells": [
  {
   "cell_type": "markdown",
   "source": [
    "# # Data Preprocessing, Averaging over all csv-files and Saving the averaged data into new csv-file"
   ],
   "metadata": {
    "collapsed": false
   }
  },
  {
   "cell_type": "code",
   "execution_count": 109,
   "metadata": {
    "ExecuteTime": {
     "end_time": "2024-03-16T14:31:00.097876Z",
     "start_time": "2024-03-16T14:30:59.297011Z"
    }
   },
   "outputs": [
    {
     "name": "stdout",
     "output_type": "stream",
     "text": [
      "Removed ../Daten/averaged_data.csv\n"
     ]
    },
    {
     "data": {
      "text/plain": "      label  cellStrength  hAccuracyNetwork  vAccuracyNetwork  hAccuracyGPS  \\\n9    Indoor      1.071429         16.903071          1.235335      1.900000   \n15   Indoor      4.000000         22.296462          8.442781      5.434615   \n14   Indoor      2.535714         20.095393          1.995118      0.000000   \n10   Indoor      1.578947         44.897211          8.357078      0.000000   \n6    Indoor      2.965517         14.174379          1.000000      0.000000   \n18   Indoor      4.000000         17.527208          8.852464      0.000000   \n4    Indoor      1.928571         22.792679          1.888168      0.000000   \n2    Indoor      3.506667         13.842400          1.041931      0.000000   \n7   Outdoor      4.000000         21.054852          5.571110      1.362963   \n8   Outdoor      4.000000         39.679538          4.643153      1.380769   \n17  Outdoor      4.000000         27.740870          4.985422      1.417391   \n3   Outdoor      4.000000         28.915290         20.835414      1.616129   \n11  Outdoor      4.000000         24.880552          3.342961      1.303448   \n12  Outdoor      4.000000         30.496871          1.840379      1.758065   \n13  Outdoor      4.000000         74.838357         15.118008      1.571429   \n1   Outdoor      4.000000         21.437759          1.575895      1.355172   \n16  Outdoor      4.000000         28.941545          3.697980      4.618182   \n5   Outdoor      4.000000         29.031037          1.792864      1.959259   \n0   Outdoor      4.000000         41.518929          3.168917      1.371429   \n\n    vAccuracyGPS  bAccuracyGPS  speedAccuracyGPS  nrSatellitesInView  \\\n9       9.900000    178.300000          0.900000           28.571429   \n15     29.484615    146.761538          3.038462           47.000000   \n14      0.000000      0.000000          0.000000           37.000000   \n10      0.000000      0.000000          0.000000           36.000000   \n6       0.000000      0.000000          0.000000           37.000000   \n18      0.000000      0.000000          0.000000           37.000000   \n4       0.000000      0.000000          0.000000           22.857143   \n2       0.000000      0.000000          0.000000           37.000000   \n7       7.637037    116.288889          0.603704           52.000000   \n8       8.934615    154.761538          0.634615           51.000000   \n17     11.208696    139.413043          0.691304           48.000000   \n3      12.409677    147.138710          0.690323           46.193548   \n11      8.489655    170.827586          0.506897           49.000000   \n12     10.116129    154.393548          0.748387           48.838710   \n13      8.646429    158.642857          0.696429           48.785714   \n1       9.110345    163.600000          0.568966           48.000000   \n16     36.727273    117.695455          0.886364           47.545455   \n5      19.040741    114.337037          0.985185           45.000000   \n0      10.582143    155.675000          0.742857           47.892857   \n\n    nrSatellitesInFix  ...  satellite_cn0_std  satellite_cn0_range  \\\n9           25.000000  ...           0.000000             0.000000   \n15           9.538462  ...           3.894964            12.692308   \n14           0.000000  ...           0.000000             0.000000   \n10           0.000000  ...           0.000000             0.000000   \n6            0.000000  ...           0.000000             0.000000   \n18           0.000000  ...           0.000000             0.000000   \n4            0.000000  ...           0.000000             0.000000   \n2            0.000000  ...           0.000000             0.000000   \n7           30.666667  ...           7.170785            27.451852   \n8           30.230769  ...           6.283073            25.676923   \n17          27.608696  ...           7.059028            25.586957   \n3           26.935484  ...           6.651135            23.967742   \n11          26.137931  ...           6.897623            25.179310   \n12          25.322581  ...           6.926744            26.916129   \n13          28.142857  ...           7.193375            28.478571   \n1           27.827586  ...           6.819184            26.227586   \n16          27.772727  ...           7.740133            28.781818   \n5           25.407407  ...           6.265965            24.018519   \n0           26.607143  ...           6.970736            25.564286   \n\n    bluetooth_rssi_median  bluetooth_rssi_mode  bluetooth_rssi_std  \\\n9              -91.000000           -96.000000           11.244463   \n15             -80.000000           -80.000000           18.115287   \n14             -84.142857           -61.000000           13.846676   \n10             -93.052632           -67.157895           26.664825   \n6              -92.965517           -98.379310           12.799422   \n18             -84.062500           -86.375000           14.482453   \n4              -92.964286           -96.642857           12.117509   \n2              -93.446667           -96.453333           13.357066   \n7              -92.462963           -93.000000           11.826576   \n8              -91.442308           -92.923077           16.902139   \n17             -96.173913           -99.000000           13.770486   \n3              -96.709677           -97.000000           17.632662   \n11             -94.258621           -98.103448           10.281930   \n12             -93.306452           -93.806452           10.593494   \n13             -96.928571           -98.535714           10.984491   \n1              -91.224138           -93.896552           15.512145   \n16             -83.159091           -89.454545           22.698875   \n5              -93.000000           -93.000000           17.918133   \n0              -94.928571           -96.642857           11.626123   \n\n    bluetooth_rssi_range  wifi_rssi_median  wifi_rssi_mode  wifi_rssi_std  \\\n9              52.000000        -67.000000      -67.000000       7.140650   \n15             51.000000        -85.076923      -88.000000       8.166664   \n14             36.607143        -73.607143      -80.357143      11.132022   \n10             63.578947        -78.500000      -89.105263      11.209734   \n6              51.000000        -72.689655      -73.620690       9.106100   \n18             50.250000        -79.000000      -86.000000      12.342339   \n4              51.928571        -84.500000      -85.000000       0.707107   \n2              37.973333        -72.800000      -84.720000       9.535130   \n7              59.333333        -85.500000      -91.518519       9.308551   \n8              56.846154        -86.923077      -93.153846       6.873291   \n17             56.391304        -86.304348      -90.826087       5.385630   \n3              53.741935        -80.387097      -80.387097       5.315204   \n11             67.000000        -84.982759      -85.793103       5.542586   \n12             44.225806        -76.580645      -80.290323       7.208297   \n13             46.000000        -87.035714      -89.285714       6.185248   \n1              66.448276        -83.241379      -80.068966       8.660172   \n16             50.863636        -84.090909      -89.863636       7.201056   \n5              50.555556        -82.092593      -84.851852       6.179838   \n0              54.000000        -86.714286      -88.107143       6.621153   \n\n    wifi_rssi_range  \n9         17.000000  \n15        18.384615  \n14        25.285714  \n10        27.789474  \n6         25.068966  \n18        24.000000  \n4          1.000000  \n2         30.320000  \n7         34.740741  \n8         20.384615  \n17        15.130435  \n3         13.161290  \n11        18.310345  \n12        23.451613  \n13        15.571429  \n1         28.724138  \n16        27.181818  \n5         21.814815  \n0         22.857143  \n\n[19 rows x 37 columns]",
      "text/html": "<div>\n<style scoped>\n    .dataframe tbody tr th:only-of-type {\n        vertical-align: middle;\n    }\n\n    .dataframe tbody tr th {\n        vertical-align: top;\n    }\n\n    .dataframe thead th {\n        text-align: right;\n    }\n</style>\n<table border=\"1\" class=\"dataframe\">\n  <thead>\n    <tr style=\"text-align: right;\">\n      <th></th>\n      <th>label</th>\n      <th>cellStrength</th>\n      <th>hAccuracyNetwork</th>\n      <th>vAccuracyNetwork</th>\n      <th>hAccuracyGPS</th>\n      <th>vAccuracyGPS</th>\n      <th>bAccuracyGPS</th>\n      <th>speedAccuracyGPS</th>\n      <th>nrSatellitesInView</th>\n      <th>nrSatellitesInFix</th>\n      <th>...</th>\n      <th>satellite_cn0_std</th>\n      <th>satellite_cn0_range</th>\n      <th>bluetooth_rssi_median</th>\n      <th>bluetooth_rssi_mode</th>\n      <th>bluetooth_rssi_std</th>\n      <th>bluetooth_rssi_range</th>\n      <th>wifi_rssi_median</th>\n      <th>wifi_rssi_mode</th>\n      <th>wifi_rssi_std</th>\n      <th>wifi_rssi_range</th>\n    </tr>\n  </thead>\n  <tbody>\n    <tr>\n      <th>9</th>\n      <td>Indoor</td>\n      <td>1.071429</td>\n      <td>16.903071</td>\n      <td>1.235335</td>\n      <td>1.900000</td>\n      <td>9.900000</td>\n      <td>178.300000</td>\n      <td>0.900000</td>\n      <td>28.571429</td>\n      <td>25.000000</td>\n      <td>...</td>\n      <td>0.000000</td>\n      <td>0.000000</td>\n      <td>-91.000000</td>\n      <td>-96.000000</td>\n      <td>11.244463</td>\n      <td>52.000000</td>\n      <td>-67.000000</td>\n      <td>-67.000000</td>\n      <td>7.140650</td>\n      <td>17.000000</td>\n    </tr>\n    <tr>\n      <th>15</th>\n      <td>Indoor</td>\n      <td>4.000000</td>\n      <td>22.296462</td>\n      <td>8.442781</td>\n      <td>5.434615</td>\n      <td>29.484615</td>\n      <td>146.761538</td>\n      <td>3.038462</td>\n      <td>47.000000</td>\n      <td>9.538462</td>\n      <td>...</td>\n      <td>3.894964</td>\n      <td>12.692308</td>\n      <td>-80.000000</td>\n      <td>-80.000000</td>\n      <td>18.115287</td>\n      <td>51.000000</td>\n      <td>-85.076923</td>\n      <td>-88.000000</td>\n      <td>8.166664</td>\n      <td>18.384615</td>\n    </tr>\n    <tr>\n      <th>14</th>\n      <td>Indoor</td>\n      <td>2.535714</td>\n      <td>20.095393</td>\n      <td>1.995118</td>\n      <td>0.000000</td>\n      <td>0.000000</td>\n      <td>0.000000</td>\n      <td>0.000000</td>\n      <td>37.000000</td>\n      <td>0.000000</td>\n      <td>...</td>\n      <td>0.000000</td>\n      <td>0.000000</td>\n      <td>-84.142857</td>\n      <td>-61.000000</td>\n      <td>13.846676</td>\n      <td>36.607143</td>\n      <td>-73.607143</td>\n      <td>-80.357143</td>\n      <td>11.132022</td>\n      <td>25.285714</td>\n    </tr>\n    <tr>\n      <th>10</th>\n      <td>Indoor</td>\n      <td>1.578947</td>\n      <td>44.897211</td>\n      <td>8.357078</td>\n      <td>0.000000</td>\n      <td>0.000000</td>\n      <td>0.000000</td>\n      <td>0.000000</td>\n      <td>36.000000</td>\n      <td>0.000000</td>\n      <td>...</td>\n      <td>0.000000</td>\n      <td>0.000000</td>\n      <td>-93.052632</td>\n      <td>-67.157895</td>\n      <td>26.664825</td>\n      <td>63.578947</td>\n      <td>-78.500000</td>\n      <td>-89.105263</td>\n      <td>11.209734</td>\n      <td>27.789474</td>\n    </tr>\n    <tr>\n      <th>6</th>\n      <td>Indoor</td>\n      <td>2.965517</td>\n      <td>14.174379</td>\n      <td>1.000000</td>\n      <td>0.000000</td>\n      <td>0.000000</td>\n      <td>0.000000</td>\n      <td>0.000000</td>\n      <td>37.000000</td>\n      <td>0.000000</td>\n      <td>...</td>\n      <td>0.000000</td>\n      <td>0.000000</td>\n      <td>-92.965517</td>\n      <td>-98.379310</td>\n      <td>12.799422</td>\n      <td>51.000000</td>\n      <td>-72.689655</td>\n      <td>-73.620690</td>\n      <td>9.106100</td>\n      <td>25.068966</td>\n    </tr>\n    <tr>\n      <th>18</th>\n      <td>Indoor</td>\n      <td>4.000000</td>\n      <td>17.527208</td>\n      <td>8.852464</td>\n      <td>0.000000</td>\n      <td>0.000000</td>\n      <td>0.000000</td>\n      <td>0.000000</td>\n      <td>37.000000</td>\n      <td>0.000000</td>\n      <td>...</td>\n      <td>0.000000</td>\n      <td>0.000000</td>\n      <td>-84.062500</td>\n      <td>-86.375000</td>\n      <td>14.482453</td>\n      <td>50.250000</td>\n      <td>-79.000000</td>\n      <td>-86.000000</td>\n      <td>12.342339</td>\n      <td>24.000000</td>\n    </tr>\n    <tr>\n      <th>4</th>\n      <td>Indoor</td>\n      <td>1.928571</td>\n      <td>22.792679</td>\n      <td>1.888168</td>\n      <td>0.000000</td>\n      <td>0.000000</td>\n      <td>0.000000</td>\n      <td>0.000000</td>\n      <td>22.857143</td>\n      <td>0.000000</td>\n      <td>...</td>\n      <td>0.000000</td>\n      <td>0.000000</td>\n      <td>-92.964286</td>\n      <td>-96.642857</td>\n      <td>12.117509</td>\n      <td>51.928571</td>\n      <td>-84.500000</td>\n      <td>-85.000000</td>\n      <td>0.707107</td>\n      <td>1.000000</td>\n    </tr>\n    <tr>\n      <th>2</th>\n      <td>Indoor</td>\n      <td>3.506667</td>\n      <td>13.842400</td>\n      <td>1.041931</td>\n      <td>0.000000</td>\n      <td>0.000000</td>\n      <td>0.000000</td>\n      <td>0.000000</td>\n      <td>37.000000</td>\n      <td>0.000000</td>\n      <td>...</td>\n      <td>0.000000</td>\n      <td>0.000000</td>\n      <td>-93.446667</td>\n      <td>-96.453333</td>\n      <td>13.357066</td>\n      <td>37.973333</td>\n      <td>-72.800000</td>\n      <td>-84.720000</td>\n      <td>9.535130</td>\n      <td>30.320000</td>\n    </tr>\n    <tr>\n      <th>7</th>\n      <td>Outdoor</td>\n      <td>4.000000</td>\n      <td>21.054852</td>\n      <td>5.571110</td>\n      <td>1.362963</td>\n      <td>7.637037</td>\n      <td>116.288889</td>\n      <td>0.603704</td>\n      <td>52.000000</td>\n      <td>30.666667</td>\n      <td>...</td>\n      <td>7.170785</td>\n      <td>27.451852</td>\n      <td>-92.462963</td>\n      <td>-93.000000</td>\n      <td>11.826576</td>\n      <td>59.333333</td>\n      <td>-85.500000</td>\n      <td>-91.518519</td>\n      <td>9.308551</td>\n      <td>34.740741</td>\n    </tr>\n    <tr>\n      <th>8</th>\n      <td>Outdoor</td>\n      <td>4.000000</td>\n      <td>39.679538</td>\n      <td>4.643153</td>\n      <td>1.380769</td>\n      <td>8.934615</td>\n      <td>154.761538</td>\n      <td>0.634615</td>\n      <td>51.000000</td>\n      <td>30.230769</td>\n      <td>...</td>\n      <td>6.283073</td>\n      <td>25.676923</td>\n      <td>-91.442308</td>\n      <td>-92.923077</td>\n      <td>16.902139</td>\n      <td>56.846154</td>\n      <td>-86.923077</td>\n      <td>-93.153846</td>\n      <td>6.873291</td>\n      <td>20.384615</td>\n    </tr>\n    <tr>\n      <th>17</th>\n      <td>Outdoor</td>\n      <td>4.000000</td>\n      <td>27.740870</td>\n      <td>4.985422</td>\n      <td>1.417391</td>\n      <td>11.208696</td>\n      <td>139.413043</td>\n      <td>0.691304</td>\n      <td>48.000000</td>\n      <td>27.608696</td>\n      <td>...</td>\n      <td>7.059028</td>\n      <td>25.586957</td>\n      <td>-96.173913</td>\n      <td>-99.000000</td>\n      <td>13.770486</td>\n      <td>56.391304</td>\n      <td>-86.304348</td>\n      <td>-90.826087</td>\n      <td>5.385630</td>\n      <td>15.130435</td>\n    </tr>\n    <tr>\n      <th>3</th>\n      <td>Outdoor</td>\n      <td>4.000000</td>\n      <td>28.915290</td>\n      <td>20.835414</td>\n      <td>1.616129</td>\n      <td>12.409677</td>\n      <td>147.138710</td>\n      <td>0.690323</td>\n      <td>46.193548</td>\n      <td>26.935484</td>\n      <td>...</td>\n      <td>6.651135</td>\n      <td>23.967742</td>\n      <td>-96.709677</td>\n      <td>-97.000000</td>\n      <td>17.632662</td>\n      <td>53.741935</td>\n      <td>-80.387097</td>\n      <td>-80.387097</td>\n      <td>5.315204</td>\n      <td>13.161290</td>\n    </tr>\n    <tr>\n      <th>11</th>\n      <td>Outdoor</td>\n      <td>4.000000</td>\n      <td>24.880552</td>\n      <td>3.342961</td>\n      <td>1.303448</td>\n      <td>8.489655</td>\n      <td>170.827586</td>\n      <td>0.506897</td>\n      <td>49.000000</td>\n      <td>26.137931</td>\n      <td>...</td>\n      <td>6.897623</td>\n      <td>25.179310</td>\n      <td>-94.258621</td>\n      <td>-98.103448</td>\n      <td>10.281930</td>\n      <td>67.000000</td>\n      <td>-84.982759</td>\n      <td>-85.793103</td>\n      <td>5.542586</td>\n      <td>18.310345</td>\n    </tr>\n    <tr>\n      <th>12</th>\n      <td>Outdoor</td>\n      <td>4.000000</td>\n      <td>30.496871</td>\n      <td>1.840379</td>\n      <td>1.758065</td>\n      <td>10.116129</td>\n      <td>154.393548</td>\n      <td>0.748387</td>\n      <td>48.838710</td>\n      <td>25.322581</td>\n      <td>...</td>\n      <td>6.926744</td>\n      <td>26.916129</td>\n      <td>-93.306452</td>\n      <td>-93.806452</td>\n      <td>10.593494</td>\n      <td>44.225806</td>\n      <td>-76.580645</td>\n      <td>-80.290323</td>\n      <td>7.208297</td>\n      <td>23.451613</td>\n    </tr>\n    <tr>\n      <th>13</th>\n      <td>Outdoor</td>\n      <td>4.000000</td>\n      <td>74.838357</td>\n      <td>15.118008</td>\n      <td>1.571429</td>\n      <td>8.646429</td>\n      <td>158.642857</td>\n      <td>0.696429</td>\n      <td>48.785714</td>\n      <td>28.142857</td>\n      <td>...</td>\n      <td>7.193375</td>\n      <td>28.478571</td>\n      <td>-96.928571</td>\n      <td>-98.535714</td>\n      <td>10.984491</td>\n      <td>46.000000</td>\n      <td>-87.035714</td>\n      <td>-89.285714</td>\n      <td>6.185248</td>\n      <td>15.571429</td>\n    </tr>\n    <tr>\n      <th>1</th>\n      <td>Outdoor</td>\n      <td>4.000000</td>\n      <td>21.437759</td>\n      <td>1.575895</td>\n      <td>1.355172</td>\n      <td>9.110345</td>\n      <td>163.600000</td>\n      <td>0.568966</td>\n      <td>48.000000</td>\n      <td>27.827586</td>\n      <td>...</td>\n      <td>6.819184</td>\n      <td>26.227586</td>\n      <td>-91.224138</td>\n      <td>-93.896552</td>\n      <td>15.512145</td>\n      <td>66.448276</td>\n      <td>-83.241379</td>\n      <td>-80.068966</td>\n      <td>8.660172</td>\n      <td>28.724138</td>\n    </tr>\n    <tr>\n      <th>16</th>\n      <td>Outdoor</td>\n      <td>4.000000</td>\n      <td>28.941545</td>\n      <td>3.697980</td>\n      <td>4.618182</td>\n      <td>36.727273</td>\n      <td>117.695455</td>\n      <td>0.886364</td>\n      <td>47.545455</td>\n      <td>27.772727</td>\n      <td>...</td>\n      <td>7.740133</td>\n      <td>28.781818</td>\n      <td>-83.159091</td>\n      <td>-89.454545</td>\n      <td>22.698875</td>\n      <td>50.863636</td>\n      <td>-84.090909</td>\n      <td>-89.863636</td>\n      <td>7.201056</td>\n      <td>27.181818</td>\n    </tr>\n    <tr>\n      <th>5</th>\n      <td>Outdoor</td>\n      <td>4.000000</td>\n      <td>29.031037</td>\n      <td>1.792864</td>\n      <td>1.959259</td>\n      <td>19.040741</td>\n      <td>114.337037</td>\n      <td>0.985185</td>\n      <td>45.000000</td>\n      <td>25.407407</td>\n      <td>...</td>\n      <td>6.265965</td>\n      <td>24.018519</td>\n      <td>-93.000000</td>\n      <td>-93.000000</td>\n      <td>17.918133</td>\n      <td>50.555556</td>\n      <td>-82.092593</td>\n      <td>-84.851852</td>\n      <td>6.179838</td>\n      <td>21.814815</td>\n    </tr>\n    <tr>\n      <th>0</th>\n      <td>Outdoor</td>\n      <td>4.000000</td>\n      <td>41.518929</td>\n      <td>3.168917</td>\n      <td>1.371429</td>\n      <td>10.582143</td>\n      <td>155.675000</td>\n      <td>0.742857</td>\n      <td>47.892857</td>\n      <td>26.607143</td>\n      <td>...</td>\n      <td>6.970736</td>\n      <td>25.564286</td>\n      <td>-94.928571</td>\n      <td>-96.642857</td>\n      <td>11.626123</td>\n      <td>54.000000</td>\n      <td>-86.714286</td>\n      <td>-88.107143</td>\n      <td>6.621153</td>\n      <td>22.857143</td>\n    </tr>\n  </tbody>\n</table>\n<p>19 rows × 37 columns</p>\n</div>"
     },
     "execution_count": 109,
     "metadata": {},
     "output_type": "execute_result"
    }
   ],
   "source": [
    "import os\n",
    "import pandas as pd\n",
    "import json \n",
    "from collections import Counter\n",
    "\n",
    "directory = '../Daten/firsttry/'\n",
    "\n",
    "averaged_path = '../Daten/averaged_data.csv'\n",
    "\n",
    "if os.path.exists(averaged_path):\n",
    "    os.remove(averaged_path)\n",
    "    print(f\"Removed {averaged_path}\")\n",
    "\n",
    "\n",
    "# extract the code into a function called preprocess_data so that we can use it later for new data\n",
    "#def preprocess_data(directory, averaged_path):\n",
    "\n",
    "# Get list of CSV files\n",
    "csv_files = [file for file in os.listdir(directory) if file.endswith('.csv')]\n",
    "\n",
    "averaged_data = pd.DataFrame()\n",
    "\n",
    "for file in csv_files:\n",
    "    df = pd.read_csv(directory + file, sep=';')\n",
    "    # Drop unnecessary columns like timeStampNetwork and timeStampGPS\n",
    "    df = df.drop(columns=['timeStampNetwork', 'timeStampGPS', 'bAccuracyNetwork', 'speedAccuracyNetwork', 'cellType', 'networkLocationType'])\n",
    "    # Remove first x rows and reset begin index to 0\n",
    "    removedRows = 3\n",
    "    df = df.iloc[removedRows:]\n",
    "    df = df.reset_index(drop=True)\n",
    "    \n",
    "    # Load satellites json\n",
    "    df['satellites'] = df['satellites'].apply(lambda x: json.loads(x))\n",
    "    \n",
    "    # Add columns of nr of satellite of each constellation\n",
    "    df['GPS_counts'] = df['satellites'].apply(lambda x: Counter([sat['constellation'] for sat in x if sat['constellation'] == 'GPS']).get('GPS', 0))\n",
    "    \n",
    "    df['BEIDOU_counts'] = df['satellites'].apply(lambda x: Counter([sat['constellation'] for sat in x if sat['constellation'] == 'BEIDOU']).get('BEIDOU', 0))\n",
    "    \n",
    "    df['GALILEO_counts'] = df['satellites'].apply(lambda x: Counter([sat['constellation'] for sat in x if sat['constellation'] == 'GALILEO']).get('GALILEO', 0))\n",
    "    \n",
    "    df['GLONASS_counts'] = df['satellites'].apply(lambda x: Counter([sat['constellation'] for sat in x if sat['constellation'] == 'GLONASS']).get('GLONASS', 0))\n",
    "    \n",
    "    # Add cn0 column for easier computation of statistics\n",
    "    df['satellite_cn0'] = df['satellites'].apply(lambda x: [sat['cn0'] for sat in x])\n",
    "    \n",
    "    # Calculate median, mode, variance, standard deviation and range of the satellite cn0\n",
    "    df['satellite_cn0_median'] = df['satellite_cn0'].apply(lambda x: pd.Series(x).median() if not pd.Series(x).empty else 0)\n",
    "    df['satellite_cn0_mode'] = df['satellite_cn0'].apply(lambda x: pd.Series(x).mode()[0] if not pd.Series(x).mode().empty else 0)\n",
    "    df['satellite_cn0_std'] = df['satellite_cn0'].apply(lambda x: pd.Series(x).std() if not pd.Series(x).empty else 0)\n",
    "    df['satellite_cn0_range'] = df['satellite_cn0'].apply(lambda x: pd.Series(x).max() - pd.Series(x).min() if not pd.Series(x).empty else 0)\n",
    "    \n",
    "    # load the bluetooth json and load rssi into a new column\n",
    "    df['bluetoothDevices'] = df['bluetoothDevices'].apply(lambda x: json.loads(x))\n",
    "    df['bluetooth_rssi'] = df['bluetoothDevices'].apply(lambda x: [device['rssi'] for device in x])\n",
    "    \n",
    "     # Calculate statistical figures for the bluetooth devices\n",
    "    df['bluetooth_rssi_median'] = df['bluetooth_rssi'].apply(lambda x: pd.Series(x).median() if not pd.Series(x).empty else 0)\n",
    "    df['bluetooth_rssi_mode'] = df['bluetooth_rssi'].apply(lambda x: pd.Series(x).mode()[0] if not pd.Series(x).mode().empty else 0)\n",
    "    df['bluetooth_rssi_std'] = df['bluetooth_rssi'].apply(lambda x: pd.Series(x).std() if not pd.Series(x).empty else 0)\n",
    "    df['bluetooth_rssi_range'] = df['bluetooth_rssi'].apply(lambda x: pd.Series(x).max() - pd.Series(x).min() if not pd.Series(x).empty else 0)\n",
    "    \n",
    "    # load the wifi json and load rssi into a new column\n",
    "    df['wifiDevices'] = df['wifiDevices'].apply(lambda x: json.loads(x))\n",
    "    df['wifi_rssi'] = df['wifiDevices'].apply(lambda x: [device['level'] for device in x])\n",
    "    \n",
    "     # Calculate statistical figures for the wifi devices\n",
    "    df['wifi_rssi_median'] = df['wifi_rssi'].apply(lambda x: pd.Series(x).median() if not pd.Series(x).empty else 0)\n",
    "    df['wifi_rssi_mode'] = df['wifi_rssi'].apply(lambda x: pd.Series(x).mode()[0] if not pd.Series(x).mode().empty else 0)\n",
    "    df['wifi_rssi_std'] = df['wifi_rssi'].apply(lambda x: pd.Series(x).std() if not pd.Series(x).empty else 0)\n",
    "    df['wifi_rssi_range'] = df['wifi_rssi'].apply(lambda x: pd.Series(x).max() - pd.Series(x).min() if not pd.Series(x).empty else 0)\n",
    "    \n",
    "    # Drop list columns\n",
    "    df.drop(columns=['satellites', 'bluetoothDevices', 'wifiDevices', 'satellite_cn0', 'bluetooth_rssi', 'wifi_rssi'], inplace=True)\n",
    "    \n",
    "     # Average over all columns for numeric values and take the first of non-numeric to have a single row\n",
    "    label = df.iloc[0]['label']\n",
    "    \n",
    "    df.drop(columns=['label'], inplace=True)\n",
    "    \n",
    "    df = df.mean().to_frame().T\n",
    "    \n",
    "    df['label'] = label\n",
    "    \n",
    "    #place label at the beginning\n",
    "    cols = list(df.columns)\n",
    "    cols = [cols[-1]] + cols[:-1]\n",
    "    df = df[cols]\n",
    "    \n",
    "    \n",
    "    # if the nr of satellites is 0, then replace hAccurracyGPS, vAccuracyGPS, speedAccuracyGPS, bAccuracyGPS with NaN\n",
    "    df.loc[df['nrSatellitesInFix'] == 0, ['hAccuracyGPS', 'vAccuracyGPS', 'speedAccuracyGPS', 'bAccuracyGPS']] = 0\n",
    "    \n",
    "    averaged_data = pd.concat([averaged_data, df], ignore_index=True)\n",
    "    \n",
    "    \n",
    "averaged_data.sort_values(by=['label'], inplace=True)\n",
    "averaged_data.to_csv(averaged_path, index=False)\n",
    "averaged_data"
   ]
  },
  {
   "cell_type": "markdown",
   "source": [
    "## Randomize and Split the Data for Random Forest Classifier"
   ],
   "metadata": {
    "collapsed": false
   }
  },
  {
   "cell_type": "code",
   "outputs": [],
   "source": [
    "from sklearn.model_selection import train_test_split\n",
    "\n",
    "# Randomize the data\n",
    "averaged_data = averaged_data.sample(frac=1, random_state=42).reset_index(drop=True)\n",
    "\n",
    "# Split the data into training and testing data\n",
    "train_data, test_data = train_test_split(averaged_data, test_size=0.2, random_state=42)"
   ],
   "metadata": {
    "collapsed": false,
    "ExecuteTime": {
     "end_time": "2024-03-16T14:31:00.107883Z",
     "start_time": "2024-03-16T14:31:00.103328Z"
    }
   },
   "execution_count": 110
  },
  {
   "cell_type": "markdown",
   "source": [
    "## Train a Random Forest Classifier"
   ],
   "metadata": {
    "collapsed": false
   }
  },
  {
   "cell_type": "code",
   "outputs": [
    {
     "name": "stdout",
     "output_type": "stream",
     "text": [
      "Accuracy: 1.0\n"
     ]
    }
   ],
   "source": [
    "from sklearn.ensemble import RandomForestClassifier\n",
    "from sklearn.metrics import accuracy_score\n",
    "\n",
    "# Train the Random Forest Classifier\n",
    "clf = RandomForestClassifier(random_state=42)\n",
    "clf.fit(train_data.drop(columns=['label']), train_data['label'])\n",
    "\n",
    "# Predict the labels of the test data\n",
    "predictions = clf.predict(test_data.drop(columns=['label']))\n",
    "\n",
    "# Calculate the accuracy of the classifier\n",
    "accuracy = accuracy_score(test_data['label'], predictions)\n",
    "print(f'Accuracy: {accuracy}')"
   ],
   "metadata": {
    "collapsed": false,
    "ExecuteTime": {
     "end_time": "2024-03-16T14:31:00.201911Z",
     "start_time": "2024-03-16T14:31:00.108925Z"
    }
   },
   "execution_count": 111
  },
  {
   "cell_type": "markdown",
   "source": [
    "## Get the Feature Importances"
   ],
   "metadata": {
    "collapsed": false
   }
  },
  {
   "cell_type": "code",
   "outputs": [
    {
     "data": {
      "text/plain": "                  feature  importance\n8       nrSatellitesInFix    0.094844\n10             meanCn0GPS    0.090000\n26      satellite_cn0_std    0.075625\n22         GALILEO_counts    0.070000\n23         GLONASS_counts    0.070000\n24   satellite_cn0_median    0.070000\n20             GPS_counts    0.070000\n21          BEIDOU_counts    0.060000\n11              maxCn0GPS    0.060000\n27    satellite_cn0_range    0.060000\n25     satellite_cn0_mode    0.042500\n0            cellStrength    0.040000\n5            bAccuracyGPS    0.032273\n4            vAccuracyGPS    0.030000\n17             minCn0Wifi    0.030000\n16          nrWifiDevices    0.027656\n7      nrSatellitesInView    0.020000\n9               minCn0GPS    0.017500\n6        speedAccuracyGPS    0.010000\n1        hAccuracyNetwork    0.010000\n29    bluetooth_rssi_mode    0.006875\n18            meanCn0Wifi    0.004375\n19             maxCn0Wifi    0.003125\n28  bluetooth_rssi_median    0.002727\n3            hAccuracyGPS    0.002500\n15               maxCn0Bl    0.000000\n14              meanCn0Bl    0.000000\n13               minCn0Bl    0.000000\n12            nrBlDevices    0.000000\n2        vAccuracyNetwork    0.000000\n30     bluetooth_rssi_std    0.000000\n31   bluetooth_rssi_range    0.000000\n32       wifi_rssi_median    0.000000\n33         wifi_rssi_mode    0.000000\n34          wifi_rssi_std    0.000000\n35        wifi_rssi_range    0.000000",
      "text/html": "<div>\n<style scoped>\n    .dataframe tbody tr th:only-of-type {\n        vertical-align: middle;\n    }\n\n    .dataframe tbody tr th {\n        vertical-align: top;\n    }\n\n    .dataframe thead th {\n        text-align: right;\n    }\n</style>\n<table border=\"1\" class=\"dataframe\">\n  <thead>\n    <tr style=\"text-align: right;\">\n      <th></th>\n      <th>feature</th>\n      <th>importance</th>\n    </tr>\n  </thead>\n  <tbody>\n    <tr>\n      <th>8</th>\n      <td>nrSatellitesInFix</td>\n      <td>0.094844</td>\n    </tr>\n    <tr>\n      <th>10</th>\n      <td>meanCn0GPS</td>\n      <td>0.090000</td>\n    </tr>\n    <tr>\n      <th>26</th>\n      <td>satellite_cn0_std</td>\n      <td>0.075625</td>\n    </tr>\n    <tr>\n      <th>22</th>\n      <td>GALILEO_counts</td>\n      <td>0.070000</td>\n    </tr>\n    <tr>\n      <th>23</th>\n      <td>GLONASS_counts</td>\n      <td>0.070000</td>\n    </tr>\n    <tr>\n      <th>24</th>\n      <td>satellite_cn0_median</td>\n      <td>0.070000</td>\n    </tr>\n    <tr>\n      <th>20</th>\n      <td>GPS_counts</td>\n      <td>0.070000</td>\n    </tr>\n    <tr>\n      <th>21</th>\n      <td>BEIDOU_counts</td>\n      <td>0.060000</td>\n    </tr>\n    <tr>\n      <th>11</th>\n      <td>maxCn0GPS</td>\n      <td>0.060000</td>\n    </tr>\n    <tr>\n      <th>27</th>\n      <td>satellite_cn0_range</td>\n      <td>0.060000</td>\n    </tr>\n    <tr>\n      <th>25</th>\n      <td>satellite_cn0_mode</td>\n      <td>0.042500</td>\n    </tr>\n    <tr>\n      <th>0</th>\n      <td>cellStrength</td>\n      <td>0.040000</td>\n    </tr>\n    <tr>\n      <th>5</th>\n      <td>bAccuracyGPS</td>\n      <td>0.032273</td>\n    </tr>\n    <tr>\n      <th>4</th>\n      <td>vAccuracyGPS</td>\n      <td>0.030000</td>\n    </tr>\n    <tr>\n      <th>17</th>\n      <td>minCn0Wifi</td>\n      <td>0.030000</td>\n    </tr>\n    <tr>\n      <th>16</th>\n      <td>nrWifiDevices</td>\n      <td>0.027656</td>\n    </tr>\n    <tr>\n      <th>7</th>\n      <td>nrSatellitesInView</td>\n      <td>0.020000</td>\n    </tr>\n    <tr>\n      <th>9</th>\n      <td>minCn0GPS</td>\n      <td>0.017500</td>\n    </tr>\n    <tr>\n      <th>6</th>\n      <td>speedAccuracyGPS</td>\n      <td>0.010000</td>\n    </tr>\n    <tr>\n      <th>1</th>\n      <td>hAccuracyNetwork</td>\n      <td>0.010000</td>\n    </tr>\n    <tr>\n      <th>29</th>\n      <td>bluetooth_rssi_mode</td>\n      <td>0.006875</td>\n    </tr>\n    <tr>\n      <th>18</th>\n      <td>meanCn0Wifi</td>\n      <td>0.004375</td>\n    </tr>\n    <tr>\n      <th>19</th>\n      <td>maxCn0Wifi</td>\n      <td>0.003125</td>\n    </tr>\n    <tr>\n      <th>28</th>\n      <td>bluetooth_rssi_median</td>\n      <td>0.002727</td>\n    </tr>\n    <tr>\n      <th>3</th>\n      <td>hAccuracyGPS</td>\n      <td>0.002500</td>\n    </tr>\n    <tr>\n      <th>15</th>\n      <td>maxCn0Bl</td>\n      <td>0.000000</td>\n    </tr>\n    <tr>\n      <th>14</th>\n      <td>meanCn0Bl</td>\n      <td>0.000000</td>\n    </tr>\n    <tr>\n      <th>13</th>\n      <td>minCn0Bl</td>\n      <td>0.000000</td>\n    </tr>\n    <tr>\n      <th>12</th>\n      <td>nrBlDevices</td>\n      <td>0.000000</td>\n    </tr>\n    <tr>\n      <th>2</th>\n      <td>vAccuracyNetwork</td>\n      <td>0.000000</td>\n    </tr>\n    <tr>\n      <th>30</th>\n      <td>bluetooth_rssi_std</td>\n      <td>0.000000</td>\n    </tr>\n    <tr>\n      <th>31</th>\n      <td>bluetooth_rssi_range</td>\n      <td>0.000000</td>\n    </tr>\n    <tr>\n      <th>32</th>\n      <td>wifi_rssi_median</td>\n      <td>0.000000</td>\n    </tr>\n    <tr>\n      <th>33</th>\n      <td>wifi_rssi_mode</td>\n      <td>0.000000</td>\n    </tr>\n    <tr>\n      <th>34</th>\n      <td>wifi_rssi_std</td>\n      <td>0.000000</td>\n    </tr>\n    <tr>\n      <th>35</th>\n      <td>wifi_rssi_range</td>\n      <td>0.000000</td>\n    </tr>\n  </tbody>\n</table>\n</div>"
     },
     "execution_count": 112,
     "metadata": {},
     "output_type": "execute_result"
    }
   ],
   "source": [
    "#print the feature importances for the classifier and the corresponding column names\n",
    "feature_importances = clf.feature_importances_\n",
    "feature_names = train_data.drop(columns=['label']).columns\n",
    "feature_importances = pd.DataFrame({'feature': feature_names, 'importance': feature_importances})\n",
    "feature_importances = feature_importances.sort_values(by='importance', ascending=False)\n",
    "feature_importances"
   ],
   "metadata": {
    "collapsed": false,
    "ExecuteTime": {
     "end_time": "2024-03-16T14:31:00.215908Z",
     "start_time": "2024-03-16T14:31:00.204427Z"
    }
   },
   "execution_count": 112
  },
  {
   "cell_type": "markdown",
   "source": [
    "## Save the model and tryout the model with new data in the next notebook"
   ],
   "metadata": {
    "collapsed": false
   }
  },
  {
   "cell_type": "markdown",
   "source": [],
   "metadata": {
    "collapsed": false
   }
  },
  {
   "cell_type": "code",
   "outputs": [
    {
     "name": "stdout",
     "output_type": "stream",
     "text": [
      "Saved model to ../Daten/random_forest_classifier.joblib\n"
     ]
    }
   ],
   "source": [
    "import joblib\n",
    "\n",
    "# Save the model\n",
    "model_path = '../Daten/random_forest_classifier.joblib'\n",
    "joblib.dump(clf, model_path)\n",
    "print(f'Saved model to {model_path}')"
   ],
   "metadata": {
    "collapsed": false,
    "ExecuteTime": {
     "end_time": "2024-03-16T14:31:00.248383Z",
     "start_time": "2024-03-16T14:31:00.216727Z"
    }
   },
   "execution_count": 113
  }
 ],
 "metadata": {
  "kernelspec": {
   "display_name": "Python 3",
   "language": "python",
   "name": "python3"
  },
  "language_info": {
   "name": "python",
   "version": "3.12.0"
  }
 },
 "nbformat": 4,
 "nbformat_minor": 2
}
