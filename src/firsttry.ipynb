{
 "cells": [
  {
   "cell_type": "markdown",
   "source": [
    "# # Data Preprocessing"
   ],
   "metadata": {
    "collapsed": false
   }
  },
  {
   "cell_type": "code",
   "execution_count": 584,
   "metadata": {
    "ExecuteTime": {
     "end_time": "2024-03-14T22:15:49.271731Z",
     "start_time": "2024-03-14T22:15:49.224204Z"
    }
   },
   "outputs": [
    {
     "name": "stdout",
     "output_type": "stream",
     "text": [
      "Removed ../Daten/averaged_data.csv\n",
      "['Outdoor_2024-03-14 21_02_59.csv', 'Indoor_2024-03-11 14_15_41.csv', 'Indoor_2024-03-14 21_14_45.csv', 'Indoor_2024-03-14 21_12_33.csv', 'Outdoor_2024-03-14 20_45_50.csv', 'Outdoor_2024-03-14 20_44_10.csv', 'Indoor_2024-03-14 21_19_23.csv', 'Outdoor_2024-03-14 21_05_28.csv', 'Outdoor_2024-03-14 21_11_04.csv', 'Outdoor_2024-03-14 21_08_18.csv', 'Indoor_2024-03-14 16_21_11.csv']\n",
      "Processing Outdoor_2024-03-14 21_02_59.csv...\n",
      "Processing Indoor_2024-03-11 14_15_41.csv...\n",
      "Processing Indoor_2024-03-14 21_14_45.csv...\n",
      "Processing Indoor_2024-03-14 21_12_33.csv...\n",
      "Processing Outdoor_2024-03-14 20_45_50.csv...\n",
      "Processing Outdoor_2024-03-14 20_44_10.csv...\n",
      "Processing Indoor_2024-03-14 21_19_23.csv...\n",
      "Processing Outdoor_2024-03-14 21_05_28.csv...\n",
      "Processing Outdoor_2024-03-14 21_11_04.csv...\n",
      "Processing Outdoor_2024-03-14 21_08_18.csv...\n",
      "Processing Indoor_2024-03-14 16_21_11.csv...\n"
     ]
    }
   ],
   "source": [
    "import os\n",
    "import pandas as pd\n",
    "\n",
    "directory = '../Daten/firsttry/'\n",
    "\n",
    "averaged_path = '../Daten/averaged_data.csv'\n",
    "\n",
    "if os.path.exists(averaged_path):\n",
    "    os.remove(averaged_path)\n",
    "    print(f\"Removed {averaged_path}\")\n",
    "\n",
    "\n",
    "# Get list of CSV files\n",
    "csv_files = [file for file in os.listdir(directory) if file.endswith('.csv')]\n",
    "\n",
    "print(csv_files)\n",
    "\n",
    "averaged_data = pd.DataFrame()\n",
    "\n",
    "for file in csv_files:\n",
    "    print(f\"Processing {file}...\")\n",
    "    df = pd.read_csv(directory + file, sep=';')"
   ]
  },
  {
   "cell_type": "markdown",
   "source": [
    "## Drop unnecessary columns"
   ],
   "metadata": {
    "collapsed": false
   }
  },
  {
   "cell_type": "code",
   "outputs": [],
   "source": [
    "    # Drop unnecessary columns like timeStampNetwork and timeStampGPS\n",
    "    df = df.drop(columns=['timeStampNetwork', 'timeStampGPS'])"
   ],
   "metadata": {
    "collapsed": false,
    "ExecuteTime": {
     "end_time": "2024-03-14T22:15:49.284241Z",
     "start_time": "2024-03-14T22:15:49.281419Z"
    }
   },
   "execution_count": 585
  },
  {
   "cell_type": "markdown",
   "source": [
    "## Remove first x rows"
   ],
   "metadata": {
    "collapsed": false
   }
  },
  {
   "cell_type": "code",
   "outputs": [],
   "source": [
    "    # Remove first x rows and reset begin index to 0\n",
    "    removedRows = 3\n",
    "    df = df.iloc[removedRows:]\n",
    "    df = df.reset_index(drop=True)"
   ],
   "metadata": {
    "collapsed": false,
    "ExecuteTime": {
     "end_time": "2024-03-14T22:15:49.287935Z",
     "start_time": "2024-03-14T22:15:49.285694Z"
    }
   },
   "execution_count": 586
  },
  {
   "cell_type": "markdown",
   "source": [
    "## Load satellites json "
   ],
   "metadata": {
    "collapsed": false
   }
  },
  {
   "cell_type": "code",
   "outputs": [],
   "source": [
    "    import json\n",
    "    from collections import Counter\n",
    "    \n",
    "    df['satellites'] = df['satellites'].apply(lambda x: json.loads(x))"
   ],
   "metadata": {
    "collapsed": false,
    "ExecuteTime": {
     "end_time": "2024-03-14T22:15:49.291803Z",
     "start_time": "2024-03-14T22:15:49.289049Z"
    }
   },
   "execution_count": 587
  },
  {
   "cell_type": "markdown",
   "source": [
    "## Add columns of nr of satellite of each constellation"
   ],
   "metadata": {
    "collapsed": false
   }
  },
  {
   "cell_type": "code",
   "outputs": [],
   "source": [
    "    # Add columns of nr of satellite of each constellation\n",
    "    df['GPS_counts'] = df['satellites'].apply(lambda x: Counter([sat['constellation'] for sat in x if sat['constellation'] == 'GPS']).get('GPS', 0))\n",
    "    \n",
    "    df['BEIDOU_counts'] = df['satellites'].apply(lambda x: Counter([sat['constellation'] for sat in x if sat['constellation'] == 'BEIDOU']).get('BEIDOU', 0))\n",
    "    \n",
    "    df['GALILEO_counts'] = df['satellites'].apply(lambda x: Counter([sat['constellation'] for sat in x if sat['constellation'] == 'GALILEO']).get('GALILEO', 0))\n",
    "    \n",
    "    df['GLONASS_counts'] = df['satellites'].apply(lambda x: Counter([sat['constellation'] for sat in x if sat['constellation'] == 'GLONASS']).get('GLONASS', 0))"
   ],
   "metadata": {
    "collapsed": false,
    "ExecuteTime": {
     "end_time": "2024-03-14T22:15:49.297824Z",
     "start_time": "2024-03-14T22:15:49.292821Z"
    }
   },
   "execution_count": 588
  },
  {
   "cell_type": "markdown",
   "source": [
    "## Add cn0 column for easier computation of statistics"
   ],
   "metadata": {
    "collapsed": false
   }
  },
  {
   "cell_type": "code",
   "outputs": [],
   "source": [
    "    df['satellite_cn0'] = df['satellites'].apply(lambda x: [sat['cn0'] for sat in x])"
   ],
   "metadata": {
    "collapsed": false,
    "ExecuteTime": {
     "end_time": "2024-03-14T22:15:49.301221Z",
     "start_time": "2024-03-14T22:15:49.298671Z"
    }
   },
   "execution_count": 589
  },
  {
   "cell_type": "markdown",
   "source": [
    "## Calculate median, mode, variance, standard deviation and range of the satellite cn0"
   ],
   "metadata": {
    "collapsed": false
   }
  },
  {
   "cell_type": "code",
   "outputs": [],
   "source": [
    "    # Calculate median, mode, variance, standard deviation and range of the satellite cn0\n",
    "    df['satellite_cn0_median'] = df['satellite_cn0'].apply(lambda x: pd.Series(x).median())\n",
    "    df['satellite_cn0_mode'] = df['satellite_cn0'].apply(lambda x: pd.Series(x).mode()[0] if not pd.Series(x).mode().empty else None)\n",
    "    df['satellite_cn0_std'] = df['satellite_cn0'].apply(lambda x: pd.Series(x).std())\n",
    "    df['satellite_cn0_range'] = df['satellite_cn0'].apply(lambda x: pd.Series(x).max() - pd.Series(x).min())"
   ],
   "metadata": {
    "collapsed": false,
    "ExecuteTime": {
     "end_time": "2024-03-14T22:15:49.314521Z",
     "start_time": "2024-03-14T22:15:49.302664Z"
    }
   },
   "execution_count": 590
  },
  {
   "cell_type": "markdown",
   "source": [
    "## load the bluetooth json and load rssi into a new column"
   ],
   "metadata": {
    "collapsed": false
   }
  },
  {
   "cell_type": "code",
   "outputs": [],
   "source": [
    "    df['bluetoothDevices'] = df['bluetoothDevices'].apply(lambda x: json.loads(x))\n",
    "    df['bluetooth_rssi'] = df['bluetoothDevices'].apply(lambda x: [device['rssi'] for device in x])"
   ],
   "metadata": {
    "collapsed": false,
    "ExecuteTime": {
     "end_time": "2024-03-14T22:15:49.318039Z",
     "start_time": "2024-03-14T22:15:49.315229Z"
    }
   },
   "execution_count": 591
  },
  {
   "cell_type": "markdown",
   "source": [
    "## Calculate statistical figures for the bluetooth devices"
   ],
   "metadata": {
    "collapsed": false
   }
  },
  {
   "cell_type": "code",
   "outputs": [],
   "source": [
    "    # Calculate statistical figures for the bluetooth devices\n",
    "    df['bluetooth_rssi_median'] = df['bluetooth_rssi'].apply(lambda x: pd.Series(x).median())\n",
    "    df['bluetooth_rssi_mode'] = df['bluetooth_rssi'].apply(lambda x: pd.Series(x).mode()[0] if not pd.Series(x).mode().empty else None)\n",
    "    df['bluetooth_rssi_std'] = df['bluetooth_rssi'].apply(lambda x: pd.Series(x).std())\n",
    "    df['bluetooth_rssi_range'] = df['bluetooth_rssi'].apply(lambda x: pd.Series(x).max() - pd.Series(x).min())"
   ],
   "metadata": {
    "collapsed": false,
    "ExecuteTime": {
     "end_time": "2024-03-14T22:15:49.329929Z",
     "start_time": "2024-03-14T22:15:49.318974Z"
    }
   },
   "execution_count": 592
  },
  {
   "cell_type": "markdown",
   "source": [
    "## load the wifi json and load rssi into a new column"
   ],
   "metadata": {
    "collapsed": false
   }
  },
  {
   "cell_type": "code",
   "outputs": [],
   "source": [
    "    df['wifiDevices'] = df['wifiDevices'].apply(lambda x: json.loads(x))\n",
    "    df['wifi_rssi'] = df['wifiDevices'].apply(lambda x: [device['level'] for device in x])"
   ],
   "metadata": {
    "collapsed": false,
    "ExecuteTime": {
     "end_time": "2024-03-14T22:15:49.333501Z",
     "start_time": "2024-03-14T22:15:49.330722Z"
    }
   },
   "execution_count": 593
  },
  {
   "cell_type": "markdown",
   "source": [
    "## Calculate statistical figures for the wifi devices"
   ],
   "metadata": {
    "collapsed": false
   }
  },
  {
   "cell_type": "code",
   "outputs": [],
   "source": [
    "    # Calculate statistical figures for the wifi devices\n",
    "    df['wifi_rssi_median'] = df['wifi_rssi'].apply(lambda x: pd.Series(x).median())\n",
    "    df['wifi_rssi_mode'] = df['wifi_rssi'].apply(lambda x: pd.Series(x).mode()[0] if not pd.Series(x).mode().empty else None)\n",
    "    df['wifi_rssi_std'] = df['wifi_rssi'].apply(lambda x: pd.Series(x).std())\n",
    "    df['wifi_rssi_range'] = df['wifi_rssi'].apply(lambda x: pd.Series(x).max() - pd.Series(x).min())"
   ],
   "metadata": {
    "collapsed": false,
    "ExecuteTime": {
     "end_time": "2024-03-14T22:15:49.344861Z",
     "start_time": "2024-03-14T22:15:49.334879Z"
    }
   },
   "execution_count": 594
  },
  {
   "cell_type": "markdown",
   "source": [
    "## Drop list columns"
   ],
   "metadata": {
    "collapsed": false
   }
  },
  {
   "cell_type": "code",
   "outputs": [],
   "source": [
    "    df.drop(columns=['satellites', 'bluetoothDevices', 'wifiDevices', 'satellite_cn0', 'bluetooth_rssi', 'wifi_rssi'], inplace=True)"
   ],
   "metadata": {
    "collapsed": false,
    "ExecuteTime": {
     "end_time": "2024-03-14T22:15:49.349242Z",
     "start_time": "2024-03-14T22:15:49.346260Z"
    }
   },
   "execution_count": 595
  },
  {
   "cell_type": "markdown",
   "source": [
    "## Average over all columns to have a single row"
   ],
   "metadata": {
    "collapsed": false
   }
  },
  {
   "cell_type": "code",
   "outputs": [],
   "source": [
    "    # Average over all columns for numeric values and take the first of non-numeric to have a single row\n",
    "    label = df.iloc[0]['label']\n",
    "    cellType = df.iloc[0]['cellType']\n",
    "    networkLocationType = df.iloc[0]['networkLocationType']\n",
    "    \n",
    "    df.drop(columns=['label', 'cellType', 'networkLocationType'], inplace=True)\n",
    "    \n",
    "    df = df.mean().to_frame().T\n",
    "    \n",
    "    df['label'] = label\n",
    "    \n",
    "    #place label at the beginning\n",
    "    cols = list(df.columns)\n",
    "    cols = [cols[-1]] + cols[:-1]\n",
    "    df = df[cols]\n",
    "    \n",
    "    df['cellType'] = cellType\n",
    "    df['networkLocationType'] = networkLocationType"
   ],
   "metadata": {
    "collapsed": false,
    "ExecuteTime": {
     "end_time": "2024-03-14T22:15:49.356008Z",
     "start_time": "2024-03-14T22:15:49.350297Z"
    }
   },
   "execution_count": 596
  },
  {
   "cell_type": "markdown",
   "source": [
    "## Append to averaged_data"
   ],
   "metadata": {
    "collapsed": false
   }
  },
  {
   "cell_type": "code",
   "outputs": [
    {
     "name": "stdout",
     "output_type": "stream",
     "text": [
      "After processing Indoor_2024-03-14 16_21_11.csv, averaged_data has 1 rows.\n"
     ]
    }
   ],
   "source": [
    "    averaged_data = pd.concat([averaged_data, df], ignore_index=True)\n",
    "    print(f\"After processing {file}, averaged_data has {averaged_data.shape[0]} rows.\")\n"
   ],
   "metadata": {
    "collapsed": false,
    "ExecuteTime": {
     "end_time": "2024-03-14T22:15:49.359835Z",
     "start_time": "2024-03-14T22:15:49.356789Z"
    }
   },
   "execution_count": 597
  },
  {
   "cell_type": "markdown",
   "source": [
    "## Save to CSV"
   ],
   "metadata": {
    "collapsed": false
   }
  },
  {
   "cell_type": "code",
   "outputs": [
    {
     "data": {
      "text/plain": "    label  cellStrength  hAccuracyNetwork  vAccuracyNetwork  bAccuracyNetwork  \\\n0  Indoor           4.0         22.296462          8.442781               0.0   \n\n   speedAccuracyNetwork  hAccuracyGPS  vAccuracyGPS  bAccuracyGPS  \\\n0                   0.0      5.434615     29.484615    146.761538   \n\n   speedAccuracyGPS  ...  bluetooth_rssi_median  bluetooth_rssi_mode  \\\n0          3.038462  ...                  -80.0                -80.0   \n\n   bluetooth_rssi_std  bluetooth_rssi_range  wifi_rssi_median  wifi_rssi_mode  \\\n0           18.115287                  51.0        -85.076923           -88.0   \n\n   wifi_rssi_std  wifi_rssi_range  cellType  networkLocationType  \n0       8.166664        18.384615       LTE                 wifi  \n\n[1 rows x 41 columns]",
      "text/html": "<div>\n<style scoped>\n    .dataframe tbody tr th:only-of-type {\n        vertical-align: middle;\n    }\n\n    .dataframe tbody tr th {\n        vertical-align: top;\n    }\n\n    .dataframe thead th {\n        text-align: right;\n    }\n</style>\n<table border=\"1\" class=\"dataframe\">\n  <thead>\n    <tr style=\"text-align: right;\">\n      <th></th>\n      <th>label</th>\n      <th>cellStrength</th>\n      <th>hAccuracyNetwork</th>\n      <th>vAccuracyNetwork</th>\n      <th>bAccuracyNetwork</th>\n      <th>speedAccuracyNetwork</th>\n      <th>hAccuracyGPS</th>\n      <th>vAccuracyGPS</th>\n      <th>bAccuracyGPS</th>\n      <th>speedAccuracyGPS</th>\n      <th>...</th>\n      <th>bluetooth_rssi_median</th>\n      <th>bluetooth_rssi_mode</th>\n      <th>bluetooth_rssi_std</th>\n      <th>bluetooth_rssi_range</th>\n      <th>wifi_rssi_median</th>\n      <th>wifi_rssi_mode</th>\n      <th>wifi_rssi_std</th>\n      <th>wifi_rssi_range</th>\n      <th>cellType</th>\n      <th>networkLocationType</th>\n    </tr>\n  </thead>\n  <tbody>\n    <tr>\n      <th>0</th>\n      <td>Indoor</td>\n      <td>4.0</td>\n      <td>22.296462</td>\n      <td>8.442781</td>\n      <td>0.0</td>\n      <td>0.0</td>\n      <td>5.434615</td>\n      <td>29.484615</td>\n      <td>146.761538</td>\n      <td>3.038462</td>\n      <td>...</td>\n      <td>-80.0</td>\n      <td>-80.0</td>\n      <td>18.115287</td>\n      <td>51.0</td>\n      <td>-85.076923</td>\n      <td>-88.0</td>\n      <td>8.166664</td>\n      <td>18.384615</td>\n      <td>LTE</td>\n      <td>wifi</td>\n    </tr>\n  </tbody>\n</table>\n<p>1 rows × 41 columns</p>\n</div>"
     },
     "execution_count": 598,
     "metadata": {},
     "output_type": "execute_result"
    }
   ],
   "source": [
    "averaged_data.to_csv(averaged_path, index=False)\n",
    "averaged_data"
   ],
   "metadata": {
    "collapsed": false,
    "ExecuteTime": {
     "end_time": "2024-03-14T22:15:49.369088Z",
     "start_time": "2024-03-14T22:15:49.360933Z"
    }
   },
   "execution_count": 598
  },
  {
   "cell_type": "markdown",
   "source": [
    "## Visualization"
   ],
   "metadata": {
    "collapsed": false
   }
  },
  {
   "cell_type": "code",
   "outputs": [],
   "source": [
    "# test visualisation\n",
    "import matplotlib.pyplot as plt\n",
    "\n"
   ],
   "metadata": {
    "collapsed": false,
    "ExecuteTime": {
     "end_time": "2024-03-14T22:15:49.371276Z",
     "start_time": "2024-03-14T22:15:49.369811Z"
    }
   },
   "execution_count": 599
  },
  {
   "cell_type": "markdown",
   "source": [],
   "metadata": {
    "collapsed": false
   }
  }
 ],
 "metadata": {
  "kernelspec": {
   "display_name": "Python 3",
   "language": "python",
   "name": "python3"
  },
  "language_info": {
   "name": "python",
   "version": "3.12.0"
  }
 },
 "nbformat": 4,
 "nbformat_minor": 2
}
