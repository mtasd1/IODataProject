{
 "cells": [
  {
   "cell_type": "markdown",
   "source": [
    "# Data Preprocessing, Averaging over all csv-files and Saving the averaged data into new csv-file"
   ],
   "metadata": {
    "collapsed": false
   }
  },
  {
   "cell_type": "code",
   "execution_count": 116,
   "metadata": {
    "ExecuteTime": {
     "end_time": "2024-04-01T13:13:14.687558Z",
     "start_time": "2024-04-01T13:13:07.957360Z"
    }
   },
   "outputs": [
    {
     "name": "stdout",
     "output_type": "stream",
     "text": [
      "Found 177 CSV files\n",
      "Found 99 indoor files and 78 outdoor files\n"
     ]
    },
    {
     "data": {
      "text/plain": "       label  cellStrength  nrSatellitesInView  nrSatellitesInFix  \\\n0     Indoor      3.000000           42.958333           0.000000   \n121   Indoor      3.920000           37.000000           0.000000   \n120   Indoor      3.680000           42.720000           4.360000   \n119   Indoor      3.387097           47.967742          14.258065   \n117   Indoor      4.000000           41.393939          21.242424   \n..       ...           ...                 ...                ...   \n118  Outdoor      4.000000           46.000000          26.066667   \n38   Outdoor      4.000000           47.000000          28.629630   \n39   Outdoor      3.517241           45.000000          21.379310   \n125  Outdoor      4.000000           47.000000          17.250000   \n176  Outdoor      4.000000           44.482759          24.724138   \n\n     satellite_cn0_min  satellite_cn0_max  satellite_cn0_mean  \\\n0             0.000000           0.000000            0.000000   \n121           0.000000           0.000000            0.000000   \n120           3.808000           4.768000            4.212610   \n119          16.603226          32.080645           23.502349   \n117          15.503030          39.257576           25.837499   \n..                 ...                ...                 ...   \n118          17.606667          38.886667           27.543205   \n38           18.892593          45.033333           33.685858   \n39           16.596552          35.713793           25.511660   \n125          15.800000          42.346429           28.339306   \n176          19.037931          45.296552           32.495415   \n\n     satellite_cn0_median  satellite_cn0_mode  satellite_cn0_std  ...  \\\n0                0.000000            0.000000           0.000000  ...   \n121              0.000000            0.000000           0.000000  ...   \n120              4.094000            3.808000           0.381244  ...   \n119             22.958065           18.854839           4.605385  ...   \n117             24.840909           20.324242           6.997593  ...   \n..                    ...                 ...                ...  ...   \n118             27.590000           25.416667           5.368232  ...   \n38              33.553704           25.759259           7.193455  ...   \n39              25.563793           20.765517           5.255834  ...   \n125             26.571429           20.028571           8.574544  ...   \n176             32.481034           25.531034           7.418118  ...   \n\n     bluetooth_rssi_median  bluetooth_rssi_mode  bluetooth_rssi_std  \\\n0               -90.416667           -98.000000           23.345390   \n121             -86.540000           -91.800000           12.348973   \n120             -89.160000           -90.960000            9.139573   \n119             -87.129032           -95.645161           12.264947   \n117             -76.848485           -86.000000           11.687739   \n..                     ...                  ...                 ...   \n118             -94.400000           -97.000000           15.298340   \n38              -93.685185           -97.814815           13.860640   \n39              -94.586207           -96.310345           15.064577   \n125             -70.428571           -74.214286           12.382702   \n176             -89.931034           -88.034483           11.124122   \n\n     bluetooth_rssi_range  wifi_rssi_min  wifi_rssi_max  wifi_rssi_mean  \\\n0               57.000000     -88.500000     -47.666667      -71.843380   \n121             54.000000     -91.000000     -75.000000      -81.315789   \n120             28.840000     -90.000000     -70.000000      -80.428571   \n119             48.032258     -86.903226     -65.516129      -76.459766   \n117             38.636364     -86.000000     -66.000000      -76.000000   \n..                    ...            ...            ...             ...   \n118             56.700000     -94.900000     -66.200000      -80.984248   \n38              59.370370     -93.666667     -79.333333      -86.648077   \n39              43.413793     -87.206897     -63.034483      -71.379310   \n125             39.357143     -93.285714     -74.357143      -84.497059   \n176             36.000000     -70.241379     -56.068966      -64.931034   \n\n     wifi_rssi_median  wifi_rssi_mode  wifi_rssi_range  \n0          -73.875000      -87.833333        40.833333  \n121        -81.000000      -82.000000        16.000000  \n120        -82.500000      -86.000000        20.000000  \n119        -74.903226      -85.451613        21.387097  \n117        -76.000000      -86.000000        20.000000  \n..                ...             ...              ...  \n118        -79.400000      -80.100000        28.700000  \n38         -86.333333      -88.000000        14.333333  \n39         -67.172414      -68.655172        24.172414  \n125        -82.500000      -81.500000        18.928571  \n176        -66.068966      -69.379310        14.172414  \n\n[177 rows x 24 columns]",
      "text/html": "<div>\n<style scoped>\n    .dataframe tbody tr th:only-of-type {\n        vertical-align: middle;\n    }\n\n    .dataframe tbody tr th {\n        vertical-align: top;\n    }\n\n    .dataframe thead th {\n        text-align: right;\n    }\n</style>\n<table border=\"1\" class=\"dataframe\">\n  <thead>\n    <tr style=\"text-align: right;\">\n      <th></th>\n      <th>label</th>\n      <th>cellStrength</th>\n      <th>nrSatellitesInView</th>\n      <th>nrSatellitesInFix</th>\n      <th>satellite_cn0_min</th>\n      <th>satellite_cn0_max</th>\n      <th>satellite_cn0_mean</th>\n      <th>satellite_cn0_median</th>\n      <th>satellite_cn0_mode</th>\n      <th>satellite_cn0_std</th>\n      <th>...</th>\n      <th>bluetooth_rssi_median</th>\n      <th>bluetooth_rssi_mode</th>\n      <th>bluetooth_rssi_std</th>\n      <th>bluetooth_rssi_range</th>\n      <th>wifi_rssi_min</th>\n      <th>wifi_rssi_max</th>\n      <th>wifi_rssi_mean</th>\n      <th>wifi_rssi_median</th>\n      <th>wifi_rssi_mode</th>\n      <th>wifi_rssi_range</th>\n    </tr>\n  </thead>\n  <tbody>\n    <tr>\n      <th>0</th>\n      <td>Indoor</td>\n      <td>3.000000</td>\n      <td>42.958333</td>\n      <td>0.000000</td>\n      <td>0.000000</td>\n      <td>0.000000</td>\n      <td>0.000000</td>\n      <td>0.000000</td>\n      <td>0.000000</td>\n      <td>0.000000</td>\n      <td>...</td>\n      <td>-90.416667</td>\n      <td>-98.000000</td>\n      <td>23.345390</td>\n      <td>57.000000</td>\n      <td>-88.500000</td>\n      <td>-47.666667</td>\n      <td>-71.843380</td>\n      <td>-73.875000</td>\n      <td>-87.833333</td>\n      <td>40.833333</td>\n    </tr>\n    <tr>\n      <th>121</th>\n      <td>Indoor</td>\n      <td>3.920000</td>\n      <td>37.000000</td>\n      <td>0.000000</td>\n      <td>0.000000</td>\n      <td>0.000000</td>\n      <td>0.000000</td>\n      <td>0.000000</td>\n      <td>0.000000</td>\n      <td>0.000000</td>\n      <td>...</td>\n      <td>-86.540000</td>\n      <td>-91.800000</td>\n      <td>12.348973</td>\n      <td>54.000000</td>\n      <td>-91.000000</td>\n      <td>-75.000000</td>\n      <td>-81.315789</td>\n      <td>-81.000000</td>\n      <td>-82.000000</td>\n      <td>16.000000</td>\n    </tr>\n    <tr>\n      <th>120</th>\n      <td>Indoor</td>\n      <td>3.680000</td>\n      <td>42.720000</td>\n      <td>4.360000</td>\n      <td>3.808000</td>\n      <td>4.768000</td>\n      <td>4.212610</td>\n      <td>4.094000</td>\n      <td>3.808000</td>\n      <td>0.381244</td>\n      <td>...</td>\n      <td>-89.160000</td>\n      <td>-90.960000</td>\n      <td>9.139573</td>\n      <td>28.840000</td>\n      <td>-90.000000</td>\n      <td>-70.000000</td>\n      <td>-80.428571</td>\n      <td>-82.500000</td>\n      <td>-86.000000</td>\n      <td>20.000000</td>\n    </tr>\n    <tr>\n      <th>119</th>\n      <td>Indoor</td>\n      <td>3.387097</td>\n      <td>47.967742</td>\n      <td>14.258065</td>\n      <td>16.603226</td>\n      <td>32.080645</td>\n      <td>23.502349</td>\n      <td>22.958065</td>\n      <td>18.854839</td>\n      <td>4.605385</td>\n      <td>...</td>\n      <td>-87.129032</td>\n      <td>-95.645161</td>\n      <td>12.264947</td>\n      <td>48.032258</td>\n      <td>-86.903226</td>\n      <td>-65.516129</td>\n      <td>-76.459766</td>\n      <td>-74.903226</td>\n      <td>-85.451613</td>\n      <td>21.387097</td>\n    </tr>\n    <tr>\n      <th>117</th>\n      <td>Indoor</td>\n      <td>4.000000</td>\n      <td>41.393939</td>\n      <td>21.242424</td>\n      <td>15.503030</td>\n      <td>39.257576</td>\n      <td>25.837499</td>\n      <td>24.840909</td>\n      <td>20.324242</td>\n      <td>6.997593</td>\n      <td>...</td>\n      <td>-76.848485</td>\n      <td>-86.000000</td>\n      <td>11.687739</td>\n      <td>38.636364</td>\n      <td>-86.000000</td>\n      <td>-66.000000</td>\n      <td>-76.000000</td>\n      <td>-76.000000</td>\n      <td>-86.000000</td>\n      <td>20.000000</td>\n    </tr>\n    <tr>\n      <th>...</th>\n      <td>...</td>\n      <td>...</td>\n      <td>...</td>\n      <td>...</td>\n      <td>...</td>\n      <td>...</td>\n      <td>...</td>\n      <td>...</td>\n      <td>...</td>\n      <td>...</td>\n      <td>...</td>\n      <td>...</td>\n      <td>...</td>\n      <td>...</td>\n      <td>...</td>\n      <td>...</td>\n      <td>...</td>\n      <td>...</td>\n      <td>...</td>\n      <td>...</td>\n      <td>...</td>\n    </tr>\n    <tr>\n      <th>118</th>\n      <td>Outdoor</td>\n      <td>4.000000</td>\n      <td>46.000000</td>\n      <td>26.066667</td>\n      <td>17.606667</td>\n      <td>38.886667</td>\n      <td>27.543205</td>\n      <td>27.590000</td>\n      <td>25.416667</td>\n      <td>5.368232</td>\n      <td>...</td>\n      <td>-94.400000</td>\n      <td>-97.000000</td>\n      <td>15.298340</td>\n      <td>56.700000</td>\n      <td>-94.900000</td>\n      <td>-66.200000</td>\n      <td>-80.984248</td>\n      <td>-79.400000</td>\n      <td>-80.100000</td>\n      <td>28.700000</td>\n    </tr>\n    <tr>\n      <th>38</th>\n      <td>Outdoor</td>\n      <td>4.000000</td>\n      <td>47.000000</td>\n      <td>28.629630</td>\n      <td>18.892593</td>\n      <td>45.033333</td>\n      <td>33.685858</td>\n      <td>33.553704</td>\n      <td>25.759259</td>\n      <td>7.193455</td>\n      <td>...</td>\n      <td>-93.685185</td>\n      <td>-97.814815</td>\n      <td>13.860640</td>\n      <td>59.370370</td>\n      <td>-93.666667</td>\n      <td>-79.333333</td>\n      <td>-86.648077</td>\n      <td>-86.333333</td>\n      <td>-88.000000</td>\n      <td>14.333333</td>\n    </tr>\n    <tr>\n      <th>39</th>\n      <td>Outdoor</td>\n      <td>3.517241</td>\n      <td>45.000000</td>\n      <td>21.379310</td>\n      <td>16.596552</td>\n      <td>35.713793</td>\n      <td>25.511660</td>\n      <td>25.563793</td>\n      <td>20.765517</td>\n      <td>5.255834</td>\n      <td>...</td>\n      <td>-94.586207</td>\n      <td>-96.310345</td>\n      <td>15.064577</td>\n      <td>43.413793</td>\n      <td>-87.206897</td>\n      <td>-63.034483</td>\n      <td>-71.379310</td>\n      <td>-67.172414</td>\n      <td>-68.655172</td>\n      <td>24.172414</td>\n    </tr>\n    <tr>\n      <th>125</th>\n      <td>Outdoor</td>\n      <td>4.000000</td>\n      <td>47.000000</td>\n      <td>17.250000</td>\n      <td>15.800000</td>\n      <td>42.346429</td>\n      <td>28.339306</td>\n      <td>26.571429</td>\n      <td>20.028571</td>\n      <td>8.574544</td>\n      <td>...</td>\n      <td>-70.428571</td>\n      <td>-74.214286</td>\n      <td>12.382702</td>\n      <td>39.357143</td>\n      <td>-93.285714</td>\n      <td>-74.357143</td>\n      <td>-84.497059</td>\n      <td>-82.500000</td>\n      <td>-81.500000</td>\n      <td>18.928571</td>\n    </tr>\n    <tr>\n      <th>176</th>\n      <td>Outdoor</td>\n      <td>4.000000</td>\n      <td>44.482759</td>\n      <td>24.724138</td>\n      <td>19.037931</td>\n      <td>45.296552</td>\n      <td>32.495415</td>\n      <td>32.481034</td>\n      <td>25.531034</td>\n      <td>7.418118</td>\n      <td>...</td>\n      <td>-89.931034</td>\n      <td>-88.034483</td>\n      <td>11.124122</td>\n      <td>36.000000</td>\n      <td>-70.241379</td>\n      <td>-56.068966</td>\n      <td>-64.931034</td>\n      <td>-66.068966</td>\n      <td>-69.379310</td>\n      <td>14.172414</td>\n    </tr>\n  </tbody>\n</table>\n<p>177 rows × 24 columns</p>\n</div>"
     },
     "execution_count": 116,
     "metadata": {},
     "output_type": "execute_result"
    }
   ],
   "source": [
    "import os\n",
    "import pandas as pd\n",
    "import json \n",
    "from collections import Counter\n",
    "\n",
    "# extract the code into a function called preprocess_data so that we can use it later for new data\n",
    "def preprocess_data(averaged_df, directory, file):\n",
    "    df = pd.read_csv(directory + file, sep=';')\n",
    "    \n",
    "    # Drop unnecessary and outdated columns\n",
    "    deleted_columns = ['timeStampNetwork', 'timeStampGPS', 'locationDescription', 'people', 'latitudeGPS', 'longitudeGPS', 'latitudeNetwork', 'longitudeNetwork', 'minCn0GPS', 'maxCn0GPS', 'meanCn0GPS', 'minCn0Bluetooth', 'maxCn0Bluetooth', 'minCn0Wifi', 'maxCn0Wifi', 'meanCn0Wifi', 'bAccuracyNetwork', 'speedAccuracyNetwork', 'cellType', 'networkLocationType', 'hAccuracyNetwork', 'vAccuracyNetwork', 'speedAccuracyNetwork', 'bAccuracyNetwork', 'nrBlDevices', 'hAccuracyGPS', 'minCn0Bl', 'meanCn0Bl','maxCn0Bl', 'bAccuracyGPS', 'speedAccuracyGPS', 'vAccuracyGPS', 'nrWifiDevices']\n",
    "    df = safe_delete(df, deleted_columns)\n",
    "    \n",
    "    # Remove first x rows and reset begin index to 0\n",
    "    removedRows = 3\n",
    "    df = df.iloc[removedRows:]\n",
    "    df = df.reset_index(drop=True)\n",
    "    \n",
    "    # Load satellites json\n",
    "    df['satellites'] = df['satellites'].apply(lambda x: json.loads(x))\n",
    "    \n",
    "    # Add cn0 column for easier computation of statistics\n",
    "    df['satellite_cn0'] = df['satellites'].apply(lambda x: [sat['cn0'] for sat in x])\n",
    "    \n",
    "    # Calculate min, max, mean. median, mode, variance, standard deviation and range of the satellite cn0\n",
    "    df['satellite_cn0_min'] = df['satellite_cn0'].apply(lambda x: pd.Series(x).min() if not pd.Series(x).empty else 0)\n",
    "    df['satellite_cn0_max'] = df['satellite_cn0'].apply(lambda x: pd.Series(x).max() if not pd.Series(x).empty else 0)\n",
    "    df['satellite_cn0_mean'] = df['satellite_cn0'].apply(lambda x: pd.Series(x).mean() if not pd.Series(x).empty else 0)    \n",
    "    df['satellite_cn0_median'] = df['satellite_cn0'].apply(lambda x: pd.Series(x).median() if not pd.Series(x).empty else 0)\n",
    "    df['satellite_cn0_mode'] = df['satellite_cn0'].apply(lambda x: pd.Series(x).mode()[0] if not pd.Series(x).mode().empty else 0)\n",
    "    df['satellite_cn0_std'] = df['satellite_cn0'].apply(lambda x: pd.Series(x).std() if not pd.Series(x).empty else 0)\n",
    "    df['satellite_cn0_range'] = df['satellite_cn0'].apply(lambda x: pd.Series(x).max() - pd.Series(x).min() if not pd.Series(x).empty else 0)\n",
    "    \n",
    "    # load the bluetooth json and load rssi into a new column\n",
    "    df['bluetoothDevices'] = df['bluetoothDevices'].apply(lambda x: json.loads(x))\n",
    "    df['bluetooth_rssi'] = df['bluetoothDevices'].apply(lambda x: [device['rssi'] for device in x])\n",
    "    \n",
    "     # Calculate statistical figures for the bluetooth devices\n",
    "    df['bluetooth_rssi_min'] = df['bluetooth_rssi'].apply(lambda x: pd.Series(x).min() if not pd.Series(x).empty else 0)\n",
    "    df['bluetooth_rssi_max'] = df['bluetooth_rssi'].apply(lambda x: pd.Series(x).max() if not pd.Series(x).empty else 0)\n",
    "    df['bluetooth_rssi_mean'] = df['bluetooth_rssi'].apply(lambda x: pd.Series(x).mean() if not pd.Series(x).empty else 0)\n",
    "    df['bluetooth_rssi_median'] = df['bluetooth_rssi'].apply(lambda x: pd.Series(x).median() if not pd.Series(x).empty else 0)\n",
    "    df['bluetooth_rssi_mode'] = df['bluetooth_rssi'].apply(lambda x: pd.Series(x).mode()[0] if not pd.Series(x).mode().empty else 0)\n",
    "    df['bluetooth_rssi_std'] = df['bluetooth_rssi'].apply(lambda x: pd.Series(x).std() if not pd.Series(x).empty else 0)\n",
    "    df['bluetooth_rssi_range'] = df['bluetooth_rssi'].apply(lambda x: pd.Series(x).max() - pd.Series(x).min() if not pd.Series(x).empty else 0)\n",
    "    \n",
    "    # load the wifi json and load rssi into a new column\n",
    "    df['wifiDevices'] = df['wifiDevices'].apply(lambda x: json.loads(x))\n",
    "    df['wifi_rssi'] = df['wifiDevices'].apply(lambda x: [device['level'] for device in x])\n",
    "    \n",
    "     # Calculate statistical figures for the wifi devices\n",
    "    df['wifi_rssi_min'] = df['wifi_rssi'].apply(lambda x: pd.Series(x).min() if not pd.Series(x).empty else 0)\n",
    "    df['wifi_rssi_max'] = df['wifi_rssi'].apply(lambda x: pd.Series(x).max() if not pd.Series(x).empty else 0)\n",
    "    df['wifi_rssi_mean'] = df['wifi_rssi'].apply(lambda x: pd.Series(x).mean() if not pd.Series(x).empty else 0)\n",
    "    df['wifi_rssi_median'] = df['wifi_rssi'].apply(lambda x: pd.Series(x).median() if not pd.Series(x).empty else 0)\n",
    "    df['wifi_rssi_mode'] = df['wifi_rssi'].apply(lambda x: pd.Series(x).mode()[0] if not pd.Series(x).mode().empty else 0)\n",
    "    df['wifi_rssi_range'] = df['wifi_rssi'].apply(lambda x: pd.Series(x).max() - pd.Series(x).min() if not pd.Series(x).empty else 0)\n",
    "    \n",
    "    # Drop list columns\n",
    "    df.drop(columns=['satellites', 'bluetoothDevices', 'wifiDevices', 'satellite_cn0', 'bluetooth_rssi', 'wifi_rssi'], inplace=True)\n",
    "    \n",
    "     # Average over all columns for numeric values and take the first of non-numeric to have a single row\n",
    "    df_label = df.iloc[0]['label']\n",
    "    \n",
    "    df.drop(columns=['label'], inplace=True)\n",
    "    \n",
    "    df = df.mean().to_frame().T\n",
    "    \n",
    "    df['label'] = df_label\n",
    "    \n",
    "    #place label at the beginning\n",
    "    cols = list(df.columns)\n",
    "    cols = [cols[-1]] + cols[:-1]\n",
    "    df = df[cols]\n",
    "    \n",
    "    averaged_df = pd.concat([averaged_df, df], ignore_index=True)\n",
    "    return averaged_df\n",
    "\n",
    "def safe_delete(df, columns):\n",
    "    for column in columns:\n",
    "        if column in df.columns:\n",
    "            df = df.drop(columns=[column])\n",
    "    return df\n",
    "\n",
    "files_directory = '../Daten/firsttry/'\n",
    "averaged_path = '../Daten/averaged_data.csv'\n",
    "\n",
    "if os.path.exists(averaged_path):\n",
    "    os.remove(averaged_path)\n",
    "    print(f\"Removed {averaged_path}\")\n",
    "\n",
    "# Get list of CSV files\n",
    "csv_files = [file for file in os.listdir(files_directory) if file.endswith('.csv')]\n",
    "print(f'Found {len(csv_files)} CSV files')\n",
    "\n",
    "# Get nr of files, where name starts with indoor and outdoor\n",
    "indoor_files = [file for file in csv_files if file.startswith('Indoor')]\n",
    "outdoor_files = [file for file in csv_files if file.startswith('Outdoor')]\n",
    "print(f'Found {len(indoor_files)} indoor files and {len(outdoor_files)} outdoor files')\n",
    "\n",
    "averaged_data = pd.DataFrame()\n",
    "\n",
    "for file in csv_files:\n",
    "    averaged_data = preprocess_data(averaged_data, files_directory, file)\n",
    "\n",
    "averaged_data.sort_values(by=['label'], inplace=True)\n",
    "averaged_data"
   ]
  },
  {
   "cell_type": "markdown",
   "source": [
    "# Train the Random Forest Classifier"
   ],
   "metadata": {
    "collapsed": false
   }
  },
  {
   "cell_type": "markdown",
   "source": [
    "## Randomize and Split the Data for Random Forest Classifier"
   ],
   "metadata": {
    "collapsed": false
   }
  },
  {
   "cell_type": "code",
   "outputs": [
    {
     "name": "stdout",
     "output_type": "stream",
     "text": [
      "Training data shape: (159, 23)\n",
      "Testing data shape: (18, 23)\n"
     ]
    }
   ],
   "source": [
    "from sklearn.model_selection import train_test_split\n",
    "\n",
    "# Randomize the data\n",
    "averaged_data = averaged_data.sample(frac=1).reset_index(drop=True)\n",
    "\n",
    "# drop the label column\n",
    "X = averaged_data.drop(columns=['label'], axis=1)\n",
    "Y = averaged_data['label']\n",
    "\n",
    "# Split the data into training and testing data\n",
    "X_train, X_test, Y_train, Y_test = train_test_split(X, Y, test_size=0.1)\n",
    "\n",
    "print(f'Training data shape: {X_train.shape}')\n",
    "print(f'Testing data shape: {X_test.shape}')"
   ],
   "metadata": {
    "collapsed": false,
    "ExecuteTime": {
     "end_time": "2024-04-01T13:13:14.695117Z",
     "start_time": "2024-04-01T13:13:14.689257Z"
    }
   },
   "execution_count": 117
  },
  {
   "cell_type": "markdown",
   "source": [
    "## Train a Random Forest Classifier"
   ],
   "metadata": {
    "collapsed": false
   }
  },
  {
   "cell_type": "code",
   "outputs": [
    {
     "name": "stdout",
     "output_type": "stream",
     "text": [
      "Cross-validation scores: [0.90625    0.9375     0.96875    0.9375     0.96774194]\n",
      "Accuracy: 0.8888888888888888\n"
     ]
    }
   ],
   "source": [
    "import numpy as np\n",
    "from sklearn.model_selection import cross_val_score\n",
    "from sklearn.ensemble import RandomForestClassifier\n",
    "from sklearn.metrics import accuracy_score\n",
    "\n",
    "# Train the Random Forest Classifier with regularization\n",
    "clf = RandomForestClassifier()\n",
    "\n",
    "# Train the classifier\n",
    "clf.fit(X_train, Y_train)\n",
    "\n",
    "# Cross-validation\n",
    "scores = cross_val_score(clf, X_train, Y_train, cv=5)\n",
    "print(f\"Cross-validation scores: {scores}\")\n",
    "\n",
    "# Predict the labels of the test data\n",
    "y_pred = clf.predict(X_test)\n",
    "\n",
    "# Calculate the accuracy of the classifier\n",
    "accuracy = accuracy_score(Y_test, y_pred)\n",
    "print(f'Accuracy: {accuracy}')"
   ],
   "metadata": {
    "collapsed": false,
    "ExecuteTime": {
     "end_time": "2024-04-01T13:13:14.998696Z",
     "start_time": "2024-04-01T13:13:14.695995Z"
    }
   },
   "execution_count": 118
  },
  {
   "cell_type": "markdown",
   "source": [
    "## Get the Feature Importances"
   ],
   "metadata": {
    "collapsed": false
   }
  },
  {
   "cell_type": "code",
   "outputs": [
    {
     "data": {
      "text/plain": "                  feature  importance\n6    satellite_cn0_median    0.166387\n4       satellite_cn0_max    0.161272\n9     satellite_cn0_range    0.143178\n5      satellite_cn0_mean    0.105602\n2       nrSatellitesInFix    0.098595\n7      satellite_cn0_mode    0.092267\n8       satellite_cn0_std    0.057459\n3       satellite_cn0_min    0.039255\n20       wifi_rssi_median    0.027629\n0            cellStrength    0.018634\n17          wifi_rssi_min    0.013603\n19         wifi_rssi_mean    0.013528\n12    bluetooth_rssi_mean    0.012245\n1      nrSatellitesInView    0.012162\n13  bluetooth_rssi_median    0.011694\n18          wifi_rssi_max    0.005897\n21         wifi_rssi_mode    0.004612\n22        wifi_rssi_range    0.004283\n14    bluetooth_rssi_mode    0.003563\n10     bluetooth_rssi_min    0.003098\n15     bluetooth_rssi_std    0.002559\n11     bluetooth_rssi_max    0.001289\n16   bluetooth_rssi_range    0.001188",
      "text/html": "<div>\n<style scoped>\n    .dataframe tbody tr th:only-of-type {\n        vertical-align: middle;\n    }\n\n    .dataframe tbody tr th {\n        vertical-align: top;\n    }\n\n    .dataframe thead th {\n        text-align: right;\n    }\n</style>\n<table border=\"1\" class=\"dataframe\">\n  <thead>\n    <tr style=\"text-align: right;\">\n      <th></th>\n      <th>feature</th>\n      <th>importance</th>\n    </tr>\n  </thead>\n  <tbody>\n    <tr>\n      <th>6</th>\n      <td>satellite_cn0_median</td>\n      <td>0.166387</td>\n    </tr>\n    <tr>\n      <th>4</th>\n      <td>satellite_cn0_max</td>\n      <td>0.161272</td>\n    </tr>\n    <tr>\n      <th>9</th>\n      <td>satellite_cn0_range</td>\n      <td>0.143178</td>\n    </tr>\n    <tr>\n      <th>5</th>\n      <td>satellite_cn0_mean</td>\n      <td>0.105602</td>\n    </tr>\n    <tr>\n      <th>2</th>\n      <td>nrSatellitesInFix</td>\n      <td>0.098595</td>\n    </tr>\n    <tr>\n      <th>7</th>\n      <td>satellite_cn0_mode</td>\n      <td>0.092267</td>\n    </tr>\n    <tr>\n      <th>8</th>\n      <td>satellite_cn0_std</td>\n      <td>0.057459</td>\n    </tr>\n    <tr>\n      <th>3</th>\n      <td>satellite_cn0_min</td>\n      <td>0.039255</td>\n    </tr>\n    <tr>\n      <th>20</th>\n      <td>wifi_rssi_median</td>\n      <td>0.027629</td>\n    </tr>\n    <tr>\n      <th>0</th>\n      <td>cellStrength</td>\n      <td>0.018634</td>\n    </tr>\n    <tr>\n      <th>17</th>\n      <td>wifi_rssi_min</td>\n      <td>0.013603</td>\n    </tr>\n    <tr>\n      <th>19</th>\n      <td>wifi_rssi_mean</td>\n      <td>0.013528</td>\n    </tr>\n    <tr>\n      <th>12</th>\n      <td>bluetooth_rssi_mean</td>\n      <td>0.012245</td>\n    </tr>\n    <tr>\n      <th>1</th>\n      <td>nrSatellitesInView</td>\n      <td>0.012162</td>\n    </tr>\n    <tr>\n      <th>13</th>\n      <td>bluetooth_rssi_median</td>\n      <td>0.011694</td>\n    </tr>\n    <tr>\n      <th>18</th>\n      <td>wifi_rssi_max</td>\n      <td>0.005897</td>\n    </tr>\n    <tr>\n      <th>21</th>\n      <td>wifi_rssi_mode</td>\n      <td>0.004612</td>\n    </tr>\n    <tr>\n      <th>22</th>\n      <td>wifi_rssi_range</td>\n      <td>0.004283</td>\n    </tr>\n    <tr>\n      <th>14</th>\n      <td>bluetooth_rssi_mode</td>\n      <td>0.003563</td>\n    </tr>\n    <tr>\n      <th>10</th>\n      <td>bluetooth_rssi_min</td>\n      <td>0.003098</td>\n    </tr>\n    <tr>\n      <th>15</th>\n      <td>bluetooth_rssi_std</td>\n      <td>0.002559</td>\n    </tr>\n    <tr>\n      <th>11</th>\n      <td>bluetooth_rssi_max</td>\n      <td>0.001289</td>\n    </tr>\n    <tr>\n      <th>16</th>\n      <td>bluetooth_rssi_range</td>\n      <td>0.001188</td>\n    </tr>\n  </tbody>\n</table>\n</div>"
     },
     "execution_count": 119,
     "metadata": {},
     "output_type": "execute_result"
    }
   ],
   "source": [
    "# Print feature importances of the selected features\n",
    "feature_importances = clf.feature_importances_\n",
    "feature_importances = pd.DataFrame({'feature': X.columns, 'importance': feature_importances})\n",
    "feature_importances = feature_importances.sort_values(by='importance', ascending=False)\n",
    "feature_importances"
   ],
   "metadata": {
    "collapsed": false,
    "ExecuteTime": {
     "end_time": "2024-04-01T13:13:15.008167Z",
     "start_time": "2024-04-01T13:13:15.000166Z"
    }
   },
   "execution_count": 119
  },
  {
   "cell_type": "markdown",
   "source": [
    "## Save the model and tryout the model with new data"
   ],
   "metadata": {
    "collapsed": false
   }
  },
  {
   "cell_type": "markdown",
   "source": [],
   "metadata": {
    "collapsed": false
   }
  },
  {
   "cell_type": "code",
   "outputs": [
    {
     "name": "stdout",
     "output_type": "stream",
     "text": [
      "Saved model to ../Daten/random_forest_classifier.joblib\n"
     ]
    }
   ],
   "source": [
    "import joblib\n",
    "\n",
    "# Save the model\n",
    "model_path = '../Daten/random_forest_classifier.joblib'\n",
    "joblib.dump(clf, model_path)\n",
    "print(f'Saved model to {model_path}')"
   ],
   "metadata": {
    "collapsed": false,
    "ExecuteTime": {
     "end_time": "2024-04-01T13:13:15.029895Z",
     "start_time": "2024-04-01T13:13:15.008848Z"
    }
   },
   "execution_count": 120
  },
  {
   "cell_type": "markdown",
   "source": [
    "# Create a bagging classifier, run the Random Forest Classifier with different random states and average the results"
   ],
   "metadata": {
    "collapsed": false
   }
  },
  {
   "cell_type": "code",
   "outputs": [
    {
     "name": "stdout",
     "output_type": "stream",
     "text": [
      "Accuracy: 0.8888888888888888\n",
      "Saved model to ../Daten/bagging_classifier.joblib\n"
     ]
    }
   ],
   "source": [
    "from sklearn.ensemble import BaggingClassifier, RandomForestClassifier\n",
    "# Define the base classifier\n",
    "base_cls = RandomForestClassifier(n_estimators=100)\n",
    "# Instantiate the BaggingClassifier\n",
    "bagging_cls = BaggingClassifier(estimator=base_cls, n_estimators=10)\n",
    "# Train the BaggingClassifier\n",
    "bagging_cls.fit(X_train, Y_train)\n",
    "# Predict and evaluate as usual\n",
    "y_pred = bagging_cls.predict(X_test)\n",
    "accuracy = accuracy_score(Y_test, y_pred)\n",
    "print(f'Accuracy: {accuracy}')\n",
    "\n",
    "# Save the model\n",
    "model_path = '../Daten/bagging_classifier.joblib'\n",
    "joblib.dump(bagging_cls, model_path)\n",
    "print(f'Saved model to {model_path}')\n"
   ],
   "metadata": {
    "collapsed": false,
    "ExecuteTime": {
     "end_time": "2024-04-01T13:13:15.959124Z",
     "start_time": "2024-04-01T13:13:15.030525Z"
    }
   },
   "execution_count": 121
  },
  {
   "cell_type": "markdown",
   "source": [
    "# Test the model with new data in validation folder in this notebook"
   ],
   "metadata": {
    "collapsed": false
   }
  },
  {
   "cell_type": "code",
   "outputs": [
    {
     "name": "stdout",
     "output_type": "stream",
     "text": [
      "Label: Indoor, Prediction: Outdoor, Description: Nähe Fenster, People: viel,  Probability: [0.33 0.67], File: Indoor_2024-03-29 13_41_40.csv\n"
     ]
    }
   ],
   "source": [
    "validation_files_directory = '../Daten/validation/'\n",
    "validation_averaged_path = '../Daten/validation_averaged_data.csv'\n",
    "model_path = '../Daten/random_forest_classifier.joblib'\n",
    "\n",
    "# Load the model\n",
    "model = joblib.load(model_path)\n",
    "\n",
    "validation_averaged_data = pd.DataFrame()\n",
    "validation_description = pd.DataFrame()\n",
    "validation_files = [file for file in os.listdir(validation_files_directory) if file.endswith('.csv')]\n",
    "\n",
    "for file in validation_files:\n",
    "    df = pd.read_csv(validation_files_directory + file, sep=';')\n",
    "    locationDescription = df['locationDescription'][0]\n",
    "    locationPeople = df['people'][0]\n",
    "    \n",
    "    validation_description = pd.concat([validation_description, pd.DataFrame({'locationDescription': [locationDescription], 'people': [locationPeople], 'file': [file]})], ignore_index=True)\n",
    "\n",
    "    validation_averaged_data = preprocess_data(validation_averaged_data, validation_files_directory, file)\n",
    "\n",
    "# Predict the labels of the validation data\n",
    "validation_predictions = model.predict(validation_averaged_data.drop(columns=['label']))\n",
    "validation_probabilities = model.predict_proba(validation_averaged_data.drop(columns=['label']))\n",
    "\n",
    "#print label and the corresponding prediction\n",
    "for label, description, people, prediction, probability, file in zip(validation_averaged_data['label'], validation_description['locationDescription'], validation_description['people'], validation_predictions, validation_probabilities, validation_description['file']):\n",
    "    if label != prediction:\n",
    "        print(f'Label: {label}, Prediction: {prediction}, Description: {description}, People: {people},  Probability: {probability}, File: {file}')\n",
    "   "
   ],
   "metadata": {
    "collapsed": false,
    "ExecuteTime": {
     "end_time": "2024-04-01T13:13:16.550853Z",
     "start_time": "2024-04-01T13:13:15.964587Z"
    }
   },
   "execution_count": 122
  },
  {
   "cell_type": "markdown",
   "source": [
    "# Test validation files with bagging classifier"
   ],
   "metadata": {
    "collapsed": false
   }
  },
  {
   "cell_type": "code",
   "outputs": [
    {
     "name": "stdout",
     "output_type": "stream",
     "text": [
      "Label: Indoor, Prediction: Outdoor, Description: Nähe Fenster, People: viel, Probability: [0.38 0.62], File: Indoor_2024-03-29 13_41_40.csv\n"
     ]
    }
   ],
   "source": [
    "validation_files_directory = '../Daten/validation/'\n",
    "validation_averaged_path = '../Daten/validation_averaged_data.csv'\n",
    "model_path = '../Daten/bagging_classifier.joblib'\n",
    "\n",
    "# Load the model\n",
    "model = joblib.load(model_path)\n",
    "\n",
    "validation_averaged_data = pd.DataFrame()\n",
    "validation_description = pd.DataFrame()\n",
    "validation_files = [file for file in os.listdir(validation_files_directory) if file.endswith('.csv')]\n",
    "\n",
    "for file in validation_files:\n",
    "    df = pd.read_csv(validation_files_directory + file, sep=';')\n",
    "    locationDescription = df['locationDescription'][0]\n",
    "    locationPeople = df['people'][0]\n",
    "    \n",
    "    validation_description = pd.concat([validation_description, pd.DataFrame({'locationDescription': [locationDescription], 'people': [locationPeople], 'file': [file]})], ignore_index=True)\n",
    "\n",
    "    validation_averaged_data = preprocess_data(validation_averaged_data, validation_files_directory, file)\n",
    "\n",
    "# Predict the labels of the validation data\n",
    "validation_predictions = model.predict(validation_averaged_data.drop(columns=['label']))\n",
    "validation_probabilities = model.predict_proba(validation_averaged_data.drop(columns=['label']))\n",
    "\n",
    "#print label and the corresponding prediction\n",
    "for label, description, people, prediction, probability, file in zip(validation_averaged_data['label'], validation_description['locationDescription'], validation_description['people'], validation_predictions, validation_probabilities, validation_description['file']):\n",
    "    if label != prediction:\n",
    "        print(f'Label: {label}, Prediction: {prediction}, Description: {description}, People: {people}, Probability: {probability}, File: {file}')\n",
    "        "
   ],
   "metadata": {
    "collapsed": false,
    "ExecuteTime": {
     "end_time": "2024-04-01T13:13:17.272512Z",
     "start_time": "2024-04-01T13:13:16.551632Z"
    }
   },
   "execution_count": 123
  },
  {
   "cell_type": "markdown",
   "source": [
    "## Setup LSTM Model"
   ],
   "metadata": {
    "collapsed": false
   }
  },
  {
   "cell_type": "code",
   "outputs": [
    {
     "name": "stdout",
     "output_type": "stream",
     "text": [
      "Model: \"sequential_10\"\n",
      "_________________________________________________________________\n",
      " Layer (type)                Output Shape              Param #   \n",
      "=================================================================\n",
      " lstm_30 (LSTM)              (None, 23, 128)           66560     \n",
      "                                                                 \n",
      " dropout_40 (Dropout)        (None, 23, 128)           0         \n",
      "                                                                 \n",
      " lstm_31 (LSTM)              (None, 23, 128)           131584    \n",
      "                                                                 \n",
      " dropout_41 (Dropout)        (None, 23, 128)           0         \n",
      "                                                                 \n",
      " lstm_32 (LSTM)              (None, 128)               131584    \n",
      "                                                                 \n",
      " dropout_42 (Dropout)        (None, 128)               0         \n",
      "                                                                 \n",
      " dense_20 (Dense)            (None, 32)                4128      \n",
      "                                                                 \n",
      " dropout_43 (Dropout)        (None, 32)                0         \n",
      "                                                                 \n",
      " dense_21 (Dense)            (None, 2)                 66        \n",
      "                                                                 \n",
      "=================================================================\n",
      "Total params: 333,922\n",
      "Trainable params: 333,922\n",
      "Non-trainable params: 0\n",
      "_________________________________________________________________\n",
      "Epoch 1/10\n",
      "5/5 [==============================] - 3s 126ms/step - loss: 0.6711 - accuracy: 0.5849 - val_loss: 0.6000 - val_accuracy: 0.5556\n",
      "Epoch 2/10\n",
      "5/5 [==============================] - 0s 42ms/step - loss: 0.5366 - accuracy: 0.7107 - val_loss: 0.4469 - val_accuracy: 0.9444\n",
      "Epoch 3/10\n",
      "5/5 [==============================] - 0s 41ms/step - loss: 0.3230 - accuracy: 0.8491 - val_loss: 0.2432 - val_accuracy: 0.9444\n",
      "Epoch 4/10\n",
      "5/5 [==============================] - 0s 42ms/step - loss: 0.2328 - accuracy: 0.9119 - val_loss: 0.7015 - val_accuracy: 0.7778\n",
      "Epoch 5/10\n",
      "5/5 [==============================] - 0s 42ms/step - loss: 0.2501 - accuracy: 0.8994 - val_loss: 0.2266 - val_accuracy: 0.8889\n",
      "Epoch 6/10\n",
      "5/5 [==============================] - 0s 41ms/step - loss: 0.1972 - accuracy: 0.9434 - val_loss: 0.2323 - val_accuracy: 0.8333\n",
      "Epoch 7/10\n",
      "5/5 [==============================] - 0s 40ms/step - loss: 0.1968 - accuracy: 0.9308 - val_loss: 0.2243 - val_accuracy: 0.8889\n",
      "Epoch 8/10\n",
      "5/5 [==============================] - 0s 40ms/step - loss: 0.2794 - accuracy: 0.8931 - val_loss: 0.2615 - val_accuracy: 0.8333\n",
      "Epoch 9/10\n",
      "5/5 [==============================] - 0s 41ms/step - loss: 0.2131 - accuracy: 0.9057 - val_loss: 0.2305 - val_accuracy: 0.9444\n",
      "Epoch 10/10\n",
      "5/5 [==============================] - 0s 42ms/step - loss: 0.1674 - accuracy: 0.9434 - val_loss: 0.2221 - val_accuracy: 0.8333\n",
      "1/1 [==============================] - 0s 16ms/step - loss: 0.2221 - accuracy: 0.8333\n",
      "Accuracy: 0.8333333134651184\n"
     ]
    }
   ],
   "source": [
    "import tensorflow as tf\n",
    "from tensorflow.keras.models import Sequential\n",
    "from tensorflow.keras.layers import LSTM, Dense, Dropout\n",
    "from tensorflow.keras.optimizers import Adam\n",
    "\n",
    "# Define the LSTM model\n",
    "model = Sequential()\n",
    "\n",
    "model.add(LSTM(128, input_shape=(X_train.shape[1], 1), return_sequences=True))\n",
    "model.add(Dropout(0.2))\n",
    "\n",
    "model.add(LSTM(128, return_sequences=True))\n",
    "model.add(Dropout(0.2))\n",
    "\n",
    "model.add(LSTM(128))\n",
    "model.add(Dropout(0.2))\n",
    "\n",
    "model.add(Dense(32, activation='relu'))\n",
    "model.add(Dropout(0.2))\n",
    "\n",
    "model.add(Dense(2, activation='softmax'))\n",
    "\n",
    "# Compile the model\n",
    "model.compile(optimizer=Adam(learning_rate=0.001), loss='sparse_categorical_crossentropy', metrics=['accuracy'])\n",
    "\n",
    "model.summary()\n",
    "\n",
    "#convert all columns to float except the label column\n",
    "X_train = X_train.astype(float)\n",
    "Y_train = Y_train.map({'Indoor': 0, 'Outdoor': 1})\n",
    "Y_train = Y_train.astype(float)\n",
    "\n",
    "X_test = X_test.astype(float)\n",
    "Y_test = Y_test.map({'Indoor': 0, 'Outdoor': 1})\n",
    "Y_train = Y_train.astype(float)\n",
    "\n",
    "#print accuracy of the model with the averaged data\n",
    "X_train = np.array(X_train)\n",
    "X_train = np.reshape(X_train, (X_train.shape[0], X_train.shape[1], 1))\n",
    "\n",
    "X_test = np.array(X_test)\n",
    "X_test = np.reshape(X_test, (X_test.shape[0], X_test.shape[1], 1))\n",
    "\n",
    "model.fit(X_train, Y_train, epochs=10, validation_data=(X_test, Y_test), batch_size=32)\n",
    "\n",
    "print(f'Accuracy: {model.evaluate(X_test, Y_test)[1]}')\n",
    "\n"
   ],
   "metadata": {
    "collapsed": false,
    "ExecuteTime": {
     "end_time": "2024-04-01T13:13:22.117351Z",
     "start_time": "2024-04-01T13:13:17.273349Z"
    }
   },
   "execution_count": 124
  },
  {
   "cell_type": "markdown",
   "source": [],
   "metadata": {
    "collapsed": false
   }
  },
  {
   "cell_type": "markdown",
   "source": [
    "## Validate the LSTM Model"
   ],
   "metadata": {
    "collapsed": false
   }
  },
  {
   "cell_type": "code",
   "outputs": [
    {
     "name": "stdout",
     "output_type": "stream",
     "text": [
      "1/1 [==============================] - 0s 351ms/step\n",
      "Label: 0.0, Probability: [0.1663937 0.8336063],  Description: Nähe Fenster, People: viel\n"
     ]
    }
   ],
   "source": [
    "#map the label column to 0 and 1\n",
    "validation_averaged_data['label'] = validation_averaged_data['label'].map({'Indoor': 0, 'Outdoor': 1})\n",
    "\n",
    "#convert all columns to float except the label column\n",
    "validation_averaged_data = validation_averaged_data.astype(float)\n",
    "\n",
    "X_validation = validation_averaged_data.drop(columns=['label'])\n",
    "Y_validation = validation_averaged_data['label']\n",
    "\n",
    "X_validation = np.array(X_validation)\n",
    "X_validation = np.reshape(X_validation, (X_validation.shape[0], X_validation.shape[1], 1))\n",
    "\n",
    "Y_validation = Y_validation.astype(float)\n",
    "\n",
    "#predict the labels of the validation data for each data point\n",
    "validation_predictions = model.predict(X_validation)\n",
    "\n",
    "#print label and the corresponding prediction\n",
    "for label, description, people, prediction in zip(validation_averaged_data['label'], validation_description['locationDescription'], validation_description['people'], validation_predictions):\n",
    "    if label != np.argmax(prediction):\n",
    "        print(f'Label: {label}, Probability: {prediction},  Description: {description}, People: {people}')"
   ],
   "metadata": {
    "collapsed": false,
    "ExecuteTime": {
     "end_time": "2024-04-01T13:13:22.488566Z",
     "start_time": "2024-04-01T13:13:22.119587Z"
    }
   },
   "execution_count": 125
  },
  {
   "cell_type": "markdown",
   "source": [],
   "metadata": {
    "collapsed": false
   }
  }
 ],
 "metadata": {
  "kernelspec": {
   "display_name": "Python 3",
   "language": "python",
   "name": "python3"
  },
  "language_info": {
   "name": "python",
   "version": "3.12.0"
  }
 },
 "nbformat": 4,
 "nbformat_minor": 2
}
