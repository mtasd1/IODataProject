{
 "cells": [
  {
   "cell_type": "markdown",
   "source": [
    "# Data Preprocessing, Averaging over all csv-files and Saving the averaged data into new csv-file"
   ],
   "metadata": {
    "collapsed": false
   }
  },
  {
   "cell_type": "code",
   "execution_count": 26,
   "metadata": {
    "ExecuteTime": {
     "end_time": "2024-04-01T12:03:38.623790Z",
     "start_time": "2024-04-01T12:03:32.247665Z"
    }
   },
   "outputs": [
    {
     "name": "stdout",
     "output_type": "stream",
     "text": [
      "Found 174 CSV files\n",
      "Found 96 indoor files and 78 outdoor files\n"
     ]
    },
    {
     "data": {
      "text/plain": "       label  cellStrength  nrSatellitesInView  nrSatellitesInFix  \\\n0     Indoor      3.000000           43.500000           0.000000   \n119   Indoor      3.913043           37.000000           0.000000   \n118   Indoor      3.739130           43.478261           4.739130   \n117   Indoor      3.413793           47.965517          14.551724   \n115   Indoor      1.473684           46.868421          24.631579   \n..       ...           ...                 ...                ...   \n100  Outdoor      3.285714           45.000000          25.476190   \n98   Outdoor      4.000000           51.000000          30.458333   \n97   Outdoor      3.000000           55.692308          23.846154   \n95   Outdoor      4.000000           52.000000          30.920000   \n173  Outdoor      4.000000           44.444444          24.814815   \n\n     satellite_cn0_min  satellite_cn0_max  satellite_cn0_mean  \\\n0             0.000000           0.000000            0.000000   \n119           0.000000           0.000000            0.000000   \n118           4.139130           5.182609            4.578923   \n117          16.444828          32.248276           23.493151   \n115          16.278947          44.102632           26.469973   \n..                 ...                ...                 ...   \n100          17.385714          43.690476           27.899786   \n98           20.216667          45.758333           33.752564   \n97           18.296154          41.330769           30.886022   \n95           18.628000          46.428000           34.935632   \n173          18.959259          45.300000           32.512867   \n\n     satellite_cn0_median  satellite_cn0_mode  satellite_cn0_std  ...  \\\n0                0.000000            0.000000           0.000000  ...   \n119              0.000000            0.000000           0.000000  ...   \n118              4.450000            4.139130           0.414395  ...   \n117             22.948276           18.851724           4.684899  ...   \n115             24.807895           22.247368           7.521006  ...   \n..                    ...                 ...                ...  ...   \n100             27.269048           25.104762           6.844320  ...   \n98              33.972917           31.233333           6.260535  ...   \n97              31.817308           25.180769           7.092339  ...   \n95              35.710000           33.048000           7.279229  ...   \n173             32.429630           25.722222           7.404556  ...   \n\n     bluetooth_rssi_median  bluetooth_rssi_mode  bluetooth_rssi_std  \\\n0               -91.750000           -98.090909           23.236532   \n119             -86.500000           -91.608696           12.470589   \n118             -89.260870           -90.521739            9.234602   \n117             -87.137931           -95.965517           12.347439   \n115             -74.092105           -81.105263           13.895173   \n..                     ...                  ...                 ...   \n100             -90.547619           -91.904762           14.953090   \n98              -91.479167           -93.000000           16.794869   \n97              -95.384615           -96.923077           11.538678   \n95              -92.480000           -93.000000           11.675512   \n173             -90.018519           -88.851852           11.139669   \n\n     bluetooth_rssi_range  wifi_rssi_min  wifi_rssi_max  wifi_rssi_mean  \\\n0               57.090909     -88.818182     -46.090909      -71.632172   \n119             54.000000     -91.000000     -75.000000      -81.315789   \n118             28.913043     -90.000000     -70.000000      -80.428571   \n117             48.379310     -86.965517     -65.344828      -76.452065   \n115             40.500000     -86.789474     -64.000000      -73.657895   \n..                    ...            ...            ...             ...   \n100             45.000000     -88.000000     -73.000000      -83.461538   \n98              57.000000     -93.916667     -73.583333      -85.896465   \n97              36.461538     -90.192308     -80.538462      -85.980769   \n95              59.520000     -94.800000     -59.600000      -83.379705   \n173             36.000000     -70.407407     -55.851852      -65.012346   \n\n     wifi_rssi_median  wifi_rssi_mode  wifi_rssi_range  \n0          -73.727273      -88.818182        42.727273  \n119        -81.000000      -82.000000        16.000000  \n118        -82.500000      -86.000000        20.000000  \n117        -74.965517      -85.482759        21.620690  \n115        -71.210526      -82.526316        22.789474  \n..                ...             ...              ...  \n100        -85.000000      -87.000000        15.000000  \n98         -87.000000      -93.250000        20.333333  \n97         -86.596154      -89.884615         9.653846  \n95         -85.460000      -91.320000        35.200000  \n173        -66.222222      -69.481481        14.555556  \n\n[174 rows x 24 columns]",
      "text/html": "<div>\n<style scoped>\n    .dataframe tbody tr th:only-of-type {\n        vertical-align: middle;\n    }\n\n    .dataframe tbody tr th {\n        vertical-align: top;\n    }\n\n    .dataframe thead th {\n        text-align: right;\n    }\n</style>\n<table border=\"1\" class=\"dataframe\">\n  <thead>\n    <tr style=\"text-align: right;\">\n      <th></th>\n      <th>label</th>\n      <th>cellStrength</th>\n      <th>nrSatellitesInView</th>\n      <th>nrSatellitesInFix</th>\n      <th>satellite_cn0_min</th>\n      <th>satellite_cn0_max</th>\n      <th>satellite_cn0_mean</th>\n      <th>satellite_cn0_median</th>\n      <th>satellite_cn0_mode</th>\n      <th>satellite_cn0_std</th>\n      <th>...</th>\n      <th>bluetooth_rssi_median</th>\n      <th>bluetooth_rssi_mode</th>\n      <th>bluetooth_rssi_std</th>\n      <th>bluetooth_rssi_range</th>\n      <th>wifi_rssi_min</th>\n      <th>wifi_rssi_max</th>\n      <th>wifi_rssi_mean</th>\n      <th>wifi_rssi_median</th>\n      <th>wifi_rssi_mode</th>\n      <th>wifi_rssi_range</th>\n    </tr>\n  </thead>\n  <tbody>\n    <tr>\n      <th>0</th>\n      <td>Indoor</td>\n      <td>3.000000</td>\n      <td>43.500000</td>\n      <td>0.000000</td>\n      <td>0.000000</td>\n      <td>0.000000</td>\n      <td>0.000000</td>\n      <td>0.000000</td>\n      <td>0.000000</td>\n      <td>0.000000</td>\n      <td>...</td>\n      <td>-91.750000</td>\n      <td>-98.090909</td>\n      <td>23.236532</td>\n      <td>57.090909</td>\n      <td>-88.818182</td>\n      <td>-46.090909</td>\n      <td>-71.632172</td>\n      <td>-73.727273</td>\n      <td>-88.818182</td>\n      <td>42.727273</td>\n    </tr>\n    <tr>\n      <th>119</th>\n      <td>Indoor</td>\n      <td>3.913043</td>\n      <td>37.000000</td>\n      <td>0.000000</td>\n      <td>0.000000</td>\n      <td>0.000000</td>\n      <td>0.000000</td>\n      <td>0.000000</td>\n      <td>0.000000</td>\n      <td>0.000000</td>\n      <td>...</td>\n      <td>-86.500000</td>\n      <td>-91.608696</td>\n      <td>12.470589</td>\n      <td>54.000000</td>\n      <td>-91.000000</td>\n      <td>-75.000000</td>\n      <td>-81.315789</td>\n      <td>-81.000000</td>\n      <td>-82.000000</td>\n      <td>16.000000</td>\n    </tr>\n    <tr>\n      <th>118</th>\n      <td>Indoor</td>\n      <td>3.739130</td>\n      <td>43.478261</td>\n      <td>4.739130</td>\n      <td>4.139130</td>\n      <td>5.182609</td>\n      <td>4.578923</td>\n      <td>4.450000</td>\n      <td>4.139130</td>\n      <td>0.414395</td>\n      <td>...</td>\n      <td>-89.260870</td>\n      <td>-90.521739</td>\n      <td>9.234602</td>\n      <td>28.913043</td>\n      <td>-90.000000</td>\n      <td>-70.000000</td>\n      <td>-80.428571</td>\n      <td>-82.500000</td>\n      <td>-86.000000</td>\n      <td>20.000000</td>\n    </tr>\n    <tr>\n      <th>117</th>\n      <td>Indoor</td>\n      <td>3.413793</td>\n      <td>47.965517</td>\n      <td>14.551724</td>\n      <td>16.444828</td>\n      <td>32.248276</td>\n      <td>23.493151</td>\n      <td>22.948276</td>\n      <td>18.851724</td>\n      <td>4.684899</td>\n      <td>...</td>\n      <td>-87.137931</td>\n      <td>-95.965517</td>\n      <td>12.347439</td>\n      <td>48.379310</td>\n      <td>-86.965517</td>\n      <td>-65.344828</td>\n      <td>-76.452065</td>\n      <td>-74.965517</td>\n      <td>-85.482759</td>\n      <td>21.620690</td>\n    </tr>\n    <tr>\n      <th>115</th>\n      <td>Indoor</td>\n      <td>1.473684</td>\n      <td>46.868421</td>\n      <td>24.631579</td>\n      <td>16.278947</td>\n      <td>44.102632</td>\n      <td>26.469973</td>\n      <td>24.807895</td>\n      <td>22.247368</td>\n      <td>7.521006</td>\n      <td>...</td>\n      <td>-74.092105</td>\n      <td>-81.105263</td>\n      <td>13.895173</td>\n      <td>40.500000</td>\n      <td>-86.789474</td>\n      <td>-64.000000</td>\n      <td>-73.657895</td>\n      <td>-71.210526</td>\n      <td>-82.526316</td>\n      <td>22.789474</td>\n    </tr>\n    <tr>\n      <th>...</th>\n      <td>...</td>\n      <td>...</td>\n      <td>...</td>\n      <td>...</td>\n      <td>...</td>\n      <td>...</td>\n      <td>...</td>\n      <td>...</td>\n      <td>...</td>\n      <td>...</td>\n      <td>...</td>\n      <td>...</td>\n      <td>...</td>\n      <td>...</td>\n      <td>...</td>\n      <td>...</td>\n      <td>...</td>\n      <td>...</td>\n      <td>...</td>\n      <td>...</td>\n      <td>...</td>\n    </tr>\n    <tr>\n      <th>100</th>\n      <td>Outdoor</td>\n      <td>3.285714</td>\n      <td>45.000000</td>\n      <td>25.476190</td>\n      <td>17.385714</td>\n      <td>43.690476</td>\n      <td>27.899786</td>\n      <td>27.269048</td>\n      <td>25.104762</td>\n      <td>6.844320</td>\n      <td>...</td>\n      <td>-90.547619</td>\n      <td>-91.904762</td>\n      <td>14.953090</td>\n      <td>45.000000</td>\n      <td>-88.000000</td>\n      <td>-73.000000</td>\n      <td>-83.461538</td>\n      <td>-85.000000</td>\n      <td>-87.000000</td>\n      <td>15.000000</td>\n    </tr>\n    <tr>\n      <th>98</th>\n      <td>Outdoor</td>\n      <td>4.000000</td>\n      <td>51.000000</td>\n      <td>30.458333</td>\n      <td>20.216667</td>\n      <td>45.758333</td>\n      <td>33.752564</td>\n      <td>33.972917</td>\n      <td>31.233333</td>\n      <td>6.260535</td>\n      <td>...</td>\n      <td>-91.479167</td>\n      <td>-93.000000</td>\n      <td>16.794869</td>\n      <td>57.000000</td>\n      <td>-93.916667</td>\n      <td>-73.583333</td>\n      <td>-85.896465</td>\n      <td>-87.000000</td>\n      <td>-93.250000</td>\n      <td>20.333333</td>\n    </tr>\n    <tr>\n      <th>97</th>\n      <td>Outdoor</td>\n      <td>3.000000</td>\n      <td>55.692308</td>\n      <td>23.846154</td>\n      <td>18.296154</td>\n      <td>41.330769</td>\n      <td>30.886022</td>\n      <td>31.817308</td>\n      <td>25.180769</td>\n      <td>7.092339</td>\n      <td>...</td>\n      <td>-95.384615</td>\n      <td>-96.923077</td>\n      <td>11.538678</td>\n      <td>36.461538</td>\n      <td>-90.192308</td>\n      <td>-80.538462</td>\n      <td>-85.980769</td>\n      <td>-86.596154</td>\n      <td>-89.884615</td>\n      <td>9.653846</td>\n    </tr>\n    <tr>\n      <th>95</th>\n      <td>Outdoor</td>\n      <td>4.000000</td>\n      <td>52.000000</td>\n      <td>30.920000</td>\n      <td>18.628000</td>\n      <td>46.428000</td>\n      <td>34.935632</td>\n      <td>35.710000</td>\n      <td>33.048000</td>\n      <td>7.279229</td>\n      <td>...</td>\n      <td>-92.480000</td>\n      <td>-93.000000</td>\n      <td>11.675512</td>\n      <td>59.520000</td>\n      <td>-94.800000</td>\n      <td>-59.600000</td>\n      <td>-83.379705</td>\n      <td>-85.460000</td>\n      <td>-91.320000</td>\n      <td>35.200000</td>\n    </tr>\n    <tr>\n      <th>173</th>\n      <td>Outdoor</td>\n      <td>4.000000</td>\n      <td>44.444444</td>\n      <td>24.814815</td>\n      <td>18.959259</td>\n      <td>45.300000</td>\n      <td>32.512867</td>\n      <td>32.429630</td>\n      <td>25.722222</td>\n      <td>7.404556</td>\n      <td>...</td>\n      <td>-90.018519</td>\n      <td>-88.851852</td>\n      <td>11.139669</td>\n      <td>36.000000</td>\n      <td>-70.407407</td>\n      <td>-55.851852</td>\n      <td>-65.012346</td>\n      <td>-66.222222</td>\n      <td>-69.481481</td>\n      <td>14.555556</td>\n    </tr>\n  </tbody>\n</table>\n<p>174 rows × 24 columns</p>\n</div>"
     },
     "execution_count": 26,
     "metadata": {},
     "output_type": "execute_result"
    }
   ],
   "source": [
    "import os\n",
    "import pandas as pd\n",
    "import json \n",
    "from collections import Counter\n",
    "\n",
    "# extract the code into a function called preprocess_data so that we can use it later for new data\n",
    "def preprocess_data(averaged_df, directory, file):\n",
    "    df = pd.read_csv(directory + file, sep=';')\n",
    "    \n",
    "    # Drop unnecessary and outdated columns\n",
    "    deleted_columns = ['timeStampNetwork', 'timeStampGPS', 'locationDescription', 'people', 'latitudeGPS', 'longitudeGPS', 'latitudeNetwork', 'longitudeNetwork', 'minCn0GPS', 'maxCn0GPS', 'meanCn0GPS', 'minCn0Bluetooth', 'maxCn0Bluetooth', 'minCn0Wifi', 'maxCn0Wifi', 'meanCn0Wifi', 'bAccuracyNetwork', 'speedAccuracyNetwork', 'cellType', 'networkLocationType', 'hAccuracyNetwork', 'vAccuracyNetwork', 'speedAccuracyNetwork', 'bAccuracyNetwork', 'nrBlDevices', 'hAccuracyGPS', 'minCn0Bl', 'meanCn0Bl','maxCn0Bl', 'bAccuracyGPS', 'speedAccuracyGPS', 'vAccuracyGPS', 'nrWifiDevices']\n",
    "    df = safe_delete(df, deleted_columns)\n",
    "    \n",
    "    # Remove first x rows and reset begin index to 0\n",
    "    removedRows = 5\n",
    "    df = df.iloc[removedRows:]\n",
    "    df = df.reset_index(drop=True)\n",
    "    \n",
    "    # Load satellites json\n",
    "    df['satellites'] = df['satellites'].apply(lambda x: json.loads(x))\n",
    "    \n",
    "    # Add cn0 column for easier computation of statistics\n",
    "    df['satellite_cn0'] = df['satellites'].apply(lambda x: [sat['cn0'] for sat in x])\n",
    "    \n",
    "    # Calculate min, max, mean. median, mode, variance, standard deviation and range of the satellite cn0\n",
    "    df['satellite_cn0_min'] = df['satellite_cn0'].apply(lambda x: pd.Series(x).min() if not pd.Series(x).empty else 0)\n",
    "    df['satellite_cn0_max'] = df['satellite_cn0'].apply(lambda x: pd.Series(x).max() if not pd.Series(x).empty else 0)\n",
    "    df['satellite_cn0_mean'] = df['satellite_cn0'].apply(lambda x: pd.Series(x).mean() if not pd.Series(x).empty else 0)    \n",
    "    df['satellite_cn0_median'] = df['satellite_cn0'].apply(lambda x: pd.Series(x).median() if not pd.Series(x).empty else 0)\n",
    "    df['satellite_cn0_mode'] = df['satellite_cn0'].apply(lambda x: pd.Series(x).mode()[0] if not pd.Series(x).mode().empty else 0)\n",
    "    df['satellite_cn0_std'] = df['satellite_cn0'].apply(lambda x: pd.Series(x).std() if not pd.Series(x).empty else 0)\n",
    "    df['satellite_cn0_range'] = df['satellite_cn0'].apply(lambda x: pd.Series(x).max() - pd.Series(x).min() if not pd.Series(x).empty else 0)\n",
    "    \n",
    "    # load the bluetooth json and load rssi into a new column\n",
    "    df['bluetoothDevices'] = df['bluetoothDevices'].apply(lambda x: json.loads(x))\n",
    "    df['bluetooth_rssi'] = df['bluetoothDevices'].apply(lambda x: [device['rssi'] for device in x])\n",
    "    \n",
    "     # Calculate statistical figures for the bluetooth devices\n",
    "    df['bluetooth_rssi_min'] = df['bluetooth_rssi'].apply(lambda x: pd.Series(x).min() if not pd.Series(x).empty else 0)\n",
    "    df['bluetooth_rssi_max'] = df['bluetooth_rssi'].apply(lambda x: pd.Series(x).max() if not pd.Series(x).empty else 0)\n",
    "    df['bluetooth_rssi_mean'] = df['bluetooth_rssi'].apply(lambda x: pd.Series(x).mean() if not pd.Series(x).empty else 0)\n",
    "    df['bluetooth_rssi_median'] = df['bluetooth_rssi'].apply(lambda x: pd.Series(x).median() if not pd.Series(x).empty else 0)\n",
    "    df['bluetooth_rssi_mode'] = df['bluetooth_rssi'].apply(lambda x: pd.Series(x).mode()[0] if not pd.Series(x).mode().empty else 0)\n",
    "    df['bluetooth_rssi_std'] = df['bluetooth_rssi'].apply(lambda x: pd.Series(x).std() if not pd.Series(x).empty else 0)\n",
    "    df['bluetooth_rssi_range'] = df['bluetooth_rssi'].apply(lambda x: pd.Series(x).max() - pd.Series(x).min() if not pd.Series(x).empty else 0)\n",
    "    \n",
    "    # load the wifi json and load rssi into a new column\n",
    "    df['wifiDevices'] = df['wifiDevices'].apply(lambda x: json.loads(x))\n",
    "    df['wifi_rssi'] = df['wifiDevices'].apply(lambda x: [device['level'] for device in x])\n",
    "    \n",
    "     # Calculate statistical figures for the wifi devices\n",
    "    df['wifi_rssi_min'] = df['wifi_rssi'].apply(lambda x: pd.Series(x).min() if not pd.Series(x).empty else 0)\n",
    "    df['wifi_rssi_max'] = df['wifi_rssi'].apply(lambda x: pd.Series(x).max() if not pd.Series(x).empty else 0)\n",
    "    df['wifi_rssi_mean'] = df['wifi_rssi'].apply(lambda x: pd.Series(x).mean() if not pd.Series(x).empty else 0)\n",
    "    df['wifi_rssi_median'] = df['wifi_rssi'].apply(lambda x: pd.Series(x).median() if not pd.Series(x).empty else 0)\n",
    "    df['wifi_rssi_mode'] = df['wifi_rssi'].apply(lambda x: pd.Series(x).mode()[0] if not pd.Series(x).mode().empty else 0)\n",
    "    df['wifi_rssi_range'] = df['wifi_rssi'].apply(lambda x: pd.Series(x).max() - pd.Series(x).min() if not pd.Series(x).empty else 0)\n",
    "    \n",
    "    # Drop list columns\n",
    "    df.drop(columns=['satellites', 'bluetoothDevices', 'wifiDevices', 'satellite_cn0', 'bluetooth_rssi', 'wifi_rssi'], inplace=True)\n",
    "    \n",
    "     # Average over all columns for numeric values and take the first of non-numeric to have a single row\n",
    "    df_label = df.iloc[0]['label']\n",
    "    \n",
    "    df.drop(columns=['label'], inplace=True)\n",
    "    \n",
    "    df = df.mean().to_frame().T\n",
    "    \n",
    "    df['label'] = df_label\n",
    "    \n",
    "    #place label at the beginning\n",
    "    cols = list(df.columns)\n",
    "    cols = [cols[-1]] + cols[:-1]\n",
    "    df = df[cols]\n",
    "    \n",
    "    averaged_df = pd.concat([averaged_df, df], ignore_index=True)\n",
    "    return averaged_df\n",
    "\n",
    "def safe_delete(df, columns):\n",
    "    for column in columns:\n",
    "        if column in df.columns:\n",
    "            df = df.drop(columns=[column])\n",
    "    return df\n",
    "\n",
    "files_directory = '../Daten/firsttry/'\n",
    "averaged_path = '../Daten/averaged_data.csv'\n",
    "\n",
    "if os.path.exists(averaged_path):\n",
    "    os.remove(averaged_path)\n",
    "    print(f\"Removed {averaged_path}\")\n",
    "\n",
    "# Get list of CSV files\n",
    "csv_files = [file for file in os.listdir(files_directory) if file.endswith('.csv')]\n",
    "print(f'Found {len(csv_files)} CSV files')\n",
    "\n",
    "# Get nr of files, where name starts with indoor and outdoor\n",
    "indoor_files = [file for file in csv_files if file.startswith('Indoor')]\n",
    "outdoor_files = [file for file in csv_files if file.startswith('Outdoor')]\n",
    "print(f'Found {len(indoor_files)} indoor files and {len(outdoor_files)} outdoor files')\n",
    "\n",
    "averaged_data = pd.DataFrame()\n",
    "\n",
    "for file in csv_files:\n",
    "    averaged_data = preprocess_data(averaged_data, files_directory, file)\n",
    "\n",
    "averaged_data.sort_values(by=['label'], inplace=True)\n",
    "averaged_data"
   ]
  },
  {
   "cell_type": "markdown",
   "source": [
    "# Train the Random Forest Classifier"
   ],
   "metadata": {
    "collapsed": false
   }
  },
  {
   "cell_type": "markdown",
   "source": [
    "## Randomize and Split the Data for Random Forest Classifier"
   ],
   "metadata": {
    "collapsed": false
   }
  },
  {
   "cell_type": "code",
   "outputs": [
    {
     "name": "stdout",
     "output_type": "stream",
     "text": [
      "Training data shape: (139, 23)\n",
      "Testing data shape: (35, 23)\n"
     ]
    }
   ],
   "source": [
    "from sklearn.model_selection import train_test_split\n",
    "\n",
    "# Randomize the data\n",
    "averaged_data = averaged_data.sample(frac=1).reset_index(drop=True)\n",
    "\n",
    "# drop the label column\n",
    "X = averaged_data.drop(columns=['label'], axis=1)\n",
    "Y = averaged_data['label']\n",
    "\n",
    "# Split the data into training and testing data\n",
    "X_train, X_test, Y_train, Y_test = train_test_split(X, Y, test_size=0.2)\n",
    "\n",
    "print(f'Training data shape: {X_train.shape}')\n",
    "print(f'Testing data shape: {X_test.shape}')"
   ],
   "metadata": {
    "collapsed": false,
    "ExecuteTime": {
     "end_time": "2024-04-01T12:03:38.634470Z",
     "start_time": "2024-04-01T12:03:38.625595Z"
    }
   },
   "execution_count": 27
  },
  {
   "cell_type": "markdown",
   "source": [
    "## Train a Random Forest Classifier"
   ],
   "metadata": {
    "collapsed": false
   }
  },
  {
   "cell_type": "code",
   "outputs": [
    {
     "name": "stdout",
     "output_type": "stream",
     "text": [
      "Cross-validation scores: [0.92857143 0.96428571 0.92857143 0.89285714 0.92592593]\n",
      "Accuracy: 1.0\n"
     ]
    }
   ],
   "source": [
    "import numpy as np\n",
    "from sklearn.model_selection import cross_val_score\n",
    "from sklearn.ensemble import RandomForestClassifier\n",
    "from sklearn.metrics import accuracy_score\n",
    "\n",
    "# Train the Random Forest Classifier with regularization\n",
    "clf = RandomForestClassifier()\n",
    "\n",
    "# Train the classifier\n",
    "clf.fit(X_train, Y_train)\n",
    "\n",
    "# Cross-validation\n",
    "scores = cross_val_score(clf, X_train, Y_train, cv=5)\n",
    "print(f\"Cross-validation scores: {scores}\")\n",
    "\n",
    "# Predict the labels of the test data\n",
    "y_pred = clf.predict(X_test)\n",
    "\n",
    "# Calculate the accuracy of the classifier\n",
    "accuracy = accuracy_score(Y_test, y_pred)\n",
    "print(f'Accuracy: {accuracy}')"
   ],
   "metadata": {
    "collapsed": false,
    "ExecuteTime": {
     "end_time": "2024-04-01T12:03:38.941041Z",
     "start_time": "2024-04-01T12:03:38.635198Z"
    }
   },
   "execution_count": 28
  },
  {
   "cell_type": "markdown",
   "source": [
    "## Get the Feature Importances"
   ],
   "metadata": {
    "collapsed": false
   }
  },
  {
   "cell_type": "code",
   "outputs": [
    {
     "data": {
      "text/plain": "                  feature  importance\n5      satellite_cn0_mean    0.169718\n6    satellite_cn0_median    0.138555\n4       satellite_cn0_max    0.129626\n2       nrSatellitesInFix    0.108872\n9     satellite_cn0_range    0.104865\n7      satellite_cn0_mode    0.093780\n8       satellite_cn0_std    0.091682\n3       satellite_cn0_min    0.039882\n13  bluetooth_rssi_median    0.020570\n0            cellStrength    0.017656\n1      nrSatellitesInView    0.013823\n19         wifi_rssi_mean    0.011953\n18          wifi_rssi_max    0.011386\n17          wifi_rssi_min    0.009398\n22        wifi_rssi_range    0.006583\n21         wifi_rssi_mode    0.006068\n10     bluetooth_rssi_min    0.006053\n12    bluetooth_rssi_mean    0.005961\n20       wifi_rssi_median    0.004477\n14    bluetooth_rssi_mode    0.003532\n16   bluetooth_rssi_range    0.002071\n11     bluetooth_rssi_max    0.001959\n15     bluetooth_rssi_std    0.001530",
      "text/html": "<div>\n<style scoped>\n    .dataframe tbody tr th:only-of-type {\n        vertical-align: middle;\n    }\n\n    .dataframe tbody tr th {\n        vertical-align: top;\n    }\n\n    .dataframe thead th {\n        text-align: right;\n    }\n</style>\n<table border=\"1\" class=\"dataframe\">\n  <thead>\n    <tr style=\"text-align: right;\">\n      <th></th>\n      <th>feature</th>\n      <th>importance</th>\n    </tr>\n  </thead>\n  <tbody>\n    <tr>\n      <th>5</th>\n      <td>satellite_cn0_mean</td>\n      <td>0.169718</td>\n    </tr>\n    <tr>\n      <th>6</th>\n      <td>satellite_cn0_median</td>\n      <td>0.138555</td>\n    </tr>\n    <tr>\n      <th>4</th>\n      <td>satellite_cn0_max</td>\n      <td>0.129626</td>\n    </tr>\n    <tr>\n      <th>2</th>\n      <td>nrSatellitesInFix</td>\n      <td>0.108872</td>\n    </tr>\n    <tr>\n      <th>9</th>\n      <td>satellite_cn0_range</td>\n      <td>0.104865</td>\n    </tr>\n    <tr>\n      <th>7</th>\n      <td>satellite_cn0_mode</td>\n      <td>0.093780</td>\n    </tr>\n    <tr>\n      <th>8</th>\n      <td>satellite_cn0_std</td>\n      <td>0.091682</td>\n    </tr>\n    <tr>\n      <th>3</th>\n      <td>satellite_cn0_min</td>\n      <td>0.039882</td>\n    </tr>\n    <tr>\n      <th>13</th>\n      <td>bluetooth_rssi_median</td>\n      <td>0.020570</td>\n    </tr>\n    <tr>\n      <th>0</th>\n      <td>cellStrength</td>\n      <td>0.017656</td>\n    </tr>\n    <tr>\n      <th>1</th>\n      <td>nrSatellitesInView</td>\n      <td>0.013823</td>\n    </tr>\n    <tr>\n      <th>19</th>\n      <td>wifi_rssi_mean</td>\n      <td>0.011953</td>\n    </tr>\n    <tr>\n      <th>18</th>\n      <td>wifi_rssi_max</td>\n      <td>0.011386</td>\n    </tr>\n    <tr>\n      <th>17</th>\n      <td>wifi_rssi_min</td>\n      <td>0.009398</td>\n    </tr>\n    <tr>\n      <th>22</th>\n      <td>wifi_rssi_range</td>\n      <td>0.006583</td>\n    </tr>\n    <tr>\n      <th>21</th>\n      <td>wifi_rssi_mode</td>\n      <td>0.006068</td>\n    </tr>\n    <tr>\n      <th>10</th>\n      <td>bluetooth_rssi_min</td>\n      <td>0.006053</td>\n    </tr>\n    <tr>\n      <th>12</th>\n      <td>bluetooth_rssi_mean</td>\n      <td>0.005961</td>\n    </tr>\n    <tr>\n      <th>20</th>\n      <td>wifi_rssi_median</td>\n      <td>0.004477</td>\n    </tr>\n    <tr>\n      <th>14</th>\n      <td>bluetooth_rssi_mode</td>\n      <td>0.003532</td>\n    </tr>\n    <tr>\n      <th>16</th>\n      <td>bluetooth_rssi_range</td>\n      <td>0.002071</td>\n    </tr>\n    <tr>\n      <th>11</th>\n      <td>bluetooth_rssi_max</td>\n      <td>0.001959</td>\n    </tr>\n    <tr>\n      <th>15</th>\n      <td>bluetooth_rssi_std</td>\n      <td>0.001530</td>\n    </tr>\n  </tbody>\n</table>\n</div>"
     },
     "execution_count": 29,
     "metadata": {},
     "output_type": "execute_result"
    }
   ],
   "source": [
    "# Print feature importances of the selected features\n",
    "feature_importances = clf.feature_importances_\n",
    "feature_importances = pd.DataFrame({'feature': X.columns, 'importance': feature_importances})\n",
    "feature_importances = feature_importances.sort_values(by='importance', ascending=False)\n",
    "feature_importances"
   ],
   "metadata": {
    "collapsed": false,
    "ExecuteTime": {
     "end_time": "2024-04-01T12:03:38.951836Z",
     "start_time": "2024-04-01T12:03:38.942358Z"
    }
   },
   "execution_count": 29
  },
  {
   "cell_type": "markdown",
   "source": [
    "## Save the model and tryout the model with new data"
   ],
   "metadata": {
    "collapsed": false
   }
  },
  {
   "cell_type": "markdown",
   "source": [],
   "metadata": {
    "collapsed": false
   }
  },
  {
   "cell_type": "code",
   "outputs": [
    {
     "name": "stdout",
     "output_type": "stream",
     "text": [
      "Saved model to ../Daten/random_forest_classifier.joblib\n"
     ]
    }
   ],
   "source": [
    "import joblib\n",
    "\n",
    "# Save the model\n",
    "model_path = '../Daten/random_forest_classifier.joblib'\n",
    "joblib.dump(clf, model_path)\n",
    "print(f'Saved model to {model_path}')"
   ],
   "metadata": {
    "collapsed": false,
    "ExecuteTime": {
     "end_time": "2024-04-01T12:03:38.973914Z",
     "start_time": "2024-04-01T12:03:38.952591Z"
    }
   },
   "execution_count": 30
  },
  {
   "cell_type": "markdown",
   "source": [
    "# Create a bagging classifier, run the Random Forest Classifier with different random states and average the results"
   ],
   "metadata": {
    "collapsed": false
   }
  },
  {
   "cell_type": "code",
   "outputs": [
    {
     "name": "stdout",
     "output_type": "stream",
     "text": [
      "Accuracy: 1.0\n",
      "Saved model to ../Daten/bagging_classifier.joblib\n"
     ]
    }
   ],
   "source": [
    "from sklearn.ensemble import BaggingClassifier, RandomForestClassifier\n",
    "# Define the base classifier\n",
    "base_cls = RandomForestClassifier(n_estimators=100)\n",
    "# Instantiate the BaggingClassifier\n",
    "bagging_cls = BaggingClassifier(estimator=base_cls, n_estimators=10)\n",
    "# Train the BaggingClassifier\n",
    "bagging_cls.fit(X_train, Y_train)\n",
    "# Predict and evaluate as usual\n",
    "y_pred = bagging_cls.predict(X_test)\n",
    "accuracy = accuracy_score(Y_test, y_pred)\n",
    "print(f'Accuracy: {accuracy}')\n",
    "\n",
    "# Save the model\n",
    "model_path = '../Daten/bagging_classifier.joblib'\n",
    "joblib.dump(bagging_cls, model_path)\n",
    "print(f'Saved model to {model_path}')\n"
   ],
   "metadata": {
    "collapsed": false,
    "ExecuteTime": {
     "end_time": "2024-04-01T12:03:40.265133Z",
     "start_time": "2024-04-01T12:03:38.974634Z"
    }
   },
   "execution_count": 31
  },
  {
   "cell_type": "markdown",
   "source": [
    "# Test the model with new data in validation folder in this notebook"
   ],
   "metadata": {
    "collapsed": false
   }
  },
  {
   "cell_type": "code",
   "outputs": [
    {
     "name": "stdout",
     "output_type": "stream",
     "text": [
      "Label: Indoor, Prediction: Outdoor, Description: Nähe Fenster, People: viel,  Probability: [0.39 0.61], File: Indoor_2024-03-29 13_41_40.csv\n"
     ]
    }
   ],
   "source": [
    "validation_files_directory = '../Daten/validation/'\n",
    "validation_averaged_path = '../Daten/validation_averaged_data.csv'\n",
    "model_path = '../Daten/random_forest_classifier.joblib'\n",
    "\n",
    "# Load the model\n",
    "model = joblib.load(model_path)\n",
    "\n",
    "validation_averaged_data = pd.DataFrame()\n",
    "validation_description = pd.DataFrame()\n",
    "validation_files = [file for file in os.listdir(validation_files_directory) if file.endswith('.csv')]\n",
    "\n",
    "for file in validation_files:\n",
    "    df = pd.read_csv(validation_files_directory + file, sep=';')\n",
    "    locationDescription = df['locationDescription'][0]\n",
    "    locationPeople = df['people'][0]\n",
    "    \n",
    "    validation_description = pd.concat([validation_description, pd.DataFrame({'locationDescription': [locationDescription], 'people': [locationPeople], 'file': [file]})], ignore_index=True)\n",
    "\n",
    "    validation_averaged_data = preprocess_data(validation_averaged_data, validation_files_directory, file)\n",
    "\n",
    "# Predict the labels of the validation data\n",
    "validation_predictions = model.predict(validation_averaged_data.drop(columns=['label']))\n",
    "validation_probabilities = model.predict_proba(validation_averaged_data.drop(columns=['label']))\n",
    "\n",
    "#print label and the corresponding prediction\n",
    "for label, description, people, prediction, probability, file in zip(validation_averaged_data['label'], validation_description['locationDescription'], validation_description['people'], validation_predictions, validation_probabilities, validation_description['file']):\n",
    "    if label != prediction:\n",
    "        print(f'Label: {label}, Prediction: {prediction}, Description: {description}, People: {people},  Probability: {probability}, File: {file}')\n",
    "   "
   ],
   "metadata": {
    "collapsed": false,
    "ExecuteTime": {
     "end_time": "2024-04-01T12:03:41.055218Z",
     "start_time": "2024-04-01T12:03:40.267636Z"
    }
   },
   "execution_count": 32
  },
  {
   "cell_type": "markdown",
   "source": [
    "# Test validation files with bagging classifier"
   ],
   "metadata": {
    "collapsed": false
   }
  },
  {
   "cell_type": "code",
   "outputs": [
    {
     "name": "stdout",
     "output_type": "stream",
     "text": [
      "Label: Indoor, Prediction: Outdoor, Description: Nähe Fenster, People: viel, Probability: [0.306 0.694], File: Indoor_2024-03-29 13_41_40.csv\n"
     ]
    }
   ],
   "source": [
    "validation_files_directory = '../Daten/validation/'\n",
    "validation_averaged_path = '../Daten/validation_averaged_data.csv'\n",
    "model_path = '../Daten/bagging_classifier.joblib'\n",
    "\n",
    "# Load the model\n",
    "model = joblib.load(model_path)\n",
    "\n",
    "validation_averaged_data = pd.DataFrame()\n",
    "validation_description = pd.DataFrame()\n",
    "validation_files = [file for file in os.listdir(validation_files_directory) if file.endswith('.csv')]\n",
    "\n",
    "for file in validation_files:\n",
    "    df = pd.read_csv(validation_files_directory + file, sep=';')\n",
    "    locationDescription = df['locationDescription'][0]\n",
    "    locationPeople = df['people'][0]\n",
    "    \n",
    "    validation_description = pd.concat([validation_description, pd.DataFrame({'locationDescription': [locationDescription], 'people': [locationPeople], 'file': [file]})], ignore_index=True)\n",
    "\n",
    "    validation_averaged_data = preprocess_data(validation_averaged_data, validation_files_directory, file)\n",
    "\n",
    "# Predict the labels of the validation data\n",
    "validation_predictions = model.predict(validation_averaged_data.drop(columns=['label']))\n",
    "validation_probabilities = model.predict_proba(validation_averaged_data.drop(columns=['label']))\n",
    "\n",
    "#print label and the corresponding prediction\n",
    "for label, description, people, prediction, probability, file in zip(validation_averaged_data['label'], validation_description['locationDescription'], validation_description['people'], validation_predictions, validation_probabilities, validation_description['file']):\n",
    "    if label != prediction:\n",
    "        print(f'Label: {label}, Prediction: {prediction}, Description: {description}, People: {people}, Probability: {probability}, File: {file}')\n",
    "        "
   ],
   "metadata": {
    "collapsed": false,
    "ExecuteTime": {
     "end_time": "2024-04-01T12:03:41.737228Z",
     "start_time": "2024-04-01T12:03:41.059762Z"
    }
   },
   "execution_count": 33
  },
  {
   "cell_type": "markdown",
   "source": [
    "## Setup LSTM Model"
   ],
   "metadata": {
    "collapsed": false
   }
  },
  {
   "cell_type": "code",
   "outputs": [
    {
     "name": "stdout",
     "output_type": "stream",
     "text": [
      "Model: \"sequential_1\"\n",
      "_________________________________________________________________\n",
      " Layer (type)                Output Shape              Param #   \n",
      "=================================================================\n",
      " lstm_3 (LSTM)               (None, 23, 128)           66560     \n",
      "                                                                 \n",
      " dropout_4 (Dropout)         (None, 23, 128)           0         \n",
      "                                                                 \n",
      " lstm_4 (LSTM)               (None, 23, 128)           131584    \n",
      "                                                                 \n",
      " dropout_5 (Dropout)         (None, 23, 128)           0         \n",
      "                                                                 \n",
      " lstm_5 (LSTM)               (None, 128)               131584    \n",
      "                                                                 \n",
      " dropout_6 (Dropout)         (None, 128)               0         \n",
      "                                                                 \n",
      " dense_2 (Dense)             (None, 32)                4128      \n",
      "                                                                 \n",
      " dropout_7 (Dropout)         (None, 32)                0         \n",
      "                                                                 \n",
      " dense_3 (Dense)             (None, 2)                 66        \n",
      "                                                                 \n",
      "=================================================================\n",
      "Total params: 333,922\n",
      "Trainable params: 333,922\n",
      "Non-trainable params: 0\n",
      "_________________________________________________________________\n",
      "Epoch 1/10\n",
      "5/5 [==============================] - 3s 129ms/step - loss: 0.7266 - accuracy: 0.4748 - val_loss: 0.6661 - val_accuracy: 0.5714\n",
      "Epoch 2/10\n",
      "5/5 [==============================] - 0s 43ms/step - loss: 0.6527 - accuracy: 0.5612 - val_loss: 0.5653 - val_accuracy: 0.8857\n",
      "Epoch 3/10\n",
      "5/5 [==============================] - 0s 42ms/step - loss: 0.4946 - accuracy: 0.8058 - val_loss: 0.3307 - val_accuracy: 0.9143\n",
      "Epoch 4/10\n",
      "5/5 [==============================] - 0s 44ms/step - loss: 0.2922 - accuracy: 0.8921 - val_loss: 0.3009 - val_accuracy: 0.8857\n",
      "Epoch 5/10\n",
      "5/5 [==============================] - 0s 42ms/step - loss: 0.3928 - accuracy: 0.8489 - val_loss: 0.0908 - val_accuracy: 0.9714\n",
      "Epoch 6/10\n",
      "5/5 [==============================] - 0s 43ms/step - loss: 0.3142 - accuracy: 0.8849 - val_loss: 0.3411 - val_accuracy: 0.8286\n",
      "Epoch 7/10\n",
      "5/5 [==============================] - 0s 42ms/step - loss: 0.2707 - accuracy: 0.8705 - val_loss: 0.1246 - val_accuracy: 0.9714\n",
      "Epoch 8/10\n",
      "5/5 [==============================] - 0s 42ms/step - loss: 0.2129 - accuracy: 0.9065 - val_loss: 0.1114 - val_accuracy: 0.9714\n",
      "Epoch 9/10\n",
      "5/5 [==============================] - 0s 40ms/step - loss: 0.1722 - accuracy: 0.9353 - val_loss: 0.0784 - val_accuracy: 1.0000\n",
      "Epoch 10/10\n",
      "5/5 [==============================] - 0s 41ms/step - loss: 0.1592 - accuracy: 0.9496 - val_loss: 0.0575 - val_accuracy: 1.0000\n",
      "2/2 [==============================] - 0s 5ms/step - loss: 0.0575 - accuracy: 1.0000\n",
      "Accuracy: 1.0\n"
     ]
    }
   ],
   "source": [
    "import tensorflow as tf\n",
    "from tensorflow.keras.models import Sequential\n",
    "from tensorflow.keras.layers import LSTM, Dense, Dropout\n",
    "from tensorflow.keras.optimizers import Adam\n",
    "\n",
    "# Define the LSTM model\n",
    "model = Sequential()\n",
    "\n",
    "model.add(LSTM(128, input_shape=(X_train.shape[1], 1), return_sequences=True))\n",
    "model.add(Dropout(0.2))\n",
    "\n",
    "model.add(LSTM(128, return_sequences=True))\n",
    "model.add(Dropout(0.2))\n",
    "\n",
    "model.add(LSTM(128))\n",
    "model.add(Dropout(0.2))\n",
    "\n",
    "model.add(Dense(32, activation='relu'))\n",
    "model.add(Dropout(0.2))\n",
    "\n",
    "model.add(Dense(2, activation='softmax'))\n",
    "\n",
    "# Compile the model\n",
    "model.compile(optimizer=Adam(learning_rate=0.001), loss='sparse_categorical_crossentropy', metrics=['accuracy'])\n",
    "\n",
    "model.summary()\n",
    "\n",
    "#convert all columns to float except the label column\n",
    "X_train = X_train.astype(float)\n",
    "Y_train = Y_train.map({'Indoor': 0, 'Outdoor': 1})\n",
    "Y_train = Y_train.astype(float)\n",
    "\n",
    "X_test = X_test.astype(float)\n",
    "Y_test = Y_test.map({'Indoor': 0, 'Outdoor': 1})\n",
    "Y_train = Y_train.astype(float)\n",
    "\n",
    "#print accuracy of the model with the averaged data\n",
    "X_train = np.array(X_train)\n",
    "X_train = np.reshape(X_train, (X_train.shape[0], X_train.shape[1], 1))\n",
    "\n",
    "X_test = np.array(X_test)\n",
    "X_test = np.reshape(X_test, (X_test.shape[0], X_test.shape[1], 1))\n",
    "\n",
    "model.fit(X_train, Y_train, epochs=10, validation_data=(X_test, Y_test), batch_size=32)\n",
    "\n",
    "print(f'Accuracy: {model.evaluate(X_test, Y_test)[1]}')\n",
    "\n"
   ],
   "metadata": {
    "collapsed": false,
    "ExecuteTime": {
     "end_time": "2024-04-01T12:03:46.484805Z",
     "start_time": "2024-04-01T12:03:41.737930Z"
    }
   },
   "execution_count": 34
  },
  {
   "cell_type": "markdown",
   "source": [],
   "metadata": {
    "collapsed": false
   }
  },
  {
   "cell_type": "markdown",
   "source": [
    "## Validate the LSTM Model"
   ],
   "metadata": {
    "collapsed": false
   }
  },
  {
   "cell_type": "code",
   "outputs": [
    {
     "name": "stdout",
     "output_type": "stream",
     "text": [
      "1/1 [==============================] - 0s 379ms/step\n",
      "Label: 1.0, Description: Überdacht, People: viel, Prediction: Outdoor, Probability: 0.948621928691864\n",
      "Label: 1.0, Description: Häuserschlucht, People: viel, Prediction: Outdoor, Probability: 0.9332685470581055\n",
      "Label: 0.0, Description: Raummitte, People: viel, Prediction: Indoor, Probability: 0.9963526725769043\n",
      "Label: 0.0, Description: Raummitte, People: weniger als 5, Prediction: Indoor, Probability: 0.9975817203521729\n",
      "Label: 1.0, Description: Frei, People: viel, Prediction: Outdoor, Probability: 0.9665589928627014\n",
      "Label: 0.0, Description: Nähe Fenster, People: viel, Prediction: Indoor, Probability: 0.6442140936851501\n",
      "Label: 1.0, Description: Frei, People: keine, Prediction: Outdoor, Probability: 0.9665058851242065\n",
      "Label: 1.0, Description: Überdacht, People: keine, Prediction: Outdoor, Probability: 0.8634873032569885\n",
      "Label: 1.0, Description: Überdacht, People: viel, Prediction: Outdoor, Probability: 0.9646337032318115\n",
      "Label: 0.0, Description: Raummitte, People: keine, Prediction: Indoor, Probability: 0.9975588321685791\n",
      "Label: 0.0, Description: Nähe Fenster, People: keine, Prediction: Indoor, Probability: 0.9650334119796753\n",
      "Label: 1.0, Description: Überdacht, People: keine, Prediction: Outdoor, Probability: 0.8925290107727051\n",
      "Label: 0.0, Description: Kein Fenster, People: keine, Prediction: Indoor, Probability: 0.9972667694091797\n",
      "Label: 0.0, Description: Nähe Fenster, People: keine, Prediction: Indoor, Probability: 0.9601243138313293\n"
     ]
    }
   ],
   "source": [
    "#map the label column to 0 and 1\n",
    "validation_averaged_data['label'] = validation_averaged_data['label'].map({'Indoor': 0, 'Outdoor': 1})\n",
    "\n",
    "#convert all columns to float except the label column\n",
    "validation_averaged_data = validation_averaged_data.astype(float)\n",
    "\n",
    "X_validation = validation_averaged_data.drop(columns=['label'])\n",
    "Y_validation = validation_averaged_data['label']\n",
    "\n",
    "X_validation = np.array(X_validation)\n",
    "X_validation = np.reshape(X_validation, (X_validation.shape[0], X_validation.shape[1], 1))\n",
    "\n",
    "Y_validation = Y_validation.astype(float)\n",
    "\n",
    "#predict the labels of the validation data for each data point\n",
    "validation_predictions = model.predict(X_validation)\n",
    "\n",
    "#print label and the corresponding prediction\n",
    "for label, description, people, prediction in zip(validation_averaged_data['label'], validation_description['locationDescription'], validation_description['people'], validation_predictions):\n",
    "    if prediction[0] > prediction[1]:\n",
    "        print(f'Label: {label}, Description: {description}, People: {people}, Prediction: Indoor, Probability: {prediction[0]}')\n",
    "    else:\n",
    "        print(f'Label: {label}, Description: {description}, People: {people}, Prediction: Outdoor, Probability: {prediction[1]}')"
   ],
   "metadata": {
    "collapsed": false,
    "ExecuteTime": {
     "end_time": "2024-04-01T12:03:46.890076Z",
     "start_time": "2024-04-01T12:03:46.487371Z"
    }
   },
   "execution_count": 35
  },
  {
   "cell_type": "markdown",
   "source": [],
   "metadata": {
    "collapsed": false
   }
  }
 ],
 "metadata": {
  "kernelspec": {
   "display_name": "Python 3",
   "language": "python",
   "name": "python3"
  },
  "language_info": {
   "name": "python",
   "version": "3.12.0"
  }
 },
 "nbformat": 4,
 "nbformat_minor": 2
}
