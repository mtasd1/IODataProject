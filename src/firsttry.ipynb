{
 "cells": [
  {
   "cell_type": "markdown",
   "source": [
    "# Data Preprocessing, Averaging over all csv-files and Saving the averaged data into new csv-file"
   ],
   "metadata": {
    "collapsed": false
   }
  },
  {
   "cell_type": "code",
   "execution_count": 239,
   "metadata": {
    "ExecuteTime": {
     "end_time": "2024-04-01T15:11:49.572266Z",
     "start_time": "2024-04-01T15:11:43.752466Z"
    }
   },
   "outputs": [
    {
     "name": "stdout",
     "output_type": "stream",
     "text": [
      "Found 181 CSV files\n",
      "Found 101 indoor files and 80 outdoor files\n"
     ]
    },
    {
     "data": {
      "text/plain": "       label  cellStrength  nrSatellitesInView  nrSatellitesInFix  \\\n0     Indoor      3.000000           44.526316           0.000000   \n124   Indoor      3.900000           37.000000           0.000000   \n123   Indoor      3.850000           44.350000           5.150000   \n122   Indoor      3.461538           47.961538          14.615385   \n120   Indoor      4.000000           41.464286          21.928571   \n..       ...           ...                 ...                ...   \n102  Outdoor      4.000000           51.000000          30.666667   \n101  Outdoor      3.000000           55.782609          24.000000   \n49   Outdoor      4.000000           48.000000          28.166667   \n114  Outdoor      3.000000           44.000000          23.388889   \n180  Outdoor      4.000000           44.416667          24.791667   \n\n     satellite_cn0_min  satellite_cn0_max  satellite_cn0_mean  \\\n0             0.000000           0.000000            0.000000   \n124           0.000000           0.000000            0.000000   \n123           3.910000           4.925000            4.322429   \n122          16.561538          32.180769           23.561719   \n120          14.975000          39.342857           25.829818   \n..                 ...                ...                 ...   \n102          20.552381          45.809524           33.788607   \n101          18.056522          41.169565           30.775447   \n49           15.827778          42.005556           26.505713   \n114          15.300000          46.344444           30.747029   \n180          18.975000          45.308333           32.506476   \n\n     satellite_cn0_median  satellite_cn0_mode  satellite_cn0_std  ...  \\\n0                0.000000            0.000000           0.000000  ...   \n124              0.000000            0.000000           0.000000  ...   \n123              4.197500            3.910000           0.404397  ...   \n122             23.036538           18.980769           4.684867  ...   \n120             24.850000           19.964286           7.368629  ...   \n..                    ...                 ...                ...  ...   \n102             33.992857           32.604762           6.129338  ...   \n101             31.476087           24.960870           7.085132  ...   \n49              26.033333           22.177778           6.582545  ...   \n114             29.783333           22.972222           9.213696  ...   \n180             32.312500           25.645833           7.325450  ...   \n\n     bluetooth_rssi_median  bluetooth_rssi_mode  bluetooth_rssi_std  \\\n0               -92.315789           -98.157895           23.176776   \n124             -86.425000           -91.250000           12.659495   \n123             -89.350000           -90.600000            9.315417   \n122             -87.153846           -96.538462           12.494974   \n120             -77.357143           -86.000000           11.821742   \n..                     ...                  ...                 ...   \n102             -91.500000           -93.000000           16.766700   \n101             -95.434783           -96.913043           11.094607   \n49              -94.055556           -98.111111           21.116507   \n114             -93.305556           -97.944444           12.099497   \n180             -90.145833           -90.333333           11.180719   \n\n     bluetooth_rssi_range  wifi_rssi_min  wifi_rssi_max  wifi_rssi_mean  \\\n0               57.157895     -88.947368     -47.210526      -71.832468   \n124             54.000000     -91.000000     -75.000000      -81.315789   \n123             29.050000     -90.000000     -70.000000      -80.428571   \n122             49.000000     -87.076923     -65.038462      -76.438292   \n120             39.285714     -86.000000     -66.000000      -76.000000   \n..                    ...            ...            ...             ...   \n102             57.000000     -94.190476     -73.952381      -86.246753   \n101             36.652174     -89.695652     -80.086957      -85.326087   \n49              51.111111     -93.777778     -79.333333      -86.519048   \n114             49.000000     -93.666667     -64.666667      -81.062309   \n180             36.000000     -70.708333     -55.458333      -65.159722   \n\n     wifi_rssi_median  wifi_rssi_mode  wifi_rssi_range  \n0          -73.210526      -88.947368        41.736842  \n124        -81.000000      -82.000000        16.000000  \n123        -82.500000      -86.000000        20.000000  \n122        -75.076923      -85.538462        22.038462  \n120        -76.000000      -86.000000        20.000000  \n..                ...             ...              ...  \n102        -87.142857      -93.428571        20.238095  \n101        -85.760870      -89.478261         9.608696  \n49         -86.444444      -90.888889        14.444444  \n114        -82.472222      -84.722222        29.000000  \n180        -66.500000      -69.666667        15.250000  \n\n[181 rows x 24 columns]",
      "text/html": "<div>\n<style scoped>\n    .dataframe tbody tr th:only-of-type {\n        vertical-align: middle;\n    }\n\n    .dataframe tbody tr th {\n        vertical-align: top;\n    }\n\n    .dataframe thead th {\n        text-align: right;\n    }\n</style>\n<table border=\"1\" class=\"dataframe\">\n  <thead>\n    <tr style=\"text-align: right;\">\n      <th></th>\n      <th>label</th>\n      <th>cellStrength</th>\n      <th>nrSatellitesInView</th>\n      <th>nrSatellitesInFix</th>\n      <th>satellite_cn0_min</th>\n      <th>satellite_cn0_max</th>\n      <th>satellite_cn0_mean</th>\n      <th>satellite_cn0_median</th>\n      <th>satellite_cn0_mode</th>\n      <th>satellite_cn0_std</th>\n      <th>...</th>\n      <th>bluetooth_rssi_median</th>\n      <th>bluetooth_rssi_mode</th>\n      <th>bluetooth_rssi_std</th>\n      <th>bluetooth_rssi_range</th>\n      <th>wifi_rssi_min</th>\n      <th>wifi_rssi_max</th>\n      <th>wifi_rssi_mean</th>\n      <th>wifi_rssi_median</th>\n      <th>wifi_rssi_mode</th>\n      <th>wifi_rssi_range</th>\n    </tr>\n  </thead>\n  <tbody>\n    <tr>\n      <th>0</th>\n      <td>Indoor</td>\n      <td>3.000000</td>\n      <td>44.526316</td>\n      <td>0.000000</td>\n      <td>0.000000</td>\n      <td>0.000000</td>\n      <td>0.000000</td>\n      <td>0.000000</td>\n      <td>0.000000</td>\n      <td>0.000000</td>\n      <td>...</td>\n      <td>-92.315789</td>\n      <td>-98.157895</td>\n      <td>23.176776</td>\n      <td>57.157895</td>\n      <td>-88.947368</td>\n      <td>-47.210526</td>\n      <td>-71.832468</td>\n      <td>-73.210526</td>\n      <td>-88.947368</td>\n      <td>41.736842</td>\n    </tr>\n    <tr>\n      <th>124</th>\n      <td>Indoor</td>\n      <td>3.900000</td>\n      <td>37.000000</td>\n      <td>0.000000</td>\n      <td>0.000000</td>\n      <td>0.000000</td>\n      <td>0.000000</td>\n      <td>0.000000</td>\n      <td>0.000000</td>\n      <td>0.000000</td>\n      <td>...</td>\n      <td>-86.425000</td>\n      <td>-91.250000</td>\n      <td>12.659495</td>\n      <td>54.000000</td>\n      <td>-91.000000</td>\n      <td>-75.000000</td>\n      <td>-81.315789</td>\n      <td>-81.000000</td>\n      <td>-82.000000</td>\n      <td>16.000000</td>\n    </tr>\n    <tr>\n      <th>123</th>\n      <td>Indoor</td>\n      <td>3.850000</td>\n      <td>44.350000</td>\n      <td>5.150000</td>\n      <td>3.910000</td>\n      <td>4.925000</td>\n      <td>4.322429</td>\n      <td>4.197500</td>\n      <td>3.910000</td>\n      <td>0.404397</td>\n      <td>...</td>\n      <td>-89.350000</td>\n      <td>-90.600000</td>\n      <td>9.315417</td>\n      <td>29.050000</td>\n      <td>-90.000000</td>\n      <td>-70.000000</td>\n      <td>-80.428571</td>\n      <td>-82.500000</td>\n      <td>-86.000000</td>\n      <td>20.000000</td>\n    </tr>\n    <tr>\n      <th>122</th>\n      <td>Indoor</td>\n      <td>3.461538</td>\n      <td>47.961538</td>\n      <td>14.615385</td>\n      <td>16.561538</td>\n      <td>32.180769</td>\n      <td>23.561719</td>\n      <td>23.036538</td>\n      <td>18.980769</td>\n      <td>4.684867</td>\n      <td>...</td>\n      <td>-87.153846</td>\n      <td>-96.538462</td>\n      <td>12.494974</td>\n      <td>49.000000</td>\n      <td>-87.076923</td>\n      <td>-65.038462</td>\n      <td>-76.438292</td>\n      <td>-75.076923</td>\n      <td>-85.538462</td>\n      <td>22.038462</td>\n    </tr>\n    <tr>\n      <th>120</th>\n      <td>Indoor</td>\n      <td>4.000000</td>\n      <td>41.464286</td>\n      <td>21.928571</td>\n      <td>14.975000</td>\n      <td>39.342857</td>\n      <td>25.829818</td>\n      <td>24.850000</td>\n      <td>19.964286</td>\n      <td>7.368629</td>\n      <td>...</td>\n      <td>-77.357143</td>\n      <td>-86.000000</td>\n      <td>11.821742</td>\n      <td>39.285714</td>\n      <td>-86.000000</td>\n      <td>-66.000000</td>\n      <td>-76.000000</td>\n      <td>-76.000000</td>\n      <td>-86.000000</td>\n      <td>20.000000</td>\n    </tr>\n    <tr>\n      <th>...</th>\n      <td>...</td>\n      <td>...</td>\n      <td>...</td>\n      <td>...</td>\n      <td>...</td>\n      <td>...</td>\n      <td>...</td>\n      <td>...</td>\n      <td>...</td>\n      <td>...</td>\n      <td>...</td>\n      <td>...</td>\n      <td>...</td>\n      <td>...</td>\n      <td>...</td>\n      <td>...</td>\n      <td>...</td>\n      <td>...</td>\n      <td>...</td>\n      <td>...</td>\n      <td>...</td>\n    </tr>\n    <tr>\n      <th>102</th>\n      <td>Outdoor</td>\n      <td>4.000000</td>\n      <td>51.000000</td>\n      <td>30.666667</td>\n      <td>20.552381</td>\n      <td>45.809524</td>\n      <td>33.788607</td>\n      <td>33.992857</td>\n      <td>32.604762</td>\n      <td>6.129338</td>\n      <td>...</td>\n      <td>-91.500000</td>\n      <td>-93.000000</td>\n      <td>16.766700</td>\n      <td>57.000000</td>\n      <td>-94.190476</td>\n      <td>-73.952381</td>\n      <td>-86.246753</td>\n      <td>-87.142857</td>\n      <td>-93.428571</td>\n      <td>20.238095</td>\n    </tr>\n    <tr>\n      <th>101</th>\n      <td>Outdoor</td>\n      <td>3.000000</td>\n      <td>55.782609</td>\n      <td>24.000000</td>\n      <td>18.056522</td>\n      <td>41.169565</td>\n      <td>30.775447</td>\n      <td>31.476087</td>\n      <td>24.960870</td>\n      <td>7.085132</td>\n      <td>...</td>\n      <td>-95.434783</td>\n      <td>-96.913043</td>\n      <td>11.094607</td>\n      <td>36.652174</td>\n      <td>-89.695652</td>\n      <td>-80.086957</td>\n      <td>-85.326087</td>\n      <td>-85.760870</td>\n      <td>-89.478261</td>\n      <td>9.608696</td>\n    </tr>\n    <tr>\n      <th>49</th>\n      <td>Outdoor</td>\n      <td>4.000000</td>\n      <td>48.000000</td>\n      <td>28.166667</td>\n      <td>15.827778</td>\n      <td>42.005556</td>\n      <td>26.505713</td>\n      <td>26.033333</td>\n      <td>22.177778</td>\n      <td>6.582545</td>\n      <td>...</td>\n      <td>-94.055556</td>\n      <td>-98.111111</td>\n      <td>21.116507</td>\n      <td>51.111111</td>\n      <td>-93.777778</td>\n      <td>-79.333333</td>\n      <td>-86.519048</td>\n      <td>-86.444444</td>\n      <td>-90.888889</td>\n      <td>14.444444</td>\n    </tr>\n    <tr>\n      <th>114</th>\n      <td>Outdoor</td>\n      <td>3.000000</td>\n      <td>44.000000</td>\n      <td>23.388889</td>\n      <td>15.300000</td>\n      <td>46.344444</td>\n      <td>30.747029</td>\n      <td>29.783333</td>\n      <td>22.972222</td>\n      <td>9.213696</td>\n      <td>...</td>\n      <td>-93.305556</td>\n      <td>-97.944444</td>\n      <td>12.099497</td>\n      <td>49.000000</td>\n      <td>-93.666667</td>\n      <td>-64.666667</td>\n      <td>-81.062309</td>\n      <td>-82.472222</td>\n      <td>-84.722222</td>\n      <td>29.000000</td>\n    </tr>\n    <tr>\n      <th>180</th>\n      <td>Outdoor</td>\n      <td>4.000000</td>\n      <td>44.416667</td>\n      <td>24.791667</td>\n      <td>18.975000</td>\n      <td>45.308333</td>\n      <td>32.506476</td>\n      <td>32.312500</td>\n      <td>25.645833</td>\n      <td>7.325450</td>\n      <td>...</td>\n      <td>-90.145833</td>\n      <td>-90.333333</td>\n      <td>11.180719</td>\n      <td>36.000000</td>\n      <td>-70.708333</td>\n      <td>-55.458333</td>\n      <td>-65.159722</td>\n      <td>-66.500000</td>\n      <td>-69.666667</td>\n      <td>15.250000</td>\n    </tr>\n  </tbody>\n</table>\n<p>181 rows × 24 columns</p>\n</div>"
     },
     "execution_count": 239,
     "metadata": {},
     "output_type": "execute_result"
    }
   ],
   "source": [
    "import os\n",
    "import pandas as pd\n",
    "import json \n",
    "from collections import Counter\n",
    "\n",
    "# extract the code into a function called preprocess_data so that we can use it later for new data\n",
    "def preprocess_data(averaged_df, directory, file):\n",
    "    df = pd.read_csv(directory + file, sep=';')\n",
    "    \n",
    "    # Drop unnecessary and outdated columns\n",
    "    deleted_columns = ['timeStampNetwork', 'timeStampGPS', 'locationDescription', 'people', 'latitudeGPS', 'longitudeGPS', 'latitudeNetwork', 'longitudeNetwork', 'minCn0GPS', 'maxCn0GPS', 'meanCn0GPS', 'minCn0Bluetooth', 'maxCn0Bluetooth', 'minCn0Wifi', 'maxCn0Wifi', 'meanCn0Wifi', 'bAccuracyNetwork', 'speedAccuracyNetwork', 'cellType', 'networkLocationType', 'hAccuracyNetwork', 'vAccuracyNetwork', 'speedAccuracyNetwork', 'bAccuracyNetwork', 'nrBlDevices', 'hAccuracyGPS', 'minCn0Bl', 'meanCn0Bl','maxCn0Bl', 'bAccuracyGPS', 'speedAccuracyGPS', 'vAccuracyGPS', 'nrWifiDevices']\n",
    "    df = safe_delete(df, deleted_columns)\n",
    "    \n",
    "    # Remove first x rows and reset begin index to 0\n",
    "    removedRows = 8\n",
    "    df = df.iloc[removedRows:]\n",
    "    df = df.reset_index(drop=True)\n",
    "    \n",
    "    # Load satellites json\n",
    "    df['satellites'] = df['satellites'].apply(lambda x: json.loads(x))\n",
    "    \n",
    "    # Add cn0 column for easier computation of statistics\n",
    "    df['satellite_cn0'] = df['satellites'].apply(lambda x: [sat['cn0'] for sat in x])\n",
    "    \n",
    "    # Calculate min, max, mean. median, mode, variance, standard deviation and range of the satellite cn0\n",
    "    df['satellite_cn0_min'] = df['satellite_cn0'].apply(lambda x: pd.Series(x).min() if not pd.Series(x).empty else 0)\n",
    "    df['satellite_cn0_max'] = df['satellite_cn0'].apply(lambda x: pd.Series(x).max() if not pd.Series(x).empty else 0)\n",
    "    df['satellite_cn0_mean'] = df['satellite_cn0'].apply(lambda x: pd.Series(x).mean() if not pd.Series(x).empty else 0)    \n",
    "    df['satellite_cn0_median'] = df['satellite_cn0'].apply(lambda x: pd.Series(x).median() if not pd.Series(x).empty else 0)\n",
    "    df['satellite_cn0_mode'] = df['satellite_cn0'].apply(lambda x: pd.Series(x).mode()[0] if not pd.Series(x).mode().empty else 0)\n",
    "    df['satellite_cn0_std'] = df['satellite_cn0'].apply(lambda x: pd.Series(x).std() if not pd.Series(x).empty else 0)\n",
    "    df['satellite_cn0_range'] = df['satellite_cn0'].apply(lambda x: pd.Series(x).max() - pd.Series(x).min() if not pd.Series(x).empty else 0)\n",
    "    \n",
    "    # load the bluetooth json and load rssi into a new column\n",
    "    df['bluetoothDevices'] = df['bluetoothDevices'].apply(lambda x: json.loads(x))\n",
    "    df['bluetooth_rssi'] = df['bluetoothDevices'].apply(lambda x: [device['rssi'] for device in x])\n",
    "    \n",
    "     # Calculate statistical figures for the bluetooth devices\n",
    "    df['bluetooth_rssi_min'] = df['bluetooth_rssi'].apply(lambda x: pd.Series(x).min() if not pd.Series(x).empty else 0)\n",
    "    df['bluetooth_rssi_max'] = df['bluetooth_rssi'].apply(lambda x: pd.Series(x).max() if not pd.Series(x).empty else 0)\n",
    "    df['bluetooth_rssi_mean'] = df['bluetooth_rssi'].apply(lambda x: pd.Series(x).mean() if not pd.Series(x).empty else 0)\n",
    "    df['bluetooth_rssi_median'] = df['bluetooth_rssi'].apply(lambda x: pd.Series(x).median() if not pd.Series(x).empty else 0)\n",
    "    df['bluetooth_rssi_mode'] = df['bluetooth_rssi'].apply(lambda x: pd.Series(x).mode()[0] if not pd.Series(x).mode().empty else 0)\n",
    "    df['bluetooth_rssi_std'] = df['bluetooth_rssi'].apply(lambda x: pd.Series(x).std() if not pd.Series(x).empty else 0)\n",
    "    df['bluetooth_rssi_range'] = df['bluetooth_rssi'].apply(lambda x: pd.Series(x).max() - pd.Series(x).min() if not pd.Series(x).empty else 0)\n",
    "    \n",
    "    # load the wifi json and load rssi into a new column\n",
    "    df['wifiDevices'] = df['wifiDevices'].apply(lambda x: json.loads(x))\n",
    "    df['wifi_rssi'] = df['wifiDevices'].apply(lambda x: [device['level'] for device in x])\n",
    "    \n",
    "     # Calculate statistical figures for the wifi devices\n",
    "    df['wifi_rssi_min'] = df['wifi_rssi'].apply(lambda x: pd.Series(x).min() if not pd.Series(x).empty else 0)\n",
    "    df['wifi_rssi_max'] = df['wifi_rssi'].apply(lambda x: pd.Series(x).max() if not pd.Series(x).empty else 0)\n",
    "    df['wifi_rssi_mean'] = df['wifi_rssi'].apply(lambda x: pd.Series(x).mean() if not pd.Series(x).empty else 0)\n",
    "    df['wifi_rssi_median'] = df['wifi_rssi'].apply(lambda x: pd.Series(x).median() if not pd.Series(x).empty else 0)\n",
    "    df['wifi_rssi_mode'] = df['wifi_rssi'].apply(lambda x: pd.Series(x).mode()[0] if not pd.Series(x).mode().empty else 0)\n",
    "    df['wifi_rssi_range'] = df['wifi_rssi'].apply(lambda x: pd.Series(x).max() - pd.Series(x).min() if not pd.Series(x).empty else 0)\n",
    "    \n",
    "    # Drop list columns\n",
    "    df.drop(columns=['satellites', 'bluetoothDevices', 'wifiDevices', 'satellite_cn0', 'bluetooth_rssi', 'wifi_rssi'], inplace=True)\n",
    "    \n",
    "     # Average over all columns for numeric values and take the first of non-numeric to have a single row\n",
    "    df_label = df.iloc[0]['label']\n",
    "    \n",
    "    df.drop(columns=['label'], inplace=True)\n",
    "    \n",
    "    df = df.mean().to_frame().T\n",
    "    \n",
    "    df['label'] = df_label\n",
    "    \n",
    "    #place label at the beginning\n",
    "    cols = list(df.columns)\n",
    "    cols = [cols[-1]] + cols[:-1]\n",
    "    df = df[cols]\n",
    "    \n",
    "    averaged_df = pd.concat([averaged_df, df], ignore_index=True)\n",
    "    return averaged_df\n",
    "\n",
    "def safe_delete(df, columns):\n",
    "    for column in columns:\n",
    "        if column in df.columns:\n",
    "            df = df.drop(columns=[column])\n",
    "    return df\n",
    "\n",
    "files_directory = '../Daten/firsttry/'\n",
    "averaged_path = '../Daten/averaged_data.csv'\n",
    "\n",
    "if os.path.exists(averaged_path):\n",
    "    os.remove(averaged_path)\n",
    "    print(f\"Removed {averaged_path}\")\n",
    "\n",
    "# Get list of CSV files\n",
    "csv_files = [file for file in os.listdir(files_directory) if file.endswith('.csv')]\n",
    "print(f'Found {len(csv_files)} CSV files')\n",
    "\n",
    "# Get nr of files, where name starts with indoor and outdoor\n",
    "indoor_files = [file for file in csv_files if file.startswith('Indoor')]\n",
    "outdoor_files = [file for file in csv_files if file.startswith('Outdoor')]\n",
    "print(f'Found {len(indoor_files)} indoor files and {len(outdoor_files)} outdoor files')\n",
    "\n",
    "averaged_data = pd.DataFrame()\n",
    "\n",
    "for file in csv_files:\n",
    "    averaged_data = preprocess_data(averaged_data, files_directory, file)\n",
    "\n",
    "averaged_data.sort_values(by=['label'], inplace=True)\n",
    "averaged_data"
   ]
  },
  {
   "cell_type": "markdown",
   "source": [
    "# Train the Random Forest Classifier"
   ],
   "metadata": {
    "collapsed": false
   }
  },
  {
   "cell_type": "markdown",
   "source": [
    "## Randomize and Split the Data for Random Forest Classifier"
   ],
   "metadata": {
    "collapsed": false
   }
  },
  {
   "cell_type": "code",
   "outputs": [
    {
     "name": "stdout",
     "output_type": "stream",
     "text": [
      "Training data shape: (181, 23)\n"
     ]
    }
   ],
   "source": [
    "from sklearn.model_selection import train_test_split\n",
    "\n",
    "# Randomize the data\n",
    "averaged_data = averaged_data.sample(frac=1).reset_index(drop=True)\n",
    "\n",
    "# drop the label column\n",
    "X = averaged_data.drop(columns=['label'], axis=1)\n",
    "Y = averaged_data['label']\n",
    "\n",
    "# Split the data into training and testing data\n",
    "#X_train, X_test, Y_train, Y_test = train_test_split(X, Y, test_size=0.0001)\n",
    "X_train = X\n",
    "Y_train = Y\n",
    "\n",
    "print(f'Training data shape: {X_train.shape}')\n",
    "#print(f'Testing data shape: {X_test.shape}')"
   ],
   "metadata": {
    "collapsed": false,
    "ExecuteTime": {
     "end_time": "2024-04-01T15:11:49.578753Z",
     "start_time": "2024-04-01T15:11:49.574343Z"
    }
   },
   "execution_count": 240
  },
  {
   "cell_type": "markdown",
   "source": [
    "## Train a Random Forest Classifier"
   ],
   "metadata": {
    "collapsed": false
   }
  },
  {
   "cell_type": "code",
   "outputs": [
    {
     "name": "stdout",
     "output_type": "stream",
     "text": [
      "Cross-validation scores: [0.94736842 1.         0.94444444 0.94444444 1.         0.83333333\n",
      " 1.         0.88888889 0.94444444 0.83333333]\n"
     ]
    }
   ],
   "source": [
    "import numpy as np\n",
    "from sklearn.model_selection import cross_val_score\n",
    "from sklearn.ensemble import RandomForestClassifier\n",
    "from sklearn.metrics import accuracy_score\n",
    "\n",
    "# Train the Random Forest Classifier with regularization\n",
    "clf = RandomForestClassifier()\n",
    "\n",
    "# Train the classifier\n",
    "clf.fit(X_train, Y_train)\n",
    "\n",
    "# Cross-validation\n",
    "scores = cross_val_score(clf, X_train, Y_train, cv=10)\n",
    "print(f\"Cross-validation scores: {scores}\")\n",
    "\n",
    "# Predict the labels of the test data\n",
    "#y_pred = clf.predict(X_test)\n",
    "\n",
    "# Calculate the accuracy of the classifier\n",
    "#accuracy = accuracy_score(Y_test, y_pred)\n",
    "#print(f'Accuracy: {accuracy}')"
   ],
   "metadata": {
    "collapsed": false,
    "ExecuteTime": {
     "end_time": "2024-04-01T15:11:50.319964Z",
     "start_time": "2024-04-01T15:11:49.579831Z"
    }
   },
   "execution_count": 241
  },
  {
   "cell_type": "markdown",
   "source": [
    "## Get the Feature Importances"
   ],
   "metadata": {
    "collapsed": false
   }
  },
  {
   "cell_type": "code",
   "outputs": [
    {
     "data": {
      "text/plain": "                  feature  importance\n5      satellite_cn0_mean    0.204191\n7      satellite_cn0_mode    0.143392\n4       satellite_cn0_max    0.129275\n2       nrSatellitesInFix    0.108345\n6    satellite_cn0_median    0.106004\n9     satellite_cn0_range    0.089437\n3       satellite_cn0_min    0.042918\n8       satellite_cn0_std    0.040546\n1      nrSatellitesInView    0.018440\n12    bluetooth_rssi_mean    0.017509\n17          wifi_rssi_min    0.017234\n0            cellStrength    0.013478\n13  bluetooth_rssi_median    0.011769\n20       wifi_rssi_median    0.011051\n19         wifi_rssi_mean    0.008625\n18          wifi_rssi_max    0.006791\n22        wifi_rssi_range    0.005745\n10     bluetooth_rssi_min    0.005537\n21         wifi_rssi_mode    0.004451\n14    bluetooth_rssi_mode    0.004422\n15     bluetooth_rssi_std    0.004127\n11     bluetooth_rssi_max    0.004033\n16   bluetooth_rssi_range    0.002681",
      "text/html": "<div>\n<style scoped>\n    .dataframe tbody tr th:only-of-type {\n        vertical-align: middle;\n    }\n\n    .dataframe tbody tr th {\n        vertical-align: top;\n    }\n\n    .dataframe thead th {\n        text-align: right;\n    }\n</style>\n<table border=\"1\" class=\"dataframe\">\n  <thead>\n    <tr style=\"text-align: right;\">\n      <th></th>\n      <th>feature</th>\n      <th>importance</th>\n    </tr>\n  </thead>\n  <tbody>\n    <tr>\n      <th>5</th>\n      <td>satellite_cn0_mean</td>\n      <td>0.204191</td>\n    </tr>\n    <tr>\n      <th>7</th>\n      <td>satellite_cn0_mode</td>\n      <td>0.143392</td>\n    </tr>\n    <tr>\n      <th>4</th>\n      <td>satellite_cn0_max</td>\n      <td>0.129275</td>\n    </tr>\n    <tr>\n      <th>2</th>\n      <td>nrSatellitesInFix</td>\n      <td>0.108345</td>\n    </tr>\n    <tr>\n      <th>6</th>\n      <td>satellite_cn0_median</td>\n      <td>0.106004</td>\n    </tr>\n    <tr>\n      <th>9</th>\n      <td>satellite_cn0_range</td>\n      <td>0.089437</td>\n    </tr>\n    <tr>\n      <th>3</th>\n      <td>satellite_cn0_min</td>\n      <td>0.042918</td>\n    </tr>\n    <tr>\n      <th>8</th>\n      <td>satellite_cn0_std</td>\n      <td>0.040546</td>\n    </tr>\n    <tr>\n      <th>1</th>\n      <td>nrSatellitesInView</td>\n      <td>0.018440</td>\n    </tr>\n    <tr>\n      <th>12</th>\n      <td>bluetooth_rssi_mean</td>\n      <td>0.017509</td>\n    </tr>\n    <tr>\n      <th>17</th>\n      <td>wifi_rssi_min</td>\n      <td>0.017234</td>\n    </tr>\n    <tr>\n      <th>0</th>\n      <td>cellStrength</td>\n      <td>0.013478</td>\n    </tr>\n    <tr>\n      <th>13</th>\n      <td>bluetooth_rssi_median</td>\n      <td>0.011769</td>\n    </tr>\n    <tr>\n      <th>20</th>\n      <td>wifi_rssi_median</td>\n      <td>0.011051</td>\n    </tr>\n    <tr>\n      <th>19</th>\n      <td>wifi_rssi_mean</td>\n      <td>0.008625</td>\n    </tr>\n    <tr>\n      <th>18</th>\n      <td>wifi_rssi_max</td>\n      <td>0.006791</td>\n    </tr>\n    <tr>\n      <th>22</th>\n      <td>wifi_rssi_range</td>\n      <td>0.005745</td>\n    </tr>\n    <tr>\n      <th>10</th>\n      <td>bluetooth_rssi_min</td>\n      <td>0.005537</td>\n    </tr>\n    <tr>\n      <th>21</th>\n      <td>wifi_rssi_mode</td>\n      <td>0.004451</td>\n    </tr>\n    <tr>\n      <th>14</th>\n      <td>bluetooth_rssi_mode</td>\n      <td>0.004422</td>\n    </tr>\n    <tr>\n      <th>15</th>\n      <td>bluetooth_rssi_std</td>\n      <td>0.004127</td>\n    </tr>\n    <tr>\n      <th>11</th>\n      <td>bluetooth_rssi_max</td>\n      <td>0.004033</td>\n    </tr>\n    <tr>\n      <th>16</th>\n      <td>bluetooth_rssi_range</td>\n      <td>0.002681</td>\n    </tr>\n  </tbody>\n</table>\n</div>"
     },
     "execution_count": 242,
     "metadata": {},
     "output_type": "execute_result"
    }
   ],
   "source": [
    "# Print feature importances of the selected features\n",
    "feature_importances = clf.feature_importances_\n",
    "feature_importances = pd.DataFrame({'feature': X.columns, 'importance': feature_importances})\n",
    "feature_importances = feature_importances.sort_values(by='importance', ascending=False)\n",
    "feature_importances"
   ],
   "metadata": {
    "collapsed": false,
    "ExecuteTime": {
     "end_time": "2024-04-01T15:11:50.336568Z",
     "start_time": "2024-04-01T15:11:50.327324Z"
    }
   },
   "execution_count": 242
  },
  {
   "cell_type": "markdown",
   "source": [
    "## Save the model and tryout the model with new data"
   ],
   "metadata": {
    "collapsed": false
   }
  },
  {
   "cell_type": "markdown",
   "source": [],
   "metadata": {
    "collapsed": false
   }
  },
  {
   "cell_type": "code",
   "outputs": [
    {
     "name": "stdout",
     "output_type": "stream",
     "text": [
      "Saved model to ../Daten/random_forest_classifier.joblib\n"
     ]
    }
   ],
   "source": [
    "import joblib\n",
    "\n",
    "# Save the model\n",
    "model_path = '../Daten/random_forest_classifier.joblib'\n",
    "joblib.dump(clf, model_path)\n",
    "print(f'Saved model to {model_path}')"
   ],
   "metadata": {
    "collapsed": false,
    "ExecuteTime": {
     "end_time": "2024-04-01T15:11:50.358653Z",
     "start_time": "2024-04-01T15:11:50.337330Z"
    }
   },
   "execution_count": 243
  },
  {
   "cell_type": "markdown",
   "source": [
    "# Test the model with new data in validation folder in this notebook"
   ],
   "metadata": {
    "collapsed": false
   }
  },
  {
   "cell_type": "code",
   "outputs": [
    {
     "name": "stdout",
     "output_type": "stream",
     "text": [
      "--------------------\n",
      "Label: Indoor, Prediction: Outdoor, Description: Nähe Fenster, People: viel,  Probability: [0.47 0.53], File: Indoor_2024-03-29 13_41_40.csv\n"
     ]
    }
   ],
   "source": [
    "validation_files_directory = '../Daten/validation/'\n",
    "validation_averaged_path = '../Daten/validation_averaged_data.csv'\n",
    "model_path = '../Daten/random_forest_classifier.joblib'\n",
    "\n",
    "# Load the model\n",
    "model = joblib.load(model_path)\n",
    "\n",
    "validation_averaged_data = pd.DataFrame()\n",
    "validation_description = pd.DataFrame()\n",
    "validation_files = [file for file in os.listdir(validation_files_directory) if file.endswith('.csv')]\n",
    "\n",
    "for file in validation_files:\n",
    "    df = pd.read_csv(validation_files_directory + file, sep=';')\n",
    "    locationDescription = df['locationDescription'][0]\n",
    "    locationPeople = df['people'][0]\n",
    "    \n",
    "    validation_description = pd.concat([validation_description, pd.DataFrame({'locationDescription': [locationDescription], 'people': [locationPeople], 'file': [file]})], ignore_index=True)\n",
    "\n",
    "    validation_averaged_data = preprocess_data(validation_averaged_data, validation_files_directory, file)\n",
    "\n",
    "# Predict the labels of the validation data\n",
    "validation_predictions = model.predict(validation_averaged_data.drop(columns=['label']))\n",
    "validation_probabilities = model.predict_proba(validation_averaged_data.drop(columns=['label']))\n",
    "\n",
    "#print label and the corresponding prediction\n",
    "for label, description, people, prediction, probability, file in zip(validation_averaged_data['label'], validation_description['locationDescription'], validation_description['people'], validation_predictions, validation_probabilities, validation_description['file']):\n",
    "    if label != prediction:\n",
    "        print(\"--------------------\")\n",
    "        print(f'Label: {label}, Prediction: {prediction}, Description: {description}, People: {people},  Probability: {probability}, File: {file}')\n",
    "   "
   ],
   "metadata": {
    "collapsed": false,
    "ExecuteTime": {
     "end_time": "2024-04-01T15:11:51.357777Z",
     "start_time": "2024-04-01T15:11:50.359454Z"
    }
   },
   "execution_count": 244
  },
  {
   "cell_type": "markdown",
   "source": [
    "## Setup LSTM Model"
   ],
   "metadata": {
    "collapsed": false
   }
  },
  {
   "cell_type": "code",
   "outputs": [
    {
     "name": "stdout",
     "output_type": "stream",
     "text": [
      "Model: \"sequential_25\"\n",
      "_________________________________________________________________\n",
      " Layer (type)                Output Shape              Param #   \n",
      "=================================================================\n",
      " lstm_75 (LSTM)              (None, 23, 128)           66560     \n",
      "                                                                 \n",
      " dropout_100 (Dropout)       (None, 23, 128)           0         \n",
      "                                                                 \n",
      " lstm_76 (LSTM)              (None, 23, 128)           131584    \n",
      "                                                                 \n",
      " dropout_101 (Dropout)       (None, 23, 128)           0         \n",
      "                                                                 \n",
      " lstm_77 (LSTM)              (None, 128)               131584    \n",
      "                                                                 \n",
      " dropout_102 (Dropout)       (None, 128)               0         \n",
      "                                                                 \n",
      " dense_50 (Dense)            (None, 32)                4128      \n",
      "                                                                 \n",
      " dropout_103 (Dropout)       (None, 32)                0         \n",
      "                                                                 \n",
      " dense_51 (Dense)            (None, 2)                 66        \n",
      "                                                                 \n",
      "=================================================================\n",
      "Total params: 333,922\n",
      "Trainable params: 333,922\n",
      "Non-trainable params: 0\n",
      "_________________________________________________________________\n",
      "Epoch 1/10\n",
      "5/5 [==============================] - 3s 126ms/step - loss: 0.6944 - accuracy: 0.5000 - val_loss: 0.6043 - val_accuracy: 0.5946\n",
      "Epoch 2/10\n",
      "5/5 [==============================] - 0s 42ms/step - loss: 0.5876 - accuracy: 0.6389 - val_loss: 0.4756 - val_accuracy: 0.7568\n",
      "Epoch 3/10\n",
      "5/5 [==============================] - 0s 42ms/step - loss: 0.4090 - accuracy: 0.7569 - val_loss: 0.2142 - val_accuracy: 0.9189\n",
      "Epoch 4/10\n",
      "5/5 [==============================] - 0s 42ms/step - loss: 0.3176 - accuracy: 0.8681 - val_loss: 0.1216 - val_accuracy: 0.9459\n",
      "Epoch 5/10\n",
      "5/5 [==============================] - 0s 43ms/step - loss: 0.1916 - accuracy: 0.9306 - val_loss: 0.0977 - val_accuracy: 0.9730\n",
      "Epoch 6/10\n",
      "5/5 [==============================] - 0s 42ms/step - loss: 0.1955 - accuracy: 0.9375 - val_loss: 0.1728 - val_accuracy: 0.9189\n",
      "Epoch 7/10\n",
      "5/5 [==============================] - 0s 41ms/step - loss: 0.2177 - accuracy: 0.9236 - val_loss: 0.1039 - val_accuracy: 0.9459\n",
      "Epoch 8/10\n",
      "5/5 [==============================] - 0s 43ms/step - loss: 0.1915 - accuracy: 0.9375 - val_loss: 0.1651 - val_accuracy: 0.9459\n",
      "Epoch 9/10\n",
      "5/5 [==============================] - 0s 42ms/step - loss: 0.2192 - accuracy: 0.8958 - val_loss: 0.0888 - val_accuracy: 0.9730\n",
      "Epoch 10/10\n",
      "5/5 [==============================] - 0s 43ms/step - loss: 0.1738 - accuracy: 0.9514 - val_loss: 0.0541 - val_accuracy: 1.0000\n",
      "2/2 [==============================] - 0s 6ms/step - loss: 0.0541 - accuracy: 1.0000\n",
      "Accuracy: 1.0\n"
     ]
    }
   ],
   "source": [
    "import tensorflow as tf\n",
    "from tensorflow.keras.models import Sequential\n",
    "from tensorflow.keras.layers import LSTM, Dense, Dropout\n",
    "from tensorflow.keras.optimizers import Adam\n",
    "\n",
    "# Define the LSTM model\n",
    "model = Sequential()\n",
    "\n",
    "model.add(LSTM(128, input_shape=(X_train.shape[1], 1), return_sequences=True))\n",
    "model.add(Dropout(0.2))\n",
    "\n",
    "model.add(LSTM(128, return_sequences=True))\n",
    "model.add(Dropout(0.2))\n",
    "\n",
    "model.add(LSTM(128))\n",
    "model.add(Dropout(0.2))\n",
    "\n",
    "model.add(Dense(32, activation='relu'))\n",
    "model.add(Dropout(0.2))\n",
    "\n",
    "model.add(Dense(2, activation='softmax'))\n",
    "\n",
    "# Compile the model\n",
    "model.compile(optimizer=Adam(learning_rate=0.001), loss='sparse_categorical_crossentropy', metrics=['accuracy'])\n",
    "\n",
    "model.summary()\n",
    "\n",
    "#convert all columns to float except the label column\n",
    "X_train, X_test, Y_train, Y_test = train_test_split(X, Y, test_size=0.2)\n",
    "X_train = X_train.astype(float)\n",
    "Y_train = Y_train.map({'Indoor': 0, 'Outdoor': 1})\n",
    "Y_train = Y_train.astype(float)\n",
    "\n",
    "X_test = X_test.astype(float)\n",
    "Y_test = Y_test.map({'Indoor': 0, 'Outdoor': 1})\n",
    "Y_train = Y_train.astype(float)\n",
    "\n",
    "#print accuracy of the model with the averaged data\n",
    "X_train = np.array(X_train)\n",
    "X_train = np.reshape(X_train, (X_train.shape[0], X_train.shape[1], 1))\n",
    "\n",
    "X_test = np.array(X_test)\n",
    "X_test = np.reshape(X_test, (X_test.shape[0], X_test.shape[1], 1))\n",
    "\n",
    "model.fit(X_train, Y_train, epochs=10, validation_data=(X_test, Y_test), batch_size=32)\n",
    "\n",
    "print(f'Accuracy: {model.evaluate(X_test, Y_test)[1]}')\n",
    "\n"
   ],
   "metadata": {
    "collapsed": false,
    "ExecuteTime": {
     "end_time": "2024-04-01T15:11:56.145265Z",
     "start_time": "2024-04-01T15:11:51.359219Z"
    }
   },
   "execution_count": 245
  },
  {
   "cell_type": "markdown",
   "source": [],
   "metadata": {
    "collapsed": false
   }
  },
  {
   "cell_type": "markdown",
   "source": [
    "## Validate the LSTM Model"
   ],
   "metadata": {
    "collapsed": false
   }
  },
  {
   "cell_type": "code",
   "outputs": [
    {
     "name": "stdout",
     "output_type": "stream",
     "text": [
      "1/1 [==============================] - 0s 347ms/step\n",
      "Label: 1.0, Prediction: [0.033414   0.96658593], Description: Überdacht, People: viel,  File: Outdoor_2024-03-30 20_23_34.csv\n",
      "Label: 0.0, Prediction: [0.99899    0.00101003], Description: Nähe Fenster, People: weniger als 5,  File: Indoor_2024-04-01 16_33_22.csv\n",
      "Label: 1.0, Prediction: [0.02514686 0.9748531 ], Description: Häuserschlucht, People: viel,  File: Outdoor_2024-03-29 13_46_20.csv\n",
      "Label: 0.0, Prediction: [0.99767894 0.00232114], Description: Raummitte, People: viel,  File: Indoor_2024-03-29 13_43_31.csv\n",
      "Label: 0.0, Prediction: [0.9989717 0.0010283], Description: Raummitte, People: weniger als 5,  File: Indoor_2024-03-29 13_05_59.csv\n",
      "Label: 1.0, Prediction: [0.01867104 0.98132896], Description: Häuserschlucht, People: weniger als 5,  File: Outdoor_2024-04-01 15_53_39.csv\n",
      "Label: 1.0, Prediction: [0.014 0.986], Description: Frei, People: viel,  File: Outdoor_2024-03-30 21_25_43.csv\n",
      "Label: 1.0, Prediction: [0.01531535 0.9846846 ], Description: Häuserschlucht, People: keine,  File: Outdoor_2024-04-01 16_06_36.csv\n",
      "Label: 0.0, Prediction: [0.41733462 0.5826653 ], Description: Nähe Fenster, People: viel,  File: Indoor_2024-03-29 13_41_40.csv\n",
      "Label: 1.0, Prediction: [0.11922979 0.8807702 ], Description: Überdacht, People: keine,  File: Outdoor_2024-04-01 16_13_24.csv\n",
      "Label: 1.0, Prediction: [0.01516473 0.98483527], Description: Frei, People: keine,  File: Outdoor_2024-03-29 14_10_51.csv\n",
      "Label: 1.0, Prediction: [0.12177158 0.8782284 ], Description: Überdacht, People: keine,  File: Outdoor_2024-03-30 21_28_24.csv\n",
      "Label: 1.0, Prediction: [0.01555714 0.9844429 ], Description: Überdacht, People: viel,  File: Outdoor_2024-03-30 20_43_44.csv\n",
      "Label: 1.0, Prediction: [0.01481518 0.9851848 ], Description: Frei, People: weniger als 5,  File: Outdoor_2024-04-01 15_55_27.csv\n",
      "Label: 0.0, Prediction: [0.9989631  0.00103691], Description: Raummitte, People: keine,  File: Indoor_2024-03-30 18_25_54.csv\n",
      "Label: 0.0, Prediction: [0.9417068 0.0582932], Description: Nähe Fenster, People: keine,  File: Indoor_2024-03-30 18_01_41.csv\n",
      "Label: 1.0, Prediction: [0.07685383 0.9231462 ], Description: Überdacht, People: keine,  File: Outdoor_2024-03-29 14_11_58.csv\n",
      "Label: 0.0, Prediction: [0.9987903  0.00120967], Description: Kein Fenster, People: keine,  File: Indoor_2024-03-29 14_15_09.csv\n",
      "Label: 0.0, Prediction: [0.9144678  0.08553222], Description: Nähe Fenster, People: keine,  File: Indoor_2024-03-31 13_00_17.csv\n",
      "Label: 1.0, Prediction: [0.15792158 0.8420784 ], Description: Überdacht, People: weniger als 5,  File: Outdoor_2024-04-01 15_52_01.csv\n",
      "Label: 0.0, Prediction: [0.98330265 0.01669739], Description: Nähe Fenster, People: keine,  File: Indoor_2024-04-01 15_49_13.csv\n"
     ]
    }
   ],
   "source": [
    "#map the label column to 0 and 1\n",
    "validation_averaged_data['label'] = validation_averaged_data['label'].map({'Indoor': 0, 'Outdoor': 1})\n",
    "\n",
    "#convert all columns to float except the label column\n",
    "validation_averaged_data = validation_averaged_data.astype(float)\n",
    "\n",
    "X_validation = validation_averaged_data.drop(columns=['label'])\n",
    "Y_validation = validation_averaged_data['label']\n",
    "\n",
    "X_validation = np.array(X_validation)\n",
    "X_validation = np.reshape(X_validation, (X_validation.shape[0], X_validation.shape[1], 1))\n",
    "\n",
    "Y_validation = Y_validation.astype(float)\n",
    "\n",
    "#predict the labels of the validation data for each data point\n",
    "validation_predictions = model.predict(X_validation)\n",
    "\n",
    "#print label and the corresponding prediction\n",
    "for label, description, people, prediction, file in zip(validation_averaged_data['label'], validation_description['locationDescription'], validation_description['people'], validation_predictions, validation_description['file']):\n",
    "        print(f'Label: {label}, Prediction: {prediction}, Description: {description}, People: {people},  File: {file}')"
   ],
   "metadata": {
    "collapsed": false,
    "ExecuteTime": {
     "end_time": "2024-04-01T15:11:56.521376Z",
     "start_time": "2024-04-01T15:11:56.146382Z"
    }
   },
   "execution_count": 246
  },
  {
   "cell_type": "markdown",
   "source": [],
   "metadata": {
    "collapsed": false
   }
  }
 ],
 "metadata": {
  "kernelspec": {
   "display_name": "Python 3",
   "language": "python",
   "name": "python3"
  },
  "language_info": {
   "name": "python",
   "version": "3.12.0"
  }
 },
 "nbformat": 4,
 "nbformat_minor": 2
}
