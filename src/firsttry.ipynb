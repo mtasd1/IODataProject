{
 "cells": [
  {
   "cell_type": "markdown",
   "source": [
    "# Data Preprocessing, Averaging over all csv-files and Saving the averaged data into new csv-file"
   ],
   "metadata": {
    "collapsed": false
   }
  },
  {
   "cell_type": "code",
   "execution_count": 19,
   "metadata": {
    "ExecuteTime": {
     "end_time": "2024-03-19T21:21:24.746272Z",
     "start_time": "2024-03-19T21:21:22.559247Z"
    }
   },
   "outputs": [
    {
     "name": "stdout",
     "output_type": "stream",
     "text": [
      "Removed ../Daten/averaged_data.csv\n",
      "Saved averaged data to ../Daten/averaged_data.csv\n"
     ]
    },
    {
     "data": {
      "text/plain": "      label  satellite_cn0_std\n17   Indoor           0.000000\n31   Indoor           3.894964\n30   Indoor           0.000000\n29   Indoor           0.000000\n26   Indoor           4.607955\n25   Indoor           0.109949\n24   Indoor           0.000000\n20   Indoor           0.000000\n19   Indoor           0.000000\n34   Indoor           0.000000\n15   Indoor           0.000000\n14   Indoor           0.000000\n35   Indoor           0.000000\n9    Indoor           0.000000\n2    Indoor           0.000000\n8    Indoor           0.000000\n3    Indoor           0.000000\n12   Indoor           0.000000\n13  Outdoor           6.265965\n33  Outdoor           7.059028\n32  Outdoor           7.740133\n1   Outdoor           6.819184\n28  Outdoor           7.193375\n27  Outdoor           6.926744\n4   Outdoor           7.367115\n6   Outdoor           7.861748\n23  Outdoor           9.100725\n22  Outdoor           6.897623\n21  Outdoor           6.313300\n7   Outdoor           6.788574\n18  Outdoor           6.283073\n16  Outdoor           7.170785\n10  Outdoor           7.801382\n11  Outdoor           6.651135\n5   Outdoor           7.310350\n0   Outdoor           6.970736",
      "text/html": "<div>\n<style scoped>\n    .dataframe tbody tr th:only-of-type {\n        vertical-align: middle;\n    }\n\n    .dataframe tbody tr th {\n        vertical-align: top;\n    }\n\n    .dataframe thead th {\n        text-align: right;\n    }\n</style>\n<table border=\"1\" class=\"dataframe\">\n  <thead>\n    <tr style=\"text-align: right;\">\n      <th></th>\n      <th>label</th>\n      <th>satellite_cn0_std</th>\n    </tr>\n  </thead>\n  <tbody>\n    <tr>\n      <th>17</th>\n      <td>Indoor</td>\n      <td>0.000000</td>\n    </tr>\n    <tr>\n      <th>31</th>\n      <td>Indoor</td>\n      <td>3.894964</td>\n    </tr>\n    <tr>\n      <th>30</th>\n      <td>Indoor</td>\n      <td>0.000000</td>\n    </tr>\n    <tr>\n      <th>29</th>\n      <td>Indoor</td>\n      <td>0.000000</td>\n    </tr>\n    <tr>\n      <th>26</th>\n      <td>Indoor</td>\n      <td>4.607955</td>\n    </tr>\n    <tr>\n      <th>25</th>\n      <td>Indoor</td>\n      <td>0.109949</td>\n    </tr>\n    <tr>\n      <th>24</th>\n      <td>Indoor</td>\n      <td>0.000000</td>\n    </tr>\n    <tr>\n      <th>20</th>\n      <td>Indoor</td>\n      <td>0.000000</td>\n    </tr>\n    <tr>\n      <th>19</th>\n      <td>Indoor</td>\n      <td>0.000000</td>\n    </tr>\n    <tr>\n      <th>34</th>\n      <td>Indoor</td>\n      <td>0.000000</td>\n    </tr>\n    <tr>\n      <th>15</th>\n      <td>Indoor</td>\n      <td>0.000000</td>\n    </tr>\n    <tr>\n      <th>14</th>\n      <td>Indoor</td>\n      <td>0.000000</td>\n    </tr>\n    <tr>\n      <th>35</th>\n      <td>Indoor</td>\n      <td>0.000000</td>\n    </tr>\n    <tr>\n      <th>9</th>\n      <td>Indoor</td>\n      <td>0.000000</td>\n    </tr>\n    <tr>\n      <th>2</th>\n      <td>Indoor</td>\n      <td>0.000000</td>\n    </tr>\n    <tr>\n      <th>8</th>\n      <td>Indoor</td>\n      <td>0.000000</td>\n    </tr>\n    <tr>\n      <th>3</th>\n      <td>Indoor</td>\n      <td>0.000000</td>\n    </tr>\n    <tr>\n      <th>12</th>\n      <td>Indoor</td>\n      <td>0.000000</td>\n    </tr>\n    <tr>\n      <th>13</th>\n      <td>Outdoor</td>\n      <td>6.265965</td>\n    </tr>\n    <tr>\n      <th>33</th>\n      <td>Outdoor</td>\n      <td>7.059028</td>\n    </tr>\n    <tr>\n      <th>32</th>\n      <td>Outdoor</td>\n      <td>7.740133</td>\n    </tr>\n    <tr>\n      <th>1</th>\n      <td>Outdoor</td>\n      <td>6.819184</td>\n    </tr>\n    <tr>\n      <th>28</th>\n      <td>Outdoor</td>\n      <td>7.193375</td>\n    </tr>\n    <tr>\n      <th>27</th>\n      <td>Outdoor</td>\n      <td>6.926744</td>\n    </tr>\n    <tr>\n      <th>4</th>\n      <td>Outdoor</td>\n      <td>7.367115</td>\n    </tr>\n    <tr>\n      <th>6</th>\n      <td>Outdoor</td>\n      <td>7.861748</td>\n    </tr>\n    <tr>\n      <th>23</th>\n      <td>Outdoor</td>\n      <td>9.100725</td>\n    </tr>\n    <tr>\n      <th>22</th>\n      <td>Outdoor</td>\n      <td>6.897623</td>\n    </tr>\n    <tr>\n      <th>21</th>\n      <td>Outdoor</td>\n      <td>6.313300</td>\n    </tr>\n    <tr>\n      <th>7</th>\n      <td>Outdoor</td>\n      <td>6.788574</td>\n    </tr>\n    <tr>\n      <th>18</th>\n      <td>Outdoor</td>\n      <td>6.283073</td>\n    </tr>\n    <tr>\n      <th>16</th>\n      <td>Outdoor</td>\n      <td>7.170785</td>\n    </tr>\n    <tr>\n      <th>10</th>\n      <td>Outdoor</td>\n      <td>7.801382</td>\n    </tr>\n    <tr>\n      <th>11</th>\n      <td>Outdoor</td>\n      <td>6.651135</td>\n    </tr>\n    <tr>\n      <th>5</th>\n      <td>Outdoor</td>\n      <td>7.310350</td>\n    </tr>\n    <tr>\n      <th>0</th>\n      <td>Outdoor</td>\n      <td>6.970736</td>\n    </tr>\n  </tbody>\n</table>\n</div>"
     },
     "execution_count": 19,
     "metadata": {},
     "output_type": "execute_result"
    }
   ],
   "source": [
    "import os\n",
    "import pandas as pd\n",
    "import json \n",
    "from collections import Counter\n",
    "\n",
    "files_directory = '../Daten/firsttry/'\n",
    "\n",
    "averaged_path = '../Daten/averaged_data.csv'\n",
    "\n",
    "\n",
    "# extract the code into a function called preprocess_data so that we can use it later for new data\n",
    "def preprocess_data(directory, averaged_path):\n",
    "    if os.path.exists(averaged_path):\n",
    "        os.remove(averaged_path)\n",
    "        print(f\"Removed {averaged_path}\")\n",
    "\n",
    "    # Get list of CSV files\n",
    "    csv_files = [file for file in os.listdir(directory) if file.endswith('.csv')]\n",
    "    \n",
    "    averaged_data = pd.DataFrame()\n",
    "    \n",
    "    for file in csv_files:\n",
    "        df = pd.read_csv(directory + file, sep=';')\n",
    "        # Drop unnecessary columns like timeStampNetwork and timeStampGPS\n",
    "        df = df.drop(columns=['timeStampNetwork', 'timeStampGPS', 'bAccuracyNetwork', 'speedAccuracyNetwork', 'cellType', 'networkLocationType'])\n",
    "        # Remove first x rows and reset begin index to 0\n",
    "        removedRows = 3\n",
    "        df = df.iloc[removedRows:]\n",
    "        df = df.reset_index(drop=True)\n",
    "        \n",
    "        # Load satellites json\n",
    "        df['satellites'] = df['satellites'].apply(lambda x: json.loads(x))\n",
    "        \n",
    "        # Add columns of nr of satellite of each constellation\n",
    "        df['GPS_counts'] = df['satellites'].apply(lambda x: Counter([sat['constellation'] for sat in x if sat['constellation'] == 'GPS']).get('GPS', 0))\n",
    "        \n",
    "        #df['BEIDOU_counts'] = df['satellites'].apply(lambda x: Counter([sat['constellation'] for sat in x if sat['constellation'] == 'BEIDOU']).get('BEIDOU', 0))\n",
    "        \n",
    "        #df['GALILEO_counts'] = df['satellites'].apply(lambda x: Counter([sat['constellation'] for sat in x if sat['constellation'] == 'GALILEO']).get('GALILEO', 0))\n",
    "        \n",
    "        #df['GLONASS_counts'] = df['satellites'].apply(lambda x: Counter([sat['constellation'] for sat in x if sat['constellation'] == 'GLONASS']).get('GLONASS', 0))\n",
    "        \n",
    "        # Add cn0 column for easier computation of statistics\n",
    "        df['satellite_cn0'] = df['satellites'].apply(lambda x: [sat['cn0'] for sat in x])\n",
    "        \n",
    "        # Calculate median, mode, variance, standard deviation and range of the satellite cn0\n",
    "        df['satellite_cn0_median'] = df['satellite_cn0'].apply(lambda x: pd.Series(x).median() if not pd.Series(x).empty else 0)\n",
    "        df['satellite_cn0_mode'] = df['satellite_cn0'].apply(lambda x: pd.Series(x).mode()[0] if not pd.Series(x).mode().empty else 0)\n",
    "        df['satellite_cn0_std'] = df['satellite_cn0'].apply(lambda x: pd.Series(x).std() if not pd.Series(x).empty else 0)\n",
    "        df['satellite_cn0_range'] = df['satellite_cn0'].apply(lambda x: pd.Series(x).max() - pd.Series(x).min() if not pd.Series(x).empty else 0)\n",
    "        \n",
    "        # load the bluetooth json and load rssi into a new column\n",
    "        df['bluetoothDevices'] = df['bluetoothDevices'].apply(lambda x: json.loads(x))\n",
    "        df['bluetooth_rssi'] = df['bluetoothDevices'].apply(lambda x: [device['rssi'] for device in x])\n",
    "        \n",
    "         # Calculate statistical figures for the bluetooth devices\n",
    "        df['bluetooth_rssi_median'] = df['bluetooth_rssi'].apply(lambda x: pd.Series(x).median() if not pd.Series(x).empty else 0)\n",
    "        df['bluetooth_rssi_mode'] = df['bluetooth_rssi'].apply(lambda x: pd.Series(x).mode()[0] if not pd.Series(x).mode().empty else 0)\n",
    "        df['bluetooth_rssi_std'] = df['bluetooth_rssi'].apply(lambda x: pd.Series(x).std() if not pd.Series(x).empty else 0)\n",
    "        df['bluetooth_rssi_range'] = df['bluetooth_rssi'].apply(lambda x: pd.Series(x).max() - pd.Series(x).min() if not pd.Series(x).empty else 0)\n",
    "        \n",
    "        # load the wifi json and load rssi into a new column\n",
    "        df['wifiDevices'] = df['wifiDevices'].apply(lambda x: json.loads(x))\n",
    "        df['wifi_rssi'] = df['wifiDevices'].apply(lambda x: [device['level'] for device in x])\n",
    "        \n",
    "         # Calculate statistical figures for the wifi devices\n",
    "        df['wifi_rssi_median'] = df['wifi_rssi'].apply(lambda x: pd.Series(x).median() if not pd.Series(x).empty else 0)\n",
    "        df['wifi_rssi_mode'] = df['wifi_rssi'].apply(lambda x: pd.Series(x).mode()[0] if not pd.Series(x).mode().empty else 0)\n",
    "        df['wifi_rssi_std'] = df['wifi_rssi'].apply(lambda x: pd.Series(x).std() if not pd.Series(x).empty else 0)\n",
    "        df['wifi_rssi_range'] = df['wifi_rssi'].apply(lambda x: pd.Series(x).max() - pd.Series(x).min() if not pd.Series(x).empty else 0)\n",
    "        \n",
    "        # Drop list columns\n",
    "        df.drop(columns=['satellites', 'bluetoothDevices', 'wifiDevices', 'satellite_cn0', 'bluetooth_rssi', 'wifi_rssi'], inplace=True)\n",
    "        \n",
    "         # Average over all columns for numeric values and take the first of non-numeric to have a single row\n",
    "        label = df.iloc[0]['label']\n",
    "        \n",
    "        df.drop(columns=['label'], inplace=True)\n",
    "        \n",
    "        df = df.mean().to_frame().T\n",
    "        \n",
    "        df['label'] = label\n",
    "        \n",
    "        #place label at the beginning\n",
    "        cols = list(df.columns)\n",
    "        cols = [cols[-1]] + cols[:-1]\n",
    "        df = df[cols]\n",
    "        \n",
    "        \n",
    "        # if the nr of satellites is 0, then replace hAccurracyGPS, vAccuracyGPS, speedAccuracyGPS, bAccuracyGPS with NaN\n",
    "        df.loc[df['nrSatellitesInFix'] == 0, ['hAccuracyGPS', 'vAccuracyGPS', 'speedAccuracyGPS', 'bAccuracyGPS']] = 0\n",
    "        \n",
    "        averaged_data = pd.concat([averaged_data, df], ignore_index=True)\n",
    "        \n",
    "        \n",
    "    averaged_data.sort_values(by=['label'], inplace=True)\n",
    "    averaged_data.to_csv(averaged_path, index=False)\n",
    "    print(f'Saved averaged data to {averaged_path}')\n",
    "    return averaged_data\n",
    "\n",
    "averaged_data = preprocess_data(files_directory, averaged_path)\n",
    "#show label and satellite_cn0_std\n",
    "averaged_data[['label', 'satellite_cn0_std']]\n"
   ]
  },
  {
   "cell_type": "markdown",
   "source": [
    "# Train the Random Forest Classifier"
   ],
   "metadata": {
    "collapsed": false
   }
  },
  {
   "cell_type": "markdown",
   "source": [
    "## Randomize and Split the Data for Random Forest Classifier"
   ],
   "metadata": {
    "collapsed": false
   }
  },
  {
   "cell_type": "code",
   "outputs": [],
   "source": [
    "from sklearn.model_selection import train_test_split\n",
    "\n",
    "# Randomize the data\n",
    "averaged_data = averaged_data.sample(frac=1, random_state=42).reset_index(drop=True)\n",
    "\n",
    "# Split the data into training and testing data\n",
    "train_data, test_data = train_test_split(averaged_data, test_size=0.2, random_state=42)"
   ],
   "metadata": {
    "collapsed": false,
    "ExecuteTime": {
     "end_time": "2024-03-19T21:21:24.760964Z",
     "start_time": "2024-03-19T21:21:24.752008Z"
    }
   },
   "execution_count": 20
  },
  {
   "cell_type": "markdown",
   "source": [
    "## Train a Random Forest Classifier"
   ],
   "metadata": {
    "collapsed": false
   }
  },
  {
   "cell_type": "code",
   "outputs": [
    {
     "name": "stdout",
     "output_type": "stream",
     "text": [
      "Labels: ['Outdoor' 'Indoor' 'Outdoor' 'Outdoor' 'Outdoor' 'Indoor' 'Indoor'\n",
      " 'Indoor']\n",
      "Predictions: ['Outdoor' 'Indoor' 'Outdoor' 'Outdoor' 'Outdoor' 'Indoor' 'Indoor'\n",
      " 'Indoor']\n",
      "Accuracy: 1.0\n"
     ]
    }
   ],
   "source": [
    "from sklearn.ensemble import RandomForestClassifier\n",
    "from sklearn.metrics import accuracy_score\n",
    "\n",
    "# Train the Random Forest Classifier\n",
    "clf = RandomForestClassifier(random_state=42)\n",
    "clf.fit(train_data.drop(columns=['label']), train_data['label'])\n",
    "\n",
    "# Predict the labels of the test data\n",
    "predictions = clf.predict(test_data.drop(columns=['label']))\n",
    "\n",
    "# Print the first 10 labels and predictions\n",
    "print(f'Labels: {test_data[\"label\"].values[:10]}')\n",
    "print(f'Predictions: {predictions[:10]}')\n",
    "\n",
    "# Calculate the accuracy of the classifier\n",
    "accuracy = accuracy_score(test_data['label'], predictions)\n",
    "print(f'Accuracy: {accuracy}')"
   ],
   "metadata": {
    "collapsed": false,
    "ExecuteTime": {
     "end_time": "2024-03-19T21:21:24.857014Z",
     "start_time": "2024-03-19T21:21:24.762488Z"
    }
   },
   "execution_count": 21
  },
  {
   "cell_type": "markdown",
   "source": [
    "## Get the Feature Importances"
   ],
   "metadata": {
    "collapsed": false
   }
  },
  {
   "cell_type": "code",
   "outputs": [
    {
     "data": {
      "text/plain": "                  feature  importance\n11              maxCn0GPS    0.114162\n21   satellite_cn0_median    0.101738\n7      nrSatellitesInView    0.095682\n24    satellite_cn0_range    0.088482\n20             GPS_counts    0.082902\n23      satellite_cn0_std    0.081474\n10             meanCn0GPS    0.069247\n9               minCn0GPS    0.064385\n3            hAccuracyGPS    0.056153\n6        speedAccuracyGPS    0.053300\n22     satellite_cn0_mode    0.051346\n8       nrSatellitesInFix    0.032423\n4            vAccuracyGPS    0.027404\n17             minCn0Wifi    0.023302\n5            bAccuracyGPS    0.021913\n14              meanCn0Bl    0.011802\n26    bluetooth_rssi_mode    0.006412\n0            cellStrength    0.005466\n29       wifi_rssi_median    0.004716\n16          nrWifiDevices    0.003903\n28   bluetooth_rssi_range    0.001400\n15               maxCn0Bl    0.001313\n32        wifi_rssi_range    0.001077\n19             maxCn0Wifi    0.000000\n18            meanCn0Wifi    0.000000\n1        hAccuracyNetwork    0.000000\n13               minCn0Bl    0.000000\n25  bluetooth_rssi_median    0.000000\n12            nrBlDevices    0.000000\n27     bluetooth_rssi_std    0.000000\n2        vAccuracyNetwork    0.000000\n30         wifi_rssi_mode    0.000000\n31          wifi_rssi_std    0.000000",
      "text/html": "<div>\n<style scoped>\n    .dataframe tbody tr th:only-of-type {\n        vertical-align: middle;\n    }\n\n    .dataframe tbody tr th {\n        vertical-align: top;\n    }\n\n    .dataframe thead th {\n        text-align: right;\n    }\n</style>\n<table border=\"1\" class=\"dataframe\">\n  <thead>\n    <tr style=\"text-align: right;\">\n      <th></th>\n      <th>feature</th>\n      <th>importance</th>\n    </tr>\n  </thead>\n  <tbody>\n    <tr>\n      <th>11</th>\n      <td>maxCn0GPS</td>\n      <td>0.114162</td>\n    </tr>\n    <tr>\n      <th>21</th>\n      <td>satellite_cn0_median</td>\n      <td>0.101738</td>\n    </tr>\n    <tr>\n      <th>7</th>\n      <td>nrSatellitesInView</td>\n      <td>0.095682</td>\n    </tr>\n    <tr>\n      <th>24</th>\n      <td>satellite_cn0_range</td>\n      <td>0.088482</td>\n    </tr>\n    <tr>\n      <th>20</th>\n      <td>GPS_counts</td>\n      <td>0.082902</td>\n    </tr>\n    <tr>\n      <th>23</th>\n      <td>satellite_cn0_std</td>\n      <td>0.081474</td>\n    </tr>\n    <tr>\n      <th>10</th>\n      <td>meanCn0GPS</td>\n      <td>0.069247</td>\n    </tr>\n    <tr>\n      <th>9</th>\n      <td>minCn0GPS</td>\n      <td>0.064385</td>\n    </tr>\n    <tr>\n      <th>3</th>\n      <td>hAccuracyGPS</td>\n      <td>0.056153</td>\n    </tr>\n    <tr>\n      <th>6</th>\n      <td>speedAccuracyGPS</td>\n      <td>0.053300</td>\n    </tr>\n    <tr>\n      <th>22</th>\n      <td>satellite_cn0_mode</td>\n      <td>0.051346</td>\n    </tr>\n    <tr>\n      <th>8</th>\n      <td>nrSatellitesInFix</td>\n      <td>0.032423</td>\n    </tr>\n    <tr>\n      <th>4</th>\n      <td>vAccuracyGPS</td>\n      <td>0.027404</td>\n    </tr>\n    <tr>\n      <th>17</th>\n      <td>minCn0Wifi</td>\n      <td>0.023302</td>\n    </tr>\n    <tr>\n      <th>5</th>\n      <td>bAccuracyGPS</td>\n      <td>0.021913</td>\n    </tr>\n    <tr>\n      <th>14</th>\n      <td>meanCn0Bl</td>\n      <td>0.011802</td>\n    </tr>\n    <tr>\n      <th>26</th>\n      <td>bluetooth_rssi_mode</td>\n      <td>0.006412</td>\n    </tr>\n    <tr>\n      <th>0</th>\n      <td>cellStrength</td>\n      <td>0.005466</td>\n    </tr>\n    <tr>\n      <th>29</th>\n      <td>wifi_rssi_median</td>\n      <td>0.004716</td>\n    </tr>\n    <tr>\n      <th>16</th>\n      <td>nrWifiDevices</td>\n      <td>0.003903</td>\n    </tr>\n    <tr>\n      <th>28</th>\n      <td>bluetooth_rssi_range</td>\n      <td>0.001400</td>\n    </tr>\n    <tr>\n      <th>15</th>\n      <td>maxCn0Bl</td>\n      <td>0.001313</td>\n    </tr>\n    <tr>\n      <th>32</th>\n      <td>wifi_rssi_range</td>\n      <td>0.001077</td>\n    </tr>\n    <tr>\n      <th>19</th>\n      <td>maxCn0Wifi</td>\n      <td>0.000000</td>\n    </tr>\n    <tr>\n      <th>18</th>\n      <td>meanCn0Wifi</td>\n      <td>0.000000</td>\n    </tr>\n    <tr>\n      <th>1</th>\n      <td>hAccuracyNetwork</td>\n      <td>0.000000</td>\n    </tr>\n    <tr>\n      <th>13</th>\n      <td>minCn0Bl</td>\n      <td>0.000000</td>\n    </tr>\n    <tr>\n      <th>25</th>\n      <td>bluetooth_rssi_median</td>\n      <td>0.000000</td>\n    </tr>\n    <tr>\n      <th>12</th>\n      <td>nrBlDevices</td>\n      <td>0.000000</td>\n    </tr>\n    <tr>\n      <th>27</th>\n      <td>bluetooth_rssi_std</td>\n      <td>0.000000</td>\n    </tr>\n    <tr>\n      <th>2</th>\n      <td>vAccuracyNetwork</td>\n      <td>0.000000</td>\n    </tr>\n    <tr>\n      <th>30</th>\n      <td>wifi_rssi_mode</td>\n      <td>0.000000</td>\n    </tr>\n    <tr>\n      <th>31</th>\n      <td>wifi_rssi_std</td>\n      <td>0.000000</td>\n    </tr>\n  </tbody>\n</table>\n</div>"
     },
     "execution_count": 22,
     "metadata": {},
     "output_type": "execute_result"
    }
   ],
   "source": [
    "#print the feature importances for the classifier and the corresponding column names\n",
    "feature_importances = clf.feature_importances_\n",
    "feature_names = train_data.drop(columns=['label']).columns\n",
    "feature_importances = pd.DataFrame({'feature': feature_names, 'importance': feature_importances})\n",
    "feature_importances = feature_importances.sort_values(by='importance', ascending=False)\n",
    "feature_importances"
   ],
   "metadata": {
    "collapsed": false,
    "ExecuteTime": {
     "end_time": "2024-03-19T21:21:24.889601Z",
     "start_time": "2024-03-19T21:21:24.867814Z"
    }
   },
   "execution_count": 22
  },
  {
   "cell_type": "markdown",
   "source": [
    "## Save the model and tryout the model with new data"
   ],
   "metadata": {
    "collapsed": false
   }
  },
  {
   "cell_type": "markdown",
   "source": [],
   "metadata": {
    "collapsed": false
   }
  },
  {
   "cell_type": "code",
   "outputs": [
    {
     "name": "stdout",
     "output_type": "stream",
     "text": [
      "Saved model to ../Daten/random_forest_classifier.joblib\n"
     ]
    }
   ],
   "source": [
    "import joblib\n",
    "\n",
    "# Save the model\n",
    "model_path = '../Daten/random_forest_classifier.joblib'\n",
    "joblib.dump(clf, model_path)\n",
    "print(f'Saved model to {model_path}')"
   ],
   "metadata": {
    "collapsed": false,
    "ExecuteTime": {
     "end_time": "2024-03-19T21:21:24.932316Z",
     "start_time": "2024-03-19T21:21:24.890887Z"
    }
   },
   "execution_count": 23
  },
  {
   "cell_type": "markdown",
   "source": [
    "# Test the model with new data in validation folder in this notebook"
   ],
   "metadata": {
    "collapsed": false
   }
  },
  {
   "cell_type": "code",
   "outputs": [
    {
     "name": "stdout",
     "output_type": "stream",
     "text": [
      "Removed ../Daten/validation_averaged_data.csv\n",
      "Saved averaged data to ../Daten/validation_averaged_data.csv\n",
      "Label: Indoor, Prediction: Indoor\n"
     ]
    }
   ],
   "source": [
    "validation_files_directory = '../Daten/validation/'\n",
    "\n",
    "validation_averaged_path = '../Daten/validation_averaged_data.csv'\n",
    "\n",
    "model_path = '../Daten/random_forest_classifier.joblib'\n",
    "\n",
    "# Load the model\n",
    "model = joblib.load(model_path)\n",
    "\n",
    "validation_averaged_data = preprocess_data(validation_files_directory, validation_averaged_path)\n",
    "\n",
    "# Predict the labels of the validation data\n",
    "validation_predictions = model.predict(validation_averaged_data.drop(columns=['label']))\n",
    "\n",
    "#print label and the corresponding prediction\n",
    "for label, prediction in zip(validation_averaged_data['label'], validation_predictions):\n",
    "    print(f'Label: {label}, Prediction: {prediction}')"
   ],
   "metadata": {
    "collapsed": false,
    "ExecuteTime": {
     "end_time": "2024-03-19T21:21:25.007908Z",
     "start_time": "2024-03-19T21:21:24.933377Z"
    }
   },
   "execution_count": 24
  }
 ],
 "metadata": {
  "kernelspec": {
   "display_name": "Python 3",
   "language": "python",
   "name": "python3"
  },
  "language_info": {
   "name": "python",
   "version": "3.12.0"
  }
 },
 "nbformat": 4,
 "nbformat_minor": 2
}
