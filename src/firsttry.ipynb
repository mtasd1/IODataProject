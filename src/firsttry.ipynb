{
 "cells": [
  {
   "cell_type": "markdown",
   "source": [
    "# Data Preprocessing, Averaging over all csv-files and Saving the averaged data into new csv-file"
   ],
   "metadata": {
    "collapsed": false
   }
  },
  {
   "cell_type": "code",
   "execution_count": 163,
   "metadata": {
    "ExecuteTime": {
     "end_time": "2024-03-24T20:38:12.782809Z",
     "start_time": "2024-03-24T20:38:10.219355Z"
    }
   },
   "outputs": [
    {
     "name": "stdout",
     "output_type": "stream",
     "text": [
      "Removed ../Daten/averaged_data.csv\n",
      "Found 111 CSV files\n",
      "Found 58 indoor files and 53 outdoor files\n",
      "Saved averaged data to ../Daten/averaged_data.csv\n"
     ]
    },
    {
     "data": {
      "text/plain": "     label  cellStrength  hAccuracyNetwork  vAccuracyNetwork  hAccuracyGPS  \\\n0   Indoor      3.000000         31.420750          4.380243      0.000000   \n90  Indoor      4.000000        289.326400          3.615690      0.000000   \n36  Indoor      4.000000         15.882828          4.411594      2.875862   \n39  Indoor      3.739130         13.906043          1.022417      0.000000   \n86  Indoor      3.827586         19.207759          2.242016      0.000000   \n\n    vAccuracyGPS  bAccuracyGPS  speedAccuracyGPS  nrSatellitesInView  \\\n0            0.0      0.000000          0.000000           42.958333   \n90           0.0      0.000000          0.000000           48.880000   \n36          16.9    114.124138          1.627586           52.000000   \n39           0.0      0.000000          0.000000           35.304348   \n86           0.0      0.000000          0.000000           36.000000   \n\n    nrSatellitesInFix  ...  satellite_cn0_std  satellite_cn0_range  \\\n0             0.00000  ...           0.000000             0.000000   \n90            0.00000  ...           0.000000             0.000000   \n36           21.62069  ...           5.260561            18.937931   \n39            0.00000  ...           0.000000             0.000000   \n86            0.00000  ...           0.000000             0.000000   \n\n    bluetooth_rssi_median  bluetooth_rssi_mode  bluetooth_rssi_std  \\\n0              -90.416667           -98.000000           23.345390   \n90             -57.280000           -76.000000           18.590809   \n36             -81.603448           -90.000000           18.034808   \n39             -80.239130           -83.086957           11.204011   \n86             -64.086207           -77.000000           12.713838   \n\n    bluetooth_rssi_range  wifi_rssi_median  wifi_rssi_mode  wifi_rssi_std  \\\n0              57.000000        -73.875000      -87.833333      13.391746   \n90             30.440000        -83.680000      -87.720000       8.546465   \n36             50.689655        -78.620690      -81.103448       9.578388   \n39             57.608696        -74.869565      -74.521739       7.856450   \n86             39.000000        -66.879310      -75.482759       6.138782   \n\n    wifi_rssi_range  \n0         40.833333  \n90        20.000000  \n36        30.068966  \n39        25.826087  \n86        11.758621  \n\n[5 rows x 33 columns]",
      "text/html": "<div>\n<style scoped>\n    .dataframe tbody tr th:only-of-type {\n        vertical-align: middle;\n    }\n\n    .dataframe tbody tr th {\n        vertical-align: top;\n    }\n\n    .dataframe thead th {\n        text-align: right;\n    }\n</style>\n<table border=\"1\" class=\"dataframe\">\n  <thead>\n    <tr style=\"text-align: right;\">\n      <th></th>\n      <th>label</th>\n      <th>cellStrength</th>\n      <th>hAccuracyNetwork</th>\n      <th>vAccuracyNetwork</th>\n      <th>hAccuracyGPS</th>\n      <th>vAccuracyGPS</th>\n      <th>bAccuracyGPS</th>\n      <th>speedAccuracyGPS</th>\n      <th>nrSatellitesInView</th>\n      <th>nrSatellitesInFix</th>\n      <th>...</th>\n      <th>satellite_cn0_std</th>\n      <th>satellite_cn0_range</th>\n      <th>bluetooth_rssi_median</th>\n      <th>bluetooth_rssi_mode</th>\n      <th>bluetooth_rssi_std</th>\n      <th>bluetooth_rssi_range</th>\n      <th>wifi_rssi_median</th>\n      <th>wifi_rssi_mode</th>\n      <th>wifi_rssi_std</th>\n      <th>wifi_rssi_range</th>\n    </tr>\n  </thead>\n  <tbody>\n    <tr>\n      <th>0</th>\n      <td>Indoor</td>\n      <td>3.000000</td>\n      <td>31.420750</td>\n      <td>4.380243</td>\n      <td>0.000000</td>\n      <td>0.0</td>\n      <td>0.000000</td>\n      <td>0.000000</td>\n      <td>42.958333</td>\n      <td>0.00000</td>\n      <td>...</td>\n      <td>0.000000</td>\n      <td>0.000000</td>\n      <td>-90.416667</td>\n      <td>-98.000000</td>\n      <td>23.345390</td>\n      <td>57.000000</td>\n      <td>-73.875000</td>\n      <td>-87.833333</td>\n      <td>13.391746</td>\n      <td>40.833333</td>\n    </tr>\n    <tr>\n      <th>90</th>\n      <td>Indoor</td>\n      <td>4.000000</td>\n      <td>289.326400</td>\n      <td>3.615690</td>\n      <td>0.000000</td>\n      <td>0.0</td>\n      <td>0.000000</td>\n      <td>0.000000</td>\n      <td>48.880000</td>\n      <td>0.00000</td>\n      <td>...</td>\n      <td>0.000000</td>\n      <td>0.000000</td>\n      <td>-57.280000</td>\n      <td>-76.000000</td>\n      <td>18.590809</td>\n      <td>30.440000</td>\n      <td>-83.680000</td>\n      <td>-87.720000</td>\n      <td>8.546465</td>\n      <td>20.000000</td>\n    </tr>\n    <tr>\n      <th>36</th>\n      <td>Indoor</td>\n      <td>4.000000</td>\n      <td>15.882828</td>\n      <td>4.411594</td>\n      <td>2.875862</td>\n      <td>16.9</td>\n      <td>114.124138</td>\n      <td>1.627586</td>\n      <td>52.000000</td>\n      <td>21.62069</td>\n      <td>...</td>\n      <td>5.260561</td>\n      <td>18.937931</td>\n      <td>-81.603448</td>\n      <td>-90.000000</td>\n      <td>18.034808</td>\n      <td>50.689655</td>\n      <td>-78.620690</td>\n      <td>-81.103448</td>\n      <td>9.578388</td>\n      <td>30.068966</td>\n    </tr>\n    <tr>\n      <th>39</th>\n      <td>Indoor</td>\n      <td>3.739130</td>\n      <td>13.906043</td>\n      <td>1.022417</td>\n      <td>0.000000</td>\n      <td>0.0</td>\n      <td>0.000000</td>\n      <td>0.000000</td>\n      <td>35.304348</td>\n      <td>0.00000</td>\n      <td>...</td>\n      <td>0.000000</td>\n      <td>0.000000</td>\n      <td>-80.239130</td>\n      <td>-83.086957</td>\n      <td>11.204011</td>\n      <td>57.608696</td>\n      <td>-74.869565</td>\n      <td>-74.521739</td>\n      <td>7.856450</td>\n      <td>25.826087</td>\n    </tr>\n    <tr>\n      <th>86</th>\n      <td>Indoor</td>\n      <td>3.827586</td>\n      <td>19.207759</td>\n      <td>2.242016</td>\n      <td>0.000000</td>\n      <td>0.0</td>\n      <td>0.000000</td>\n      <td>0.000000</td>\n      <td>36.000000</td>\n      <td>0.00000</td>\n      <td>...</td>\n      <td>0.000000</td>\n      <td>0.000000</td>\n      <td>-64.086207</td>\n      <td>-77.000000</td>\n      <td>12.713838</td>\n      <td>39.000000</td>\n      <td>-66.879310</td>\n      <td>-75.482759</td>\n      <td>6.138782</td>\n      <td>11.758621</td>\n    </tr>\n  </tbody>\n</table>\n<p>5 rows × 33 columns</p>\n</div>"
     },
     "execution_count": 163,
     "metadata": {},
     "output_type": "execute_result"
    }
   ],
   "source": [
    "import os\n",
    "import pandas as pd\n",
    "import json \n",
    "from collections import Counter\n",
    "\n",
    "files_directory = '../Daten/firsttry/'\n",
    "\n",
    "averaged_path = '../Daten/averaged_data.csv'\n",
    "\n",
    "\n",
    "# extract the code into a function called preprocess_data so that we can use it later for new data\n",
    "def preprocess_data(directory, averaged_path):\n",
    "    if os.path.exists(averaged_path):\n",
    "        os.remove(averaged_path)\n",
    "        print(f\"Removed {averaged_path}\")\n",
    "\n",
    "    # Get list of CSV files\n",
    "    csv_files = [file for file in os.listdir(directory) if file.endswith('.csv')]\n",
    "    print(f'Found {len(csv_files)} CSV files')\n",
    "    \n",
    "    # Get nr of files, where name starts with indoor and outdoor\n",
    "    indoor_files = [file for file in csv_files if file.startswith('Indoor')]\n",
    "    outdoor_files = [file for file in csv_files if file.startswith('Outdoor')]\n",
    "    print(f'Found {len(indoor_files)} indoor files and {len(outdoor_files)} outdoor files')\n",
    "    \n",
    "    averaged_data = pd.DataFrame()\n",
    "    \n",
    "    for file in csv_files:\n",
    "        df = pd.read_csv(directory + file, sep=';')\n",
    "        # Drop unnecessary columns like timeStampNetwork and timeStampGPS\n",
    "        df = df.drop(columns=['timeStampNetwork', 'timeStampGPS', 'bAccuracyNetwork', 'speedAccuracyNetwork', 'cellType', 'networkLocationType'])\n",
    "        # Remove first x rows and reset begin index to 0\n",
    "        removedRows = 3\n",
    "        df = df.iloc[removedRows:]\n",
    "        df = df.reset_index(drop=True)\n",
    "        \n",
    "        # Load satellites json\n",
    "        df['satellites'] = df['satellites'].apply(lambda x: json.loads(x))\n",
    "        \n",
    "        '''# Add columns of nr of satellite of each constellation\n",
    "        df['GPS_counts'] = df['satellites'].apply(lambda x: Counter([sat['constellation'] for sat in x if sat['constellation'] == 'GPS']).get('GPS', 0))\n",
    "        \n",
    "        df['BEIDOU_counts'] = df['satellites'].apply(lambda x: Counter([sat['constellation'] for sat in x if sat['constellation'] == 'BEIDOU']).get('BEIDOU', 0))\n",
    "        \n",
    "        df['GALILEO_counts'] = df['satellites'].apply(lambda x: Counter([sat['constellation'] for sat in x if sat['constellation'] == 'GALILEO']).get('GALILEO', 0))\n",
    "        \n",
    "        df['GLONASS_counts'] = df['satellites'].apply(lambda x: Counter([sat['constellation'] for sat in x if sat['constellation'] == 'GLONASS']).get('GLONASS', 0))'''\n",
    "        \n",
    "        # Add cn0 column for easier computation of statistics\n",
    "        df['satellite_cn0'] = df['satellites'].apply(lambda x: [sat['cn0'] for sat in x])\n",
    "        \n",
    "        # Calculate median, mode, variance, standard deviation and range of the satellite cn0\n",
    "        df['satellite_cn0_median'] = df['satellite_cn0'].apply(lambda x: pd.Series(x).median() if not pd.Series(x).empty else 0)\n",
    "        df['satellite_cn0_mode'] = df['satellite_cn0'].apply(lambda x: pd.Series(x).mode()[0] if not pd.Series(x).mode().empty else 0)\n",
    "        df['satellite_cn0_std'] = df['satellite_cn0'].apply(lambda x: pd.Series(x).std() if not pd.Series(x).empty else 0)\n",
    "        df['satellite_cn0_range'] = df['satellite_cn0'].apply(lambda x: pd.Series(x).max() - pd.Series(x).min() if not pd.Series(x).empty else 0)\n",
    "        \n",
    "        # load the bluetooth json and load rssi into a new column\n",
    "        df['bluetoothDevices'] = df['bluetoothDevices'].apply(lambda x: json.loads(x))\n",
    "        df['bluetooth_rssi'] = df['bluetoothDevices'].apply(lambda x: [device['rssi'] for device in x])\n",
    "        \n",
    "         # Calculate statistical figures for the bluetooth devices\n",
    "        df['bluetooth_rssi_median'] = df['bluetooth_rssi'].apply(lambda x: pd.Series(x).median() if not pd.Series(x).empty else 0)\n",
    "        df['bluetooth_rssi_mode'] = df['bluetooth_rssi'].apply(lambda x: pd.Series(x).mode()[0] if not pd.Series(x).mode().empty else 0)\n",
    "        df['bluetooth_rssi_std'] = df['bluetooth_rssi'].apply(lambda x: pd.Series(x).std() if not pd.Series(x).empty else 0)\n",
    "        df['bluetooth_rssi_range'] = df['bluetooth_rssi'].apply(lambda x: pd.Series(x).max() - pd.Series(x).min() if not pd.Series(x).empty else 0)\n",
    "        \n",
    "        # load the wifi json and load rssi into a new column\n",
    "        df['wifiDevices'] = df['wifiDevices'].apply(lambda x: json.loads(x))\n",
    "        df['wifi_rssi'] = df['wifiDevices'].apply(lambda x: [device['level'] for device in x])\n",
    "        \n",
    "         # Calculate statistical figures for the wifi devices\n",
    "        df['wifi_rssi_median'] = df['wifi_rssi'].apply(lambda x: pd.Series(x).median() if not pd.Series(x).empty else 0)\n",
    "        df['wifi_rssi_mode'] = df['wifi_rssi'].apply(lambda x: pd.Series(x).mode()[0] if not pd.Series(x).mode().empty else 0)\n",
    "        df['wifi_rssi_std'] = df['wifi_rssi'].apply(lambda x: pd.Series(x).std() if not pd.Series(x).empty else 0)\n",
    "        df['wifi_rssi_range'] = df['wifi_rssi'].apply(lambda x: pd.Series(x).max() - pd.Series(x).min() if not pd.Series(x).empty else 0)\n",
    "        \n",
    "        # Drop list columns\n",
    "        df.drop(columns=['satellites', 'bluetoothDevices', 'wifiDevices', 'satellite_cn0', 'bluetooth_rssi', 'wifi_rssi'], inplace=True)\n",
    "        \n",
    "         # Average over all columns for numeric values and take the first of non-numeric to have a single row\n",
    "        label = df.iloc[0]['label']\n",
    "        \n",
    "        df.drop(columns=['label'], inplace=True)\n",
    "        \n",
    "        df = df.mean().to_frame().T\n",
    "        \n",
    "        df['label'] = label\n",
    "        \n",
    "        #place label at the beginning\n",
    "        cols = list(df.columns)\n",
    "        cols = [cols[-1]] + cols[:-1]\n",
    "        df = df[cols]\n",
    "        \n",
    "        \n",
    "        # if the nr of satellites is 0, then replace hAccurracyGPS, vAccuracyGPS, speedAccuracyGPS, bAccuracyGPS with NaN\n",
    "        df.loc[df['nrSatellitesInFix'] == 0, ['hAccuracyGPS', 'vAccuracyGPS', 'speedAccuracyGPS', 'bAccuracyGPS']] = 0\n",
    "        \n",
    "        averaged_data = pd.concat([averaged_data, df], ignore_index=True)\n",
    "        \n",
    "        \n",
    "    averaged_data.sort_values(by=['label'], inplace=True)\n",
    "    averaged_data.to_csv(averaged_path, index=False)\n",
    "    print(f'Saved averaged data to {averaged_path}')\n",
    "    return averaged_data\n",
    "\n",
    "averaged_data = preprocess_data(files_directory, averaged_path)\n",
    "averaged_data.head()\n"
   ]
  },
  {
   "cell_type": "markdown",
   "source": [
    "# Train the Random Forest Classifier"
   ],
   "metadata": {
    "collapsed": false
   }
  },
  {
   "cell_type": "markdown",
   "source": [
    "## Randomize and Split the Data for Random Forest Classifier"
   ],
   "metadata": {
    "collapsed": false
   }
  },
  {
   "cell_type": "code",
   "outputs": [],
   "source": [
    "from sklearn.model_selection import train_test_split\n",
    "\n",
    "# Randomize the data\n",
    "averaged_data = averaged_data.sample(frac=1).reset_index(drop=True)\n",
    "\n",
    "# drop the label column\n",
    "X = averaged_data.drop(columns=['label'], axis=1)\n",
    "Y = averaged_data['label']\n",
    "\n",
    "# Split the data into training and testing data\n",
    "X_train, X_test, Y_train, Y_test = train_test_split(X, Y, test_size=0.3)"
   ],
   "metadata": {
    "collapsed": false,
    "ExecuteTime": {
     "end_time": "2024-03-24T20:38:12.787819Z",
     "start_time": "2024-03-24T20:38:12.783754Z"
    }
   },
   "execution_count": 164
  },
  {
   "cell_type": "markdown",
   "source": [
    "## Train a Random Forest Classifier"
   ],
   "metadata": {
    "collapsed": false
   }
  },
  {
   "cell_type": "code",
   "outputs": [
    {
     "name": "stdout",
     "output_type": "stream",
     "text": [
      "Cross-validation scores: [0.875      1.         1.         0.93333333 0.93333333]\n",
      "Accuracy: 0.9705882352941176\n"
     ]
    }
   ],
   "source": [
    "import numpy as np\n",
    "from sklearn.model_selection import cross_val_score\n",
    "from sklearn.feature_selection import SelectFromModel\n",
    "from sklearn.ensemble import RandomForestClassifier\n",
    "from sklearn.metrics import accuracy_score\n",
    "\n",
    "# Train the Random Forest Classifier with regularization\n",
    "clf = RandomForestClassifier()\n",
    "\n",
    "# Train the classifier\n",
    "clf.fit(X_train, Y_train)\n",
    "\n",
    "# Cross-validation\n",
    "scores = cross_val_score(clf, X_train, Y_train, cv=5)\n",
    "print(f\"Cross-validation scores: {scores}\")\n",
    "\n",
    "# Predict the labels of the test data\n",
    "y_pred = clf.predict(X_test)\n",
    "\n",
    "# Calculate the accuracy of the classifier\n",
    "accuracy = accuracy_score(Y_test, y_pred)\n",
    "print(f'Accuracy: {accuracy}')"
   ],
   "metadata": {
    "collapsed": false,
    "ExecuteTime": {
     "end_time": "2024-03-24T20:38:13.072095Z",
     "start_time": "2024-03-24T20:38:12.788579Z"
    }
   },
   "execution_count": 165
  },
  {
   "cell_type": "markdown",
   "source": [
    "## Get the Feature Importances"
   ],
   "metadata": {
    "collapsed": false
   }
  },
  {
   "cell_type": "code",
   "outputs": [
    {
     "data": {
      "text/plain": "                  feature  importance\n11              maxCn0GPS    0.151304\n23    satellite_cn0_range    0.135635\n20   satellite_cn0_median    0.112367\n22      satellite_cn0_std    0.107893\n8       nrSatellitesInFix    0.096595\n10             meanCn0GPS    0.081781\n21     satellite_cn0_mode    0.076139\n9               minCn0GPS    0.046210\n0            cellStrength    0.025000\n18            meanCn0Wifi    0.022899\n17             minCn0Wifi    0.019785\n6        speedAccuracyGPS    0.018208\n1        hAccuracyNetwork    0.017961\n19             maxCn0Wifi    0.015117\n28       wifi_rssi_median    0.012049\n24  bluetooth_rssi_median    0.007309\n4            vAccuracyGPS    0.006198\n3            hAccuracyGPS    0.006062\n7      nrSatellitesInView    0.005306\n5            bAccuracyGPS    0.004751\n14              meanCn0Bl    0.004381\n25    bluetooth_rssi_mode    0.004353\n30          wifi_rssi_std    0.004322\n16          nrWifiDevices    0.004101\n13               minCn0Bl    0.004037\n15               maxCn0Bl    0.003486\n12            nrBlDevices    0.001958\n27   bluetooth_rssi_range    0.001412\n29         wifi_rssi_mode    0.001397\n31        wifi_rssi_range    0.001384\n2        vAccuracyNetwork    0.000347\n26     bluetooth_rssi_std    0.000253",
      "text/html": "<div>\n<style scoped>\n    .dataframe tbody tr th:only-of-type {\n        vertical-align: middle;\n    }\n\n    .dataframe tbody tr th {\n        vertical-align: top;\n    }\n\n    .dataframe thead th {\n        text-align: right;\n    }\n</style>\n<table border=\"1\" class=\"dataframe\">\n  <thead>\n    <tr style=\"text-align: right;\">\n      <th></th>\n      <th>feature</th>\n      <th>importance</th>\n    </tr>\n  </thead>\n  <tbody>\n    <tr>\n      <th>11</th>\n      <td>maxCn0GPS</td>\n      <td>0.151304</td>\n    </tr>\n    <tr>\n      <th>23</th>\n      <td>satellite_cn0_range</td>\n      <td>0.135635</td>\n    </tr>\n    <tr>\n      <th>20</th>\n      <td>satellite_cn0_median</td>\n      <td>0.112367</td>\n    </tr>\n    <tr>\n      <th>22</th>\n      <td>satellite_cn0_std</td>\n      <td>0.107893</td>\n    </tr>\n    <tr>\n      <th>8</th>\n      <td>nrSatellitesInFix</td>\n      <td>0.096595</td>\n    </tr>\n    <tr>\n      <th>10</th>\n      <td>meanCn0GPS</td>\n      <td>0.081781</td>\n    </tr>\n    <tr>\n      <th>21</th>\n      <td>satellite_cn0_mode</td>\n      <td>0.076139</td>\n    </tr>\n    <tr>\n      <th>9</th>\n      <td>minCn0GPS</td>\n      <td>0.046210</td>\n    </tr>\n    <tr>\n      <th>0</th>\n      <td>cellStrength</td>\n      <td>0.025000</td>\n    </tr>\n    <tr>\n      <th>18</th>\n      <td>meanCn0Wifi</td>\n      <td>0.022899</td>\n    </tr>\n    <tr>\n      <th>17</th>\n      <td>minCn0Wifi</td>\n      <td>0.019785</td>\n    </tr>\n    <tr>\n      <th>6</th>\n      <td>speedAccuracyGPS</td>\n      <td>0.018208</td>\n    </tr>\n    <tr>\n      <th>1</th>\n      <td>hAccuracyNetwork</td>\n      <td>0.017961</td>\n    </tr>\n    <tr>\n      <th>19</th>\n      <td>maxCn0Wifi</td>\n      <td>0.015117</td>\n    </tr>\n    <tr>\n      <th>28</th>\n      <td>wifi_rssi_median</td>\n      <td>0.012049</td>\n    </tr>\n    <tr>\n      <th>24</th>\n      <td>bluetooth_rssi_median</td>\n      <td>0.007309</td>\n    </tr>\n    <tr>\n      <th>4</th>\n      <td>vAccuracyGPS</td>\n      <td>0.006198</td>\n    </tr>\n    <tr>\n      <th>3</th>\n      <td>hAccuracyGPS</td>\n      <td>0.006062</td>\n    </tr>\n    <tr>\n      <th>7</th>\n      <td>nrSatellitesInView</td>\n      <td>0.005306</td>\n    </tr>\n    <tr>\n      <th>5</th>\n      <td>bAccuracyGPS</td>\n      <td>0.004751</td>\n    </tr>\n    <tr>\n      <th>14</th>\n      <td>meanCn0Bl</td>\n      <td>0.004381</td>\n    </tr>\n    <tr>\n      <th>25</th>\n      <td>bluetooth_rssi_mode</td>\n      <td>0.004353</td>\n    </tr>\n    <tr>\n      <th>30</th>\n      <td>wifi_rssi_std</td>\n      <td>0.004322</td>\n    </tr>\n    <tr>\n      <th>16</th>\n      <td>nrWifiDevices</td>\n      <td>0.004101</td>\n    </tr>\n    <tr>\n      <th>13</th>\n      <td>minCn0Bl</td>\n      <td>0.004037</td>\n    </tr>\n    <tr>\n      <th>15</th>\n      <td>maxCn0Bl</td>\n      <td>0.003486</td>\n    </tr>\n    <tr>\n      <th>12</th>\n      <td>nrBlDevices</td>\n      <td>0.001958</td>\n    </tr>\n    <tr>\n      <th>27</th>\n      <td>bluetooth_rssi_range</td>\n      <td>0.001412</td>\n    </tr>\n    <tr>\n      <th>29</th>\n      <td>wifi_rssi_mode</td>\n      <td>0.001397</td>\n    </tr>\n    <tr>\n      <th>31</th>\n      <td>wifi_rssi_range</td>\n      <td>0.001384</td>\n    </tr>\n    <tr>\n      <th>2</th>\n      <td>vAccuracyNetwork</td>\n      <td>0.000347</td>\n    </tr>\n    <tr>\n      <th>26</th>\n      <td>bluetooth_rssi_std</td>\n      <td>0.000253</td>\n    </tr>\n  </tbody>\n</table>\n</div>"
     },
     "execution_count": 166,
     "metadata": {},
     "output_type": "execute_result"
    }
   ],
   "source": [
    "# Print feature importances of the selected features\n",
    "feature_importances = clf.feature_importances_\n",
    "feature_importances = pd.DataFrame({'feature': X.columns, 'importance': feature_importances})\n",
    "feature_importances = feature_importances.sort_values(by='importance', ascending=False)\n",
    "feature_importances"
   ],
   "metadata": {
    "collapsed": false,
    "ExecuteTime": {
     "end_time": "2024-03-24T20:38:13.086951Z",
     "start_time": "2024-03-24T20:38:13.073453Z"
    }
   },
   "execution_count": 166
  },
  {
   "cell_type": "markdown",
   "source": [
    "## Save the model and tryout the model with new data"
   ],
   "metadata": {
    "collapsed": false
   }
  },
  {
   "cell_type": "markdown",
   "source": [],
   "metadata": {
    "collapsed": false
   }
  },
  {
   "cell_type": "code",
   "outputs": [
    {
     "name": "stdout",
     "output_type": "stream",
     "text": [
      "Saved model to ../Daten/random_forest_classifier.joblib\n"
     ]
    }
   ],
   "source": [
    "import joblib\n",
    "\n",
    "# Save the model\n",
    "model_path = '../Daten/random_forest_classifier.joblib'\n",
    "joblib.dump(clf, model_path)\n",
    "print(f'Saved model to {model_path}')"
   ],
   "metadata": {
    "collapsed": false,
    "ExecuteTime": {
     "end_time": "2024-03-24T20:38:13.109100Z",
     "start_time": "2024-03-24T20:38:13.087758Z"
    }
   },
   "execution_count": 167
  },
  {
   "cell_type": "markdown",
   "source": [
    "# Test the model with new data in validation folder in this notebook"
   ],
   "metadata": {
    "collapsed": false
   }
  },
  {
   "cell_type": "code",
   "outputs": [
    {
     "name": "stdout",
     "output_type": "stream",
     "text": [
      "Removed ../Daten/validation_averaged_data.csv\n",
      "Found 4 CSV files\n",
      "Found 2 indoor files and 2 outdoor files\n",
      "Saved averaged data to ../Daten/validation_averaged_data.csv\n",
      "Label: Indoor, Prediction: Indoor, Probability: 1.0\n",
      "Label: Indoor, Prediction: Indoor, Probability: 0.95\n",
      "Label: Outdoor, Prediction: Outdoor, Probability: 0.99\n",
      "Label: Outdoor, Prediction: Outdoor, Probability: 1.0\n"
     ]
    }
   ],
   "source": [
    "validation_files_directory = '../Daten/validation/'\n",
    "\n",
    "validation_averaged_path = '../Daten/validation_averaged_data.csv'\n",
    "\n",
    "model_path = '../Daten/random_forest_classifier.joblib'\n",
    "\n",
    "# Load the model\n",
    "model = joblib.load(model_path)\n",
    "\n",
    "validation_averaged_data = preprocess_data(validation_files_directory, validation_averaged_path)\n",
    "\n",
    "# Predict the labels of the validation data\n",
    "validation_predictions = model.predict(validation_averaged_data.drop(columns=['label']))\n",
    "\n",
    "validation_probabilities = model.predict_proba(validation_averaged_data.drop(columns=['label']))\n",
    "\n",
    "#print label and the corresponding prediction\n",
    "for label, prediction, probability in zip(validation_averaged_data['label'], validation_predictions, validation_probabilities):\n",
    "    if prediction == 'Indoor':\n",
    "        print(f'Label: {label}, Prediction: {prediction}, Probability: {probability[0]}')\n",
    "    else:\n",
    "        print(f'Label: {label}, Prediction: {prediction}, Probability: {probability[1]}')\n",
    "        "
   ],
   "metadata": {
    "collapsed": false,
    "ExecuteTime": {
     "end_time": "2024-03-24T20:38:13.242705Z",
     "start_time": "2024-03-24T20:38:13.110745Z"
    }
   },
   "execution_count": 168
  }
 ],
 "metadata": {
  "kernelspec": {
   "display_name": "Python 3",
   "language": "python",
   "name": "python3"
  },
  "language_info": {
   "name": "python",
   "version": "3.12.0"
  }
 },
 "nbformat": 4,
 "nbformat_minor": 2
}
