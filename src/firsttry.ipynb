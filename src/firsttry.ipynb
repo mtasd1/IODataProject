{
 "cells": [
  {
   "cell_type": "markdown",
   "source": [
    "# Data Preprocessing, Averaging over all csv-files and Saving the averaged data into new csv-file"
   ],
   "metadata": {
    "collapsed": false
   }
  },
  {
   "cell_type": "code",
   "execution_count": 253,
   "metadata": {
    "ExecuteTime": {
     "end_time": "2024-03-25T15:23:52.746470Z",
     "start_time": "2024-03-25T15:23:49.326947Z"
    }
   },
   "outputs": [
    {
     "name": "stdout",
     "output_type": "stream",
     "text": [
      "Removed ../Daten/averaged_data.csv\n",
      "Found 156 CSV files\n",
      "Found 85 indoor files and 71 outdoor files\n",
      "Saved averaged data to ../Daten/averaged_data.csv\n"
     ]
    }
   ],
   "source": [
    "import os\n",
    "import pandas as pd\n",
    "import json \n",
    "from collections import Counter\n",
    "\n",
    "files_directory = '../Daten/firsttry/'\n",
    "\n",
    "averaged_path = '../Daten/averaged_data.csv'\n",
    "\n",
    "\n",
    "# extract the code into a function called preprocess_data so that we can use it later for new data\n",
    "def preprocess_data(directory, averaged_path):\n",
    "    if os.path.exists(averaged_path):\n",
    "        os.remove(averaged_path)\n",
    "        print(f\"Removed {averaged_path}\")\n",
    "\n",
    "    # Get list of CSV files\n",
    "    csv_files = [file for file in os.listdir(directory) if file.endswith('.csv')]\n",
    "    print(f'Found {len(csv_files)} CSV files')\n",
    "    \n",
    "    # Get nr of files, where name starts with indoor and outdoor\n",
    "    indoor_files = [file for file in csv_files if file.startswith('Indoor')]\n",
    "    outdoor_files = [file for file in csv_files if file.startswith('Outdoor')]\n",
    "    print(f'Found {len(indoor_files)} indoor files and {len(outdoor_files)} outdoor files')\n",
    "    \n",
    "    averaged_data = pd.DataFrame()\n",
    "    \n",
    "    for file in csv_files:\n",
    "        df = pd.read_csv(directory + file, sep=';')\n",
    "        # Drop unnecessary columns like timeStampNetwork and timeStampGPS\n",
    "        df = df.drop(columns=['timeStampNetwork', 'timeStampGPS', 'bAccuracyNetwork', 'speedAccuracyNetwork', 'cellType', 'networkLocationType'])\n",
    "        # Remove first x rows and reset begin index to 0\n",
    "        removedRows = 3\n",
    "        df = df.iloc[removedRows:]\n",
    "        df = df.reset_index(drop=True)\n",
    "        \n",
    "        # Load satellites json\n",
    "        df['satellites'] = df['satellites'].apply(lambda x: json.loads(x))\n",
    "        \n",
    "        '''# Add columns of nr of satellite of each constellation\n",
    "        df['GPS_counts'] = df['satellites'].apply(lambda x: Counter([sat['constellation'] for sat in x if sat['constellation'] == 'GPS']).get('GPS', 0))\n",
    "        \n",
    "        df['BEIDOU_counts'] = df['satellites'].apply(lambda x: Counter([sat['constellation'] for sat in x if sat['constellation'] == 'BEIDOU']).get('BEIDOU', 0))\n",
    "        \n",
    "        df['GALILEO_counts'] = df['satellites'].apply(lambda x: Counter([sat['constellation'] for sat in x if sat['constellation'] == 'GALILEO']).get('GALILEO', 0))\n",
    "        \n",
    "        df['GLONASS_counts'] = df['satellites'].apply(lambda x: Counter([sat['constellation'] for sat in x if sat['constellation'] == 'GLONASS']).get('GLONASS', 0))'''\n",
    "        \n",
    "        # Add cn0 column for easier computation of statistics\n",
    "        df['satellite_cn0'] = df['satellites'].apply(lambda x: [sat['cn0'] for sat in x])\n",
    "        \n",
    "        # Calculate median, mode, variance, standard deviation and range of the satellite cn0\n",
    "        df['satellite_cn0_median'] = df['satellite_cn0'].apply(lambda x: pd.Series(x).median() if not pd.Series(x).empty else 0)\n",
    "        df['satellite_cn0_mode'] = df['satellite_cn0'].apply(lambda x: pd.Series(x).mode()[0] if not pd.Series(x).mode().empty else 0)\n",
    "        df['satellite_cn0_std'] = df['satellite_cn0'].apply(lambda x: pd.Series(x).std() if not pd.Series(x).empty else 0)\n",
    "        df['satellite_cn0_range'] = df['satellite_cn0'].apply(lambda x: pd.Series(x).max() - pd.Series(x).min() if not pd.Series(x).empty else 0)\n",
    "        \n",
    "        # load the bluetooth json and load rssi into a new column\n",
    "        df['bluetoothDevices'] = df['bluetoothDevices'].apply(lambda x: json.loads(x))\n",
    "        df['bluetooth_rssi'] = df['bluetoothDevices'].apply(lambda x: [device['rssi'] for device in x])\n",
    "        \n",
    "         # Calculate statistical figures for the bluetooth devices\n",
    "        df['bluetooth_rssi_median'] = df['bluetooth_rssi'].apply(lambda x: pd.Series(x).median() if not pd.Series(x).empty else 0)\n",
    "        df['bluetooth_rssi_mode'] = df['bluetooth_rssi'].apply(lambda x: pd.Series(x).mode()[0] if not pd.Series(x).mode().empty else 0)\n",
    "        df['bluetooth_rssi_std'] = df['bluetooth_rssi'].apply(lambda x: pd.Series(x).std() if not pd.Series(x).empty else 0)\n",
    "        df['bluetooth_rssi_range'] = df['bluetooth_rssi'].apply(lambda x: pd.Series(x).max() - pd.Series(x).min() if not pd.Series(x).empty else 0)\n",
    "        \n",
    "        # load the wifi json and load rssi into a new column\n",
    "        df['wifiDevices'] = df['wifiDevices'].apply(lambda x: json.loads(x))\n",
    "        df['wifi_rssi'] = df['wifiDevices'].apply(lambda x: [device['level'] for device in x])\n",
    "        \n",
    "         # Calculate statistical figures for the wifi devices\n",
    "        df['wifi_rssi_median'] = df['wifi_rssi'].apply(lambda x: pd.Series(x).median() if not pd.Series(x).empty else 0)\n",
    "        df['wifi_rssi_mode'] = df['wifi_rssi'].apply(lambda x: pd.Series(x).mode()[0] if not pd.Series(x).mode().empty else 0)\n",
    "        df['wifi_rssi_range'] = df['wifi_rssi'].apply(lambda x: pd.Series(x).max() - pd.Series(x).min() if not pd.Series(x).empty else 0)\n",
    "        \n",
    "        # Drop list columns\n",
    "        df.drop(columns=['satellites', 'bluetoothDevices', 'wifiDevices', 'satellite_cn0', 'bluetooth_rssi', 'wifi_rssi'], inplace=True)\n",
    "        \n",
    "         # Average over all columns for numeric values and take the first of non-numeric to have a single row\n",
    "        label = df.iloc[0]['label']\n",
    "        \n",
    "        df.drop(columns=['label'], inplace=True)\n",
    "        \n",
    "        df = df.mean().to_frame().T\n",
    "        \n",
    "        df['label'] = label\n",
    "        \n",
    "        #place label at the beginning\n",
    "        cols = list(df.columns)\n",
    "        cols = [cols[-1]] + cols[:-1]\n",
    "        df = df[cols]\n",
    "        \n",
    "        \n",
    "        # if the nr of satellites is 0, then replace hAccurracyGPS, vAccuracyGPS, speedAccuracyGPS, bAccuracyGPS with NaN\n",
    "        df.loc[df['nrSatellitesInFix'] == 0, ['hAccuracyGPS', 'vAccuracyGPS', 'speedAccuracyGPS', 'bAccuracyGPS']] = 0\n",
    "        \n",
    "        averaged_data = pd.concat([averaged_data, df], ignore_index=True)\n",
    "        \n",
    "        \n",
    "    averaged_data.sort_values(by=['label'], inplace=True)\n",
    "    averaged_data.to_csv(averaged_path, index=False)\n",
    "    print(f'Saved averaged data to {averaged_path}')\n",
    "    return averaged_data\n",
    "\n",
    "averaged_data = preprocess_data(files_directory, averaged_path)\n"
   ]
  },
  {
   "cell_type": "markdown",
   "source": [
    "# Train the Random Forest Classifier"
   ],
   "metadata": {
    "collapsed": false
   }
  },
  {
   "cell_type": "markdown",
   "source": [
    "## Randomize and Split the Data for Random Forest Classifier"
   ],
   "metadata": {
    "collapsed": false
   }
  },
  {
   "cell_type": "code",
   "outputs": [
    {
     "name": "stdout",
     "output_type": "stream",
     "text": [
      "Training data shape: (31, 31)\n",
      "Testing data shape: (125, 31)\n"
     ]
    }
   ],
   "source": [
    "from sklearn.model_selection import train_test_split\n",
    "\n",
    "# Randomize the data\n",
    "averaged_data = averaged_data.sample(frac=1).reset_index(drop=True)\n",
    "\n",
    "# drop the label column\n",
    "X = averaged_data.drop(columns=['label'], axis=1)\n",
    "Y = averaged_data['label']\n",
    "\n",
    "# Split the data into training and testing data\n",
    "X_train, X_test, Y_train, Y_test = train_test_split(X, Y, test_size=0.8)\n",
    "\n",
    "print(f'Training data shape: {X_train.shape}')\n",
    "print(f'Testing data shape: {X_test.shape}')"
   ],
   "metadata": {
    "collapsed": false,
    "ExecuteTime": {
     "end_time": "2024-03-25T15:23:52.755916Z",
     "start_time": "2024-03-25T15:23:52.747432Z"
    }
   },
   "execution_count": 254
  },
  {
   "cell_type": "markdown",
   "source": [
    "## Train a Random Forest Classifier"
   ],
   "metadata": {
    "collapsed": false
   }
  },
  {
   "cell_type": "code",
   "outputs": [
    {
     "name": "stdout",
     "output_type": "stream",
     "text": [
      "Cross-validation scores: [1.         0.83333333 1.         0.83333333 1.        ]\n",
      "Accuracy: 0.968\n"
     ]
    }
   ],
   "source": [
    "import numpy as np\n",
    "from sklearn.model_selection import cross_val_score\n",
    "from sklearn.feature_selection import SelectFromModel\n",
    "from sklearn.ensemble import RandomForestClassifier\n",
    "from sklearn.metrics import accuracy_score\n",
    "\n",
    "# Train the Random Forest Classifier with regularization\n",
    "clf = RandomForestClassifier()\n",
    "\n",
    "# Train the classifier\n",
    "clf.fit(X_train, Y_train)\n",
    "\n",
    "# Cross-validation\n",
    "scores = cross_val_score(clf, X_train, Y_train, cv=5)\n",
    "print(f\"Cross-validation scores: {scores}\")\n",
    "\n",
    "# Predict the labels of the test data\n",
    "y_pred = clf.predict(X_test)\n",
    "\n",
    "# Calculate the accuracy of the classifier\n",
    "accuracy = accuracy_score(Y_test, y_pred)\n",
    "print(f'Accuracy: {accuracy}')"
   ],
   "metadata": {
    "collapsed": false,
    "ExecuteTime": {
     "end_time": "2024-03-25T15:23:53.036127Z",
     "start_time": "2024-03-25T15:23:52.756536Z"
    }
   },
   "execution_count": 255
  },
  {
   "cell_type": "markdown",
   "source": [
    "## Get the Feature Importances"
   ],
   "metadata": {
    "collapsed": false
   }
  },
  {
   "cell_type": "code",
   "outputs": [
    {
     "data": {
      "text/plain": "                  feature  importance\n11              maxCn0GPS    0.158963\n23    satellite_cn0_range    0.126607\n10             meanCn0GPS    0.094723\n21     satellite_cn0_mode    0.093422\n20   satellite_cn0_median    0.090168\n8       nrSatellitesInFix    0.086108\n9               minCn0GPS    0.078598\n0            cellStrength    0.053482\n1        hAccuracyNetwork    0.030734\n22      satellite_cn0_std    0.029231\n5            bAccuracyGPS    0.022697\n2        vAccuracyNetwork    0.015613\n16          nrWifiDevices    0.014620\n7      nrSatellitesInView    0.013725\n30        wifi_rssi_range    0.013335\n18            meanCn0Wifi    0.011528\n26     bluetooth_rssi_std    0.008286\n24  bluetooth_rssi_median    0.007818\n28       wifi_rssi_median    0.007712\n25    bluetooth_rssi_mode    0.007486\n29         wifi_rssi_mode    0.006064\n15               maxCn0Bl    0.004924\n14              meanCn0Bl    0.004696\n17             minCn0Wifi    0.004668\n13               minCn0Bl    0.003716\n19             maxCn0Wifi    0.003128\n4            vAccuracyGPS    0.002468\n12            nrBlDevices    0.002313\n27   bluetooth_rssi_range    0.001948\n6        speedAccuracyGPS    0.001221\n3            hAccuracyGPS    0.000000",
      "text/html": "<div>\n<style scoped>\n    .dataframe tbody tr th:only-of-type {\n        vertical-align: middle;\n    }\n\n    .dataframe tbody tr th {\n        vertical-align: top;\n    }\n\n    .dataframe thead th {\n        text-align: right;\n    }\n</style>\n<table border=\"1\" class=\"dataframe\">\n  <thead>\n    <tr style=\"text-align: right;\">\n      <th></th>\n      <th>feature</th>\n      <th>importance</th>\n    </tr>\n  </thead>\n  <tbody>\n    <tr>\n      <th>11</th>\n      <td>maxCn0GPS</td>\n      <td>0.158963</td>\n    </tr>\n    <tr>\n      <th>23</th>\n      <td>satellite_cn0_range</td>\n      <td>0.126607</td>\n    </tr>\n    <tr>\n      <th>10</th>\n      <td>meanCn0GPS</td>\n      <td>0.094723</td>\n    </tr>\n    <tr>\n      <th>21</th>\n      <td>satellite_cn0_mode</td>\n      <td>0.093422</td>\n    </tr>\n    <tr>\n      <th>20</th>\n      <td>satellite_cn0_median</td>\n      <td>0.090168</td>\n    </tr>\n    <tr>\n      <th>8</th>\n      <td>nrSatellitesInFix</td>\n      <td>0.086108</td>\n    </tr>\n    <tr>\n      <th>9</th>\n      <td>minCn0GPS</td>\n      <td>0.078598</td>\n    </tr>\n    <tr>\n      <th>0</th>\n      <td>cellStrength</td>\n      <td>0.053482</td>\n    </tr>\n    <tr>\n      <th>1</th>\n      <td>hAccuracyNetwork</td>\n      <td>0.030734</td>\n    </tr>\n    <tr>\n      <th>22</th>\n      <td>satellite_cn0_std</td>\n      <td>0.029231</td>\n    </tr>\n    <tr>\n      <th>5</th>\n      <td>bAccuracyGPS</td>\n      <td>0.022697</td>\n    </tr>\n    <tr>\n      <th>2</th>\n      <td>vAccuracyNetwork</td>\n      <td>0.015613</td>\n    </tr>\n    <tr>\n      <th>16</th>\n      <td>nrWifiDevices</td>\n      <td>0.014620</td>\n    </tr>\n    <tr>\n      <th>7</th>\n      <td>nrSatellitesInView</td>\n      <td>0.013725</td>\n    </tr>\n    <tr>\n      <th>30</th>\n      <td>wifi_rssi_range</td>\n      <td>0.013335</td>\n    </tr>\n    <tr>\n      <th>18</th>\n      <td>meanCn0Wifi</td>\n      <td>0.011528</td>\n    </tr>\n    <tr>\n      <th>26</th>\n      <td>bluetooth_rssi_std</td>\n      <td>0.008286</td>\n    </tr>\n    <tr>\n      <th>24</th>\n      <td>bluetooth_rssi_median</td>\n      <td>0.007818</td>\n    </tr>\n    <tr>\n      <th>28</th>\n      <td>wifi_rssi_median</td>\n      <td>0.007712</td>\n    </tr>\n    <tr>\n      <th>25</th>\n      <td>bluetooth_rssi_mode</td>\n      <td>0.007486</td>\n    </tr>\n    <tr>\n      <th>29</th>\n      <td>wifi_rssi_mode</td>\n      <td>0.006064</td>\n    </tr>\n    <tr>\n      <th>15</th>\n      <td>maxCn0Bl</td>\n      <td>0.004924</td>\n    </tr>\n    <tr>\n      <th>14</th>\n      <td>meanCn0Bl</td>\n      <td>0.004696</td>\n    </tr>\n    <tr>\n      <th>17</th>\n      <td>minCn0Wifi</td>\n      <td>0.004668</td>\n    </tr>\n    <tr>\n      <th>13</th>\n      <td>minCn0Bl</td>\n      <td>0.003716</td>\n    </tr>\n    <tr>\n      <th>19</th>\n      <td>maxCn0Wifi</td>\n      <td>0.003128</td>\n    </tr>\n    <tr>\n      <th>4</th>\n      <td>vAccuracyGPS</td>\n      <td>0.002468</td>\n    </tr>\n    <tr>\n      <th>12</th>\n      <td>nrBlDevices</td>\n      <td>0.002313</td>\n    </tr>\n    <tr>\n      <th>27</th>\n      <td>bluetooth_rssi_range</td>\n      <td>0.001948</td>\n    </tr>\n    <tr>\n      <th>6</th>\n      <td>speedAccuracyGPS</td>\n      <td>0.001221</td>\n    </tr>\n    <tr>\n      <th>3</th>\n      <td>hAccuracyGPS</td>\n      <td>0.000000</td>\n    </tr>\n  </tbody>\n</table>\n</div>"
     },
     "execution_count": 256,
     "metadata": {},
     "output_type": "execute_result"
    }
   ],
   "source": [
    "# Print feature importances of the selected features\n",
    "feature_importances = clf.feature_importances_\n",
    "feature_importances = pd.DataFrame({'feature': X.columns, 'importance': feature_importances})\n",
    "feature_importances = feature_importances.sort_values(by='importance', ascending=False)\n",
    "feature_importances"
   ],
   "metadata": {
    "collapsed": false,
    "ExecuteTime": {
     "end_time": "2024-03-25T15:23:53.046275Z",
     "start_time": "2024-03-25T15:23:53.037550Z"
    }
   },
   "execution_count": 256
  },
  {
   "cell_type": "markdown",
   "source": [
    "## Save the model and tryout the model with new data"
   ],
   "metadata": {
    "collapsed": false
   }
  },
  {
   "cell_type": "markdown",
   "source": [],
   "metadata": {
    "collapsed": false
   }
  },
  {
   "cell_type": "code",
   "outputs": [
    {
     "name": "stdout",
     "output_type": "stream",
     "text": [
      "Saved model to ../Daten/random_forest_classifier.joblib\n"
     ]
    }
   ],
   "source": [
    "import joblib\n",
    "\n",
    "# Save the model\n",
    "model_path = '../Daten/random_forest_classifier.joblib'\n",
    "joblib.dump(clf, model_path)\n",
    "print(f'Saved model to {model_path}')"
   ],
   "metadata": {
    "collapsed": false,
    "ExecuteTime": {
     "end_time": "2024-03-25T15:23:53.067346Z",
     "start_time": "2024-03-25T15:23:53.047047Z"
    }
   },
   "execution_count": 257
  },
  {
   "cell_type": "markdown",
   "source": [
    "# Test the model with new data in validation folder in this notebook"
   ],
   "metadata": {
    "collapsed": false
   }
  },
  {
   "cell_type": "code",
   "outputs": [
    {
     "name": "stdout",
     "output_type": "stream",
     "text": [
      "Removed ../Daten/validation_averaged_data.csv\n",
      "Found 11 CSV files\n",
      "Found 4 indoor files and 7 outdoor files\n",
      "Saved averaged data to ../Daten/validation_averaged_data.csv\n",
      "Label: Indoor, Prediction: Indoor, Probability: 0.84\n",
      "Label: Indoor, Prediction: Indoor, Probability: 0.98\n",
      "Label: Indoor, Prediction: Indoor, Probability: 0.99\n",
      "Label: Indoor, Prediction: Indoor, Probability: 0.98\n",
      "Label: Outdoor, Prediction: Outdoor, Probability: 0.99\n",
      "Label: Outdoor, Prediction: Outdoor, Probability: 0.89\n",
      "Label: Outdoor, Prediction: Outdoor, Probability: 0.71\n",
      "Label: Outdoor, Prediction: Outdoor, Probability: 1.0\n",
      "Label: Outdoor, Prediction: Outdoor, Probability: 0.82\n",
      "Label: Outdoor, Prediction: Outdoor, Probability: 1.0\n",
      "Label: Outdoor, Prediction: Outdoor, Probability: 0.85\n"
     ]
    }
   ],
   "source": [
    "validation_files_directory = '../Daten/validation/'\n",
    "\n",
    "validation_averaged_path = '../Daten/validation_averaged_data.csv'\n",
    "\n",
    "model_path = '../Daten/random_forest_classifier.joblib'\n",
    "\n",
    "# Load the model\n",
    "model = joblib.load(model_path)\n",
    "\n",
    "validation_averaged_data = preprocess_data(validation_files_directory, validation_averaged_path)\n",
    "\n",
    "# Predict the labels of the validation data\n",
    "validation_predictions = model.predict(validation_averaged_data.drop(columns=['label']))\n",
    "\n",
    "validation_probabilities = model.predict_proba(validation_averaged_data.drop(columns=['label']))\n",
    "\n",
    "#print label and the corresponding prediction\n",
    "for label, prediction, probability in zip(validation_averaged_data['label'], validation_predictions, validation_probabilities):\n",
    "    if prediction == 'Indoor':\n",
    "        print(f'Label: {label}, Prediction: {prediction}, Probability: {probability[0]}')\n",
    "    else:\n",
    "        print(f'Label: {label}, Prediction: {prediction}, Probability: {probability[1]}')\n",
    "        "
   ],
   "metadata": {
    "collapsed": false,
    "ExecuteTime": {
     "end_time": "2024-03-25T15:23:53.347456Z",
     "start_time": "2024-03-25T15:23:53.067973Z"
    }
   },
   "execution_count": 258
  }
 ],
 "metadata": {
  "kernelspec": {
   "display_name": "Python 3",
   "language": "python",
   "name": "python3"
  },
  "language_info": {
   "name": "python",
   "version": "3.12.0"
  }
 },
 "nbformat": 4,
 "nbformat_minor": 2
}
