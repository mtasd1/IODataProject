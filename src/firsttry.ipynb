{
 "cells": [
  {
   "cell_type": "markdown",
   "source": [
    "# Data Preprocessing, Averaging over all csv-files and Saving the averaged data into new csv-file"
   ],
   "metadata": {
    "collapsed": false
   }
  },
  {
   "cell_type": "code",
   "execution_count": 257,
   "metadata": {
    "ExecuteTime": {
     "end_time": "2024-04-03T08:53:28.774550Z",
     "start_time": "2024-04-03T08:53:20.992729Z"
    }
   },
   "outputs": [
    {
     "name": "stdout",
     "output_type": "stream",
     "text": [
      "Found 189 CSV files\n",
      "Found 105 indoor files and 84 outdoor files\n"
     ]
    }
   ],
   "source": [
    "import os\n",
    "import pandas as pd\n",
    "import json \n",
    "from collections import Counter\n",
    "\n",
    "# extract the code into a function called preprocess_data so that we can use it later for new data\n",
    "def preprocess_data(averaged_df, directory, file):\n",
    "    df = pd.read_csv(directory + file, sep=';')\n",
    "    \n",
    "    # Drop unnecessary and outdated columns\n",
    "    deleted_columns = ['timeStampNetwork', 'timeStampGPS', 'locationDescription', 'people', 'latitudeGPS', 'longitudeGPS', 'latitudeNetwork', 'longitudeNetwork', 'minCn0GPS', 'maxCn0GPS', 'meanCn0GPS', 'minCn0Bluetooth', 'maxCn0Bluetooth', 'minCn0Wifi', 'maxCn0Wifi', 'meanCn0Wifi', 'bAccuracyNetwork', 'speedAccuracyNetwork', 'cellType', 'networkLocationType', 'hAccuracyNetwork', 'vAccuracyNetwork', 'speedAccuracyNetwork', 'bAccuracyNetwork', 'nrBlDevices', 'hAccuracyGPS', 'minCn0Bl', 'meanCn0Bl','maxCn0Bl', 'bAccuracyGPS', 'speedAccuracyGPS', 'vAccuracyGPS', 'nrWifiDevices']\n",
    "    df = safe_delete(df, deleted_columns)\n",
    "    \n",
    "    # Remove first x rows and reset begin index to 0\n",
    "    removedRows = 3\n",
    "    df = df.iloc[removedRows:]\n",
    "    df = df.reset_index(drop=True)\n",
    "    \n",
    "    # Load satellites json\n",
    "    df['satellites'] = df['satellites'].apply(lambda x: json.loads(x))\n",
    "    \n",
    "    # Add cn0 column for easier computation of statistics\n",
    "    df['satellite_cn0'] = df['satellites'].apply(lambda x: [sat['cn0'] for sat in x])\n",
    "    \n",
    "    # Calculate min, max, mean. median, mode, variance, standard deviation and range of the satellite cn0\n",
    "    df['satellite_cn0_min'] = df['satellite_cn0'].apply(lambda x: pd.Series(x).min() if not pd.Series(x).empty else 0)\n",
    "    df['satellite_cn0_max'] = df['satellite_cn0'].apply(lambda x: pd.Series(x).max() if not pd.Series(x).empty else 0)\n",
    "    df['satellite_cn0_mean'] = df['satellite_cn0'].apply(lambda x: pd.Series(x).mean() if not pd.Series(x).empty else 0)    \n",
    "    df['satellite_cn0_median'] = df['satellite_cn0'].apply(lambda x: pd.Series(x).median() if not pd.Series(x).empty else 0)\n",
    "    df['satellite_cn0_mode'] = df['satellite_cn0'].apply(lambda x: pd.Series(x).mode()[0] if not pd.Series(x).mode().empty else 0)\n",
    "    df['satellite_cn0_std'] = df['satellite_cn0'].apply(lambda x: pd.Series(x).std() if not pd.Series(x).empty else 0)\n",
    "    df['satellite_cn0_range'] = df['satellite_cn0'].apply(lambda x: pd.Series(x).max() - pd.Series(x).min() if not pd.Series(x).empty else 0)\n",
    "    \n",
    "    # load the bluetooth json and load rssi into a new column\n",
    "    df['bluetoothDevices'] = df['bluetoothDevices'].apply(lambda x: json.loads(x))\n",
    "    df['bluetooth_rssi'] = df['bluetoothDevices'].apply(lambda x: [device['rssi'] for device in x])\n",
    "    \n",
    "     # Calculate statistical figures for the bluetooth devices\n",
    "    df['bluetooth_rssi_min'] = df['bluetooth_rssi'].apply(lambda x: pd.Series(x).min() if not pd.Series(x).empty else 0)\n",
    "    df['bluetooth_rssi_max'] = df['bluetooth_rssi'].apply(lambda x: pd.Series(x).max() if not pd.Series(x).empty else 0)\n",
    "    df['bluetooth_rssi_mean'] = df['bluetooth_rssi'].apply(lambda x: pd.Series(x).mean() if not pd.Series(x).empty else 0)\n",
    "    df['bluetooth_rssi_median'] = df['bluetooth_rssi'].apply(lambda x: pd.Series(x).median() if not pd.Series(x).empty else 0)\n",
    "    df['bluetooth_rssi_mode'] = df['bluetooth_rssi'].apply(lambda x: pd.Series(x).mode()[0] if not pd.Series(x).mode().empty else 0)\n",
    "    df['bluetooth_rssi_std'] = df['bluetooth_rssi'].apply(lambda x: pd.Series(x).std() if not pd.Series(x).empty else 0)\n",
    "    df['bluetooth_rssi_range'] = df['bluetooth_rssi'].apply(lambda x: pd.Series(x).max() - pd.Series(x).min() if not pd.Series(x).empty else 0)\n",
    "    \n",
    "    # load the wifi json and load rssi into a new column\n",
    "    df['wifiDevices'] = df['wifiDevices'].apply(lambda x: json.loads(x))\n",
    "    df['wifi_rssi'] = df['wifiDevices'].apply(lambda x: [device['level'] for device in x])\n",
    "    \n",
    "     # Calculate statistical figures for the wifi devices\n",
    "    df['wifi_rssi_min'] = df['wifi_rssi'].apply(lambda x: pd.Series(x).min() if not pd.Series(x).empty else 0)\n",
    "    df['wifi_rssi_max'] = df['wifi_rssi'].apply(lambda x: pd.Series(x).max() if not pd.Series(x).empty else 0)\n",
    "    df['wifi_rssi_mean'] = df['wifi_rssi'].apply(lambda x: pd.Series(x).mean() if not pd.Series(x).empty else 0)\n",
    "    df['wifi_rssi_median'] = df['wifi_rssi'].apply(lambda x: pd.Series(x).median() if not pd.Series(x).empty else 0)\n",
    "    df['wifi_rssi_mode'] = df['wifi_rssi'].apply(lambda x: pd.Series(x).mode()[0] if not pd.Series(x).mode().empty else 0)\n",
    "    df['wifi_rssi_range'] = df['wifi_rssi'].apply(lambda x: pd.Series(x).max() - pd.Series(x).min() if not pd.Series(x).empty else 0)\n",
    "    \n",
    "    # Drop list columns\n",
    "    df.drop(columns=['satellites', 'bluetoothDevices', 'wifiDevices', 'satellite_cn0', 'bluetooth_rssi', 'wifi_rssi'], inplace=True)\n",
    "    \n",
    "     # Average over all columns for numeric values and take the first of non-numeric to have a single row\n",
    "    df_label = df.iloc[0]['label']\n",
    "    \n",
    "    df.drop(columns=['label'], inplace=True)\n",
    "    \n",
    "    df = df.mean().to_frame().T\n",
    "    \n",
    "    df['label'] = df_label\n",
    "    \n",
    "    #place label at the beginning\n",
    "    cols = list(df.columns)\n",
    "    cols = [cols[-1]] + cols[:-1]\n",
    "    df = df[cols]\n",
    "    \n",
    "    averaged_df = pd.concat([averaged_df, df], ignore_index=True)\n",
    "    return averaged_df\n",
    "\n",
    "def safe_delete(df, columns):\n",
    "    for column in columns:\n",
    "        if column in df.columns:\n",
    "            df = df.drop(columns=[column])\n",
    "    return df\n",
    "\n",
    "files_directory = '../Daten/firsttry/'\n",
    "averaged_path = '../Daten/averaged_data.csv'\n",
    "\n",
    "if os.path.exists(averaged_path):\n",
    "    os.remove(averaged_path)\n",
    "    print(f\"Removed {averaged_path}\")\n",
    "\n",
    "# Get list of CSV files\n",
    "csv_files = [file for file in os.listdir(files_directory) if file.endswith('.csv')]\n",
    "print(f'Found {len(csv_files)} CSV files')\n",
    "\n",
    "# Get nr of files, where name starts with indoor and outdoor\n",
    "indoor_files = [file for file in csv_files if file.startswith('Indoor')]\n",
    "outdoor_files = [file for file in csv_files if file.startswith('Outdoor')]\n",
    "print(f'Found {len(indoor_files)} indoor files and {len(outdoor_files)} outdoor files')\n",
    "\n",
    "averaged_data = pd.DataFrame()\n",
    "\n",
    "for file in csv_files:\n",
    "    averaged_data = preprocess_data(averaged_data, files_directory, file)\n",
    "\n",
    "averaged_data.sort_values(by=['label'], inplace=True)"
   ]
  },
  {
   "cell_type": "markdown",
   "source": [
    "# Train the Random Forest Classifier"
   ],
   "metadata": {
    "collapsed": false
   }
  },
  {
   "cell_type": "markdown",
   "source": [
    "## Randomize and Split the Data for Random Forest Classifier"
   ],
   "metadata": {
    "collapsed": false
   }
  },
  {
   "cell_type": "code",
   "outputs": [
    {
     "name": "stdout",
     "output_type": "stream",
     "text": [
      "Training data shape: (189, 23)\n"
     ]
    }
   ],
   "source": [
    "from sklearn.model_selection import train_test_split\n",
    "\n",
    "# Randomize the data\n",
    "averaged_data = averaged_data.sample(frac=1).reset_index(drop=True)\n",
    "\n",
    "# drop the label column\n",
    "X = averaged_data.drop(columns=['label'], axis=1)\n",
    "Y = averaged_data['label']\n",
    "\n",
    "# Split the data into training and testing data\n",
    "#X_train, X_test, Y_train, Y_test = train_test_split(X, Y, test_size=0.0001)\n",
    "X_train = X\n",
    "Y_train = Y\n",
    "\n",
    "print(f'Training data shape: {X_train.shape}')\n",
    "#print(f'Testing data shape: {X_test.shape}')"
   ],
   "metadata": {
    "collapsed": false,
    "ExecuteTime": {
     "end_time": "2024-04-03T08:53:28.795929Z",
     "start_time": "2024-04-03T08:53:28.777638Z"
    }
   },
   "execution_count": 258
  },
  {
   "cell_type": "markdown",
   "source": [
    "## Train a Random Forest Classifier"
   ],
   "metadata": {
    "collapsed": false
   }
  },
  {
   "cell_type": "code",
   "outputs": [
    {
     "name": "stdout",
     "output_type": "stream",
     "text": [
      "Cross-validation scores: [0.94736842 0.89473684 0.89473684 0.89473684 0.94736842 0.84210526\n",
      " 0.89473684 0.94736842 0.94736842 1.        ]\n"
     ]
    }
   ],
   "source": [
    "import numpy as np\n",
    "from sklearn.model_selection import cross_val_score\n",
    "from sklearn.ensemble import RandomForestClassifier\n",
    "from sklearn.metrics import accuracy_score\n",
    "\n",
    "# Train the Random Forest Classifier with regularization\n",
    "clf = RandomForestClassifier()\n",
    "\n",
    "# Train the classifier\n",
    "clf.fit(X_train, Y_train)\n",
    "\n",
    "# Cross-validation\n",
    "scores = cross_val_score(clf, X_train, Y_train, cv=10)\n",
    "print(f\"Cross-validation scores: {scores}\")\n",
    "\n",
    "# Predict the labels of the test data\n",
    "#y_pred = clf.predict(X_test)\n",
    "\n",
    "# Calculate the accuracy of the classifier\n",
    "#accuracy = accuracy_score(Y_test, y_pred)\n",
    "#print(f'Accuracy: {accuracy}')"
   ],
   "metadata": {
    "collapsed": false,
    "ExecuteTime": {
     "end_time": "2024-04-03T08:53:29.423307Z",
     "start_time": "2024-04-03T08:53:28.799010Z"
    }
   },
   "execution_count": 259
  },
  {
   "cell_type": "markdown",
   "source": [
    "## Get the Feature Importances"
   ],
   "metadata": {
    "collapsed": false
   }
  },
  {
   "cell_type": "code",
   "outputs": [
    {
     "data": {
      "text/plain": "                  feature  importance\n6    satellite_cn0_median    0.182521\n4       satellite_cn0_max    0.146972\n5      satellite_cn0_mean    0.131615\n9     satellite_cn0_range    0.124775\n2       nrSatellitesInFix    0.101050\n7      satellite_cn0_mode    0.082592\n8       satellite_cn0_std    0.055492\n3       satellite_cn0_min    0.030267\n12    bluetooth_rssi_mean    0.022277\n0            cellStrength    0.020286\n13  bluetooth_rssi_median    0.013613\n17          wifi_rssi_min    0.012979\n19         wifi_rssi_mean    0.011872\n20       wifi_rssi_median    0.011721\n1      nrSatellitesInView    0.011687\n15     bluetooth_rssi_std    0.006910\n22        wifi_rssi_range    0.006149\n18          wifi_rssi_max    0.006063\n10     bluetooth_rssi_min    0.005368\n14    bluetooth_rssi_mode    0.005252\n21         wifi_rssi_mode    0.004287\n11     bluetooth_rssi_max    0.003262\n16   bluetooth_rssi_range    0.002990",
      "text/html": "<div>\n<style scoped>\n    .dataframe tbody tr th:only-of-type {\n        vertical-align: middle;\n    }\n\n    .dataframe tbody tr th {\n        vertical-align: top;\n    }\n\n    .dataframe thead th {\n        text-align: right;\n    }\n</style>\n<table border=\"1\" class=\"dataframe\">\n  <thead>\n    <tr style=\"text-align: right;\">\n      <th></th>\n      <th>feature</th>\n      <th>importance</th>\n    </tr>\n  </thead>\n  <tbody>\n    <tr>\n      <th>6</th>\n      <td>satellite_cn0_median</td>\n      <td>0.182521</td>\n    </tr>\n    <tr>\n      <th>4</th>\n      <td>satellite_cn0_max</td>\n      <td>0.146972</td>\n    </tr>\n    <tr>\n      <th>5</th>\n      <td>satellite_cn0_mean</td>\n      <td>0.131615</td>\n    </tr>\n    <tr>\n      <th>9</th>\n      <td>satellite_cn0_range</td>\n      <td>0.124775</td>\n    </tr>\n    <tr>\n      <th>2</th>\n      <td>nrSatellitesInFix</td>\n      <td>0.101050</td>\n    </tr>\n    <tr>\n      <th>7</th>\n      <td>satellite_cn0_mode</td>\n      <td>0.082592</td>\n    </tr>\n    <tr>\n      <th>8</th>\n      <td>satellite_cn0_std</td>\n      <td>0.055492</td>\n    </tr>\n    <tr>\n      <th>3</th>\n      <td>satellite_cn0_min</td>\n      <td>0.030267</td>\n    </tr>\n    <tr>\n      <th>12</th>\n      <td>bluetooth_rssi_mean</td>\n      <td>0.022277</td>\n    </tr>\n    <tr>\n      <th>0</th>\n      <td>cellStrength</td>\n      <td>0.020286</td>\n    </tr>\n    <tr>\n      <th>13</th>\n      <td>bluetooth_rssi_median</td>\n      <td>0.013613</td>\n    </tr>\n    <tr>\n      <th>17</th>\n      <td>wifi_rssi_min</td>\n      <td>0.012979</td>\n    </tr>\n    <tr>\n      <th>19</th>\n      <td>wifi_rssi_mean</td>\n      <td>0.011872</td>\n    </tr>\n    <tr>\n      <th>20</th>\n      <td>wifi_rssi_median</td>\n      <td>0.011721</td>\n    </tr>\n    <tr>\n      <th>1</th>\n      <td>nrSatellitesInView</td>\n      <td>0.011687</td>\n    </tr>\n    <tr>\n      <th>15</th>\n      <td>bluetooth_rssi_std</td>\n      <td>0.006910</td>\n    </tr>\n    <tr>\n      <th>22</th>\n      <td>wifi_rssi_range</td>\n      <td>0.006149</td>\n    </tr>\n    <tr>\n      <th>18</th>\n      <td>wifi_rssi_max</td>\n      <td>0.006063</td>\n    </tr>\n    <tr>\n      <th>10</th>\n      <td>bluetooth_rssi_min</td>\n      <td>0.005368</td>\n    </tr>\n    <tr>\n      <th>14</th>\n      <td>bluetooth_rssi_mode</td>\n      <td>0.005252</td>\n    </tr>\n    <tr>\n      <th>21</th>\n      <td>wifi_rssi_mode</td>\n      <td>0.004287</td>\n    </tr>\n    <tr>\n      <th>11</th>\n      <td>bluetooth_rssi_max</td>\n      <td>0.003262</td>\n    </tr>\n    <tr>\n      <th>16</th>\n      <td>bluetooth_rssi_range</td>\n      <td>0.002990</td>\n    </tr>\n  </tbody>\n</table>\n</div>"
     },
     "execution_count": 260,
     "metadata": {},
     "output_type": "execute_result"
    }
   ],
   "source": [
    "# Print feature importances of the selected features\n",
    "feature_importances = clf.feature_importances_\n",
    "feature_importances = pd.DataFrame({'feature': X.columns, 'importance': feature_importances})\n",
    "feature_importances = feature_importances.sort_values(by='importance', ascending=False)\n",
    "feature_importances"
   ],
   "metadata": {
    "collapsed": false,
    "ExecuteTime": {
     "end_time": "2024-04-03T08:53:29.442780Z",
     "start_time": "2024-04-03T08:53:29.424903Z"
    }
   },
   "execution_count": 260
  },
  {
   "cell_type": "markdown",
   "source": [
    "## Save the model and tryout the model with new data"
   ],
   "metadata": {
    "collapsed": false
   }
  },
  {
   "cell_type": "markdown",
   "source": [],
   "metadata": {
    "collapsed": false
   }
  },
  {
   "cell_type": "code",
   "outputs": [
    {
     "name": "stdout",
     "output_type": "stream",
     "text": [
      "Saved model to ../Daten/random_forest_classifier.joblib\n"
     ]
    }
   ],
   "source": [
    "import joblib\n",
    "\n",
    "# Save the model\n",
    "model_path = '../Daten/random_forest_classifier.joblib'\n",
    "joblib.dump(clf, model_path)\n",
    "print(f'Saved model to {model_path}')"
   ],
   "metadata": {
    "collapsed": false,
    "ExecuteTime": {
     "end_time": "2024-04-03T08:53:29.485686Z",
     "start_time": "2024-04-03T08:53:29.443983Z"
    }
   },
   "execution_count": 261
  },
  {
   "cell_type": "markdown",
   "source": [
    "# Test the model with new data in validation folder in this notebook"
   ],
   "metadata": {
    "collapsed": false
   }
  },
  {
   "cell_type": "code",
   "outputs": [
    {
     "name": "stdout",
     "output_type": "stream",
     "text": [
      "--------------------\n",
      "Label: Indoor, Prediction: Outdoor, Description: Nähe Fenster, People: viel,  Probability: [0.31 0.69], File: Indoor_2024-03-29 13_41_40.csv\n"
     ]
    }
   ],
   "source": [
    "validation_files_directory = '../Daten/validation/'\n",
    "validation_averaged_path = '../Daten/validation_averaged_data.csv'\n",
    "model_path = '../Daten/random_forest_classifier.joblib'\n",
    "\n",
    "# Load the model\n",
    "model = joblib.load(model_path)\n",
    "\n",
    "validation_averaged_data = pd.DataFrame()\n",
    "validation_description = pd.DataFrame()\n",
    "validation_files = [file for file in os.listdir(validation_files_directory) if file.endswith('.csv')]\n",
    "\n",
    "for file in validation_files:\n",
    "    df = pd.read_csv(validation_files_directory + file, sep=';')\n",
    "    locationDescription = df['locationDescription'][0]\n",
    "    locationPeople = df['people'][0]\n",
    "    \n",
    "    validation_description = pd.concat([validation_description, pd.DataFrame({'locationDescription': [locationDescription], 'people': [locationPeople], 'file': [file]})], ignore_index=True)\n",
    "\n",
    "    validation_averaged_data = preprocess_data(validation_averaged_data, validation_files_directory, file)\n",
    "\n",
    "# Predict the labels of the validation data\n",
    "validation_predictions = model.predict(validation_averaged_data.drop(columns=['label']))\n",
    "validation_probabilities = model.predict_proba(validation_averaged_data.drop(columns=['label']))\n",
    "\n",
    "#print label and the corresponding prediction\n",
    "for label, description, people, prediction, probability, file in zip(validation_averaged_data['label'], validation_description['locationDescription'], validation_description['people'], validation_predictions, validation_probabilities, validation_description['file']):\n",
    "    if label != prediction:\n",
    "        print(\"--------------------\")\n",
    "        print(f'Label: {label}, Prediction: {prediction}, Description: {description}, People: {people},  Probability: {probability}, File: {file}')\n",
    "   "
   ],
   "metadata": {
    "collapsed": false,
    "ExecuteTime": {
     "end_time": "2024-04-03T08:53:30.859292Z",
     "start_time": "2024-04-03T08:53:29.486982Z"
    }
   },
   "execution_count": 262
  },
  {
   "cell_type": "markdown",
   "source": [
    "## Setup LSTM Model"
   ],
   "metadata": {
    "collapsed": false
   }
  },
  {
   "cell_type": "code",
   "outputs": [
    {
     "name": "stdout",
     "output_type": "stream",
     "text": [
      "Training data shape: (151, 23, 1)\n",
      "Epoch 1/15\n",
      "5/5 [==============================] - 5s 140ms/step - loss: 0.6704 - accuracy: 0.5497 - val_loss: 0.5714 - val_accuracy: 0.8684\n",
      "Epoch 2/15\n",
      "5/5 [==============================] - 0s 47ms/step - loss: 0.5110 - accuracy: 0.8079 - val_loss: 0.3542 - val_accuracy: 0.9211\n",
      "Epoch 3/15\n",
      "5/5 [==============================] - 0s 43ms/step - loss: 0.3219 - accuracy: 0.8742 - val_loss: 0.2423 - val_accuracy: 0.9211\n",
      "Epoch 4/15\n",
      "5/5 [==============================] - 0s 43ms/step - loss: 0.3020 - accuracy: 0.8940 - val_loss: 0.1553 - val_accuracy: 0.9474\n",
      "Epoch 5/15\n",
      "5/5 [==============================] - 0s 44ms/step - loss: 0.1588 - accuracy: 0.9536 - val_loss: 0.5692 - val_accuracy: 0.8684\n",
      "Epoch 6/15\n",
      "5/5 [==============================] - 0s 45ms/step - loss: 0.5596 - accuracy: 0.8212 - val_loss: 0.3252 - val_accuracy: 0.8684\n",
      "Epoch 7/15\n",
      "5/5 [==============================] - 0s 45ms/step - loss: 0.2766 - accuracy: 0.8940 - val_loss: 0.5427 - val_accuracy: 0.7895\n",
      "Epoch 8/15\n",
      "5/5 [==============================] - 0s 44ms/step - loss: 0.2368 - accuracy: 0.9338 - val_loss: 0.2589 - val_accuracy: 0.8684\n",
      "Epoch 9/15\n",
      "5/5 [==============================] - 0s 45ms/step - loss: 0.3206 - accuracy: 0.8609 - val_loss: 0.1758 - val_accuracy: 0.9474\n",
      "Epoch 10/15\n",
      "5/5 [==============================] - 0s 45ms/step - loss: 0.2292 - accuracy: 0.9073 - val_loss: 0.3583 - val_accuracy: 0.8947\n",
      "Epoch 11/15\n",
      "5/5 [==============================] - 0s 44ms/step - loss: 0.1803 - accuracy: 0.9404 - val_loss: 0.1203 - val_accuracy: 0.9737\n",
      "Epoch 12/15\n",
      "5/5 [==============================] - 0s 44ms/step - loss: 0.1856 - accuracy: 0.9073 - val_loss: 0.2275 - val_accuracy: 0.9211\n",
      "Epoch 13/15\n",
      "5/5 [==============================] - 0s 45ms/step - loss: 0.1784 - accuracy: 0.9139 - val_loss: 0.1311 - val_accuracy: 0.9211\n",
      "Epoch 14/15\n",
      "5/5 [==============================] - 0s 45ms/step - loss: 0.1164 - accuracy: 0.9536 - val_loss: 0.1362 - val_accuracy: 0.9211\n",
      "Epoch 15/15\n",
      "5/5 [==============================] - 0s 45ms/step - loss: 0.1598 - accuracy: 0.9404 - val_loss: 0.1741 - val_accuracy: 0.9211\n",
      "Epoch 1/15\n",
      "5/5 [==============================] - 2s 25ms/step - loss: 0.6536 - accuracy: 0.6222\n",
      "Epoch 2/15\n",
      "5/5 [==============================] - 0s 36ms/step - loss: 0.4783 - accuracy: 0.7630\n",
      "Epoch 3/15\n",
      "5/5 [==============================] - 0s 35ms/step - loss: 0.4681 - accuracy: 0.7556\n",
      "Epoch 4/15\n",
      "5/5 [==============================] - 0s 35ms/step - loss: 0.4125 - accuracy: 0.8074\n",
      "Epoch 5/15\n",
      "5/5 [==============================] - 0s 34ms/step - loss: 0.4436 - accuracy: 0.7556\n",
      "Epoch 6/15\n",
      "5/5 [==============================] - 0s 35ms/step - loss: 0.3442 - accuracy: 0.8000\n",
      "Epoch 7/15\n",
      "5/5 [==============================] - 0s 35ms/step - loss: 0.3522 - accuracy: 0.8148\n",
      "Epoch 8/15\n",
      "5/5 [==============================] - 0s 34ms/step - loss: 0.2495 - accuracy: 0.9185\n",
      "Epoch 9/15\n",
      "5/5 [==============================] - 0s 35ms/step - loss: 0.1881 - accuracy: 0.9333\n",
      "Epoch 10/15\n",
      "5/5 [==============================] - 0s 36ms/step - loss: 0.1951 - accuracy: 0.9259\n",
      "Epoch 11/15\n",
      "5/5 [==============================] - 0s 34ms/step - loss: 0.1857 - accuracy: 0.9037\n",
      "Epoch 12/15\n",
      "5/5 [==============================] - 0s 36ms/step - loss: 0.2006 - accuracy: 0.9333\n",
      "Epoch 13/15\n",
      "5/5 [==============================] - 0s 35ms/step - loss: 0.1668 - accuracy: 0.9259\n",
      "Epoch 14/15\n",
      "5/5 [==============================] - 0s 34ms/step - loss: 0.1641 - accuracy: 0.9407\n",
      "Epoch 15/15\n",
      "5/5 [==============================] - 0s 35ms/step - loss: 0.2161 - accuracy: 0.9111\n",
      "1/1 [==============================] - 0s 375ms/step\n",
      "Epoch 1/15\n",
      "5/5 [==============================] - 2s 27ms/step - loss: 0.6792 - accuracy: 0.5735\n",
      "Epoch 2/15\n",
      "5/5 [==============================] - 0s 35ms/step - loss: 0.6205 - accuracy: 0.6912\n",
      "Epoch 3/15\n",
      "5/5 [==============================] - 0s 35ms/step - loss: 0.4885 - accuracy: 0.7500\n",
      "Epoch 4/15\n",
      "5/5 [==============================] - 0s 35ms/step - loss: 0.3491 - accuracy: 0.8382\n",
      "Epoch 5/15\n",
      "5/5 [==============================] - 0s 34ms/step - loss: 0.2378 - accuracy: 0.8971\n",
      "Epoch 6/15\n",
      "5/5 [==============================] - 0s 35ms/step - loss: 0.2052 - accuracy: 0.9265\n",
      "Epoch 7/15\n",
      "5/5 [==============================] - 0s 34ms/step - loss: 0.2019 - accuracy: 0.9338\n",
      "Epoch 8/15\n",
      "5/5 [==============================] - 0s 36ms/step - loss: 0.2887 - accuracy: 0.9044\n",
      "Epoch 9/15\n",
      "5/5 [==============================] - 0s 35ms/step - loss: 0.1180 - accuracy: 0.9559\n",
      "Epoch 10/15\n",
      "5/5 [==============================] - 0s 35ms/step - loss: 0.2673 - accuracy: 0.8897\n",
      "Epoch 11/15\n",
      "5/5 [==============================] - 0s 36ms/step - loss: 0.1981 - accuracy: 0.9118\n",
      "Epoch 12/15\n",
      "5/5 [==============================] - 0s 34ms/step - loss: 0.1810 - accuracy: 0.9485\n",
      "Epoch 13/15\n",
      "5/5 [==============================] - 0s 35ms/step - loss: 0.1510 - accuracy: 0.9412\n",
      "Epoch 14/15\n",
      "5/5 [==============================] - 0s 36ms/step - loss: 0.1489 - accuracy: 0.9412\n",
      "Epoch 15/15\n",
      "5/5 [==============================] - 0s 35ms/step - loss: 0.1136 - accuracy: 0.9485\n",
      "1/1 [==============================] - 0s 404ms/step\n",
      "Epoch 1/15\n",
      "5/5 [==============================] - 3s 25ms/step - loss: 0.6835 - accuracy: 0.5515\n",
      "Epoch 2/15\n",
      "5/5 [==============================] - 0s 35ms/step - loss: 0.6001 - accuracy: 0.6618\n",
      "Epoch 3/15\n",
      "5/5 [==============================] - 0s 32ms/step - loss: 0.4400 - accuracy: 0.8088\n",
      "Epoch 4/15\n",
      "5/5 [==============================] - 0s 32ms/step - loss: 0.3235 - accuracy: 0.8676\n",
      "Epoch 5/15\n",
      "5/5 [==============================] - 0s 34ms/step - loss: 0.4271 - accuracy: 0.8529\n",
      "Epoch 6/15\n",
      "5/5 [==============================] - 0s 33ms/step - loss: 0.2707 - accuracy: 0.8824\n",
      "Epoch 7/15\n",
      "5/5 [==============================] - 0s 33ms/step - loss: 0.2538 - accuracy: 0.8750\n",
      "Epoch 8/15\n",
      "5/5 [==============================] - 0s 34ms/step - loss: 0.1980 - accuracy: 0.9338\n",
      "Epoch 9/15\n",
      "5/5 [==============================] - 0s 32ms/step - loss: 0.1721 - accuracy: 0.9265\n",
      "Epoch 10/15\n",
      "5/5 [==============================] - 0s 33ms/step - loss: 0.2799 - accuracy: 0.8897\n",
      "Epoch 11/15\n",
      "5/5 [==============================] - 0s 34ms/step - loss: 0.3281 - accuracy: 0.8603\n",
      "Epoch 12/15\n",
      "5/5 [==============================] - 0s 42ms/step - loss: 0.2367 - accuracy: 0.8824\n",
      "Epoch 13/15\n",
      "5/5 [==============================] - 0s 34ms/step - loss: 0.2260 - accuracy: 0.9044\n",
      "Epoch 14/15\n",
      "5/5 [==============================] - 0s 33ms/step - loss: 0.1642 - accuracy: 0.9191\n",
      "Epoch 15/15\n",
      "5/5 [==============================] - 0s 34ms/step - loss: 0.1408 - accuracy: 0.9265\n",
      "1/1 [==============================] - 0s 387ms/step\n",
      "Epoch 1/15\n",
      "5/5 [==============================] - 2s 24ms/step - loss: 0.6628 - accuracy: 0.5882\n",
      "Epoch 2/15\n",
      "5/5 [==============================] - 0s 35ms/step - loss: 0.5054 - accuracy: 0.7794\n",
      "Epoch 3/15\n",
      "5/5 [==============================] - 0s 34ms/step - loss: 0.3589 - accuracy: 0.8382\n",
      "Epoch 4/15\n",
      "5/5 [==============================] - 0s 36ms/step - loss: 0.4263 - accuracy: 0.8162\n",
      "Epoch 5/15\n",
      "5/5 [==============================] - 0s 34ms/step - loss: 0.3162 - accuracy: 0.8897\n",
      "Epoch 6/15\n",
      "5/5 [==============================] - 0s 35ms/step - loss: 0.2652 - accuracy: 0.8971\n",
      "Epoch 7/15\n",
      "5/5 [==============================] - 0s 33ms/step - loss: 0.2239 - accuracy: 0.8971\n",
      "Epoch 8/15\n",
      "5/5 [==============================] - 0s 34ms/step - loss: 0.2147 - accuracy: 0.9412\n",
      "Epoch 9/15\n",
      "5/5 [==============================] - 0s 35ms/step - loss: 0.2549 - accuracy: 0.8971\n",
      "Epoch 10/15\n",
      "5/5 [==============================] - 0s 34ms/step - loss: 0.3300 - accuracy: 0.8603\n",
      "Epoch 11/15\n",
      "5/5 [==============================] - 0s 33ms/step - loss: 0.2550 - accuracy: 0.8971\n",
      "Epoch 12/15\n",
      "5/5 [==============================] - 0s 34ms/step - loss: 0.2857 - accuracy: 0.8382\n",
      "Epoch 13/15\n",
      "5/5 [==============================] - 0s 36ms/step - loss: 0.2528 - accuracy: 0.9191\n",
      "Epoch 14/15\n",
      "5/5 [==============================] - 0s 34ms/step - loss: 0.1695 - accuracy: 0.9632\n",
      "Epoch 15/15\n",
      "5/5 [==============================] - 0s 34ms/step - loss: 0.2026 - accuracy: 0.9044\n",
      "1/1 [==============================] - 0s 377ms/step\n",
      "Epoch 1/15\n",
      "5/5 [==============================] - 2s 27ms/step - loss: 0.6824 - accuracy: 0.5441\n",
      "Epoch 2/15\n",
      "5/5 [==============================] - 0s 34ms/step - loss: 0.6028 - accuracy: 0.6324\n",
      "Epoch 3/15\n",
      "5/5 [==============================] - 0s 35ms/step - loss: 0.5030 - accuracy: 0.6691\n",
      "Epoch 4/15\n",
      "5/5 [==============================] - 0s 36ms/step - loss: 0.4650 - accuracy: 0.7574\n",
      "Epoch 5/15\n",
      "5/5 [==============================] - 0s 35ms/step - loss: 0.4427 - accuracy: 0.7721\n",
      "Epoch 6/15\n",
      "5/5 [==============================] - 0s 34ms/step - loss: 0.2672 - accuracy: 0.9412\n",
      "Epoch 7/15\n",
      "5/5 [==============================] - 0s 35ms/step - loss: 0.3358 - accuracy: 0.8897\n",
      "Epoch 8/15\n",
      "5/5 [==============================] - 0s 35ms/step - loss: 0.4679 - accuracy: 0.7794\n",
      "Epoch 9/15\n",
      "5/5 [==============================] - 0s 34ms/step - loss: 0.4608 - accuracy: 0.7794\n",
      "Epoch 10/15\n",
      "5/5 [==============================] - 0s 35ms/step - loss: 0.4060 - accuracy: 0.8015\n",
      "Epoch 11/15\n",
      "5/5 [==============================] - 0s 34ms/step - loss: 0.3775 - accuracy: 0.8750\n",
      "Epoch 12/15\n",
      "5/5 [==============================] - 0s 35ms/step - loss: 0.2288 - accuracy: 0.9412\n",
      "Epoch 13/15\n",
      "5/5 [==============================] - 0s 36ms/step - loss: 0.2146 - accuracy: 0.9265\n",
      "Epoch 14/15\n",
      "5/5 [==============================] - 0s 35ms/step - loss: 0.1754 - accuracy: 0.9338\n",
      "Epoch 15/15\n",
      "5/5 [==============================] - 0s 37ms/step - loss: 0.2174 - accuracy: 0.9118\n",
      "1/1 [==============================] - 1s 1s/step\n",
      "Epoch 1/15\n",
      "5/5 [==============================] - 2s 27ms/step - loss: 0.6694 - accuracy: 0.5882\n",
      "Epoch 2/15\n",
      "5/5 [==============================] - 0s 33ms/step - loss: 0.5109 - accuracy: 0.7500\n",
      "Epoch 3/15\n",
      "5/5 [==============================] - 0s 33ms/step - loss: 0.4647 - accuracy: 0.7353\n",
      "Epoch 4/15\n",
      "5/5 [==============================] - 0s 35ms/step - loss: 0.4043 - accuracy: 0.8015\n",
      "Epoch 5/15\n",
      "5/5 [==============================] - 0s 42ms/step - loss: 0.2906 - accuracy: 0.9044\n",
      "Epoch 6/15\n",
      "5/5 [==============================] - 0s 35ms/step - loss: 0.2526 - accuracy: 0.8750\n",
      "Epoch 7/15\n",
      "5/5 [==============================] - 0s 40ms/step - loss: 0.2018 - accuracy: 0.9191\n",
      "Epoch 8/15\n",
      "5/5 [==============================] - 0s 35ms/step - loss: 0.4490 - accuracy: 0.8235\n",
      "Epoch 9/15\n",
      "5/5 [==============================] - 0s 34ms/step - loss: 0.3193 - accuracy: 0.8750\n",
      "Epoch 10/15\n",
      "5/5 [==============================] - 0s 33ms/step - loss: 0.2207 - accuracy: 0.9412\n",
      "Epoch 11/15\n",
      "5/5 [==============================] - 0s 33ms/step - loss: 0.3327 - accuracy: 0.8309\n",
      "Epoch 12/15\n",
      "5/5 [==============================] - 0s 34ms/step - loss: 0.2653 - accuracy: 0.8676\n",
      "Epoch 13/15\n",
      "5/5 [==============================] - 0s 33ms/step - loss: 0.1932 - accuracy: 0.9338\n",
      "Epoch 14/15\n",
      "5/5 [==============================] - 0s 35ms/step - loss: 0.1663 - accuracy: 0.9265\n",
      "Epoch 15/15\n",
      "5/5 [==============================] - 0s 35ms/step - loss: 0.1976 - accuracy: 0.9265\n",
      "1/1 [==============================] - 0s 417ms/step\n",
      "Epoch 1/15\n",
      "5/5 [==============================] - 2s 29ms/step - loss: 0.6928 - accuracy: 0.5588\n",
      "Epoch 2/15\n",
      "5/5 [==============================] - 0s 36ms/step - loss: 0.5695 - accuracy: 0.7647\n",
      "Epoch 3/15\n",
      "5/5 [==============================] - 0s 35ms/step - loss: 0.4901 - accuracy: 0.7353\n",
      "Epoch 4/15\n",
      "5/5 [==============================] - 0s 35ms/step - loss: 0.3713 - accuracy: 0.8162\n",
      "Epoch 5/15\n",
      "5/5 [==============================] - 0s 35ms/step - loss: 0.4033 - accuracy: 0.8162\n",
      "Epoch 6/15\n",
      "5/5 [==============================] - 0s 36ms/step - loss: 0.3726 - accuracy: 0.8088\n",
      "Epoch 7/15\n",
      "5/5 [==============================] - 0s 36ms/step - loss: 0.2729 - accuracy: 0.8824\n",
      "Epoch 8/15\n",
      "5/5 [==============================] - 0s 35ms/step - loss: 0.2314 - accuracy: 0.9191\n",
      "Epoch 9/15\n",
      "5/5 [==============================] - 0s 35ms/step - loss: 0.2396 - accuracy: 0.8824\n",
      "Epoch 10/15\n",
      "5/5 [==============================] - 0s 36ms/step - loss: 0.2138 - accuracy: 0.9118\n",
      "Epoch 11/15\n",
      "5/5 [==============================] - 0s 36ms/step - loss: 0.1877 - accuracy: 0.9265\n",
      "Epoch 12/15\n",
      "5/5 [==============================] - 0s 35ms/step - loss: 0.1582 - accuracy: 0.9412\n",
      "Epoch 13/15\n",
      "5/5 [==============================] - 0s 36ms/step - loss: 0.1429 - accuracy: 0.9412\n",
      "Epoch 14/15\n",
      "5/5 [==============================] - 0s 37ms/step - loss: 0.1555 - accuracy: 0.9338\n",
      "Epoch 15/15\n",
      "5/5 [==============================] - 0s 36ms/step - loss: 0.2340 - accuracy: 0.9191\n",
      "1/1 [==============================] - 0s 372ms/step\n",
      "Epoch 1/15\n",
      "5/5 [==============================] - 3s 27ms/step - loss: 0.6709 - accuracy: 0.5956\n",
      "Epoch 2/15\n",
      "5/5 [==============================] - 0s 35ms/step - loss: 0.5513 - accuracy: 0.7059\n",
      "Epoch 3/15\n",
      "5/5 [==============================] - 0s 33ms/step - loss: 0.4221 - accuracy: 0.7794\n",
      "Epoch 4/15\n",
      "5/5 [==============================] - 0s 35ms/step - loss: 0.3544 - accuracy: 0.8309\n",
      "Epoch 5/15\n",
      "5/5 [==============================] - 0s 34ms/step - loss: 0.3626 - accuracy: 0.7941\n",
      "Epoch 6/15\n",
      "5/5 [==============================] - 0s 35ms/step - loss: 0.4631 - accuracy: 0.7868\n",
      "Epoch 7/15\n",
      "5/5 [==============================] - 0s 34ms/step - loss: 0.5061 - accuracy: 0.6985\n",
      "Epoch 8/15\n",
      "5/5 [==============================] - 0s 34ms/step - loss: 0.4944 - accuracy: 0.6691\n",
      "Epoch 9/15\n",
      "5/5 [==============================] - 0s 33ms/step - loss: 0.4746 - accuracy: 0.7500\n",
      "Epoch 10/15\n",
      "5/5 [==============================] - 0s 33ms/step - loss: 0.4117 - accuracy: 0.8088\n",
      "Epoch 11/15\n",
      "5/5 [==============================] - 0s 34ms/step - loss: 0.3355 - accuracy: 0.8750\n",
      "Epoch 12/15\n",
      "5/5 [==============================] - 0s 35ms/step - loss: 0.2587 - accuracy: 0.9044\n",
      "Epoch 13/15\n",
      "5/5 [==============================] - 0s 33ms/step - loss: 0.2450 - accuracy: 0.9044\n",
      "Epoch 14/15\n",
      "5/5 [==============================] - 0s 35ms/step - loss: 0.1839 - accuracy: 0.9265\n",
      "Epoch 15/15\n",
      "5/5 [==============================] - 0s 34ms/step - loss: 0.2609 - accuracy: 0.8897\n",
      "1/1 [==============================] - 0s 382ms/step\n",
      "Epoch 1/15\n",
      "5/5 [==============================] - 2s 27ms/step - loss: 0.6689 - accuracy: 0.5809\n",
      "Epoch 2/15\n",
      "5/5 [==============================] - 0s 34ms/step - loss: 0.4871 - accuracy: 0.7426\n",
      "Epoch 3/15\n",
      "5/5 [==============================] - 0s 34ms/step - loss: 0.4674 - accuracy: 0.7426\n",
      "Epoch 4/15\n",
      "5/5 [==============================] - 0s 35ms/step - loss: 0.5256 - accuracy: 0.7574\n",
      "Epoch 5/15\n",
      "5/5 [==============================] - 0s 34ms/step - loss: 0.3821 - accuracy: 0.8456\n",
      "Epoch 6/15\n",
      "5/5 [==============================] - 0s 34ms/step - loss: 0.3014 - accuracy: 0.8603\n",
      "Epoch 7/15\n",
      "5/5 [==============================] - 0s 34ms/step - loss: 0.2158 - accuracy: 0.9191\n",
      "Epoch 8/15\n",
      "5/5 [==============================] - 0s 35ms/step - loss: 0.2345 - accuracy: 0.9118\n",
      "Epoch 9/15\n",
      "5/5 [==============================] - 0s 34ms/step - loss: 0.3618 - accuracy: 0.8603\n",
      "Epoch 10/15\n",
      "5/5 [==============================] - 0s 34ms/step - loss: 0.3308 - accuracy: 0.9044\n",
      "Epoch 11/15\n",
      "5/5 [==============================] - 0s 37ms/step - loss: 0.3844 - accuracy: 0.8529\n",
      "Epoch 12/15\n",
      "5/5 [==============================] - 0s 34ms/step - loss: 0.1863 - accuracy: 0.9412\n",
      "Epoch 13/15\n",
      "5/5 [==============================] - 0s 33ms/step - loss: 0.2224 - accuracy: 0.9338\n",
      "Epoch 14/15\n",
      "5/5 [==============================] - 0s 33ms/step - loss: 0.2357 - accuracy: 0.9044\n",
      "Epoch 15/15\n",
      "5/5 [==============================] - 0s 35ms/step - loss: 0.1976 - accuracy: 0.9191\n",
      "1/1 [==============================] - 0s 398ms/step\n",
      "Epoch 1/15\n",
      "5/5 [==============================] - 2s 27ms/step - loss: 0.6814 - accuracy: 0.5515\n",
      "Epoch 2/15\n",
      "5/5 [==============================] - 0s 33ms/step - loss: 0.6016 - accuracy: 0.7059\n",
      "Epoch 3/15\n",
      "5/5 [==============================] - 0s 33ms/step - loss: 0.4262 - accuracy: 0.8235\n",
      "Epoch 4/15\n",
      "5/5 [==============================] - 0s 34ms/step - loss: 0.2509 - accuracy: 0.8897\n",
      "Epoch 5/15\n",
      "5/5 [==============================] - 0s 33ms/step - loss: 0.3166 - accuracy: 0.8897\n",
      "Epoch 6/15\n",
      "5/5 [==============================] - 0s 34ms/step - loss: 0.5902 - accuracy: 0.8088\n",
      "Epoch 7/15\n",
      "5/5 [==============================] - 0s 33ms/step - loss: 0.4996 - accuracy: 0.7941\n",
      "Epoch 8/15\n",
      "5/5 [==============================] - 0s 34ms/step - loss: 0.3195 - accuracy: 0.8750\n",
      "Epoch 9/15\n",
      "5/5 [==============================] - 0s 33ms/step - loss: 0.2682 - accuracy: 0.9338\n",
      "Epoch 10/15\n",
      "5/5 [==============================] - 0s 34ms/step - loss: 0.2136 - accuracy: 0.9265\n",
      "Epoch 11/15\n",
      "5/5 [==============================] - 0s 33ms/step - loss: 0.1782 - accuracy: 0.9265\n",
      "Epoch 12/15\n",
      "5/5 [==============================] - 0s 33ms/step - loss: 0.1683 - accuracy: 0.9118\n",
      "Epoch 13/15\n",
      "5/5 [==============================] - 0s 34ms/step - loss: 0.1455 - accuracy: 0.9485\n",
      "Epoch 14/15\n",
      "5/5 [==============================] - 0s 34ms/step - loss: 0.2462 - accuracy: 0.9118\n",
      "Epoch 15/15\n",
      "5/5 [==============================] - 0s 33ms/step - loss: 0.2586 - accuracy: 0.9265\n",
      "1/1 [==============================] - 0s 371ms/step\n",
      "Cross-validation scores: [0.9375     0.86666667 0.93333333 0.93333333 0.86666667 0.93333333\n",
      " 1.         0.86666667 0.86666667 0.93333333]\n"
     ]
    },
    {
     "name": "stderr",
     "output_type": "stream",
     "text": [
      "WARNING:absl:Found untraced functions such as _update_step_xla, lstm_cell_918_layer_call_fn, lstm_cell_918_layer_call_and_return_conditional_losses, lstm_cell_919_layer_call_fn, lstm_cell_919_layer_call_and_return_conditional_losses while saving (showing 5 of 7). These functions will not be directly callable after loading.\n"
     ]
    },
    {
     "name": "stdout",
     "output_type": "stream",
     "text": [
      "INFO:tensorflow:Assets written to: ram://e657ba795e914b5fadaeae7f0b0f426f/assets\n"
     ]
    },
    {
     "name": "stderr",
     "output_type": "stream",
     "text": [
      "INFO:tensorflow:Assets written to: ram://e657ba795e914b5fadaeae7f0b0f426f/assets\n"
     ]
    },
    {
     "name": "stdout",
     "output_type": "stream",
     "text": [
      "Saved model to ../Daten/lstm_classifier.joblib\n"
     ]
    }
   ],
   "source": [
    "from scikeras.wrappers import KerasClassifier\n",
    "import tensorflow as tf\n",
    "from tensorflow.keras.models import Sequential\n",
    "from tensorflow.keras.layers import LSTM, Dense, Dropout\n",
    "from tensorflow.keras.optimizers import Adam\n",
    "\n",
    "def create_model():\n",
    "    model = Sequential()\n",
    "    model.add(LSTM(128, input_shape=(X_train.shape[1], 1), return_sequences=True))\n",
    "    model.add(Dropout(0.2))\n",
    "\n",
    "    model.add(LSTM(128, return_sequences=True))\n",
    "    model.add(Dropout(0.2))\n",
    "\n",
    "    model.add(LSTM(128))\n",
    "    model.add(Dropout(0.2))\n",
    "\n",
    "    model.add(Dense(32, activation='relu'))\n",
    "    model.add(Dropout(0.2))\n",
    "\n",
    "    model.add(Dense(2, activation='softmax'))\n",
    "\n",
    "    model.compile(optimizer=Adam(learning_rate=0.001), loss='sparse_categorical_crossentropy', metrics=['accuracy'])\n",
    "    return model\n",
    "\n",
    "# Create a classifier with the wrapper\n",
    "model = KerasClassifier(model=create_model, epochs=15, batch_size=32, verbose=1)\n",
    "\n",
    "#convert all columns to float except the label column\n",
    "X_train, X_test, Y_train, Y_test = train_test_split(X, Y, test_size=0.2)\n",
    "X_train = X_train.astype(float)\n",
    "Y_train = Y_train.map({'Indoor': 0, 'Outdoor': 1})\n",
    "Y_train = Y_train.astype(float)\n",
    "X_test = X_test.astype(float)\n",
    "Y_test = Y_test.map({'Indoor': 0, 'Outdoor': 1})\n",
    "Y_train = Y_train.astype(float)\n",
    "\n",
    "X_train = np.array(X_train)\n",
    "X_train = np.reshape(X_train, (X_train.shape[0], X_train.shape[1], 1))\n",
    "\n",
    "X_test = np.array(X_test)\n",
    "X_test = np.reshape(X_test, (X_test.shape[0], X_test.shape[1], 1))\n",
    "\n",
    "print(f'Training data shape: {X_train.shape}')\n",
    "model.fit(X_train, Y_train, validation_data=(X_test, Y_test), batch_size=32)\n",
    "\n",
    "# Now you can use cross_val_score\n",
    "scores = cross_val_score(model, X_train, Y_train, cv=10)\n",
    "print(f\"Cross-validation scores: {scores}\")\n",
    "\n",
    "# Save the model\n",
    "model_path = '../Daten/lstm_classifier.joblib'\n",
    "joblib.dump(model, model_path)\n",
    "print(f'Saved model to {model_path}')\n"
   ],
   "metadata": {
    "collapsed": false,
    "ExecuteTime": {
     "end_time": "2024-04-03T08:54:37.315300Z",
     "start_time": "2024-04-03T08:53:30.864674Z"
    }
   },
   "execution_count": 263
  },
  {
   "cell_type": "markdown",
   "source": [],
   "metadata": {
    "collapsed": false
   }
  },
  {
   "cell_type": "markdown",
   "source": [
    "## Validate the LSTM Model"
   ],
   "metadata": {
    "collapsed": false
   }
  },
  {
   "cell_type": "code",
   "outputs": [
    {
     "name": "stderr",
     "output_type": "stream",
     "text": [
      "2024-04-03 10:57:19.236880: W tensorflow/core/util/tensor_slice_reader.cc:96] Could not open ram://055adb36f5e24116b1b1a5f162e4e6d0: INVALID_ARGUMENT: ram://055adb36f5e24116b1b1a5f162e4e6d0 is a directory.\n"
     ]
    },
    {
     "name": "stdout",
     "output_type": "stream",
     "text": [
      "1/1 [==============================] - 0s 424ms/step\n",
      "Label: 1.0, Prediction: [0.01758427 0.9824157 ], Description: Überdacht, People: viel,  File: Outdoor_2024-03-30 20_23_34.csv\n",
      "Label: 0.0, Prediction: [9.994553e-01 5.447234e-04], Description: Kein Fenster, People: keine,  File: Indoor_2024-04-01 17_18_10.csv\n",
      "Label: 0.0, Prediction: [9.9946827e-01 5.3180743e-04], Description: Nähe Fenster, People: weniger als 5,  File: Indoor_2024-04-01 16_33_22.csv\n",
      "Label: 1.0, Prediction: [0.02851426 0.9714857 ], Description: Häuserschlucht, People: viel,  File: Outdoor_2024-03-29 13_46_20.csv\n",
      "Label: 0.0, Prediction: [9.9932563e-01 6.7434151e-04], Description: Raummitte, People: viel,  File: Indoor_2024-03-29 13_43_31.csv\n",
      "Label: 0.0, Prediction: [0.9889065 0.0110935], Description: Nähe Fenster, People: keine,  File: Indoor_2024-04-01 17_27_27.csv\n",
      "Label: 0.0, Prediction: [9.994585e-01 5.415267e-04], Description: Raummitte, People: weniger als 5,  File: Indoor_2024-03-29 13_05_59.csv\n",
      "Label: 1.0, Prediction: [0.01238049 0.9876195 ], Description: Häuserschlucht, People: weniger als 5,  File: Outdoor_2024-04-01 15_53_39.csv\n",
      "Label: 1.0, Prediction: [0.01049048 0.98950946], Description: Frei, People: viel,  File: Outdoor_2024-03-30 21_25_43.csv\n",
      "Label: 1.0, Prediction: [0.01169337 0.9883066 ], Description: Häuserschlucht, People: keine,  File: Outdoor_2024-04-01 16_06_36.csv\n",
      "Label: 0.0, Prediction: [0.7800217  0.21997824], Description: Nähe Fenster, People: viel,  File: Indoor_2024-03-29 13_41_40.csv\n",
      "Label: 1.0, Prediction: [0.20399688 0.7960031 ], Description: Überdacht, People: keine,  File: Outdoor_2024-04-01 16_13_24.csv\n",
      "Label: 1.0, Prediction: [0.00966193 0.990338  ], Description: Frei, People: keine,  File: Outdoor_2024-03-29 14_10_51.csv\n",
      "Label: 1.0, Prediction: [0.10244857 0.8975514 ], Description: Überdacht, People: keine,  File: Outdoor_2024-03-30 21_28_24.csv\n",
      "Label: 1.0, Prediction: [0.01096808 0.989032  ], Description: Überdacht, People: viel,  File: Outdoor_2024-03-30 20_43_44.csv\n",
      "Label: 1.0, Prediction: [0.01057072 0.9894293 ], Description: Frei, People: weniger als 5,  File: Outdoor_2024-04-01 15_55_27.csv\n",
      "Label: 0.0, Prediction: [9.9945575e-01 5.4429576e-04], Description: Raummitte, People: keine,  File: Indoor_2024-03-30 18_25_54.csv\n",
      "Label: 0.0, Prediction: [0.9854837  0.01451624], Description: Nähe Fenster, People: keine,  File: Indoor_2024-03-30 18_01_41.csv\n",
      "Label: 1.0, Prediction: [0.05522804 0.944772  ], Description: Überdacht, People: keine,  File: Outdoor_2024-03-29 14_11_58.csv\n",
      "Label: 0.0, Prediction: [9.9943680e-01 5.6318427e-04], Description: Kein Fenster, People: keine,  File: Indoor_2024-03-29 14_15_09.csv\n",
      "Label: 0.0, Prediction: [0.988886   0.01111396], Description: Nähe Fenster, People: keine,  File: Indoor_2024-03-31 13_00_17.csv\n",
      "Label: 1.0, Prediction: [0.2285622  0.77143776], Description: Überdacht, People: weniger als 5,  File: Outdoor_2024-04-01 15_52_01.csv\n",
      "Label: 0.0, Prediction: [9.994567e-01 5.433563e-04], Description: Nähe Fenster, People: viel,  File: Indoor_2024-04-01 17_43_24.csv\n",
      "Label: 0.0, Prediction: [0.99654007 0.00345991], Description: Nähe Fenster, People: keine,  File: Indoor_2024-04-01 15_49_13.csv\n"
     ]
    }
   ],
   "source": [
    "# Load the validation data into dataframes\n",
    "validation_averaged_data = pd.DataFrame()\n",
    "validation_description = pd.DataFrame()\n",
    "validation_files = [file for file in os.listdir(validation_files_directory) if file.endswith('.csv')]\n",
    "\n",
    "for file in validation_files:\n",
    "    df = pd.read_csv(validation_files_directory + file, sep=';')\n",
    "    locationDescription = df['locationDescription'][0]\n",
    "    locationPeople = df['people'][0]\n",
    "    \n",
    "    validation_description = pd.concat([validation_description, pd.DataFrame({'locationDescription': [locationDescription], 'people': [locationPeople], 'file': [file]})], ignore_index=True)\n",
    "\n",
    "    validation_averaged_data = preprocess_data(validation_averaged_data, validation_files_directory, file)\n",
    "\n",
    "#map the label column to 0 and 1\n",
    "validation_averaged_data['label'] = validation_averaged_data['label'].map({'Indoor': 0, 'Outdoor': 1})\n",
    "\n",
    "#convert all columns to float except the label column\n",
    "validation_averaged_data = validation_averaged_data.astype(float)\n",
    "\n",
    "Y_validation = validation_averaged_data['label']\n",
    "X_validation = validation_averaged_data.drop(columns=['label'])\n",
    "\n",
    "X_validation = np.array(X_validation)\n",
    "X_validation = np.reshape(X_validation, (X_validation.shape[0], X_validation.shape[1], 1))\n",
    "\n",
    "Y_validation = Y_validation.astype(float)\n",
    "\n",
    "#load the model\n",
    "model = joblib.load(model_path)\n",
    "\n",
    "#predict the labels of the validation data for each data point with their corresponding probability\n",
    "validation_predictions = model.predict_proba(X_validation)\n",
    "\n",
    "#print label and the corresponding prediction\n",
    "for label, description, people, prediction, file in zip(validation_averaged_data['label'], validation_description['locationDescription'], validation_description['people'], validation_predictions, validation_description['file']):\n",
    "    #if abs(prediction[0] - prediction[1]) < 0.7:\n",
    "    print(f'Label: {label}, Prediction: {prediction}, Description: {description}, People: {people},  File: {file}')"
   ],
   "metadata": {
    "collapsed": false,
    "ExecuteTime": {
     "end_time": "2024-04-03T08:57:19.712010Z",
     "start_time": "2024-04-03T08:57:15.714527Z"
    }
   },
   "execution_count": 266
  },
  {
   "cell_type": "markdown",
   "source": [],
   "metadata": {
    "collapsed": false
   }
  }
 ],
 "metadata": {
  "kernelspec": {
   "display_name": "Python 3",
   "language": "python",
   "name": "python3"
  },
  "language_info": {
   "name": "python",
   "version": "3.12.0"
  }
 },
 "nbformat": 4,
 "nbformat_minor": 2
}
