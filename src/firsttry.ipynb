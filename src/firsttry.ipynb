{
 "cells": [
  {
   "cell_type": "markdown",
   "source": [
    "# Data Preprocessing, Averaging over all csv-files and Saving the averaged data into new csv-file"
   ],
   "metadata": {
    "collapsed": false
   }
  },
  {
   "cell_type": "code",
   "execution_count": 929,
   "metadata": {
    "ExecuteTime": {
     "end_time": "2024-03-30T16:00:33.611364Z",
     "start_time": "2024-03-30T16:00:29.560325Z"
    }
   },
   "outputs": [
    {
     "name": "stdout",
     "output_type": "stream",
     "text": [
      "Found 174 CSV files\n",
      "Found 96 indoor files and 78 outdoor files\n"
     ]
    },
    {
     "data": {
      "text/plain": "       label  cellStrength  nrSatellitesInView  nrSatellitesInFix  minCn0GPS  \\\n0     Indoor      3.000000           42.958333           0.000000   0.000000   \n119   Indoor      3.920000           37.000000           0.000000   0.000000   \n118   Indoor      3.680000           42.720000           4.360000   3.808000   \n117   Indoor      3.387097           47.967742          14.258065  16.603226   \n115   Indoor      1.500000           46.875000          24.125000  16.612500   \n..       ...           ...                 ...                ...        ...   \n100  Outdoor      3.260870           45.000000          24.869565  17.856522   \n98   Outdoor      4.000000           51.000000          30.230769  20.088462   \n97   Outdoor      3.000000           55.642857          23.714286  18.457143   \n95   Outdoor      4.000000           52.000000          30.666667  18.970370   \n173  Outdoor      4.000000           44.482759          24.724138  19.037931   \n\n     meanCn0GPS  maxCn0GPS    minCn0Bl  meanCn0Bl  minCn0Wifi  ...  \\\n0      0.000000   0.000000  -98.000000 -78.742362  -88.500000  ...   \n119    0.000000   0.000000  -99.000000 -83.374629  -91.000000  ...   \n118   14.240000  16.640000  -96.000000 -86.117511  -90.000000  ...   \n117   22.548387  31.354839  -99.000000 -84.553654  -86.903226  ...   \n115   25.700000  43.750000  -89.475000 -71.124643  -86.875000  ...   \n..          ...        ...         ...        ...         ...  ...   \n100   27.130435  43.739130  -99.000000 -84.961734  -88.000000  ...   \n98    32.923077  45.115385  -96.846154 -85.467216  -93.769231  ...   \n97    30.000000  41.321429  -98.357143 -90.834902  -90.071429  ...   \n95    34.259259  45.814815  -99.333333 -89.196863  -94.814815  ...   \n173   31.620690  44.931034 -100.000000 -85.566248  -70.241379  ...   \n\n     satellite_cn0_mode  satellite_cn0_std  satellite_cn0_range  \\\n0              0.000000           0.000000             0.000000   \n119            0.000000           0.000000             0.000000   \n118            3.808000           0.381244             0.960000   \n117           18.854839           4.605385            15.477419   \n115           22.407500           7.482374            27.510000   \n..                  ...                ...                  ...   \n100           25.152174           6.823607            25.934783   \n98            31.423077           6.283073            25.676923   \n97            25.742857           7.052654            23.150000   \n95            33.470370           7.170785            27.451852   \n173           25.531034           7.418118            26.258621   \n\n     bluetooth_rssi_median  bluetooth_rssi_mode  bluetooth_rssi_std  \\\n0               -90.416667           -98.000000           23.345390   \n119             -86.540000           -91.800000           12.348973   \n118             -89.160000           -90.960000            9.139573   \n117             -87.129032           -95.645161           12.264947   \n115             -74.087500           -81.500000           13.924079   \n..                     ...                  ...                 ...   \n100             -90.586957           -91.739130           14.618854   \n98              -91.442308           -92.923077           16.902139   \n97              -95.357143           -96.928571           11.781860   \n95              -92.462963           -93.000000           11.826576   \n173             -89.931034           -88.034483           11.124122   \n\n     bluetooth_rssi_range  wifi_rssi_median  wifi_rssi_mode  wifi_rssi_range  \n0               57.000000        -73.875000      -87.833333        40.833333  \n119             54.000000        -81.000000      -82.000000        16.000000  \n118             28.840000        -82.500000      -86.000000        20.000000  \n117             48.032258        -74.903226      -85.451613        21.387097  \n115             40.475000        -71.412500      -82.550000        22.400000  \n..                    ...               ...             ...              ...  \n100             44.565217        -85.000000      -87.000000        15.000000  \n98              56.846154        -86.923077      -93.153846        20.384615  \n97              36.357143        -86.607143      -89.750000         9.500000  \n95              59.333333        -85.500000      -91.518519        34.740741  \n173             36.000000        -66.068966      -69.379310        14.172414  \n\n[174 rows x 23 columns]",
      "text/html": "<div>\n<style scoped>\n    .dataframe tbody tr th:only-of-type {\n        vertical-align: middle;\n    }\n\n    .dataframe tbody tr th {\n        vertical-align: top;\n    }\n\n    .dataframe thead th {\n        text-align: right;\n    }\n</style>\n<table border=\"1\" class=\"dataframe\">\n  <thead>\n    <tr style=\"text-align: right;\">\n      <th></th>\n      <th>label</th>\n      <th>cellStrength</th>\n      <th>nrSatellitesInView</th>\n      <th>nrSatellitesInFix</th>\n      <th>minCn0GPS</th>\n      <th>meanCn0GPS</th>\n      <th>maxCn0GPS</th>\n      <th>minCn0Bl</th>\n      <th>meanCn0Bl</th>\n      <th>minCn0Wifi</th>\n      <th>...</th>\n      <th>satellite_cn0_mode</th>\n      <th>satellite_cn0_std</th>\n      <th>satellite_cn0_range</th>\n      <th>bluetooth_rssi_median</th>\n      <th>bluetooth_rssi_mode</th>\n      <th>bluetooth_rssi_std</th>\n      <th>bluetooth_rssi_range</th>\n      <th>wifi_rssi_median</th>\n      <th>wifi_rssi_mode</th>\n      <th>wifi_rssi_range</th>\n    </tr>\n  </thead>\n  <tbody>\n    <tr>\n      <th>0</th>\n      <td>Indoor</td>\n      <td>3.000000</td>\n      <td>42.958333</td>\n      <td>0.000000</td>\n      <td>0.000000</td>\n      <td>0.000000</td>\n      <td>0.000000</td>\n      <td>-98.000000</td>\n      <td>-78.742362</td>\n      <td>-88.500000</td>\n      <td>...</td>\n      <td>0.000000</td>\n      <td>0.000000</td>\n      <td>0.000000</td>\n      <td>-90.416667</td>\n      <td>-98.000000</td>\n      <td>23.345390</td>\n      <td>57.000000</td>\n      <td>-73.875000</td>\n      <td>-87.833333</td>\n      <td>40.833333</td>\n    </tr>\n    <tr>\n      <th>119</th>\n      <td>Indoor</td>\n      <td>3.920000</td>\n      <td>37.000000</td>\n      <td>0.000000</td>\n      <td>0.000000</td>\n      <td>0.000000</td>\n      <td>0.000000</td>\n      <td>-99.000000</td>\n      <td>-83.374629</td>\n      <td>-91.000000</td>\n      <td>...</td>\n      <td>0.000000</td>\n      <td>0.000000</td>\n      <td>0.000000</td>\n      <td>-86.540000</td>\n      <td>-91.800000</td>\n      <td>12.348973</td>\n      <td>54.000000</td>\n      <td>-81.000000</td>\n      <td>-82.000000</td>\n      <td>16.000000</td>\n    </tr>\n    <tr>\n      <th>118</th>\n      <td>Indoor</td>\n      <td>3.680000</td>\n      <td>42.720000</td>\n      <td>4.360000</td>\n      <td>3.808000</td>\n      <td>14.240000</td>\n      <td>16.640000</td>\n      <td>-96.000000</td>\n      <td>-86.117511</td>\n      <td>-90.000000</td>\n      <td>...</td>\n      <td>3.808000</td>\n      <td>0.381244</td>\n      <td>0.960000</td>\n      <td>-89.160000</td>\n      <td>-90.960000</td>\n      <td>9.139573</td>\n      <td>28.840000</td>\n      <td>-82.500000</td>\n      <td>-86.000000</td>\n      <td>20.000000</td>\n    </tr>\n    <tr>\n      <th>117</th>\n      <td>Indoor</td>\n      <td>3.387097</td>\n      <td>47.967742</td>\n      <td>14.258065</td>\n      <td>16.603226</td>\n      <td>22.548387</td>\n      <td>31.354839</td>\n      <td>-99.000000</td>\n      <td>-84.553654</td>\n      <td>-86.903226</td>\n      <td>...</td>\n      <td>18.854839</td>\n      <td>4.605385</td>\n      <td>15.477419</td>\n      <td>-87.129032</td>\n      <td>-95.645161</td>\n      <td>12.264947</td>\n      <td>48.032258</td>\n      <td>-74.903226</td>\n      <td>-85.451613</td>\n      <td>21.387097</td>\n    </tr>\n    <tr>\n      <th>115</th>\n      <td>Indoor</td>\n      <td>1.500000</td>\n      <td>46.875000</td>\n      <td>24.125000</td>\n      <td>16.612500</td>\n      <td>25.700000</td>\n      <td>43.750000</td>\n      <td>-89.475000</td>\n      <td>-71.124643</td>\n      <td>-86.875000</td>\n      <td>...</td>\n      <td>22.407500</td>\n      <td>7.482374</td>\n      <td>27.510000</td>\n      <td>-74.087500</td>\n      <td>-81.500000</td>\n      <td>13.924079</td>\n      <td>40.475000</td>\n      <td>-71.412500</td>\n      <td>-82.550000</td>\n      <td>22.400000</td>\n    </tr>\n    <tr>\n      <th>...</th>\n      <td>...</td>\n      <td>...</td>\n      <td>...</td>\n      <td>...</td>\n      <td>...</td>\n      <td>...</td>\n      <td>...</td>\n      <td>...</td>\n      <td>...</td>\n      <td>...</td>\n      <td>...</td>\n      <td>...</td>\n      <td>...</td>\n      <td>...</td>\n      <td>...</td>\n      <td>...</td>\n      <td>...</td>\n      <td>...</td>\n      <td>...</td>\n      <td>...</td>\n      <td>...</td>\n    </tr>\n    <tr>\n      <th>100</th>\n      <td>Outdoor</td>\n      <td>3.260870</td>\n      <td>45.000000</td>\n      <td>24.869565</td>\n      <td>17.856522</td>\n      <td>27.130435</td>\n      <td>43.739130</td>\n      <td>-99.000000</td>\n      <td>-84.961734</td>\n      <td>-88.000000</td>\n      <td>...</td>\n      <td>25.152174</td>\n      <td>6.823607</td>\n      <td>25.934783</td>\n      <td>-90.586957</td>\n      <td>-91.739130</td>\n      <td>14.618854</td>\n      <td>44.565217</td>\n      <td>-85.000000</td>\n      <td>-87.000000</td>\n      <td>15.000000</td>\n    </tr>\n    <tr>\n      <th>98</th>\n      <td>Outdoor</td>\n      <td>4.000000</td>\n      <td>51.000000</td>\n      <td>30.230769</td>\n      <td>20.088462</td>\n      <td>32.923077</td>\n      <td>45.115385</td>\n      <td>-96.846154</td>\n      <td>-85.467216</td>\n      <td>-93.769231</td>\n      <td>...</td>\n      <td>31.423077</td>\n      <td>6.283073</td>\n      <td>25.676923</td>\n      <td>-91.442308</td>\n      <td>-92.923077</td>\n      <td>16.902139</td>\n      <td>56.846154</td>\n      <td>-86.923077</td>\n      <td>-93.153846</td>\n      <td>20.384615</td>\n    </tr>\n    <tr>\n      <th>97</th>\n      <td>Outdoor</td>\n      <td>3.000000</td>\n      <td>55.642857</td>\n      <td>23.714286</td>\n      <td>18.457143</td>\n      <td>30.000000</td>\n      <td>41.321429</td>\n      <td>-98.357143</td>\n      <td>-90.834902</td>\n      <td>-90.071429</td>\n      <td>...</td>\n      <td>25.742857</td>\n      <td>7.052654</td>\n      <td>23.150000</td>\n      <td>-95.357143</td>\n      <td>-96.928571</td>\n      <td>11.781860</td>\n      <td>36.357143</td>\n      <td>-86.607143</td>\n      <td>-89.750000</td>\n      <td>9.500000</td>\n    </tr>\n    <tr>\n      <th>95</th>\n      <td>Outdoor</td>\n      <td>4.000000</td>\n      <td>52.000000</td>\n      <td>30.666667</td>\n      <td>18.970370</td>\n      <td>34.259259</td>\n      <td>45.814815</td>\n      <td>-99.333333</td>\n      <td>-89.196863</td>\n      <td>-94.814815</td>\n      <td>...</td>\n      <td>33.470370</td>\n      <td>7.170785</td>\n      <td>27.451852</td>\n      <td>-92.462963</td>\n      <td>-93.000000</td>\n      <td>11.826576</td>\n      <td>59.333333</td>\n      <td>-85.500000</td>\n      <td>-91.518519</td>\n      <td>34.740741</td>\n    </tr>\n    <tr>\n      <th>173</th>\n      <td>Outdoor</td>\n      <td>4.000000</td>\n      <td>44.482759</td>\n      <td>24.724138</td>\n      <td>19.037931</td>\n      <td>31.620690</td>\n      <td>44.931034</td>\n      <td>-100.000000</td>\n      <td>-85.566248</td>\n      <td>-70.241379</td>\n      <td>...</td>\n      <td>25.531034</td>\n      <td>7.418118</td>\n      <td>26.258621</td>\n      <td>-89.931034</td>\n      <td>-88.034483</td>\n      <td>11.124122</td>\n      <td>36.000000</td>\n      <td>-66.068966</td>\n      <td>-69.379310</td>\n      <td>14.172414</td>\n    </tr>\n  </tbody>\n</table>\n<p>174 rows × 23 columns</p>\n</div>"
     },
     "execution_count": 929,
     "metadata": {},
     "output_type": "execute_result"
    }
   ],
   "source": [
    "import os\n",
    "import pandas as pd\n",
    "import json \n",
    "from collections import Counter\n",
    "\n",
    "# extract the code into a function called preprocess_data so that we can use it later for new data\n",
    "def preprocess_data(averaged_df, directory, file):\n",
    "    df = pd.read_csv(directory + file, sep=';')\n",
    "    # Drop unnecessary columns like timeStampNetwork and timeStampGPS\n",
    "    df = df.drop(columns=['timeStampNetwork', 'timeStampGPS', 'bAccuracyNetwork', 'speedAccuracyNetwork', 'cellType', 'networkLocationType', 'hAccuracyNetwork', 'vAccuracyNetwork', 'speedAccuracyNetwork', 'bAccuracyNetwork', 'nrBlDevices', 'hAccuracyGPS', 'maxCn0Bl', 'bAccuracyGPS', 'speedAccuracyGPS', 'vAccuracyGPS', 'nrWifiDevices'])\n",
    "    \n",
    "    # Drop 'locationDescription' and 'people' if they exist\n",
    "    if 'locationDescription' in df.columns:\n",
    "        df = df.drop(columns=['locationDescription'])\n",
    "    if 'people' in df.columns:\n",
    "        df = df.drop(columns=['people'])\n",
    "    if 'latitudeGPS' in df.columns:\n",
    "        df = df.drop(columns=['latitudeGPS'])\n",
    "    if 'longitudeGPS' in df.columns:\n",
    "        df = df.drop(columns=['longitudeGPS'])\n",
    "    if 'latitudeNetwork' in df.columns:\n",
    "        df = df.drop(columns=['latitudeNetwork'])\n",
    "    if 'longitudeNetwork' in df.columns:\n",
    "        df = df.drop(columns=['longitudeNetwork'])\n",
    "        \n",
    "    # TODO remove this again after making changes in app\n",
    "    if df['meanCn0Wifi'].isnull().values.any():\n",
    "        df['meanCn0Wifi'] = 0\n",
    "    \n",
    "    # Remove first x rows and reset begin index to 0\n",
    "    removedRows = 3\n",
    "    df = df.iloc[removedRows:]\n",
    "    df = df.reset_index(drop=True)\n",
    "    \n",
    "    # Load satellites json\n",
    "    df['satellites'] = df['satellites'].apply(lambda x: json.loads(x))\n",
    "    \n",
    "    # Add cn0 column for easier computation of statistics\n",
    "    df['satellite_cn0'] = df['satellites'].apply(lambda x: [sat['cn0'] for sat in x])\n",
    "    \n",
    "    # Calculate median, mode, variance, standard deviation and range of the satellite cn0\n",
    "    df['satellite_cn0_median'] = df['satellite_cn0'].apply(lambda x: pd.Series(x).median() if not pd.Series(x).empty else 0)\n",
    "    df['satellite_cn0_mode'] = df['satellite_cn0'].apply(lambda x: pd.Series(x).mode()[0] if not pd.Series(x).mode().empty else 0)\n",
    "    df['satellite_cn0_std'] = df['satellite_cn0'].apply(lambda x: pd.Series(x).std() if not pd.Series(x).empty else 0)\n",
    "    df['satellite_cn0_range'] = df['satellite_cn0'].apply(lambda x: pd.Series(x).max() - pd.Series(x).min() if not pd.Series(x).empty else 0)\n",
    "    \n",
    "    # load the bluetooth json and load rssi into a new column\n",
    "    df['bluetoothDevices'] = df['bluetoothDevices'].apply(lambda x: json.loads(x))\n",
    "    df['bluetooth_rssi'] = df['bluetoothDevices'].apply(lambda x: [device['rssi'] for device in x])\n",
    "    \n",
    "     # Calculate statistical figures for the bluetooth devices\n",
    "    df['bluetooth_rssi_median'] = df['bluetooth_rssi'].apply(lambda x: pd.Series(x).median() if not pd.Series(x).empty else 0)\n",
    "    df['bluetooth_rssi_mode'] = df['bluetooth_rssi'].apply(lambda x: pd.Series(x).mode()[0] if not pd.Series(x).mode().empty else 0)\n",
    "    df['bluetooth_rssi_std'] = df['bluetooth_rssi'].apply(lambda x: pd.Series(x).std() if not pd.Series(x).empty else 0)\n",
    "    df['bluetooth_rssi_range'] = df['bluetooth_rssi'].apply(lambda x: pd.Series(x).max() - pd.Series(x).min() if not pd.Series(x).empty else 0)\n",
    "    \n",
    "    # load the wifi json and load rssi into a new column\n",
    "    df['wifiDevices'] = df['wifiDevices'].apply(lambda x: json.loads(x))\n",
    "    df['wifi_rssi'] = df['wifiDevices'].apply(lambda x: [device['level'] for device in x])\n",
    "    \n",
    "     # Calculate statistical figures for the wifi devices\n",
    "    df['wifi_rssi_median'] = df['wifi_rssi'].apply(lambda x: pd.Series(x).median() if not pd.Series(x).empty else 0)\n",
    "    df['wifi_rssi_mode'] = df['wifi_rssi'].apply(lambda x: pd.Series(x).mode()[0] if not pd.Series(x).mode().empty else 0)\n",
    "    df['wifi_rssi_range'] = df['wifi_rssi'].apply(lambda x: pd.Series(x).max() - pd.Series(x).min() if not pd.Series(x).empty else 0)\n",
    "    \n",
    "    # Drop list columns\n",
    "    df.drop(columns=['satellites', 'bluetoothDevices', 'wifiDevices', 'satellite_cn0', 'bluetooth_rssi', 'wifi_rssi'], inplace=True)\n",
    "    \n",
    "     # Average over all columns for numeric values and take the first of non-numeric to have a single row\n",
    "    df_label = df.iloc[0]['label']\n",
    "    \n",
    "    df.drop(columns=['label'], inplace=True)\n",
    "    \n",
    "    df = df.mean().to_frame().T\n",
    "    \n",
    "    df['label'] = df_label\n",
    "    \n",
    "    #place label at the beginning\n",
    "    cols = list(df.columns)\n",
    "    cols = [cols[-1]] + cols[:-1]\n",
    "    df = df[cols]\n",
    "    \n",
    "    averaged_df = pd.concat([averaged_df, df], ignore_index=True)\n",
    "    return averaged_df\n",
    "\n",
    "files_directory = '../Daten/firsttry/'\n",
    "averaged_path = '../Daten/averaged_data.csv'\n",
    "\n",
    "if os.path.exists(averaged_path):\n",
    "    os.remove(averaged_path)\n",
    "    print(f\"Removed {averaged_path}\")\n",
    "\n",
    "# Get list of CSV files\n",
    "csv_files = [file for file in os.listdir(files_directory) if file.endswith('.csv')]\n",
    "print(f'Found {len(csv_files)} CSV files')\n",
    "\n",
    "# Get nr of files, where name starts with indoor and outdoor\n",
    "indoor_files = [file for file in csv_files if file.startswith('Indoor')]\n",
    "outdoor_files = [file for file in csv_files if file.startswith('Outdoor')]\n",
    "print(f'Found {len(indoor_files)} indoor files and {len(outdoor_files)} outdoor files')\n",
    "\n",
    "averaged_data = pd.DataFrame()\n",
    "\n",
    "for file in csv_files:\n",
    "    averaged_data = preprocess_data(averaged_data, files_directory, file)\n",
    "\n",
    "averaged_data.sort_values(by=['label'], inplace=True)\n",
    "averaged_data"
   ]
  },
  {
   "cell_type": "markdown",
   "source": [
    "# Train the Random Forest Classifier"
   ],
   "metadata": {
    "collapsed": false
   }
  },
  {
   "cell_type": "markdown",
   "source": [
    "## Randomize and Split the Data for Random Forest Classifier"
   ],
   "metadata": {
    "collapsed": false
   }
  },
  {
   "cell_type": "code",
   "outputs": [
    {
     "name": "stdout",
     "output_type": "stream",
     "text": [
      "Training data shape: (139, 22)\n",
      "Testing data shape: (35, 22)\n"
     ]
    }
   ],
   "source": [
    "from sklearn.model_selection import train_test_split\n",
    "\n",
    "# Randomize the data\n",
    "averaged_data = averaged_data.sample(frac=1).reset_index(drop=True)\n",
    "\n",
    "# drop the label column\n",
    "X = averaged_data.drop(columns=['label'], axis=1)\n",
    "Y = averaged_data['label']\n",
    "\n",
    "# Split the data into training and testing data\n",
    "X_train, X_test, Y_train, Y_test = train_test_split(X, Y, test_size=0.2)\n",
    "\n",
    "print(f'Training data shape: {X_train.shape}')\n",
    "print(f'Testing data shape: {X_test.shape}')"
   ],
   "metadata": {
    "collapsed": false,
    "ExecuteTime": {
     "end_time": "2024-03-30T16:00:33.622065Z",
     "start_time": "2024-03-30T16:00:33.612666Z"
    }
   },
   "execution_count": 930
  },
  {
   "cell_type": "markdown",
   "source": [
    "## Train a Random Forest Classifier"
   ],
   "metadata": {
    "collapsed": false
   }
  },
  {
   "cell_type": "code",
   "outputs": [
    {
     "name": "stdout",
     "output_type": "stream",
     "text": [
      "Cross-validation scores: [0.89285714 0.92857143 0.92857143 0.96428571 0.96296296]\n",
      "Accuracy: 0.9714285714285714\n"
     ]
    }
   ],
   "source": [
    "import numpy as np\n",
    "from sklearn.model_selection import cross_val_score\n",
    "from sklearn.ensemble import RandomForestClassifier\n",
    "from sklearn.metrics import accuracy_score\n",
    "\n",
    "# Train the Random Forest Classifier with regularization\n",
    "clf = RandomForestClassifier()\n",
    "\n",
    "# Train the classifier\n",
    "clf.fit(X_train, Y_train)\n",
    "\n",
    "# Cross-validation\n",
    "scores = cross_val_score(clf, X_train, Y_train, cv=5)\n",
    "print(f\"Cross-validation scores: {scores}\")\n",
    "\n",
    "# Predict the labels of the test data\n",
    "y_pred = clf.predict(X_test)\n",
    "\n",
    "# Calculate the accuracy of the classifier\n",
    "accuracy = accuracy_score(Y_test, y_pred)\n",
    "print(f'Accuracy: {accuracy}')"
   ],
   "metadata": {
    "collapsed": false,
    "ExecuteTime": {
     "end_time": "2024-03-30T16:00:33.943220Z",
     "start_time": "2024-03-30T16:00:33.622939Z"
    }
   },
   "execution_count": 931
  },
  {
   "cell_type": "markdown",
   "source": [
    "## Get the Feature Importances"
   ],
   "metadata": {
    "collapsed": false
   }
  },
  {
   "cell_type": "code",
   "outputs": [
    {
     "data": {
      "text/plain": "                  feature  importance\n12     satellite_cn0_mode    0.192766\n14    satellite_cn0_range    0.148656\n5               maxCn0GPS    0.131702\n11   satellite_cn0_median    0.119207\n4              meanCn0GPS    0.082761\n13      satellite_cn0_std    0.079774\n2       nrSatellitesInFix    0.066627\n3               minCn0GPS    0.043555\n0            cellStrength    0.031373\n1      nrSatellitesInView    0.021610\n8              minCn0Wifi    0.013868\n10             maxCn0Wifi    0.011170\n9             meanCn0Wifi    0.011059\n19       wifi_rssi_median    0.010524\n7               meanCn0Bl    0.008943\n15  bluetooth_rssi_median    0.008477\n6                minCn0Bl    0.006822\n20         wifi_rssi_mode    0.003713\n17     bluetooth_rssi_std    0.002525\n16    bluetooth_rssi_mode    0.001776\n21        wifi_rssi_range    0.001618\n18   bluetooth_rssi_range    0.001475",
      "text/html": "<div>\n<style scoped>\n    .dataframe tbody tr th:only-of-type {\n        vertical-align: middle;\n    }\n\n    .dataframe tbody tr th {\n        vertical-align: top;\n    }\n\n    .dataframe thead th {\n        text-align: right;\n    }\n</style>\n<table border=\"1\" class=\"dataframe\">\n  <thead>\n    <tr style=\"text-align: right;\">\n      <th></th>\n      <th>feature</th>\n      <th>importance</th>\n    </tr>\n  </thead>\n  <tbody>\n    <tr>\n      <th>12</th>\n      <td>satellite_cn0_mode</td>\n      <td>0.192766</td>\n    </tr>\n    <tr>\n      <th>14</th>\n      <td>satellite_cn0_range</td>\n      <td>0.148656</td>\n    </tr>\n    <tr>\n      <th>5</th>\n      <td>maxCn0GPS</td>\n      <td>0.131702</td>\n    </tr>\n    <tr>\n      <th>11</th>\n      <td>satellite_cn0_median</td>\n      <td>0.119207</td>\n    </tr>\n    <tr>\n      <th>4</th>\n      <td>meanCn0GPS</td>\n      <td>0.082761</td>\n    </tr>\n    <tr>\n      <th>13</th>\n      <td>satellite_cn0_std</td>\n      <td>0.079774</td>\n    </tr>\n    <tr>\n      <th>2</th>\n      <td>nrSatellitesInFix</td>\n      <td>0.066627</td>\n    </tr>\n    <tr>\n      <th>3</th>\n      <td>minCn0GPS</td>\n      <td>0.043555</td>\n    </tr>\n    <tr>\n      <th>0</th>\n      <td>cellStrength</td>\n      <td>0.031373</td>\n    </tr>\n    <tr>\n      <th>1</th>\n      <td>nrSatellitesInView</td>\n      <td>0.021610</td>\n    </tr>\n    <tr>\n      <th>8</th>\n      <td>minCn0Wifi</td>\n      <td>0.013868</td>\n    </tr>\n    <tr>\n      <th>10</th>\n      <td>maxCn0Wifi</td>\n      <td>0.011170</td>\n    </tr>\n    <tr>\n      <th>9</th>\n      <td>meanCn0Wifi</td>\n      <td>0.011059</td>\n    </tr>\n    <tr>\n      <th>19</th>\n      <td>wifi_rssi_median</td>\n      <td>0.010524</td>\n    </tr>\n    <tr>\n      <th>7</th>\n      <td>meanCn0Bl</td>\n      <td>0.008943</td>\n    </tr>\n    <tr>\n      <th>15</th>\n      <td>bluetooth_rssi_median</td>\n      <td>0.008477</td>\n    </tr>\n    <tr>\n      <th>6</th>\n      <td>minCn0Bl</td>\n      <td>0.006822</td>\n    </tr>\n    <tr>\n      <th>20</th>\n      <td>wifi_rssi_mode</td>\n      <td>0.003713</td>\n    </tr>\n    <tr>\n      <th>17</th>\n      <td>bluetooth_rssi_std</td>\n      <td>0.002525</td>\n    </tr>\n    <tr>\n      <th>16</th>\n      <td>bluetooth_rssi_mode</td>\n      <td>0.001776</td>\n    </tr>\n    <tr>\n      <th>21</th>\n      <td>wifi_rssi_range</td>\n      <td>0.001618</td>\n    </tr>\n    <tr>\n      <th>18</th>\n      <td>bluetooth_rssi_range</td>\n      <td>0.001475</td>\n    </tr>\n  </tbody>\n</table>\n</div>"
     },
     "execution_count": 932,
     "metadata": {},
     "output_type": "execute_result"
    }
   ],
   "source": [
    "# Print feature importances of the selected features\n",
    "feature_importances = clf.feature_importances_\n",
    "feature_importances = pd.DataFrame({'feature': X.columns, 'importance': feature_importances})\n",
    "feature_importances = feature_importances.sort_values(by='importance', ascending=False)\n",
    "feature_importances"
   ],
   "metadata": {
    "collapsed": false,
    "ExecuteTime": {
     "end_time": "2024-03-30T16:00:33.952876Z",
     "start_time": "2024-03-30T16:00:33.944127Z"
    }
   },
   "execution_count": 932
  },
  {
   "cell_type": "markdown",
   "source": [
    "## Save the model and tryout the model with new data"
   ],
   "metadata": {
    "collapsed": false
   }
  },
  {
   "cell_type": "markdown",
   "source": [],
   "metadata": {
    "collapsed": false
   }
  },
  {
   "cell_type": "code",
   "outputs": [
    {
     "name": "stdout",
     "output_type": "stream",
     "text": [
      "Saved model to ../Daten/random_forest_classifier.joblib\n"
     ]
    }
   ],
   "source": [
    "import joblib\n",
    "\n",
    "# Save the model\n",
    "model_path = '../Daten/random_forest_classifier.joblib'\n",
    "joblib.dump(clf, model_path)\n",
    "print(f'Saved model to {model_path}')"
   ],
   "metadata": {
    "collapsed": false,
    "ExecuteTime": {
     "end_time": "2024-03-30T16:00:33.979245Z",
     "start_time": "2024-03-30T16:00:33.953700Z"
    }
   },
   "execution_count": 933
  },
  {
   "cell_type": "markdown",
   "source": [
    "# Test the model with new data in validation folder in this notebook"
   ],
   "metadata": {
    "collapsed": false
   }
  },
  {
   "cell_type": "code",
   "outputs": [
    {
     "name": "stdout",
     "output_type": "stream",
     "text": [
      "Label: Outdoor, Description: Häuserschlucht, People: viel, Prediction: Outdoor, Probability: 0.9\n",
      "Label: Indoor, Description: Raummitte, People: viel, Prediction: Indoor, Probability: 1.0\n",
      "Label: Indoor, Description: Raummitte, People: weniger als 5, Prediction: Indoor, Probability: 1.0\n",
      "Label: Indoor, Description: Nähe Fenster, People: viel, Prediction: Outdoor, Probability: 0.64\n"
     ]
    }
   ],
   "source": [
    "validation_files_directory = '../Daten/validation/'\n",
    "validation_averaged_path = '../Daten/validation_averaged_data.csv'\n",
    "model_path = '../Daten/random_forest_classifier.joblib'\n",
    "\n",
    "# Load the model\n",
    "model = joblib.load(model_path)\n",
    "\n",
    "validation_averaged_data = pd.DataFrame()\n",
    "validation_description = pd.DataFrame()\n",
    "validation_files = [file for file in os.listdir(validation_files_directory) if file.endswith('.csv')]\n",
    "\n",
    "for file in validation_files:\n",
    "    df = pd.read_csv(validation_files_directory + file, sep=';')\n",
    "    locationDescription = df['locationDescription'][0]\n",
    "    locationPeople = df['people'][0]\n",
    "    \n",
    "    validation_description = pd.concat([validation_description, pd.DataFrame({'locationDescription': [locationDescription], 'people': [locationPeople]})], ignore_index=True)\n",
    "\n",
    "    validation_averaged_data = preprocess_data(validation_averaged_data, validation_files_directory, file)\n",
    "\n",
    "# Predict the labels of the validation data\n",
    "validation_predictions = model.predict(validation_averaged_data.drop(columns=['label']))\n",
    "validation_probabilities = model.predict_proba(validation_averaged_data.drop(columns=['label']))\n",
    "\n",
    "#print label and the corresponding prediction\n",
    "for label, description, people, prediction, probability in zip(validation_averaged_data['label'], validation_description['locationDescription'], validation_description['people'], validation_predictions, validation_probabilities):\n",
    "    if prediction == 'Indoor':\n",
    "        print(f'Label: {label}, Description: {description}, People: {people}, Prediction: {prediction}, Probability: {probability[0]}')\n",
    "    else:\n",
    "        print(f'Label: {label}, Description: {description}, People: {people}, Prediction: {prediction}, Probability: {probability[1]}')\n",
    "        "
   ],
   "metadata": {
    "collapsed": false,
    "ExecuteTime": {
     "end_time": "2024-03-30T16:00:34.114912Z",
     "start_time": "2024-03-30T16:00:33.980084Z"
    }
   },
   "execution_count": 934
  },
  {
   "cell_type": "markdown",
   "source": [
    "## Setup LSTM Model"
   ],
   "metadata": {
    "collapsed": false
   }
  },
  {
   "cell_type": "code",
   "outputs": [
    {
     "name": "stdout",
     "output_type": "stream",
     "text": [
      "Model: \"sequential_39\"\n",
      "_________________________________________________________________\n",
      " Layer (type)                Output Shape              Param #   \n",
      "=================================================================\n",
      " lstm_117 (LSTM)             (None, 22, 128)           66560     \n",
      "                                                                 \n",
      " dropout_157 (Dropout)       (None, 22, 128)           0         \n",
      "                                                                 \n",
      " lstm_118 (LSTM)             (None, 22, 128)           131584    \n",
      "                                                                 \n",
      " dropout_158 (Dropout)       (None, 22, 128)           0         \n",
      "                                                                 \n",
      " lstm_119 (LSTM)             (None, 128)               131584    \n",
      "                                                                 \n",
      " dropout_159 (Dropout)       (None, 128)               0         \n",
      "                                                                 \n",
      " dense_80 (Dense)            (None, 32)                4128      \n",
      "                                                                 \n",
      " dropout_160 (Dropout)       (None, 32)                0         \n",
      "                                                                 \n",
      " dense_81 (Dense)            (None, 2)                 66        \n",
      "                                                                 \n",
      "=================================================================\n",
      "Total params: 333,922\n",
      "Trainable params: 333,922\n",
      "Non-trainable params: 0\n",
      "_________________________________________________________________\n",
      "Epoch 1/10\n",
      "5/5 [==============================] - 4s 125ms/step - loss: 0.6737 - accuracy: 0.5036 - val_loss: 0.5979 - val_accuracy: 0.7143\n",
      "Epoch 2/10\n",
      "5/5 [==============================] - 0s 39ms/step - loss: 0.5167 - accuracy: 0.8273 - val_loss: 0.4327 - val_accuracy: 0.7429\n",
      "Epoch 3/10\n",
      "5/5 [==============================] - 0s 41ms/step - loss: 0.3949 - accuracy: 0.7842 - val_loss: 0.5649 - val_accuracy: 0.7143\n",
      "Epoch 4/10\n",
      "5/5 [==============================] - 0s 46ms/step - loss: 0.3413 - accuracy: 0.8417 - val_loss: 0.2728 - val_accuracy: 0.8571\n",
      "Epoch 5/10\n",
      "5/5 [==============================] - 0s 42ms/step - loss: 0.2379 - accuracy: 0.8921 - val_loss: 0.1504 - val_accuracy: 0.9714\n",
      "Epoch 6/10\n",
      "5/5 [==============================] - 0s 54ms/step - loss: 0.2000 - accuracy: 0.9065 - val_loss: 0.1656 - val_accuracy: 0.9714\n",
      "Epoch 7/10\n",
      "5/5 [==============================] - 0s 42ms/step - loss: 0.2322 - accuracy: 0.9281 - val_loss: 0.8383 - val_accuracy: 0.7429\n",
      "Epoch 8/10\n",
      "5/5 [==============================] - 0s 41ms/step - loss: 0.3236 - accuracy: 0.8633 - val_loss: 0.3720 - val_accuracy: 0.8571\n",
      "Epoch 9/10\n",
      "5/5 [==============================] - 0s 40ms/step - loss: 0.4600 - accuracy: 0.8777 - val_loss: 0.5564 - val_accuracy: 0.7429\n",
      "Epoch 10/10\n",
      "5/5 [==============================] - 0s 39ms/step - loss: 0.3535 - accuracy: 0.8489 - val_loss: 0.3983 - val_accuracy: 0.7429\n",
      "2/2 [==============================] - 0s 5ms/step - loss: 0.3983 - accuracy: 0.7429\n",
      "Accuracy: 0.7428571581840515\n"
     ]
    }
   ],
   "source": [
    "import tensorflow as tf\n",
    "from tensorflow.keras.models import Sequential\n",
    "from tensorflow.keras.layers import LSTM, Dense, Dropout\n",
    "from tensorflow.keras.optimizers import Adam\n",
    "\n",
    "# Define the LSTM model\n",
    "model = Sequential()\n",
    "\n",
    "model.add(LSTM(128, input_shape=(X_train.shape[1], 1), return_sequences=True))\n",
    "model.add(Dropout(0.2))\n",
    "\n",
    "model.add(LSTM(128, return_sequences=True))\n",
    "model.add(Dropout(0.2))\n",
    "\n",
    "model.add(LSTM(128))\n",
    "model.add(Dropout(0.2))\n",
    "\n",
    "model.add(Dense(32, activation='relu'))\n",
    "model.add(Dropout(0.2))\n",
    "\n",
    "model.add(Dense(2, activation='softmax'))\n",
    "\n",
    "# Compile the model\n",
    "model.compile(optimizer=Adam(learning_rate=0.001), loss='sparse_categorical_crossentropy', metrics=['accuracy'])\n",
    "\n",
    "model.summary()\n",
    "\n",
    "#convert all columns to float except the label column\n",
    "X_train = X_train.astype(float)\n",
    "Y_train = Y_train.map({'Indoor': 0, 'Outdoor': 1})\n",
    "Y_train = Y_train.astype(float)\n",
    "\n",
    "X_test = X_test.astype(float)\n",
    "Y_test = Y_test.map({'Indoor': 0, 'Outdoor': 1})\n",
    "Y_train = Y_train.astype(float)\n",
    "\n",
    "#print accuracy of the model with the averaged data\n",
    "X_train = np.array(X_train)\n",
    "X_train = np.reshape(X_train, (X_train.shape[0], X_train.shape[1], 1))\n",
    "\n",
    "X_test = np.array(X_test)\n",
    "X_test = np.reshape(X_test, (X_test.shape[0], X_test.shape[1], 1))\n",
    "\n",
    "model.fit(X_train, Y_train, epochs=10, validation_data=(X_test, Y_test), batch_size=32)\n",
    "\n",
    "print(f'Accuracy: {model.evaluate(X_test, Y_test)[1]}')\n",
    "\n"
   ],
   "metadata": {
    "collapsed": false,
    "ExecuteTime": {
     "end_time": "2024-03-30T16:00:39.936196Z",
     "start_time": "2024-03-30T16:00:34.115707Z"
    }
   },
   "execution_count": 935
  },
  {
   "cell_type": "markdown",
   "source": [],
   "metadata": {
    "collapsed": false
   }
  },
  {
   "cell_type": "markdown",
   "source": [
    "## Validate the LSTM Model"
   ],
   "metadata": {
    "collapsed": false
   }
  },
  {
   "cell_type": "code",
   "outputs": [
    {
     "name": "stdout",
     "output_type": "stream",
     "text": [
      "1/1 [==============================] - 0s 363ms/step\n",
      "Label: 1.0, Description: Häuserschlucht, People: viel, Prediction: Outdoor, Probability: 0.9101307988166809\n",
      "Label: 0.0, Description: Raummitte, People: viel, Prediction: Indoor, Probability: 0.9893389344215393\n",
      "Label: 0.0, Description: Raummitte, People: weniger als 5, Prediction: Indoor, Probability: 0.9958679676055908\n",
      "Label: 0.0, Description: Nähe Fenster, People: viel, Prediction: Outdoor, Probability: 0.8353986740112305\n"
     ]
    }
   ],
   "source": [
    "#map the label column to 0 and 1\n",
    "validation_averaged_data['label'] = validation_averaged_data['label'].map({'Indoor': 0, 'Outdoor': 1})\n",
    "\n",
    "#convert all columns to float except the label column\n",
    "validation_averaged_data = validation_averaged_data.astype(float)\n",
    "\n",
    "X_validation = validation_averaged_data.drop(columns=['label'])\n",
    "Y_validation = validation_averaged_data['label']\n",
    "\n",
    "X_validation = np.array(X_validation)\n",
    "X_validation = np.reshape(X_validation, (X_validation.shape[0], X_validation.shape[1], 1))\n",
    "\n",
    "Y_validation = Y_validation.astype(float)\n",
    "\n",
    "#predict the labels of the validation data for each data point\n",
    "validation_predictions = model.predict(X_validation)\n",
    "\n",
    "#print label and the corresponding prediction\n",
    "for label, description, people, prediction in zip(validation_averaged_data['label'], validation_description['locationDescription'], validation_description['people'], validation_predictions):\n",
    "    if prediction[0] > prediction[1]:\n",
    "        print(f'Label: {label}, Description: {description}, People: {people}, Prediction: Indoor, Probability: {prediction[0]}')\n",
    "    else:\n",
    "        print(f'Label: {label}, Description: {description}, People: {people}, Prediction: Outdoor, Probability: {prediction[1]}')"
   ],
   "metadata": {
    "collapsed": false,
    "ExecuteTime": {
     "end_time": "2024-03-30T16:00:40.330268Z",
     "start_time": "2024-03-30T16:00:39.937801Z"
    }
   },
   "execution_count": 936
  },
  {
   "cell_type": "markdown",
   "source": [],
   "metadata": {
    "collapsed": false
   }
  }
 ],
 "metadata": {
  "kernelspec": {
   "display_name": "Python 3",
   "language": "python",
   "name": "python3"
  },
  "language_info": {
   "name": "python",
   "version": "3.12.0"
  }
 },
 "nbformat": 4,
 "nbformat_minor": 2
}
