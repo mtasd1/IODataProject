{
 "cells": [
  {
   "cell_type": "code",
   "id": "initial_id",
   "metadata": {
    "collapsed": true,
    "ExecuteTime": {
     "end_time": "2024-06-08T13:48:44.555918Z",
     "start_time": "2024-06-08T13:48:43.883898Z"
    }
   },
   "source": [
    "import joblib\n",
    "from sklearn.tree import export_graphviz\n",
    "import matplotlib.pyplot as plt\n",
    "import pydotplus\n",
    "from sklearn import tree\n",
    "\n",
    "# Load the model from the joblib file\n",
    "rf_model = joblib.load('../Daten/random_forest_classifier.joblib')\n",
    "\n",
    "# Select one decision tree from your random forest\n",
    "# Here, we select the first tree as an example\n",
    "single_tree = rf_model.estimators_[0]\n",
    "\n",
    "# Export as dot file\n",
    "dot_data = tree.export_graphviz(single_tree, out_file=None,\n",
    "                                feature_names=rf_model.feature_names_in_,\n",
    "                                class_names=rf_model.classes_,\n",
    "                                filled=True, rounded=True,\n",
    "                                special_characters=True)\n",
    "\n",
    "# Draw graph\n",
    "graph = pydotplus.graph_from_dot_data(dot_data)\n",
    "# Save the graph as a png file\n",
    "graph.write_png('../Daten/single_tree.png')\n"
   ],
   "outputs": [
    {
     "data": {
      "text/plain": [
       "True"
      ]
     },
     "execution_count": 6,
     "metadata": {},
     "output_type": "execute_result"
    }
   ],
   "execution_count": 6
  },
  {
   "metadata": {
    "ExecuteTime": {
     "end_time": "2024-06-08T13:48:44.559108Z",
     "start_time": "2024-06-08T13:48:44.557606Z"
    }
   },
   "cell_type": "code",
   "source": "",
   "id": "80d8fd23b240f62b",
   "outputs": [],
   "execution_count": 6
  }
 ],
 "metadata": {
  "kernelspec": {
   "display_name": "Python 3",
   "language": "python",
   "name": "python3"
  },
  "language_info": {
   "codemirror_mode": {
    "name": "ipython",
    "version": 2
   },
   "file_extension": ".py",
   "mimetype": "text/x-python",
   "name": "python",
   "nbconvert_exporter": "python",
   "pygments_lexer": "ipython2",
   "version": "2.7.6"
  }
 },
 "nbformat": 4,
 "nbformat_minor": 5
}
